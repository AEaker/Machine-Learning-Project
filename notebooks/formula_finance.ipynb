{
 "cells": [
  {
   "cell_type": "code",
   "execution_count": 1,
   "metadata": {},
   "outputs": [],
   "source": [
    "import requests\n",
    "import pdfplumber\n",
    "import tabula # For windows users javac should work on command line (https://tabula-py.readthedocs.io/en/latest/getting_started.html#get-tabula-py-working-windows-10)\n",
    "import pandas as pd\n",
    "import os"
   ]
  },
  {
   "cell_type": "code",
   "execution_count": 2,
   "metadata": {},
   "outputs": [],
   "source": [
    "# working directory \n",
    "def current_path(): \n",
    "    print(\"Current working directory before\") \n",
    "    return (os.getcwd()) "
   ]
  },
  {
   "cell_type": "code",
   "execution_count": 3,
   "metadata": {},
   "outputs": [],
   "source": [
    "def download_file(url): \n",
    "    filename = url.split('/')[-1]\n",
    "    # pdf file object\n",
    "    # you can find find the pdf file with complete code in below\n",
    "    with requests.get(url) as r: \n",
    "        with open(f\"../data/interim/{filename}\", 'wb') as f: \n",
    "            f.write(r.content)\n",
    "    return filename"
   ]
  },
  {
   "cell_type": "code",
   "execution_count": 4,
   "metadata": {},
   "outputs": [
    {
     "data": {
      "text/plain": [
       "'2aeaccfa-a5e5-4fd4-abd1-eaa9dad5d6c0'"
      ]
     },
     "execution_count": 4,
     "metadata": {},
     "output_type": "execute_result"
    }
   ],
   "source": [
    "annual_report_raw = download_file('https://ir.libertymedia.com/static-files/2aeaccfa-a5e5-4fd4-abd1-eaa9dad5d6c0')\n",
    "annual_report_raw"
   ]
  },
  {
   "cell_type": "code",
   "execution_count": 5,
   "metadata": {},
   "outputs": [],
   "source": [
    "os.chdir('../')"
   ]
  },
  {
   "cell_type": "code",
   "execution_count": 6,
   "metadata": {},
   "outputs": [
    {
     "name": "stdout",
     "output_type": "stream",
     "text": [
      "Current working directory before\n"
     ]
    },
    {
     "data": {
      "text/plain": [
       "'C:\\\\Users\\\\Donley\\\\Documents\\\\GA_TECH\\\\SUBMISSIONS\\\\ML-Project\\\\data\\\\interim\\\\2aeaccfa-a5e5-4fd4-abd1-eaa9dad5d6c0'"
      ]
     },
     "execution_count": 6,
     "metadata": {},
     "output_type": "execute_result"
    }
   ],
   "source": [
    "old_filename = current_path()  + f'\\\\data\\\\interim\\\\{annual_report_raw}'\n",
    "old_filename"
   ]
  },
  {
   "cell_type": "code",
   "execution_count": 18,
   "metadata": {},
   "outputs": [],
   "source": [
    "annual_report_2019 = \"annual_report_2019\""
   ]
  },
  {
   "cell_type": "code",
   "execution_count": 7,
   "metadata": {},
   "outputs": [
    {
     "name": "stdout",
     "output_type": "stream",
     "text": [
      "Current working directory before\n"
     ]
    },
    {
     "data": {
      "text/plain": [
       "'C:\\\\Users\\\\Donley\\\\Documents\\\\GA_TECH\\\\SUBMISSIONS\\\\ML-Project\\\\data\\\\interim\\\\annual_report_2019'"
      ]
     },
     "execution_count": 7,
     "metadata": {},
     "output_type": "execute_result"
    }
   ],
   "source": [
    "new_filename = current_path()  + f'\\\\data\\\\interim\\\\{annual_report_2019}'\n",
    "new_filename"
   ]
  },
  {
   "cell_type": "code",
   "execution_count": 17,
   "metadata": {},
   "outputs": [
    {
     "ename": "FileNotFoundError",
     "evalue": "[WinError 2] The system cannot find the file specified: 'C:\\\\Users\\\\Donley\\\\Documents\\\\GA_TECH\\\\SUBMISSIONS\\\\ML-Project\\\\data\\\\interim\\\\2aeaccfa-a5e5-4fd4-abd1-eaa9dad5d6c0' -> 'C:\\\\Users\\\\Donley\\\\Documents\\\\GA_TECH\\\\SUBMISSIONS\\\\ML-Project\\\\data\\\\interim\\\\annual_report_2019'",
     "output_type": "error",
     "traceback": [
      "\u001b[1;31m---------------------------------------------------------------------------\u001b[0m",
      "\u001b[1;31mFileNotFoundError\u001b[0m                         Traceback (most recent call last)",
      "\u001b[1;32m<ipython-input-17-4d0cd83fd8eb>\u001b[0m in \u001b[0;36m<module>\u001b[1;34m\u001b[0m\n\u001b[1;32m----> 1\u001b[1;33m \u001b[0mannual_report_2019\u001b[0m \u001b[1;33m=\u001b[0m \u001b[0mos\u001b[0m\u001b[1;33m.\u001b[0m\u001b[0mrename\u001b[0m\u001b[1;33m(\u001b[0m\u001b[0mold_filename\u001b[0m\u001b[1;33m,\u001b[0m \u001b[0mnew_filename\u001b[0m\u001b[1;33m)\u001b[0m\u001b[1;33m\u001b[0m\u001b[1;33m\u001b[0m\u001b[0m\n\u001b[0m\u001b[0;32m      2\u001b[0m \u001b[0mannual_report_2019\u001b[0m\u001b[1;33m\u001b[0m\u001b[1;33m\u001b[0m\u001b[0m\n",
      "\u001b[1;31mFileNotFoundError\u001b[0m: [WinError 2] The system cannot find the file specified: 'C:\\\\Users\\\\Donley\\\\Documents\\\\GA_TECH\\\\SUBMISSIONS\\\\ML-Project\\\\data\\\\interim\\\\2aeaccfa-a5e5-4fd4-abd1-eaa9dad5d6c0' -> 'C:\\\\Users\\\\Donley\\\\Documents\\\\GA_TECH\\\\SUBMISSIONS\\\\ML-Project\\\\data\\\\interim\\\\annual_report_2019'"
     ]
    }
   ],
   "source": [
    "os.rename(old_filename, new_filename)"
   ]
  },
  {
   "cell_type": "code",
   "execution_count": 19,
   "metadata": {},
   "outputs": [],
   "source": [
    "# Any valuable information won't be seen till page four:  \n",
    "with pdfplumber.open(f\"data/interim/{annual_report_2019}\") as pdf: \n",
    "    page = pdf.pages[5]\n",
    "    text = page.extract_text() \n",
    "    "
   ]
  },
  {
   "cell_type": "code",
   "execution_count": 20,
   "metadata": {},
   "outputs": [
    {
     "name": "stdout",
     "output_type": "stream",
     "text": [
      "LETTERTOSHAREHOLDERS\n",
      "Atthetrackerlevel,LibertySiriusXMisinasolidposition.The LiveNationmarginloaninMarch.F1itselfhascashanda\n",
      "exchangeableseniordebenturesmaturein2048and2049,withput/ $500millioncreditfacility,ofwhichwedrew$475million\n",
      "calldatesin2023and2024,andthemarginloanhad$1billion subsequenttoyearend.Wearemindfulofthe8.25xcovenant\n",
      "undrawncapacityasofyear-end.Only1.1billionsharesofourstake thresholdattheF1operatingcompanyandwillworkwiththesmall\n",
      "inSiriusXMarepledgedtothemarginloanandunderlyingthe syndicateofrelationshipbanksunderourcreditfacilityshould\n",
      "exchangeablebonds,leavinguswiththeflexibility2.1billion that covenant become an issue.As a reminder,the F1 debt is\n",
      "unencumberedsharesoffers. non-recoursetoLibertyMediaCorp.Recallthattherearealsovarious\n",
      "unencumberedpublicequitiesatthetracker,includingadditional\n",
      "FormulaOneGroup:Weknowithasbeensaidbefore,butF1isa\n",
      "Live Nation shares and a portion of the Braves Group intergroup\n",
      "trulysingularasset.Notonlyisitaniconicbrand,celebratingits70th\n",
      "interest.Wearepreparedtoexaminealternatives,includingwhether\n",
      "anniversarywithaglobalfanbaseofover500million,butitalso\n",
      "tomarginorotherwisemonetizesomeoftheseassets,iftheF1\n",
      "hasanextremelyattractivefinancialprofilewithcontractedrevenue\n",
      "seasondoesnotgetunderway.\n",
      "streams,acostbasethatispredominantlyvariable,andminimal\n",
      "requiredcapex.The2020seasonatFormula1willlookdifferent BravesGroup:TheAtlantaBravesisastoriedfranchisedating\n",
      "thanwehadanticipated,butweareconfidentthesportwillbounce backto1871(whentheteamwascalledtheBostonRedStockings)\n",
      "backstrongerthanever.Furthermore,anunusual2020season withawinninghistoryandfanbasethatsprawlsovermostofthe\n",
      "willnottarnishthefutureofthebusiness,andChaseandteamare SoutheasternUS.Thefranchisealsobenefitsfromanew\n",
      "focusedonsustainingthehealthoftheentireF1ecosystem best-in-classballpark,surroundingrealestatedevelopmentand\n",
      "throughthistime.Forexample,ontheteamfront,wehavedelayed springtrainingfacilitywithabaseballacademythathavesetthe\n",
      "theimplementationoftheTechnicalRegulationsto2022, standardforsportsteamsacrossthecountry.Whileweeagerlyawait\n",
      "planningforashortened2020seasonandquickturnaroundto thenexttimewe’llhearthecrackofthebatatTruistPark,weare\n",
      "2021thatwillbemoremanageablefortheteams.Inthemeantime, comfortedknowingtheteamiswell-positionedtopullthroughthis\n",
      "wecontinuetokeeptheF1communityengagedthroughvirtual periodofuncertainty.MLBandthePlayersAssociationreached\n",
      "eventsfeaturingF1drivers,eSportsprofessionals,andother anagreementthatwillreducesalaryexpenseintheeventoffurther\n",
      "celebritiesandathletes. gamecancellations,whileguaranteeingservicetimeforcertain\n",
      "players.Inaddition,inpartnershipwiththeMLB,theBravescreated\n",
      "SimilarlytoF1,LiveNationwillseeanimpactin2020.Showshave\n",
      "a$1+millionspecialdisasterrelieffundtohelpballparkstaff\n",
      "beendelayedandthisyear’sfinancialresultswillbeaffected.\n",
      "affectedbythedelayofthe2020season.\n",
      "However,wedonotbelievethecurrentsituationreflectsan\n",
      "existentialchangeinfanbehavior.Artistswillstillwanttoperform TheBraveshavecovenantsthatwillneedtobeaddressedintheir\n",
      "inconcertsandfanswillstillhaveanappetiteforshows. operating company debt, which is non-recourse to Liberty Media\n",
      "Corp.Wecontinuetoevaluatetheliquiditysituationastheseason\n",
      "AttheFormulaOneGrouplevel,wetookasteptoreduceexposure\n",
      "develops.\n",
      "tomarketvolatilityandpaiddowntheoutstandingbalanceofour\n",
      "6 ANNUALREPORT2020\n"
     ]
    }
   ],
   "source": [
    "print(text)"
   ]
  },
  {
   "cell_type": "code",
   "execution_count": 22,
   "metadata": {},
   "outputs": [
    {
     "name": "stdout",
     "output_type": "stream",
     "text": [
      "[                                           Unnamed: 0 Unnamed: 1  \\\n",
      "0                                                 NaN        NaN   \n",
      "1                                            Current:        NaN   \n",
      "2   Federal . . . . . . . . . . . . . . . . . . . ...          $   \n",
      "3   State and local . . . . . . . . . . . . . . . ...        NaN   \n",
      "4   Foreign . . . . . . . . . . . . . . . . . . . ...        NaN   \n",
      "5                                                 NaN        NaN   \n",
      "6                                           Deferred:        NaN   \n",
      "7   Federal . . . . . . . . . . . . . . . . . . . ...        NaN   \n",
      "8   State and local . . . . . . . . . . . . . . . ...        NaN   \n",
      "9   Foreign . . . . . . . . . . . . . . . . . . . ...        NaN   \n",
      "10                                                NaN        NaN   \n",
      "11   Income tax benefit (expense) . . . . . . . . . .          $   \n",
      "12  Income tax benefit (expense) differs from the ...        NaN   \n",
      "13  21% for both of the years ended December 31, 2...        NaN   \n",
      "14                      as a result of the following:        NaN   \n",
      "15                                                NaN        NaN   \n",
      "16                                                NaN        NaN   \n",
      "17                                                NaN        NaN   \n",
      "18                                                NaN        NaN   \n",
      "19  Computed expected tax benefit (expense) . . . ...        NaN   \n",
      "20  State and local income taxes, net of federal i...        NaN   \n",
      "21  Foreign income taxes, net of federal income ta...        NaN   \n",
      "22  Taxable dividends, net of dividends received d...        NaN   \n",
      "23  Change in valuation allowance affecting tax ex...        NaN   \n",
      "24  Change in tax rate due to Tax Act . . . . . . ...        NaN   \n",
      "25  Change in tax rate  . . . . . . . . . . . . . ...        NaN   \n",
      "26  Settlements with tax authorities . . . . . . ....        NaN   \n",
      "27  Deductible stock-based compensation . . . . . ...        NaN   \n",
      "28  Non-deductible executive compensation . . . . ...        NaN   \n",
      "29  Income tax reserves . . . . . . . . . . . . . ...        NaN   \n",
      "30  Non-deductible / Non-taxable interest . . . . ...        NaN   \n",
      "31  Write-off of tax attributes . . . . . . . . . ...        NaN   \n",
      "32  Inter-group interest . . . . . . . . . . . . ....        NaN   \n",
      "33  Other, net . . . . . . . . . . . . . . . . . ....        NaN   \n",
      "34  Income tax benefit (expense) . . . . . . . . ....        NaN   \n",
      "\n",
      "                   2019 2018        2017  Unnamed: 2  Unnamed: 3  \n",
      "0        amounts in millions         NaN         NaN         NaN  \n",
      "1                        NaN         NaN         NaN         NaN  \n",
      "2                 (27)   (6)         (2)         NaN         NaN  \n",
      "3                    (3)   1         (2)         NaN         NaN  \n",
      "4                 (21)   (8)         (9)         NaN         NaN  \n",
      "5                (51)   (13)        (13)         NaN         NaN  \n",
      "6                        NaN         NaN         NaN         NaN  \n",
      "7                    102 (2)          64         NaN         NaN  \n",
      "8                        — 2           3         NaN         NaN  \n",
      "9                      39 63         507         NaN         NaN  \n",
      "10                    141 63         574         NaN         NaN  \n",
      "11                     90 50         561         NaN         NaN  \n",
      "12                       NaN         NaN         NaN         NaN  \n",
      "13                       NaN         NaN         NaN         NaN  \n",
      "14                       NaN         NaN         NaN         NaN  \n",
      "15                       NaN         NaN         NaN         NaN  \n",
      "16  Years ended December 31,         NaN         NaN         NaN  \n",
      "17                 2019 2018        2017         NaN         NaN  \n",
      "18       amounts in millions         NaN         NaN         NaN  \n",
      "19                     $  84      42 107         NaN         NaN  \n",
      "20                       (2)         — —         NaN         NaN  \n",
      "21                        26     23   88         NaN         NaN  \n",
      "22                         1           1         NaN         2.0  \n",
      "23                      (39)  (53)   222         NaN         NaN  \n",
      "24                         —    (11)  16         NaN         NaN  \n",
      "25                         —       2   —         NaN         NaN  \n",
      "26                         —    43   253         NaN         NaN  \n",
      "27                        22           1         NaN         5.0  \n",
      "28                       (3)    (1)  (1)         NaN         NaN  \n",
      "29                         —    —   (22)         NaN         NaN  \n",
      "30                         —    —   (60)         NaN         NaN  \n",
      "31                         —    —   (42)         NaN         NaN  \n",
      "32                         9           5         NaN         5.0  \n",
      "33                       (8)  (2)   (12)         NaN         NaN  \n",
      "34                     $  90      50 561         NaN         NaN  ]\n"
     ]
    }
   ],
   "source": [
    "df = []\n",
    "for page in range(5, 211):\n",
    "    df = tabula.read_pdf(f\"data/interim/{annual_report_2019}\", multiple_tables=True, pages= page)\n",
    "print(df)"
   ]
  },
  {
   "cell_type": "code",
   "execution_count": null,
   "metadata": {},
   "outputs": [],
   "source": []
  }
 ],
 "metadata": {
  "kernelspec": {
   "display_name": "Python 3",
   "language": "python",
   "name": "python3"
  },
  "language_info": {
   "codemirror_mode": {
    "name": "ipython",
    "version": 3
   },
   "file_extension": ".py",
   "mimetype": "text/x-python",
   "name": "python",
   "nbconvert_exporter": "python",
   "pygments_lexer": "ipython3",
   "version": "3.7.6"
  }
 },
 "nbformat": 4,
 "nbformat_minor": 4
}
