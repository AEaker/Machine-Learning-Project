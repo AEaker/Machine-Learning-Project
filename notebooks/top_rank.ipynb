{
 "cells": [
  {
   "cell_type": "code",
   "execution_count": 84,
   "metadata": {},
   "outputs": [],
   "source": [
    "import numpy as np\n",
    "import pandas as pd\n",
    "import chart_studio\n",
    "import chart_studio.plotly as csp\n",
    "import chart_studio.tools as cst\n",
    "import statsmodels.api as sm\n",
    "from scipy.stats import norm \n",
    "from config import *"
   ]
  },
  {
   "cell_type": "code",
   "execution_count": 85,
   "metadata": {},
   "outputs": [],
   "source": [
    "chart_studio.tools.set_credentials_file(username=USERNAME, api_key=API_KEY)"
   ]
  },
  {
   "cell_type": "code",
   "execution_count": 86,
   "metadata": {},
   "outputs": [],
   "source": [
    "win_df = pd.read_csv('../data/processed/wl_results.csv')\n",
    "driver_df = pd.read_csv('../data/processed/driver.csv')"
   ]
  },
  {
   "cell_type": "code",
   "execution_count": 87,
   "metadata": {},
   "outputs": [
    {
     "data": {
      "text/html": [
       "<div>\n",
       "<style scoped>\n",
       "    .dataframe tbody tr th:only-of-type {\n",
       "        vertical-align: middle;\n",
       "    }\n",
       "\n",
       "    .dataframe tbody tr th {\n",
       "        vertical-align: top;\n",
       "    }\n",
       "\n",
       "    .dataframe thead th {\n",
       "        text-align: right;\n",
       "    }\n",
       "</style>\n",
       "<table border=\"1\" class=\"dataframe\">\n",
       "  <thead>\n",
       "    <tr style=\"text-align: right;\">\n",
       "      <th></th>\n",
       "      <th>resultId</th>\n",
       "      <th>raceId</th>\n",
       "      <th>driverId</th>\n",
       "      <th>constructorId</th>\n",
       "      <th>number_x</th>\n",
       "      <th>grid</th>\n",
       "      <th>position</th>\n",
       "      <th>positionText</th>\n",
       "      <th>positionOrder</th>\n",
       "      <th>points</th>\n",
       "      <th>...</th>\n",
       "      <th>fastestLapSpeed</th>\n",
       "      <th>statusId</th>\n",
       "      <th>Win or Lost</th>\n",
       "      <th>Unnamed: 0</th>\n",
       "      <th>driverRef</th>\n",
       "      <th>number_y</th>\n",
       "      <th>code</th>\n",
       "      <th>dob</th>\n",
       "      <th>nationality</th>\n",
       "      <th>full name</th>\n",
       "    </tr>\n",
       "  </thead>\n",
       "  <tbody>\n",
       "    <tr>\n",
       "      <th>0</th>\n",
       "      <td>1</td>\n",
       "      <td>18</td>\n",
       "      <td>1</td>\n",
       "      <td>1</td>\n",
       "      <td>22</td>\n",
       "      <td>1</td>\n",
       "      <td>1</td>\n",
       "      <td>1</td>\n",
       "      <td>1</td>\n",
       "      <td>10.0</td>\n",
       "      <td>...</td>\n",
       "      <td>218.300</td>\n",
       "      <td>1</td>\n",
       "      <td>win</td>\n",
       "      <td>0</td>\n",
       "      <td>hamilton</td>\n",
       "      <td>44</td>\n",
       "      <td>HAM</td>\n",
       "      <td>1985-01-07</td>\n",
       "      <td>British</td>\n",
       "      <td>Lewis Hamilton</td>\n",
       "    </tr>\n",
       "    <tr>\n",
       "      <th>1</th>\n",
       "      <td>2</td>\n",
       "      <td>18</td>\n",
       "      <td>2</td>\n",
       "      <td>2</td>\n",
       "      <td>3</td>\n",
       "      <td>5</td>\n",
       "      <td>2</td>\n",
       "      <td>2</td>\n",
       "      <td>2</td>\n",
       "      <td>8.0</td>\n",
       "      <td>...</td>\n",
       "      <td>217.586</td>\n",
       "      <td>1</td>\n",
       "      <td>lost</td>\n",
       "      <td>1</td>\n",
       "      <td>heidfeld</td>\n",
       "      <td>\\N</td>\n",
       "      <td>HEI</td>\n",
       "      <td>1977-05-10</td>\n",
       "      <td>German</td>\n",
       "      <td>Nick Heidfeld</td>\n",
       "    </tr>\n",
       "    <tr>\n",
       "      <th>2</th>\n",
       "      <td>3</td>\n",
       "      <td>18</td>\n",
       "      <td>3</td>\n",
       "      <td>3</td>\n",
       "      <td>7</td>\n",
       "      <td>7</td>\n",
       "      <td>3</td>\n",
       "      <td>3</td>\n",
       "      <td>3</td>\n",
       "      <td>6.0</td>\n",
       "      <td>...</td>\n",
       "      <td>216.719</td>\n",
       "      <td>1</td>\n",
       "      <td>lost</td>\n",
       "      <td>2</td>\n",
       "      <td>rosberg</td>\n",
       "      <td>6</td>\n",
       "      <td>ROS</td>\n",
       "      <td>1985-06-27</td>\n",
       "      <td>German</td>\n",
       "      <td>Nico Rosberg</td>\n",
       "    </tr>\n",
       "    <tr>\n",
       "      <th>3</th>\n",
       "      <td>4</td>\n",
       "      <td>18</td>\n",
       "      <td>4</td>\n",
       "      <td>4</td>\n",
       "      <td>5</td>\n",
       "      <td>11</td>\n",
       "      <td>4</td>\n",
       "      <td>4</td>\n",
       "      <td>4</td>\n",
       "      <td>5.0</td>\n",
       "      <td>...</td>\n",
       "      <td>215.464</td>\n",
       "      <td>1</td>\n",
       "      <td>lost</td>\n",
       "      <td>3</td>\n",
       "      <td>alonso</td>\n",
       "      <td>14</td>\n",
       "      <td>ALO</td>\n",
       "      <td>1981-07-29</td>\n",
       "      <td>Spanish</td>\n",
       "      <td>Fernando Alonso</td>\n",
       "    </tr>\n",
       "    <tr>\n",
       "      <th>4</th>\n",
       "      <td>5</td>\n",
       "      <td>18</td>\n",
       "      <td>5</td>\n",
       "      <td>1</td>\n",
       "      <td>23</td>\n",
       "      <td>3</td>\n",
       "      <td>5</td>\n",
       "      <td>5</td>\n",
       "      <td>5</td>\n",
       "      <td>4.0</td>\n",
       "      <td>...</td>\n",
       "      <td>218.385</td>\n",
       "      <td>1</td>\n",
       "      <td>lost</td>\n",
       "      <td>4</td>\n",
       "      <td>kovalainen</td>\n",
       "      <td>\\N</td>\n",
       "      <td>KOV</td>\n",
       "      <td>1981-10-19</td>\n",
       "      <td>Finnish</td>\n",
       "      <td>Heikki Kovalainen</td>\n",
       "    </tr>\n",
       "    <tr>\n",
       "      <th>...</th>\n",
       "      <td>...</td>\n",
       "      <td>...</td>\n",
       "      <td>...</td>\n",
       "      <td>...</td>\n",
       "      <td>...</td>\n",
       "      <td>...</td>\n",
       "      <td>...</td>\n",
       "      <td>...</td>\n",
       "      <td>...</td>\n",
       "      <td>...</td>\n",
       "      <td>...</td>\n",
       "      <td>...</td>\n",
       "      <td>...</td>\n",
       "      <td>...</td>\n",
       "      <td>...</td>\n",
       "      <td>...</td>\n",
       "      <td>...</td>\n",
       "      <td>...</td>\n",
       "      <td>...</td>\n",
       "      <td>...</td>\n",
       "      <td>...</td>\n",
       "    </tr>\n",
       "    <tr>\n",
       "      <th>24855</th>\n",
       "      <td>24861</td>\n",
       "      <td>1042</td>\n",
       "      <td>825</td>\n",
       "      <td>210</td>\n",
       "      <td>20</td>\n",
       "      <td>19</td>\n",
       "      <td>16</td>\n",
       "      <td>16</td>\n",
       "      <td>16</td>\n",
       "      <td>0.0</td>\n",
       "      <td>...</td>\n",
       "      <td>205.632</td>\n",
       "      <td>11</td>\n",
       "      <td>lost</td>\n",
       "      <td>824</td>\n",
       "      <td>kevin_magnussen</td>\n",
       "      <td>20</td>\n",
       "      <td>MAG</td>\n",
       "      <td>1992-10-05</td>\n",
       "      <td>Danish</td>\n",
       "      <td>Kevin Magnussen</td>\n",
       "    </tr>\n",
       "    <tr>\n",
       "      <th>24856</th>\n",
       "      <td>24862</td>\n",
       "      <td>1042</td>\n",
       "      <td>154</td>\n",
       "      <td>210</td>\n",
       "      <td>8</td>\n",
       "      <td>18</td>\n",
       "      <td>17</td>\n",
       "      <td>17</td>\n",
       "      <td>17</td>\n",
       "      <td>0.0</td>\n",
       "      <td>...</td>\n",
       "      <td>205.118</td>\n",
       "      <td>11</td>\n",
       "      <td>lost</td>\n",
       "      <td>153</td>\n",
       "      <td>grosjean</td>\n",
       "      <td>8</td>\n",
       "      <td>GRO</td>\n",
       "      <td>1986-04-17</td>\n",
       "      <td>French</td>\n",
       "      <td>Romain Grosjean</td>\n",
       "    </tr>\n",
       "    <tr>\n",
       "      <th>24857</th>\n",
       "      <td>24863</td>\n",
       "      <td>1042</td>\n",
       "      <td>849</td>\n",
       "      <td>3</td>\n",
       "      <td>6</td>\n",
       "      <td>20</td>\n",
       "      <td>18</td>\n",
       "      <td>18</td>\n",
       "      <td>18</td>\n",
       "      <td>0.0</td>\n",
       "      <td>...</td>\n",
       "      <td>204.629</td>\n",
       "      <td>12</td>\n",
       "      <td>lost</td>\n",
       "      <td>847</td>\n",
       "      <td>latifi</td>\n",
       "      <td>6</td>\n",
       "      <td>LAT</td>\n",
       "      <td>1995-06-29</td>\n",
       "      <td>Canadian</td>\n",
       "      <td>Nicholas Latifi</td>\n",
       "    </tr>\n",
       "    <tr>\n",
       "      <th>24858</th>\n",
       "      <td>24864</td>\n",
       "      <td>1042</td>\n",
       "      <td>826</td>\n",
       "      <td>213</td>\n",
       "      <td>26</td>\n",
       "      <td>13</td>\n",
       "      <td>19</td>\n",
       "      <td>19</td>\n",
       "      <td>19</td>\n",
       "      <td>0.0</td>\n",
       "      <td>...</td>\n",
       "      <td>208.216</td>\n",
       "      <td>12</td>\n",
       "      <td>lost</td>\n",
       "      <td>825</td>\n",
       "      <td>kvyat</td>\n",
       "      <td>26</td>\n",
       "      <td>KVY</td>\n",
       "      <td>1994-04-26</td>\n",
       "      <td>Russian</td>\n",
       "      <td>Daniil Kvyat</td>\n",
       "    </tr>\n",
       "    <tr>\n",
       "      <th>24859</th>\n",
       "      <td>24865</td>\n",
       "      <td>1042</td>\n",
       "      <td>840</td>\n",
       "      <td>211</td>\n",
       "      <td>18</td>\n",
       "      <td>12</td>\n",
       "      <td>\\N</td>\n",
       "      <td>R</td>\n",
       "      <td>20</td>\n",
       "      <td>0.0</td>\n",
       "      <td>...</td>\n",
       "      <td>205.043</td>\n",
       "      <td>130</td>\n",
       "      <td>lost</td>\n",
       "      <td>839</td>\n",
       "      <td>stroll</td>\n",
       "      <td>18</td>\n",
       "      <td>STR</td>\n",
       "      <td>1998-10-29</td>\n",
       "      <td>Canadian</td>\n",
       "      <td>Lance Stroll</td>\n",
       "    </tr>\n",
       "  </tbody>\n",
       "</table>\n",
       "<p>24860 rows × 26 columns</p>\n",
       "</div>"
      ],
      "text/plain": [
       "       resultId  raceId  driverId  constructorId number_x  grid position  \\\n",
       "0             1      18         1              1       22     1        1   \n",
       "1             2      18         2              2        3     5        2   \n",
       "2             3      18         3              3        7     7        3   \n",
       "3             4      18         4              4        5    11        4   \n",
       "4             5      18         5              1       23     3        5   \n",
       "...         ...     ...       ...            ...      ...   ...      ...   \n",
       "24855     24861    1042       825            210       20    19       16   \n",
       "24856     24862    1042       154            210        8    18       17   \n",
       "24857     24863    1042       849              3        6    20       18   \n",
       "24858     24864    1042       826            213       26    13       19   \n",
       "24859     24865    1042       840            211       18    12       \\N   \n",
       "\n",
       "      positionText  positionOrder  points  ...  fastestLapSpeed statusId  \\\n",
       "0                1              1    10.0  ...          218.300        1   \n",
       "1                2              2     8.0  ...          217.586        1   \n",
       "2                3              3     6.0  ...          216.719        1   \n",
       "3                4              4     5.0  ...          215.464        1   \n",
       "4                5              5     4.0  ...          218.385        1   \n",
       "...            ...            ...     ...  ...              ...      ...   \n",
       "24855           16             16     0.0  ...          205.632       11   \n",
       "24856           17             17     0.0  ...          205.118       11   \n",
       "24857           18             18     0.0  ...          204.629       12   \n",
       "24858           19             19     0.0  ...          208.216       12   \n",
       "24859            R             20     0.0  ...          205.043      130   \n",
       "\n",
       "       Win or Lost  Unnamed: 0        driverRef  number_y  code         dob  \\\n",
       "0              win           0         hamilton        44   HAM  1985-01-07   \n",
       "1             lost           1         heidfeld        \\N   HEI  1977-05-10   \n",
       "2             lost           2          rosberg         6   ROS  1985-06-27   \n",
       "3             lost           3           alonso        14   ALO  1981-07-29   \n",
       "4             lost           4       kovalainen        \\N   KOV  1981-10-19   \n",
       "...            ...         ...              ...       ...   ...         ...   \n",
       "24855         lost         824  kevin_magnussen        20   MAG  1992-10-05   \n",
       "24856         lost         153         grosjean         8   GRO  1986-04-17   \n",
       "24857         lost         847           latifi         6   LAT  1995-06-29   \n",
       "24858         lost         825            kvyat        26   KVY  1994-04-26   \n",
       "24859         lost         839           stroll        18   STR  1998-10-29   \n",
       "\n",
       "      nationality          full name  \n",
       "0         British     Lewis Hamilton  \n",
       "1          German      Nick Heidfeld  \n",
       "2          German       Nico Rosberg  \n",
       "3         Spanish    Fernando Alonso  \n",
       "4         Finnish  Heikki Kovalainen  \n",
       "...           ...                ...  \n",
       "24855      Danish    Kevin Magnussen  \n",
       "24856      French    Romain Grosjean  \n",
       "24857    Canadian    Nicholas Latifi  \n",
       "24858     Russian       Daniil Kvyat  \n",
       "24859    Canadian       Lance Stroll  \n",
       "\n",
       "[24860 rows x 26 columns]"
      ]
     },
     "execution_count": 87,
     "metadata": {},
     "output_type": "execute_result"
    }
   ],
   "source": [
    "master_df = win_df.merge(driver_df, on = 'driverId', how = 'left')\n",
    "master_df"
   ]
  },
  {
   "cell_type": "code",
   "execution_count": 88,
   "metadata": {},
   "outputs": [],
   "source": [
    "master_df.rename(columns = {'fastestLapSpeed':'Fastest Lap Speed', 'fastestLap':'Fastest Lap', 'fastestLapTime': 'Fastest Lap Time', 'points':'Points', \n",
    "                              'rank':'Rank', 'position': 'Position', 'full name': 'Full Name', 'nationality': 'Nationality', 'grid': 'Grid', 'dob': 'D.O.B', 'milliseconds': 'Milliseconds', 'Win or Lost': 'Win or Loss'}, inplace = True) "
   ]
  },
  {
   "cell_type": "code",
   "execution_count": 89,
   "metadata": {},
   "outputs": [],
   "source": [
    "master_df.drop(columns=['resultId', 'constructorId', 'number_x', 'number_y', 'positionText', 'positionOrder', 'Unnamed: 0', 'driverRef', 'time'], inplace=True)\n",
    "\n"
   ]
  },
  {
   "cell_type": "code",
   "execution_count": 90,
   "metadata": {},
   "outputs": [],
   "source": [
    "master_df.to_csv('../data/processed/driver_scores.csv')"
   ]
  },
  {
   "cell_type": "code",
   "execution_count": 91,
   "metadata": {},
   "outputs": [],
   "source": [
    "rank_winners_2020 = ['Lewis Hamilton', 'Valtteri Bottas', 'Max Verstappen', 'Sergio Pérez', 'Charles Leclerc', 'Daniel Ricciardo', 'Carlos Sainz', 'Alexander Albon', 'Lando Norris', 'Pierre Gasly']\n",
    "def name_check(stringy):\n",
    "    return stringy in rank_winners_2020"
   ]
  },
  {
   "cell_type": "code",
   "execution_count": 92,
   "metadata": {},
   "outputs": [
    {
     "data": {
      "text/plain": [
       "0          Lewis Hamilton\n",
       "26         Lewis Hamilton\n",
       "56         Lewis Hamilton\n",
       "68         Lewis Hamilton\n",
       "89         Lewis Hamilton\n",
       "               ...       \n",
       "24845        Carlos Sainz\n",
       "24846        Sergio Pérez\n",
       "24848    Daniel Ricciardo\n",
       "24851     Alexander Albon\n",
       "24852        Lando Norris\n",
       "Name: Full Name, Length: 1192, dtype: object"
      ]
     },
     "execution_count": 92,
     "metadata": {},
     "output_type": "execute_result"
    }
   ],
   "source": [
    "rank_master_2020 = master_df[master_df['Full Name'].map(name_check)]\n",
    "rank_master_2020['Full Name']"
   ]
  },
  {
   "cell_type": "code",
   "execution_count": 93,
   "metadata": {},
   "outputs": [],
   "source": [
    "rank_master_2020 = rank_master_2020.replace({'Position': '\\\\N'}, 0)"
   ]
  },
  {
   "cell_type": "code",
   "execution_count": 94,
   "metadata": {},
   "outputs": [
    {
     "data": {
      "text/html": [
       "<div>\n",
       "<style scoped>\n",
       "    .dataframe tbody tr th:only-of-type {\n",
       "        vertical-align: middle;\n",
       "    }\n",
       "\n",
       "    .dataframe tbody tr th {\n",
       "        vertical-align: top;\n",
       "    }\n",
       "\n",
       "    .dataframe thead th {\n",
       "        text-align: right;\n",
       "    }\n",
       "</style>\n",
       "<table border=\"1\" class=\"dataframe\">\n",
       "  <thead>\n",
       "    <tr style=\"text-align: right;\">\n",
       "      <th></th>\n",
       "      <th>Full Name</th>\n",
       "      <th>Win or Loss</th>\n",
       "      <th>Total Races</th>\n",
       "      <th>W/L Ratio</th>\n",
       "      <th>W/L Percent</th>\n",
       "    </tr>\n",
       "  </thead>\n",
       "  <tbody>\n",
       "    <tr>\n",
       "      <th>0</th>\n",
       "      <td>Alexander Albon</td>\n",
       "      <td>lost</td>\n",
       "      <td>33</td>\n",
       "      <td>1.000000</td>\n",
       "      <td>100.0</td>\n",
       "    </tr>\n",
       "    <tr>\n",
       "      <th>1</th>\n",
       "      <td>Carlos Sainz</td>\n",
       "      <td>lost</td>\n",
       "      <td>114</td>\n",
       "      <td>1.000000</td>\n",
       "      <td>100.0</td>\n",
       "    </tr>\n",
       "    <tr>\n",
       "      <th>2</th>\n",
       "      <td>Charles Leclerc</td>\n",
       "      <td>lost</td>\n",
       "      <td>52</td>\n",
       "      <td>0.962963</td>\n",
       "      <td>96.3</td>\n",
       "    </tr>\n",
       "    <tr>\n",
       "      <th>3</th>\n",
       "      <td>Charles Leclerc</td>\n",
       "      <td>win</td>\n",
       "      <td>2</td>\n",
       "      <td>0.037037</td>\n",
       "      <td>3.7</td>\n",
       "    </tr>\n",
       "    <tr>\n",
       "      <th>4</th>\n",
       "      <td>Daniel Ricciardo</td>\n",
       "      <td>lost</td>\n",
       "      <td>176</td>\n",
       "      <td>0.961749</td>\n",
       "      <td>96.2</td>\n",
       "    </tr>\n",
       "    <tr>\n",
       "      <th>5</th>\n",
       "      <td>Daniel Ricciardo</td>\n",
       "      <td>win</td>\n",
       "      <td>7</td>\n",
       "      <td>0.038251</td>\n",
       "      <td>3.8</td>\n",
       "    </tr>\n",
       "    <tr>\n",
       "      <th>6</th>\n",
       "      <td>Lando Norris</td>\n",
       "      <td>lost</td>\n",
       "      <td>33</td>\n",
       "      <td>1.000000</td>\n",
       "      <td>100.0</td>\n",
       "    </tr>\n",
       "    <tr>\n",
       "      <th>7</th>\n",
       "      <td>Lewis Hamilton</td>\n",
       "      <td>lost</td>\n",
       "      <td>170</td>\n",
       "      <td>0.648855</td>\n",
       "      <td>64.9</td>\n",
       "    </tr>\n",
       "    <tr>\n",
       "      <th>8</th>\n",
       "      <td>Lewis Hamilton</td>\n",
       "      <td>win</td>\n",
       "      <td>92</td>\n",
       "      <td>0.351145</td>\n",
       "      <td>35.1</td>\n",
       "    </tr>\n",
       "    <tr>\n",
       "      <th>9</th>\n",
       "      <td>Max Verstappen</td>\n",
       "      <td>lost</td>\n",
       "      <td>105</td>\n",
       "      <td>0.921053</td>\n",
       "      <td>92.1</td>\n",
       "    </tr>\n",
       "    <tr>\n",
       "      <th>10</th>\n",
       "      <td>Max Verstappen</td>\n",
       "      <td>win</td>\n",
       "      <td>9</td>\n",
       "      <td>0.078947</td>\n",
       "      <td>7.9</td>\n",
       "    </tr>\n",
       "    <tr>\n",
       "      <th>11</th>\n",
       "      <td>Pierre Gasly</td>\n",
       "      <td>lost</td>\n",
       "      <td>58</td>\n",
       "      <td>0.983051</td>\n",
       "      <td>98.3</td>\n",
       "    </tr>\n",
       "    <tr>\n",
       "      <th>12</th>\n",
       "      <td>Pierre Gasly</td>\n",
       "      <td>win</td>\n",
       "      <td>1</td>\n",
       "      <td>0.016949</td>\n",
       "      <td>1.7</td>\n",
       "    </tr>\n",
       "    <tr>\n",
       "      <th>13</th>\n",
       "      <td>Sergio Pérez</td>\n",
       "      <td>lost</td>\n",
       "      <td>188</td>\n",
       "      <td>1.000000</td>\n",
       "      <td>100.0</td>\n",
       "    </tr>\n",
       "    <tr>\n",
       "      <th>14</th>\n",
       "      <td>Valtteri Bottas</td>\n",
       "      <td>lost</td>\n",
       "      <td>143</td>\n",
       "      <td>0.940789</td>\n",
       "      <td>94.1</td>\n",
       "    </tr>\n",
       "    <tr>\n",
       "      <th>15</th>\n",
       "      <td>Valtteri Bottas</td>\n",
       "      <td>win</td>\n",
       "      <td>9</td>\n",
       "      <td>0.059211</td>\n",
       "      <td>5.9</td>\n",
       "    </tr>\n",
       "  </tbody>\n",
       "</table>\n",
       "</div>"
      ],
      "text/plain": [
       "           Full Name Win or Loss  Total Races  W/L Ratio  W/L Percent\n",
       "0    Alexander Albon        lost           33   1.000000        100.0\n",
       "1       Carlos Sainz        lost          114   1.000000        100.0\n",
       "2    Charles Leclerc        lost           52   0.962963         96.3\n",
       "3    Charles Leclerc         win            2   0.037037          3.7\n",
       "4   Daniel Ricciardo        lost          176   0.961749         96.2\n",
       "5   Daniel Ricciardo         win            7   0.038251          3.8\n",
       "6       Lando Norris        lost           33   1.000000        100.0\n",
       "7     Lewis Hamilton        lost          170   0.648855         64.9\n",
       "8     Lewis Hamilton         win           92   0.351145         35.1\n",
       "9     Max Verstappen        lost          105   0.921053         92.1\n",
       "10    Max Verstappen         win            9   0.078947          7.9\n",
       "11      Pierre Gasly        lost           58   0.983051         98.3\n",
       "12      Pierre Gasly         win            1   0.016949          1.7\n",
       "13      Sergio Pérez        lost          188   1.000000        100.0\n",
       "14   Valtteri Bottas        lost          143   0.940789         94.1\n",
       "15   Valtteri Bottas         win            9   0.059211          5.9"
      ]
     },
     "execution_count": 94,
     "metadata": {},
     "output_type": "execute_result"
    }
   ],
   "source": [
    "s = rank_master_2020.groupby('Full Name')['Win or Loss']\n",
    "counts = s.value_counts()\n",
    "percent = s.value_counts(normalize=True)\n",
    "# percent100 = s.value_counts(normalize=True).mul(100).round(1).astype(str) + '%'\n",
    "percent100 = s.value_counts(normalize=True).mul(100).round(1)\n",
    "rank_ratio = pd.DataFrame({'Total Races': counts, 'W/L Ratio': percent, 'W/L Percent': percent100})\n",
    "rank_ratio.reset_index(inplace= True)\n",
    "rank_ratio"
   ]
  },
  {
   "cell_type": "code",
   "execution_count": 95,
   "metadata": {},
   "outputs": [],
   "source": [
    "rank_ratio.to_csv('../data/processed/win_ratio.csv')"
   ]
  },
  {
   "cell_type": "code",
   "execution_count": 96,
   "metadata": {},
   "outputs": [
    {
     "data": {
      "text/plain": [
       "Index(['raceId', 'driverId', 'Grid', 'Position', 'Points', 'laps',\n",
       "       'Milliseconds', 'Fastest Lap', 'Rank', 'Fastest Lap Time',\n",
       "       'Fastest Lap Speed', 'statusId', 'Win or Loss', 'code', 'D.O.B',\n",
       "       'Nationality', 'Full Name'],\n",
       "      dtype='object')"
      ]
     },
     "execution_count": 96,
     "metadata": {},
     "output_type": "execute_result"
    }
   ],
   "source": [
    "rank_master_2020.columns"
   ]
  },
  {
   "cell_type": "code",
   "execution_count": 97,
   "metadata": {},
   "outputs": [
    {
     "data": {
      "text/html": [
       "<div>\n",
       "<style scoped>\n",
       "    .dataframe tbody tr th:only-of-type {\n",
       "        vertical-align: middle;\n",
       "    }\n",
       "\n",
       "    .dataframe tbody tr th {\n",
       "        vertical-align: top;\n",
       "    }\n",
       "\n",
       "    .dataframe thead th {\n",
       "        text-align: right;\n",
       "    }\n",
       "</style>\n",
       "<table border=\"1\" class=\"dataframe\">\n",
       "  <thead>\n",
       "    <tr style=\"text-align: right;\">\n",
       "      <th></th>\n",
       "      <th>Full Name</th>\n",
       "      <th>Fastest Lap Time</th>\n",
       "      <th>Fastest Lap Speed</th>\n",
       "      <th>Fastest Lap</th>\n",
       "      <th>Milliseconds</th>\n",
       "      <th>Points</th>\n",
       "      <th>Position</th>\n",
       "      <th>Rank</th>\n",
       "      <th>Grid</th>\n",
       "    </tr>\n",
       "  </thead>\n",
       "  <tbody>\n",
       "    <tr>\n",
       "      <th>0</th>\n",
       "      <td>Lewis Hamilton</td>\n",
       "      <td>87.452</td>\n",
       "      <td>218.300</td>\n",
       "      <td>39</td>\n",
       "      <td>5690.616</td>\n",
       "      <td>10.0</td>\n",
       "      <td>1</td>\n",
       "      <td>2</td>\n",
       "      <td>1</td>\n",
       "    </tr>\n",
       "    <tr>\n",
       "      <th>26</th>\n",
       "      <td>Lewis Hamilton</td>\n",
       "      <td>95.462</td>\n",
       "      <td>209.033</td>\n",
       "      <td>53</td>\n",
       "      <td>5525.103</td>\n",
       "      <td>4.0</td>\n",
       "      <td>5</td>\n",
       "      <td>3</td>\n",
       "      <td>9</td>\n",
       "    </tr>\n",
       "    <tr>\n",
       "      <th>56</th>\n",
       "      <td>Lewis Hamilton</td>\n",
       "      <td>95.520</td>\n",
       "      <td>203.969</td>\n",
       "      <td>25</td>\n",
       "      <td>0.000</td>\n",
       "      <td>0.0</td>\n",
       "      <td>13</td>\n",
       "      <td>19</td>\n",
       "      <td>3</td>\n",
       "    </tr>\n",
       "    <tr>\n",
       "      <th>68</th>\n",
       "      <td>Lewis Hamilton</td>\n",
       "      <td>82.017</td>\n",
       "      <td>204.323</td>\n",
       "      <td>20</td>\n",
       "      <td>5903.238</td>\n",
       "      <td>6.0</td>\n",
       "      <td>3</td>\n",
       "      <td>3</td>\n",
       "      <td>5</td>\n",
       "    </tr>\n",
       "    <tr>\n",
       "      <th>89</th>\n",
       "      <td>Lewis Hamilton</td>\n",
       "      <td>86.529</td>\n",
       "      <td>222.085</td>\n",
       "      <td>31</td>\n",
       "      <td>5213.230</td>\n",
       "      <td>8.0</td>\n",
       "      <td>2</td>\n",
       "      <td>2</td>\n",
       "      <td>3</td>\n",
       "    </tr>\n",
       "    <tr>\n",
       "      <th>...</th>\n",
       "      <td>...</td>\n",
       "      <td>...</td>\n",
       "      <td>...</td>\n",
       "      <td>...</td>\n",
       "      <td>...</td>\n",
       "      <td>...</td>\n",
       "      <td>...</td>\n",
       "      <td>...</td>\n",
       "      <td>...</td>\n",
       "    </tr>\n",
       "    <tr>\n",
       "      <th>24845</th>\n",
       "      <td>Carlos Sainz</td>\n",
       "      <td>80.268</td>\n",
       "      <td>208.685</td>\n",
       "      <td>65</td>\n",
       "      <td>0.000</td>\n",
       "      <td>8.0</td>\n",
       "      <td>6</td>\n",
       "      <td>6</td>\n",
       "      <td>7</td>\n",
       "    </tr>\n",
       "    <tr>\n",
       "      <th>24846</th>\n",
       "      <td>Sergio Pérez</td>\n",
       "      <td>80.802</td>\n",
       "      <td>207.306</td>\n",
       "      <td>49</td>\n",
       "      <td>0.000</td>\n",
       "      <td>6.0</td>\n",
       "      <td>7</td>\n",
       "      <td>11</td>\n",
       "      <td>5</td>\n",
       "    </tr>\n",
       "    <tr>\n",
       "      <th>24848</th>\n",
       "      <td>Daniel Ricciardo</td>\n",
       "      <td>80.906</td>\n",
       "      <td>207.040</td>\n",
       "      <td>61</td>\n",
       "      <td>0.000</td>\n",
       "      <td>2.0</td>\n",
       "      <td>9</td>\n",
       "      <td>14</td>\n",
       "      <td>10</td>\n",
       "    </tr>\n",
       "    <tr>\n",
       "      <th>24851</th>\n",
       "      <td>Alexander Albon</td>\n",
       "      <td>79.890</td>\n",
       "      <td>209.673</td>\n",
       "      <td>61</td>\n",
       "      <td>0.000</td>\n",
       "      <td>0.0</td>\n",
       "      <td>12</td>\n",
       "      <td>5</td>\n",
       "      <td>6</td>\n",
       "    </tr>\n",
       "    <tr>\n",
       "      <th>24852</th>\n",
       "      <td>Lando Norris</td>\n",
       "      <td>79.360</td>\n",
       "      <td>211.073</td>\n",
       "      <td>65</td>\n",
       "      <td>0.000</td>\n",
       "      <td>0.0</td>\n",
       "      <td>13</td>\n",
       "      <td>3</td>\n",
       "      <td>8</td>\n",
       "    </tr>\n",
       "  </tbody>\n",
       "</table>\n",
       "<p>1192 rows × 9 columns</p>\n",
       "</div>"
      ],
      "text/plain": [
       "              Full Name  Fastest Lap Time  Fastest Lap Speed  Fastest Lap  \\\n",
       "0        Lewis Hamilton            87.452            218.300           39   \n",
       "26       Lewis Hamilton            95.462            209.033           53   \n",
       "56       Lewis Hamilton            95.520            203.969           25   \n",
       "68       Lewis Hamilton            82.017            204.323           20   \n",
       "89       Lewis Hamilton            86.529            222.085           31   \n",
       "...                 ...               ...                ...          ...   \n",
       "24845      Carlos Sainz            80.268            208.685           65   \n",
       "24846      Sergio Pérez            80.802            207.306           49   \n",
       "24848  Daniel Ricciardo            80.906            207.040           61   \n",
       "24851   Alexander Albon            79.890            209.673           61   \n",
       "24852      Lando Norris            79.360            211.073           65   \n",
       "\n",
       "       Milliseconds  Points Position Rank  Grid  \n",
       "0          5690.616    10.0        1    2     1  \n",
       "26         5525.103     4.0        5    3     9  \n",
       "56            0.000     0.0       13   19     3  \n",
       "68         5903.238     6.0        3    3     5  \n",
       "89         5213.230     8.0        2    2     3  \n",
       "...             ...     ...      ...  ...   ...  \n",
       "24845         0.000     8.0        6    6     7  \n",
       "24846         0.000     6.0        7   11     5  \n",
       "24848         0.000     2.0        9   14    10  \n",
       "24851         0.000     0.0       12    5     6  \n",
       "24852         0.000     0.0       13    3     8  \n",
       "\n",
       "[1192 rows x 9 columns]"
      ]
     },
     "execution_count": 97,
     "metadata": {},
     "output_type": "execute_result"
    }
   ],
   "source": [
    "master_df = rank_master_2020[['Full Name', 'Fastest Lap Time', 'Fastest Lap Speed', 'Fastest Lap', 'Milliseconds', 'Points', 'Position', 'Rank', 'Grid']]\n",
    "master_df"
   ]
  },
  {
   "cell_type": "code",
   "execution_count": 98,
   "metadata": {},
   "outputs": [],
   "source": [
    "master_df.to_csv('../data/processed/top10_stats.csv')"
   ]
  },
  {
   "cell_type": "code",
   "execution_count": 99,
   "metadata": {},
   "outputs": [
    {
     "data": {
      "text/html": [
       "<div>\n",
       "<style scoped>\n",
       "    .dataframe tbody tr th:only-of-type {\n",
       "        vertical-align: middle;\n",
       "    }\n",
       "\n",
       "    .dataframe tbody tr th {\n",
       "        vertical-align: top;\n",
       "    }\n",
       "\n",
       "    .dataframe thead th {\n",
       "        text-align: right;\n",
       "    }\n",
       "</style>\n",
       "<table border=\"1\" class=\"dataframe\">\n",
       "  <thead>\n",
       "    <tr style=\"text-align: right;\">\n",
       "      <th></th>\n",
       "      <th>Full Name</th>\n",
       "      <th>Fastest Lap Time</th>\n",
       "      <th>Fastest Lap Speed</th>\n",
       "      <th>Fastest Lap</th>\n",
       "      <th>Milliseconds</th>\n",
       "      <th>Points</th>\n",
       "    </tr>\n",
       "  </thead>\n",
       "  <tbody>\n",
       "    <tr>\n",
       "      <th>0</th>\n",
       "      <td>Alexander Albon</td>\n",
       "      <td>87.662303</td>\n",
       "      <td>214.058455</td>\n",
       "      <td>48.030303</td>\n",
       "      <td>3817.781303</td>\n",
       "      <td>4.727273</td>\n",
       "    </tr>\n",
       "    <tr>\n",
       "      <th>1</th>\n",
       "      <td>Carlos Sainz</td>\n",
       "      <td>84.740167</td>\n",
       "      <td>188.966746</td>\n",
       "      <td>41.035088</td>\n",
       "      <td>2280.410930</td>\n",
       "      <td>2.859649</td>\n",
       "    </tr>\n",
       "    <tr>\n",
       "      <th>2</th>\n",
       "      <td>Charles Leclerc</td>\n",
       "      <td>85.467019</td>\n",
       "      <td>202.433019</td>\n",
       "      <td>43.259259</td>\n",
       "      <td>3315.040333</td>\n",
       "      <td>7.000000</td>\n",
       "    </tr>\n",
       "    <tr>\n",
       "      <th>3</th>\n",
       "      <td>Daniel Ricciardo</td>\n",
       "      <td>90.965011</td>\n",
       "      <td>199.633481</td>\n",
       "      <td>45.360656</td>\n",
       "      <td>3543.729415</td>\n",
       "      <td>6.120219</td>\n",
       "    </tr>\n",
       "    <tr>\n",
       "      <th>4</th>\n",
       "      <td>Lando Norris</td>\n",
       "      <td>88.388000</td>\n",
       "      <td>212.342030</td>\n",
       "      <td>45.272727</td>\n",
       "      <td>2643.597576</td>\n",
       "      <td>3.454545</td>\n",
       "    </tr>\n",
       "    <tr>\n",
       "      <th>5</th>\n",
       "      <td>Lewis Hamilton</td>\n",
       "      <td>89.571771</td>\n",
       "      <td>201.224538</td>\n",
       "      <td>43.332061</td>\n",
       "      <td>5012.072702</td>\n",
       "      <td>14.072519</td>\n",
       "    </tr>\n",
       "    <tr>\n",
       "      <th>6</th>\n",
       "      <td>Max Verstappen</td>\n",
       "      <td>85.783746</td>\n",
       "      <td>195.509430</td>\n",
       "      <td>43.035088</td>\n",
       "      <td>4163.534623</td>\n",
       "      <td>9.736842</td>\n",
       "    </tr>\n",
       "    <tr>\n",
       "      <th>7</th>\n",
       "      <td>Pierre Gasly</td>\n",
       "      <td>84.602356</td>\n",
       "      <td>198.936186</td>\n",
       "      <td>45.915254</td>\n",
       "      <td>2213.504627</td>\n",
       "      <td>3.169492</td>\n",
       "    </tr>\n",
       "    <tr>\n",
       "      <th>8</th>\n",
       "      <td>Sergio Pérez</td>\n",
       "      <td>89.168782</td>\n",
       "      <td>195.017867</td>\n",
       "      <td>44.132979</td>\n",
       "      <td>3017.969436</td>\n",
       "      <td>3.484043</td>\n",
       "    </tr>\n",
       "    <tr>\n",
       "      <th>9</th>\n",
       "      <td>Valtteri Bottas</td>\n",
       "      <td>90.828822</td>\n",
       "      <td>203.473487</td>\n",
       "      <td>47.019737</td>\n",
       "      <td>4542.736322</td>\n",
       "      <td>9.657895</td>\n",
       "    </tr>\n",
       "  </tbody>\n",
       "</table>\n",
       "</div>"
      ],
      "text/plain": [
       "          Full Name  Fastest Lap Time  Fastest Lap Speed  Fastest Lap  \\\n",
       "0   Alexander Albon         87.662303         214.058455    48.030303   \n",
       "1      Carlos Sainz         84.740167         188.966746    41.035088   \n",
       "2   Charles Leclerc         85.467019         202.433019    43.259259   \n",
       "3  Daniel Ricciardo         90.965011         199.633481    45.360656   \n",
       "4      Lando Norris         88.388000         212.342030    45.272727   \n",
       "5    Lewis Hamilton         89.571771         201.224538    43.332061   \n",
       "6    Max Verstappen         85.783746         195.509430    43.035088   \n",
       "7      Pierre Gasly         84.602356         198.936186    45.915254   \n",
       "8      Sergio Pérez         89.168782         195.017867    44.132979   \n",
       "9   Valtteri Bottas         90.828822         203.473487    47.019737   \n",
       "\n",
       "   Milliseconds     Points  \n",
       "0   3817.781303   4.727273  \n",
       "1   2280.410930   2.859649  \n",
       "2   3315.040333   7.000000  \n",
       "3   3543.729415   6.120219  \n",
       "4   2643.597576   3.454545  \n",
       "5   5012.072702  14.072519  \n",
       "6   4163.534623   9.736842  \n",
       "7   2213.504627   3.169492  \n",
       "8   3017.969436   3.484043  \n",
       "9   4542.736322   9.657895  "
      ]
     },
     "execution_count": 99,
     "metadata": {},
     "output_type": "execute_result"
    }
   ],
   "source": [
    "score_df = rank_master_2020[['Full Name', 'Fastest Lap Time', 'Fastest Lap Speed', 'Fastest Lap', 'Milliseconds', 'Points']]\n",
    "driver_avg_df = score_df.groupby('Full Name').mean()\n",
    "driver_avg_df.reset_index(inplace = True)\n",
    "driver_avg_df"
   ]
  },
  {
   "cell_type": "code",
   "execution_count": 100,
   "metadata": {},
   "outputs": [],
   "source": [
    "driver_avg_df.to_csv('../data/processed/avg_driver_stats.csv')"
   ]
  },
  {
   "cell_type": "markdown",
   "metadata": {},
   "source": [
    "This is delivered through the Fastest Driver insight, which produces a dataset ranking based on speed (Average Lap Times) \n",
    "of all drivers from the present day back to 1983, \n",
    "by simply ranking drivers in descending order of Driver, Rank (integer), Gap to Best (milliseconds)."
   ]
  },
  {
   "cell_type": "markdown",
   "metadata": {},
   "source": [
    "<div class=\"alert alert-block alert-success\">\n",
    "    <b>Position:</b> Points are awarded to drivers and teams based on where they finish in a race. The winner receives 25 points, the second-place finisher 18 points, with 15, 12, 10, 8, 6, 4, 2 and 1 points for positions 3 through 10.\n",
    "    </div>"
   ]
  },
  {
   "cell_type": "code",
   "execution_count": 101,
   "metadata": {},
   "outputs": [
    {
     "data": {
      "text/plain": [
       "'https://plotly.com/~dgustave/2/'"
      ]
     },
     "execution_count": 101,
     "metadata": {},
     "output_type": "execute_result"
    }
   ],
   "source": [
    "import plotly.express as px\n",
    "fig = px.scatter(master_df, x=\"Fastest Lap Time\", y=\"Position\", animation_frame=\"Points\", animation_group=\"Full Name\",\n",
    "           size=\"Fastest Lap Time\", color=\"Full Name\", template=\"seaborn\", hover_name=\"Full Name\",\n",
    "           log_x=True, size_max=65, range_x=[75, 100], range_y=[-5, 15])\n",
    "csp.plot(fig , filename = 'End Position and Points', auto_open=True)"
   ]
  },
  {
   "cell_type": "code",
   "execution_count": 103,
   "metadata": {},
   "outputs": [
    {
     "data": {
      "application/vnd.plotly.v1+json": {
       "config": {
        "plotlyServerURL": "https://plotly.com"
       },
       "data": [
        {
         "hovertemplate": "<b>%{hovertext}</b><br><br>Full Name=Lewis Hamilton<br>Points=7.0<br>Fastest Lap Time=%{marker.size}<br>Position=%{y}<extra></extra>",
         "hovertext": [
          "Lewis Hamilton"
         ],
         "ids": [
          "Lewis Hamilton"
         ],
         "legendgroup": "Lewis Hamilton",
         "marker": {
          "color": "rgb(76,114,176)",
          "size": [
           82.74600000000001
          ],
          "sizemode": "area",
          "sizeref": 0.03596189349112426,
          "symbol": "circle"
         },
         "mode": "markers",
         "name": "Lewis Hamilton",
         "orientation": "h",
         "showlegend": true,
         "type": "scatter",
         "x": [
          82.74600000000001
         ],
         "xaxis": "x",
         "y": [
          "7"
         ],
         "yaxis": "y"
        },
        {
         "hovertemplate": "<b>%{hovertext}</b><br><br>Full Name=Max Verstappen<br>Points=19.0<br>Fastest Lap Time=%{marker.size}<br>Position=%{y}<extra></extra>",
         "hovertext": [
          "Max Verstappen",
          "Max Verstappen",
          "Max Verstappen"
         ],
         "ids": [
          "Max Verstappen",
          "Max Verstappen",
          "Max Verstappen"
         ],
         "legendgroup": "Max Verstappen",
         "marker": {
          "color": "rgb(147,120,96)",
          "size": [
           77.10300000000002,
           87.09700000000002,
           88.139
          ],
          "sizemode": "area",
          "sizeref": 0.03596189349112426,
          "symbol": "circle"
         },
         "mode": "markers",
         "name": "Max Verstappen",
         "orientation": "h",
         "showlegend": true,
         "type": "scatter",
         "x": [
          77.10300000000002,
          87.09700000000002,
          88.139
         ],
         "xaxis": "x",
         "y": [
          "2",
          "2",
          "2"
         ],
         "yaxis": "y"
        },
        {
         "hovertemplate": "<b>%{hovertext}</b><br><br>Full Name=Charles Leclerc<br>Points=13.0<br>Fastest Lap Time=%{marker.size}<br>Position=%{y}<extra></extra>",
         "hovertext": [
          "Charles Leclerc",
          "Charles Leclerc"
         ],
         "ids": [
          "Charles Leclerc",
          "Charles Leclerc"
         ],
         "legendgroup": "Charles Leclerc",
         "marker": {
          "color": "rgb(140,140,140)",
          "size": [
           79.232,
           96.169
          ],
          "sizemode": "area",
          "sizeref": 0.03596189349112426,
          "symbol": "circle"
         },
         "mode": "markers",
         "name": "Charles Leclerc",
         "orientation": "h",
         "showlegend": true,
         "type": "scatter",
         "x": [
          79.232,
          96.169
         ],
         "xaxis": "x",
         "y": [
          "4",
          "4"
         ],
         "yaxis": "y"
        },
        {
         "hovertemplate": "<b>%{hovertext}</b><br><br>Full Name=Lando Norris<br>Points=16.0<br>Fastest Lap Time=%{marker.size}<br>Position=%{y}<extra></extra>",
         "hovertext": [
          "Lando Norris"
         ],
         "ids": [
          "Lando Norris"
         ],
         "legendgroup": "Lando Norris",
         "marker": {
          "color": "rgb(204,185,116)",
          "size": [
           67.475
          ],
          "sizemode": "area",
          "sizeref": 0.03596189349112426,
          "symbol": "circle"
         },
         "mode": "markers",
         "name": "Lando Norris",
         "orientation": "h",
         "showlegend": true,
         "type": "scatter",
         "x": [
          67.475
         ],
         "xaxis": "x",
         "y": [
          "3"
         ],
         "yaxis": "y"
        },
        {
         "hovertemplate": "<b>%{hovertext}</b><br><br>Full Name=Carlos Sainz<br>Points=12.0<br>Fastest Lap Time=%{marker.size}<br>Position=%{y}<extra></extra>",
         "hovertext": [
          "Carlos Sainz"
         ],
         "ids": [
          "Carlos Sainz"
         ],
         "legendgroup": "Carlos Sainz",
         "marker": {
          "color": "rgb(129,114,179)",
          "size": [
           106.537
          ],
          "sizemode": "area",
          "sizeref": 0.03596189349112426,
          "symbol": "circle"
         },
         "mode": "markers",
         "name": "Carlos Sainz",
         "orientation": "h",
         "showlegend": true,
         "type": "scatter",
         "x": [
          106.537
         ],
         "xaxis": "x",
         "y": [
          "4"
         ],
         "yaxis": "y"
        },
        {
         "hovertemplate": "<b>%{hovertext}</b><br><br>Full Name=Max Verstappen<br>Points=12.0<br>Fastest Lap Time=%{marker.size}<br>Position=%{y}<extra></extra>",
         "hovertext": [
          "Max Verstappen",
          "Max Verstappen",
          "Max Verstappen",
          "Max Verstappen",
          "Max Verstappen",
          "Max Verstappen",
          "Max Verstappen",
          "Max Verstappen",
          "Max Verstappen",
          "Max Verstappen",
          "Max Verstappen",
          "Max Verstappen",
          "Max Verstappen",
          "Max Verstappen"
         ],
         "ids": [
          "Max Verstappen",
          "Max Verstappen",
          "Max Verstappen",
          "Max Verstappen",
          "Max Verstappen",
          "Max Verstappen",
          "Max Verstappen",
          "Max Verstappen",
          "Max Verstappen",
          "Max Verstappen",
          "Max Verstappen",
          "Max Verstappen",
          "Max Verstappen",
          "Max Verstappen"
         ],
         "legendgroup": "Max Verstappen",
         "marker": {
          "color": "rgb(147,120,96)",
          "size": [
           87.65,
           103.17200000000001,
           76.319,
           82.887,
           105.18700000000001,
           90.678,
           98.06,
           75.852,
           95.311,
           96.14299999999999,
           104.794,
           76.229,
           94.162,
           96.93700000000001
          ],
          "sizemode": "area",
          "sizeref": 0.03596189349112426,
          "symbol": "circle"
         },
         "mode": "markers",
         "name": "Max Verstappen",
         "orientation": "h",
         "showlegend": true,
         "type": "scatter",
         "x": [
          87.65,
          103.17200000000001,
          76.319,
          82.887,
          105.18700000000001,
          90.678,
          98.06,
          75.852,
          95.311,
          96.14299999999999,
          104.794,
          76.229,
          94.162,
          96.93700000000001
         ],
         "xaxis": "x",
         "y": [
          "4",
          "4",
          "4",
          "4",
          "4",
          "4",
          "4",
          "4",
          "4",
          "4",
          "4",
          "4",
          "4",
          "4"
         ],
         "yaxis": "y"
        },
        {
         "hovertemplate": "<b>%{hovertext}</b><br><br>Full Name=Pierre Gasly<br>Points=12.0<br>Fastest Lap Time=%{marker.size}<br>Position=%{y}<extra></extra>",
         "hovertext": [
          "Pierre Gasly",
          "Pierre Gasly"
         ],
         "ids": [
          "Pierre Gasly",
          "Pierre Gasly"
         ],
         "legendgroup": "Pierre Gasly",
         "marker": {
          "color": "rgb(218,139,195)",
          "size": [
           94.863,
           89.544
          ],
          "sizemode": "area",
          "sizeref": 0.03596189349112426,
          "symbol": "circle"
         },
         "mode": "markers",
         "name": "Pierre Gasly",
         "orientation": "h",
         "showlegend": true,
         "type": "scatter",
         "x": [
          94.863,
          89.544
         ],
         "xaxis": "x",
         "y": [
          "4",
          "4"
         ],
         "yaxis": "y"
        },
        {
         "hovertemplate": "<b>%{hovertext}</b><br><br>Full Name=Charles Leclerc<br>Points=12.0<br>Fastest Lap Time=%{marker.size}<br>Position=%{y}<extra></extra>",
         "hovertext": [
          "Charles Leclerc",
          "Charles Leclerc",
          "Charles Leclerc"
         ],
         "ids": [
          "Charles Leclerc",
          "Charles Leclerc",
          "Charles Leclerc"
         ],
         "legendgroup": "Charles Leclerc",
         "marker": {
          "color": "rgb(140,140,140)",
          "size": [
           80.493,
           90.552,
           80.408
          ],
          "sizemode": "area",
          "sizeref": 0.03596189349112426,
          "symbol": "circle"
         },
         "mode": "markers",
         "name": "Charles Leclerc",
         "orientation": "h",
         "showlegend": true,
         "type": "scatter",
         "x": [
          80.493,
          90.552,
          80.408
         ],
         "xaxis": "x",
         "y": [
          "4",
          "4",
          "4"
         ],
         "yaxis": "y"
        },
        {
         "hovertemplate": "<b>%{hovertext}</b><br><br>Full Name=Lando Norris<br>Points=12.0<br>Fastest Lap Time=%{marker.size}<br>Position=%{y}<extra></extra>",
         "hovertext": [
          "Lando Norris"
         ],
         "ids": [
          "Lando Norris"
         ],
         "legendgroup": "Lando Norris",
         "marker": {
          "color": "rgb(204,185,116)",
          "size": [
           84.23200000000001
          ],
          "sizemode": "area",
          "sizeref": 0.03596189349112426,
          "symbol": "circle"
         },
         "mode": "markers",
         "name": "Lando Norris",
         "orientation": "h",
         "showlegend": true,
         "type": "scatter",
         "x": [
          84.23200000000001
         ],
         "xaxis": "x",
         "y": [
          "4"
         ],
         "yaxis": "y"
        },
        {
         "hovertemplate": "<b>%{hovertext}</b><br><br>Full Name=Alexander Albon<br>Points=12.0<br>Fastest Lap Time=%{marker.size}<br>Position=%{y}<extra></extra>",
         "hovertext": [
          "Alexander Albon",
          "Alexander Albon"
         ],
         "ids": [
          "Alexander Albon",
          "Alexander Albon"
         ],
         "legendgroup": "Alexander Albon",
         "marker": {
          "color": "rgb(100,181,205)",
          "size": [
           92.775,
           67.29899999999999
          ],
          "sizemode": "area",
          "sizeref": 0.03596189349112426,
          "symbol": "circle"
         },
         "mode": "markers",
         "name": "Alexander Albon",
         "orientation": "h",
         "showlegend": true,
         "type": "scatter",
         "x": [
          92.775,
          67.29899999999999
         ],
         "xaxis": "x",
         "y": [
          "4",
          "4"
         ],
         "yaxis": "y"
        }
       ],
       "frames": [
        {
         "data": [
          {
           "hovertemplate": "<b>%{hovertext}</b><br><br>Full Name=Lewis Hamilton<br>Points=10.0<br>Fastest Lap Time=%{marker.size}<br>Position=%{y}<extra></extra>",
           "hovertext": [
            "Lewis Hamilton",
            "Lewis Hamilton",
            "Lewis Hamilton",
            "Lewis Hamilton",
            "Lewis Hamilton",
            "Lewis Hamilton",
            "Lewis Hamilton",
            "Lewis Hamilton",
            "Lewis Hamilton",
            "Lewis Hamilton",
            "Lewis Hamilton",
            "Lewis Hamilton",
            "Lewis Hamilton",
            "Lewis Hamilton",
            "Lewis Hamilton",
            "Lewis Hamilton",
            "Lewis Hamilton",
            "Lewis Hamilton",
            "Lewis Hamilton",
            "Lewis Hamilton",
            "Lewis Hamilton",
            "Lewis Hamilton",
            "Lewis Hamilton",
            "Lewis Hamilton",
            "Lewis Hamilton",
            "Lewis Hamilton"
           ],
           "ids": [
            "Lewis Hamilton",
            "Lewis Hamilton",
            "Lewis Hamilton",
            "Lewis Hamilton",
            "Lewis Hamilton",
            "Lewis Hamilton",
            "Lewis Hamilton",
            "Lewis Hamilton",
            "Lewis Hamilton",
            "Lewis Hamilton",
            "Lewis Hamilton",
            "Lewis Hamilton",
            "Lewis Hamilton",
            "Lewis Hamilton",
            "Lewis Hamilton",
            "Lewis Hamilton",
            "Lewis Hamilton",
            "Lewis Hamilton",
            "Lewis Hamilton",
            "Lewis Hamilton",
            "Lewis Hamilton",
            "Lewis Hamilton",
            "Lewis Hamilton",
            "Lewis Hamilton",
            "Lewis Hamilton",
            "Lewis Hamilton"
           ],
           "legendgroup": "Lewis Hamilton",
           "marker": {
            "color": "rgb(76,114,176)",
            "size": [
             87.45200000000001,
             78.51,
             92.817,
             76.039,
             96.325,
             76.494,
             73.222,
             80.17099999999998,
             88.193,
             82.479,
             108.345,
             76.219,
             95.182,
             110.83200000000001,
             97.645,
             78.806,
             97.76,
             89.759,
             98.204,
             94.156,
             109.916,
             102.539,
             106.822,
             103.469,
             74.18299999999998,
             68.05
            ],
            "sizemode": "area",
            "sizeref": 0.03596189349112426,
            "symbol": "circle"
           },
           "mode": "markers",
           "name": "Lewis Hamilton",
           "orientation": "h",
           "showlegend": true,
           "type": "scatter",
           "x": [
            87.45200000000001,
            78.51,
            92.817,
            76.039,
            96.325,
            76.494,
            73.222,
            80.17099999999998,
            88.193,
            82.479,
            108.345,
            76.219,
            95.182,
            110.83200000000001,
            97.645,
            78.806,
            97.76,
            89.759,
            98.204,
            94.156,
            109.916,
            102.539,
            106.822,
            103.469,
            74.18299999999998,
            68.05
           ],
           "xaxis": "x",
           "y": [
            "1",
            "1",
            "1",
            "1",
            "1",
            "1",
            "1",
            "1",
            "1",
            "1",
            "1",
            "5",
            "5",
            "5",
            "5",
            "5",
            "5",
            "5",
            "5",
            "5",
            "5",
            "5",
            "5",
            "5",
            "5",
            "5"
           ],
           "yaxis": "y"
          },
          {
           "hovertemplate": "<b>%{hovertext}</b><br><br>Full Name=Sergio Pérez<br>Points=10.0<br>Fastest Lap Time=%{marker.size}<br>Position=%{y}<extra></extra>",
           "hovertext": [
            "Sergio Pérez",
            "Sergio Pérez",
            "Sergio Pérez",
            "Sergio Pérez",
            "Sergio Pérez",
            "Sergio Pérez",
            "Sergio Pérez",
            "Sergio Pérez",
            "Sergio Pérez",
            "Sergio Pérez"
           ],
           "ids": [
            "Sergio Pérez",
            "Sergio Pérez",
            "Sergio Pérez",
            "Sergio Pérez",
            "Sergio Pérez",
            "Sergio Pérez",
            "Sergio Pérez",
            "Sergio Pérez",
            "Sergio Pérez",
            "Sergio Pérez"
           ],
           "legendgroup": "Sergio Pérez",
           "marker": {
            "color": "rgb(221,132,82)",
            "size": [
             88.50299999999999,
             114.796,
             103.01,
             105.89200000000001,
             113.414,
             76.367,
             106.73100000000001,
             108.08,
             82.515,
             80.632
            ],
            "sizemode": "area",
            "sizeref": 0.03596189349112426,
            "symbol": "circle"
           },
           "mode": "markers",
           "name": "Sergio Pérez",
           "orientation": "h",
           "showlegend": true,
           "type": "scatter",
           "x": [
            88.50299999999999,
            114.796,
            103.01,
            105.89200000000001,
            113.414,
            76.367,
            106.73100000000001,
            108.08,
            82.515,
            80.632
           ],
           "xaxis": "x",
           "y": [
            "5",
            "5",
            "5",
            "5",
            "5",
            "5",
            "5",
            "5",
            "5",
            "5"
           ],
           "yaxis": "y"
          },
          {
           "hovertemplate": "<b>%{hovertext}</b><br><br>Full Name=Daniel Ricciardo<br>Points=10.0<br>Fastest Lap Time=%{marker.size}<br>Position=%{y}<extra></extra>",
           "hovertext": [
            "Daniel Ricciardo",
            "Daniel Ricciardo",
            "Daniel Ricciardo",
            "Daniel Ricciardo",
            "Daniel Ricciardo",
            "Daniel Ricciardo",
            "Daniel Ricciardo",
            "Daniel Ricciardo",
            "Daniel Ricciardo",
            "Daniel Ricciardo",
            "Daniel Ricciardo"
           ],
           "ids": [
            "Daniel Ricciardo",
            "Daniel Ricciardo",
            "Daniel Ricciardo",
            "Daniel Ricciardo",
            "Daniel Ricciardo",
            "Daniel Ricciardo",
            "Daniel Ricciardo",
            "Daniel Ricciardo",
            "Daniel Ricciardo",
            "Daniel Ricciardo",
            "Daniel Ricciardo"
           ],
           "legendgroup": "Daniel Ricciardo",
           "marker": {
            "color": "rgb(85,168,104)",
            "size": [
             88.588,
             78.063,
             81.625,
             68.77,
             85.919,
             104.889,
             93.495,
             91.874,
             78.441,
             91.589,
             97.88600000000001
            ],
            "sizemode": "area",
            "sizeref": 0.03596189349112426,
            "symbol": "circle"
           },
           "mode": "markers",
           "name": "Daniel Ricciardo",
           "orientation": "h",
           "showlegend": true,
           "type": "scatter",
           "x": [
            88.588,
            78.063,
            81.625,
            68.77,
            85.919,
            104.889,
            93.495,
            91.874,
            78.441,
            91.589,
            97.88600000000001
           ],
           "xaxis": "x",
           "y": [
            "5",
            "5",
            "5",
            "5",
            "5",
            "5",
            "5",
            "5",
            "5",
            "5",
            "5"
           ],
           "yaxis": "y"
          },
          {
           "hovertemplate": "<b>%{hovertext}</b><br><br>Full Name=Valtteri Bottas<br>Points=10.0<br>Fastest Lap Time=%{marker.size}<br>Position=%{y}<extra></extra>",
           "hovertext": [
            "Valtteri Bottas",
            "Valtteri Bottas",
            "Valtteri Bottas",
            "Valtteri Bottas",
            "Valtteri Bottas",
            "Valtteri Bottas",
            "Valtteri Bottas",
            "Valtteri Bottas",
            "Valtteri Bottas",
            "Valtteri Bottas",
            "Valtteri Bottas",
            "Valtteri Bottas",
            "Valtteri Bottas",
            "Valtteri Bottas",
            "Valtteri Bottas",
            "Valtteri Bottas",
            "Valtteri Bottas",
            "Valtteri Bottas",
            "Valtteri Bottas",
            "Valtteri Bottas",
            "Valtteri Bottas",
            "Valtteri Bottas"
           ],
           "ids": [
            "Valtteri Bottas",
            "Valtteri Bottas",
            "Valtteri Bottas",
            "Valtteri Bottas",
            "Valtteri Bottas",
            "Valtteri Bottas",
            "Valtteri Bottas",
            "Valtteri Bottas",
            "Valtteri Bottas",
            "Valtteri Bottas",
            "Valtteri Bottas",
            "Valtteri Bottas",
            "Valtteri Bottas",
            "Valtteri Bottas",
            "Valtteri Bottas",
            "Valtteri Bottas",
            "Valtteri Bottas",
            "Valtteri Bottas",
            "Valtteri Bottas",
            "Valtteri Bottas",
            "Valtteri Bottas",
            "Valtteri Bottas"
           ],
           "legendgroup": "Valtteri Bottas",
           "marker": {
            "color": "rgb(196,78,82)",
            "size": [
             92.616,
             90.42399999999999,
             102.505,
             104.088,
             72.248,
             97.51299999999999,
             111.34200000000001,
             98.241,
             76.039,
             89.081,
             99.199,
             107.721,
             95.284,
             97.76700000000001,
             76.312,
             81.736,
             98.47,
             78.741,
             70.53999999999998,
             100.95299999999999,
             103.534,
             83.961
            ],
            "sizemode": "area",
            "sizeref": 0.03596189349112426,
            "symbol": "circle"
           },
           "mode": "markers",
           "name": "Valtteri Bottas",
           "orientation": "h",
           "showlegend": true,
           "type": "scatter",
           "x": [
            92.616,
            90.42399999999999,
            102.505,
            104.088,
            72.248,
            97.51299999999999,
            111.34200000000001,
            98.241,
            76.039,
            89.081,
            99.199,
            107.721,
            95.284,
            97.76700000000001,
            76.312,
            81.736,
            98.47,
            78.741,
            70.53999999999998,
            100.95299999999999,
            103.534,
            83.961
           ],
           "xaxis": "x",
           "y": [
            "5",
            "5",
            "5",
            "5",
            "5",
            "5",
            "5",
            "5",
            "5",
            "5",
            "5",
            "5",
            "5",
            "5",
            "5",
            "5",
            "5",
            "5",
            "5",
            "5",
            "5",
            "5"
           ],
           "yaxis": "y"
          },
          {
           "hovertemplate": "<b>%{hovertext}</b><br><br>Full Name=Carlos Sainz<br>Points=10.0<br>Fastest Lap Time=%{marker.size}<br>Position=%{y}<extra></extra>",
           "hovertext": [
            "Carlos Sainz",
            "Carlos Sainz",
            "Carlos Sainz",
            "Carlos Sainz",
            "Carlos Sainz",
            "Carlos Sainz"
           ],
           "ids": [
            "Carlos Sainz",
            "Carlos Sainz",
            "Carlos Sainz",
            "Carlos Sainz",
            "Carlos Sainz",
            "Carlos Sainz"
           ],
           "legendgroup": "Carlos Sainz",
           "marker": {
            "color": "rgb(129,114,179)",
            "size": [
             106.85600000000001,
             77.84100000000002,
             81.002,
             93.56299999999999,
             67.97399999999999,
             90.12899999999999
            ],
            "sizemode": "area",
            "sizeref": 0.03596189349112426,
            "symbol": "circle"
           },
           "mode": "markers",
           "name": "Carlos Sainz",
           "orientation": "h",
           "showlegend": true,
           "type": "scatter",
           "x": [
            106.85600000000001,
            77.84100000000002,
            81.002,
            93.56299999999999,
            67.97399999999999,
            90.12899999999999
           ],
           "xaxis": "x",
           "y": [
            "5",
            "5",
            "5",
            "5",
            "5",
            "5"
           ],
           "yaxis": "y"
          },
          {
           "hovertemplate": "<b>%{hovertext}</b><br><br>Full Name=Max Verstappen<br>Points=10.0<br>Fastest Lap Time=%{marker.size}<br>Position=%{y}<extra></extra>",
           "hovertext": [
            "Max Verstappen",
            "Max Verstappen",
            "Max Verstappen",
            "Max Verstappen",
            "Max Verstappen",
            "Max Verstappen",
            "Max Verstappen",
            "Max Verstappen",
            "Max Verstappen",
            "Max Verstappen",
            "Max Verstappen",
            "Max Verstappen"
           ],
           "ids": [
            "Max Verstappen",
            "Max Verstappen",
            "Max Verstappen",
            "Max Verstappen",
            "Max Verstappen",
            "Max Verstappen",
            "Max Verstappen",
            "Max Verstappen",
            "Max Verstappen",
            "Max Verstappen",
            "Max Verstappen",
            "Max Verstappen"
           ],
           "legendgroup": "Max Verstappen",
           "marker": {
            "color": "rgb(147,120,96)",
            "size": [
             84.68700000000001,
             86.964,
             98.429,
             76.32900000000002,
             80.49,
             71.044,
             102.028,
             96.206,
             83.60900000000002,
             96.28299999999999,
             74.767,
             89.27199999999998
            ],
            "sizemode": "area",
            "sizeref": 0.03596189349112426,
            "symbol": "circle"
           },
           "mode": "markers",
           "name": "Max Verstappen",
           "orientation": "h",
           "showlegend": true,
           "type": "scatter",
           "x": [
            84.68700000000001,
            86.964,
            98.429,
            76.32900000000002,
            80.49,
            71.044,
            102.028,
            96.206,
            83.60900000000002,
            96.28299999999999,
            74.767,
            89.27199999999998
           ],
           "xaxis": "x",
           "y": [
            "5",
            "5",
            "5",
            "5",
            "5",
            "5",
            "5",
            "5",
            "5",
            "5",
            "5",
            "5"
           ],
           "yaxis": "y"
          },
          {
           "hovertemplate": "<b>%{hovertext}</b><br><br>Full Name=Pierre Gasly<br>Points=10.0<br>Fastest Lap Time=%{marker.size}<br>Position=%{y}<extra></extra>",
           "hovertext": [
            "Pierre Gasly"
           ],
           "ids": [
            "Pierre Gasly"
           ],
           "legendgroup": "Pierre Gasly",
           "marker": {
            "color": "rgb(218,139,195)",
            "size": [
             80.551
            ],
            "sizemode": "area",
            "sizeref": 0.03596189349112426,
            "symbol": "circle"
           },
           "mode": "markers",
           "name": "Pierre Gasly",
           "orientation": "h",
           "showlegend": true,
           "type": "scatter",
           "x": [
            80.551
           ],
           "xaxis": "x",
           "y": [
            "5"
           ],
           "yaxis": "y"
          },
          {
           "hovertemplate": "<b>%{hovertext}</b><br><br>Full Name=Charles Leclerc<br>Points=10.0<br>Fastest Lap Time=%{marker.size}<br>Position=%{y}<extra></extra>",
           "hovertext": [
            "Charles Leclerc",
            "Charles Leclerc",
            "Charles Leclerc"
           ],
           "ids": [
            "Charles Leclerc",
            "Charles Leclerc",
            "Charles Leclerc"
           ],
           "legendgroup": "Charles Leclerc",
           "marker": {
            "color": "rgb(140,140,140)",
            "size": [
             86.926,
             94.86,
             80.002
            ],
            "sizemode": "area",
            "sizeref": 0.03596189349112426,
            "symbol": "circle"
           },
           "mode": "markers",
           "name": "Charles Leclerc",
           "orientation": "h",
           "showlegend": true,
           "type": "scatter",
           "x": [
            86.926,
            94.86,
            80.002
           ],
           "xaxis": "x",
           "y": [
            "5",
            "5",
            "5"
           ],
           "yaxis": "y"
          },
          {
           "hovertemplate": "<b>%{hovertext}</b><br><br>Full Name=Lando Norris<br>Points=10.0<br>Fastest Lap Time=%{marker.size}<br>Position=%{y}<extra></extra>",
           "hovertext": [
            "Lando Norris",
            "Lando Norris"
           ],
           "ids": [
            "Lando Norris",
            "Lando Norris"
           ],
           "legendgroup": "Lando Norris",
           "marker": {
            "color": "rgb(204,185,116)",
            "size": [
             67.193,
             90.05799999999998
            ],
            "sizemode": "area",
            "sizeref": 0.03596189349112426,
            "symbol": "circle"
           },
           "mode": "markers",
           "name": "Lando Norris",
           "orientation": "h",
           "showlegend": true,
           "type": "scatter",
           "x": [
            67.193,
            90.05799999999998
           ],
           "xaxis": "x",
           "y": [
            "5",
            "5"
           ],
           "yaxis": "y"
          },
          {
           "hovertemplate": "<b>%{hovertext}</b><br><br>Full Name=Alexander Albon<br>Points=10.0<br>Fastest Lap Time=%{marker.size}<br>Position=%{y}<extra></extra>",
           "hovertext": [
            "Alexander Albon",
            "Alexander Albon",
            "Alexander Albon",
            "Alexander Albon",
            "Alexander Albon",
            "Alexander Albon"
           ],
           "ids": [
            "Alexander Albon",
            "Alexander Albon",
            "Alexander Albon",
            "Alexander Albon",
            "Alexander Albon",
            "Alexander Albon"
           ],
           "legendgroup": "Alexander Albon",
           "marker": {
            "color": "rgb(100,181,205)",
            "size": [
             107.507,
             96.762,
             79.325,
             98.029,
             79.44,
             89.477
            ],
            "sizemode": "area",
            "sizeref": 0.03596189349112426,
            "symbol": "circle"
           },
           "mode": "markers",
           "name": "Alexander Albon",
           "orientation": "h",
           "showlegend": true,
           "type": "scatter",
           "x": [
            107.507,
            96.762,
            79.325,
            98.029,
            79.44,
            89.477
           ],
           "xaxis": "x",
           "y": [
            "5",
            "5",
            "5",
            "5",
            "5",
            "5"
           ],
           "yaxis": "y"
          }
         ],
         "name": "10.0"
        },
        {
         "data": [
          {
           "hovertemplate": "<b>%{hovertext}</b><br><br>Full Name=Lewis Hamilton<br>Points=4.0<br>Fastest Lap Time=%{marker.size}<br>Position=%{y}<extra></extra>",
           "hovertext": [
            "Lewis Hamilton",
            "Lewis Hamilton",
            "Lewis Hamilton",
            "Lewis Hamilton",
            "Lewis Hamilton",
            "Lewis Hamilton",
            "Lewis Hamilton",
            "Lewis Hamilton"
           ],
           "ids": [
            "Lewis Hamilton",
            "Lewis Hamilton",
            "Lewis Hamilton",
            "Lewis Hamilton",
            "Lewis Hamilton",
            "Lewis Hamilton",
            "Lewis Hamilton",
            "Lewis Hamilton"
           ],
           "legendgroup": "Lewis Hamilton",
           "marker": {
            "color": "rgb(76,114,176)",
            "size": [
             95.462,
             81.493,
             74.15899999999999,
             87.963,
             101.512,
             97.73299999999999,
             88.91799999999999,
             96.17299999999999
            ],
            "sizemode": "area",
            "sizeref": 0.03596189349112426,
            "symbol": "circle"
           },
           "mode": "markers",
           "name": "Lewis Hamilton",
           "orientation": "h",
           "showlegend": true,
           "type": "scatter",
           "x": [
            95.462,
            81.493,
            74.15899999999999,
            87.963,
            101.512,
            97.73299999999999,
            88.91799999999999,
            96.17299999999999
           ],
           "xaxis": "x",
           "y": [
            "5",
            "5",
            "5",
            "5",
            "8",
            "8",
            "8",
            "8"
           ],
           "yaxis": "y"
          },
          {
           "hovertemplate": "<b>%{hovertext}</b><br><br>Full Name=Sergio Pérez<br>Points=4.0<br>Fastest Lap Time=%{marker.size}<br>Position=%{y}<extra></extra>",
           "hovertext": [
            "Sergio Pérez",
            "Sergio Pérez",
            "Sergio Pérez",
            "Sergio Pérez",
            "Sergio Pérez",
            "Sergio Pérez",
            "Sergio Pérez",
            "Sergio Pérez",
            "Sergio Pérez",
            "Sergio Pérez",
            "Sergio Pérez",
            "Sergio Pérez",
            "Sergio Pérez",
            "Sergio Pérez",
            "Sergio Pérez",
            "Sergio Pérez",
            "Sergio Pérez"
           ],
           "ids": [
            "Sergio Pérez",
            "Sergio Pérez",
            "Sergio Pérez",
            "Sergio Pérez",
            "Sergio Pérez",
            "Sergio Pérez",
            "Sergio Pérez",
            "Sergio Pérez",
            "Sergio Pérez",
            "Sergio Pérez",
            "Sergio Pérez",
            "Sergio Pérez",
            "Sergio Pérez",
            "Sergio Pérez",
            "Sergio Pérez",
            "Sergio Pérez",
            "Sergio Pérez"
           ],
           "legendgroup": "Sergio Pérez",
           "marker": {
            "color": "rgb(221,132,82)",
            "size": [
             96.569,
             90.84299999999999,
             96.134,
             111.926,
             114.53200000000001,
             98.338,
             82.757,
             86.92,
             111.51700000000001,
             103.925,
             105.249,
             82.105,
             100.851,
             99.992,
             102.816,
             98.70200000000001,
             92.621
            ],
            "sizemode": "area",
            "sizeref": 0.03596189349112426,
            "symbol": "circle"
           },
           "mode": "markers",
           "name": "Sergio Pérez",
           "orientation": "h",
           "showlegend": true,
           "type": "scatter",
           "x": [
            96.569,
            90.84299999999999,
            96.134,
            111.926,
            114.53200000000001,
            98.338,
            82.757,
            86.92,
            111.51700000000001,
            103.925,
            105.249,
            82.105,
            100.851,
            99.992,
            102.816,
            98.70200000000001,
            92.621
           ],
           "xaxis": "x",
           "y": [
            "8",
            "8",
            "8",
            "8",
            "8",
            "8",
            "8",
            "8",
            "8",
            "8",
            "8",
            "8",
            "8",
            "8",
            "8",
            "8",
            "8"
           ],
           "yaxis": "y"
          },
          {
           "hovertemplate": "<b>%{hovertext}</b><br><br>Full Name=Daniel Ricciardo<br>Points=4.0<br>Fastest Lap Time=%{marker.size}<br>Position=%{y}<extra></extra>",
           "hovertext": [
            "Daniel Ricciardo",
            "Daniel Ricciardo",
            "Daniel Ricciardo",
            "Daniel Ricciardo",
            "Daniel Ricciardo",
            "Daniel Ricciardo",
            "Daniel Ricciardo"
           ],
           "ids": [
            "Daniel Ricciardo",
            "Daniel Ricciardo",
            "Daniel Ricciardo",
            "Daniel Ricciardo",
            "Daniel Ricciardo",
            "Daniel Ricciardo",
            "Daniel Ricciardo"
           ],
           "legendgroup": "Daniel Ricciardo",
           "marker": {
            "color": "rgb(85,168,104)",
            "size": [
             95.927,
             73.06,
             88.065,
             85.53200000000001,
             80.146,
             67.832,
             79.532
            ],
            "sizemode": "area",
            "sizeref": 0.03596189349112426,
            "symbol": "circle"
           },
           "mode": "markers",
           "name": "Daniel Ricciardo",
           "orientation": "h",
           "showlegend": true,
           "type": "scatter",
           "x": [
            95.927,
            73.06,
            88.065,
            85.53200000000001,
            80.146,
            67.832,
            79.532
           ],
           "xaxis": "x",
           "y": [
            "8",
            "8",
            "8",
            "8",
            "8",
            "8",
            "8"
           ],
           "yaxis": "y"
          },
          {
           "hovertemplate": "<b>%{hovertext}</b><br><br>Full Name=Valtteri Bottas<br>Points=4.0<br>Fastest Lap Time=%{marker.size}<br>Position=%{y}<extra></extra>",
           "hovertext": [
            "Valtteri Bottas",
            "Valtteri Bottas",
            "Valtteri Bottas",
            "Valtteri Bottas",
            "Valtteri Bottas",
            "Valtteri Bottas",
            "Valtteri Bottas",
            "Valtteri Bottas",
            "Valtteri Bottas"
           ],
           "ids": [
            "Valtteri Bottas",
            "Valtteri Bottas",
            "Valtteri Bottas",
            "Valtteri Bottas",
            "Valtteri Bottas",
            "Valtteri Bottas",
            "Valtteri Bottas",
            "Valtteri Bottas",
            "Valtteri Bottas"
           ],
           "legendgroup": "Valtteri Bottas",
           "marker": {
            "color": "rgb(196,78,82)",
            "size": [
             100.492,
             105.475,
             99.762,
             86.85,
             92.725,
             114.12,
             83.53999999999998,
             87.01899999999999,
             79.331
            ],
            "sizemode": "area",
            "sizeref": 0.03596189349112426,
            "symbol": "circle"
           },
           "mode": "markers",
           "name": "Valtteri Bottas",
           "orientation": "h",
           "showlegend": true,
           "type": "scatter",
           "x": [
            100.492,
            105.475,
            99.762,
            86.85,
            92.725,
            114.12,
            83.53999999999998,
            87.01899999999999,
            79.331
           ],
           "xaxis": "x",
           "y": [
            "8",
            "8",
            "8",
            "8",
            "8",
            "8",
            "8",
            "8",
            "8"
           ],
           "yaxis": "y"
          },
          {
           "hovertemplate": "<b>%{hovertext}</b><br><br>Full Name=Carlos Sainz<br>Points=4.0<br>Fastest Lap Time=%{marker.size}<br>Position=%{y}<extra></extra>",
           "hovertext": [
            "Carlos Sainz",
            "Carlos Sainz",
            "Carlos Sainz",
            "Carlos Sainz",
            "Carlos Sainz",
            "Carlos Sainz",
            "Carlos Sainz",
            "Carlos Sainz",
            "Carlos Sainz",
            "Carlos Sainz",
            "Carlos Sainz",
            "Carlos Sainz",
            "Carlos Sainz",
            "Carlos Sainz"
           ],
           "ids": [
            "Carlos Sainz",
            "Carlos Sainz",
            "Carlos Sainz",
            "Carlos Sainz",
            "Carlos Sainz",
            "Carlos Sainz",
            "Carlos Sainz",
            "Carlos Sainz",
            "Carlos Sainz",
            "Carlos Sainz",
            "Carlos Sainz",
            "Carlos Sainz",
            "Carlos Sainz",
            "Carlos Sainz"
           ],
           "legendgroup": "Carlos Sainz",
           "marker": {
            "color": "rgb(129,114,179)",
            "size": [
             105.507,
             78.51899999999999,
             70.138,
             97.401,
             85.10300000000002,
             87.67699999999998,
             105.866,
             75.666,
             95.63799999999999,
             83.529,
             105.211,
             80.85900000000002,
             68.117,
             100.844
            ],
            "sizemode": "area",
            "sizeref": 0.03596189349112426,
            "symbol": "circle"
           },
           "mode": "markers",
           "name": "Carlos Sainz",
           "orientation": "h",
           "showlegend": true,
           "type": "scatter",
           "x": [
            105.507,
            78.51899999999999,
            70.138,
            97.401,
            85.10300000000002,
            87.67699999999998,
            105.866,
            75.666,
            95.63799999999999,
            83.529,
            105.211,
            80.85900000000002,
            68.117,
            100.844
           ],
           "xaxis": "x",
           "y": [
            "8",
            "8",
            "8",
            "8",
            "8",
            "8",
            "8",
            "8",
            "8",
            "9",
            "8",
            "8",
            "8",
            "8"
           ],
           "yaxis": "y"
          },
          {
           "hovertemplate": "<b>%{hovertext}</b><br><br>Full Name=Max Verstappen<br>Points=4.0<br>Fastest Lap Time=%{marker.size}<br>Position=%{y}<extra></extra>",
           "hovertext": [
            "Max Verstappen",
            "Max Verstappen",
            "Max Verstappen",
            "Max Verstappen",
            "Max Verstappen",
            "Max Verstappen"
           ],
           "ids": [
            "Max Verstappen",
            "Max Verstappen",
            "Max Verstappen",
            "Max Verstappen",
            "Max Verstappen",
            "Max Verstappen"
           ],
           "legendgroup": "Max Verstappen",
           "marker": {
            "color": "rgb(147,120,96)",
            "size": [
             72.34899999999999,
             113.276,
             110.29799999999999,
             100.399,
             106.973,
             83.14299999999999
            ],
            "sizemode": "area",
            "sizeref": 0.03596189349112426,
            "symbol": "circle"
           },
           "mode": "markers",
           "name": "Max Verstappen",
           "orientation": "h",
           "showlegend": true,
           "type": "scatter",
           "x": [
            72.34899999999999,
            113.276,
            110.29799999999999,
            100.399,
            106.973,
            83.14299999999999
           ],
           "xaxis": "x",
           "y": [
            "8",
            "8",
            "8",
            "8",
            "8",
            "8"
           ],
           "yaxis": "y"
          },
          {
           "hovertemplate": "<b>%{hovertext}</b><br><br>Full Name=Pierre Gasly<br>Points=4.0<br>Fastest Lap Time=%{marker.size}<br>Position=%{y}<extra></extra>",
           "hovertext": [
            "Pierre Gasly",
            "Pierre Gasly",
            "Pierre Gasly",
            "Pierre Gasly"
           ],
           "ids": [
            "Pierre Gasly",
            "Pierre Gasly",
            "Pierre Gasly",
            "Pierre Gasly"
           ],
           "legendgroup": "Pierre Gasly",
           "marker": {
            "color": "rgb(218,139,195)",
            "size": [
             95.291,
             76.157,
             105.76899999999999,
             107.839
            ],
            "sizemode": "area",
            "sizeref": 0.03596189349112426,
            "symbol": "circle"
           },
           "mode": "markers",
           "name": "Pierre Gasly",
           "orientation": "h",
           "showlegend": true,
           "type": "scatter",
           "x": [
            95.291,
            76.157,
            105.76899999999999,
            107.839
           ],
           "xaxis": "x",
           "y": [
            "8",
            "8",
            "8",
            "8"
           ],
           "yaxis": "y"
          },
          {
           "hovertemplate": "<b>%{hovertext}</b><br><br>Full Name=Charles Leclerc<br>Points=4.0<br>Fastest Lap Time=%{marker.size}<br>Position=%{y}<extra></extra>",
           "hovertext": [
            "Charles Leclerc"
           ],
           "ids": [
            "Charles Leclerc"
           ],
           "legendgroup": "Charles Leclerc",
           "marker": {
            "color": "rgb(140,140,140)",
            "size": [
             81.229
            ],
            "sizemode": "area",
            "sizeref": 0.03596189349112426,
            "symbol": "circle"
           },
           "mode": "markers",
           "name": "Charles Leclerc",
           "orientation": "h",
           "showlegend": true,
           "type": "scatter",
           "x": [
            81.229
           ],
           "xaxis": "x",
           "y": [
            "8"
           ],
           "yaxis": "y"
          },
          {
           "hovertemplate": "<b>%{hovertext}</b><br><br>Full Name=Lando Norris<br>Points=4.0<br>Fastest Lap Time=%{marker.size}<br>Position=%{y}<extra></extra>",
           "hovertext": [
            "Lando Norris",
            "Lando Norris",
            "Lando Norris",
            "Lando Norris"
           ],
           "ids": [
            "Lando Norris",
            "Lando Norris",
            "Lando Norris",
            "Lando Norris"
           ],
           "legendgroup": "Lando Norris",
           "marker": {
            "color": "rgb(204,185,116)",
            "size": [
             105.39399999999999,
             98.301,
             72.328,
             103.026
            ],
            "sizemode": "area",
            "sizeref": 0.03596189349112426,
            "symbol": "circle"
           },
           "mode": "markers",
           "name": "Lando Norris",
           "orientation": "h",
           "showlegend": true,
           "type": "scatter",
           "x": [
            105.39399999999999,
            98.301,
            72.328,
            103.026
           ],
           "xaxis": "x",
           "y": [
            "8",
            "8",
            "8",
            "8"
           ],
           "yaxis": "y"
          },
          {
           "hovertemplate": "<b>%{hovertext}</b><br><br>Full Name=Alexander Albon<br>Points=4.0<br>Fastest Lap Time=%{marker.size}<br>Position=%{y}<extra></extra>",
           "hovertext": [
            "Alexander Albon",
            "Alexander Albon",
            "Alexander Albon"
           ],
           "ids": [
            "Alexander Albon",
            "Alexander Albon",
            "Alexander Albon"
           ],
           "legendgroup": "Alexander Albon",
           "marker": {
            "color": "rgb(100,181,205)",
            "size": [
             75.607,
             88.689,
             82.194
            ],
            "sizemode": "area",
            "sizeref": 0.03596189349112426,
            "symbol": "circle"
           },
           "mode": "markers",
           "name": "Alexander Albon",
           "orientation": "h",
           "showlegend": true,
           "type": "scatter",
           "x": [
            75.607,
            88.689,
            82.194
           ],
           "xaxis": "x",
           "y": [
            "8",
            "8",
            "8"
           ],
           "yaxis": "y"
          }
         ],
         "name": "4.0"
        },
        {
         "data": [
          {
           "hovertemplate": "<b>%{hovertext}</b><br><br>Full Name=Lewis Hamilton<br>Points=0.0<br>Fastest Lap Time=%{marker.size}<br>Position=%{y}<extra></extra>",
           "hovertext": [
            "Lewis Hamilton",
            "Lewis Hamilton",
            "Lewis Hamilton",
            "Lewis Hamilton",
            "Lewis Hamilton",
            "Lewis Hamilton",
            "Lewis Hamilton",
            "Lewis Hamilton",
            "Lewis Hamilton",
            "Lewis Hamilton",
            "Lewis Hamilton",
            "Lewis Hamilton",
            "Lewis Hamilton",
            "Lewis Hamilton",
            "Lewis Hamilton",
            "Lewis Hamilton",
            "Lewis Hamilton",
            "Lewis Hamilton",
            "Lewis Hamilton",
            "Lewis Hamilton",
            "Lewis Hamilton",
            "Lewis Hamilton",
            "Lewis Hamilton",
            "Lewis Hamilton",
            "Lewis Hamilton",
            "Lewis Hamilton",
            "Lewis Hamilton",
            "Lewis Hamilton",
            "Lewis Hamilton",
            "Lewis Hamilton",
            "Lewis Hamilton",
            "Lewis Hamilton",
            "Lewis Hamilton",
            "Lewis Hamilton",
            "Lewis Hamilton",
            "Lewis Hamilton",
            "Lewis Hamilton"
           ],
           "ids": [
            "Lewis Hamilton",
            "Lewis Hamilton",
            "Lewis Hamilton",
            "Lewis Hamilton",
            "Lewis Hamilton",
            "Lewis Hamilton",
            "Lewis Hamilton",
            "Lewis Hamilton",
            "Lewis Hamilton",
            "Lewis Hamilton",
            "Lewis Hamilton",
            "Lewis Hamilton",
            "Lewis Hamilton",
            "Lewis Hamilton",
            "Lewis Hamilton",
            "Lewis Hamilton",
            "Lewis Hamilton",
            "Lewis Hamilton",
            "Lewis Hamilton",
            "Lewis Hamilton",
            "Lewis Hamilton",
            "Lewis Hamilton",
            "Lewis Hamilton",
            "Lewis Hamilton",
            "Lewis Hamilton",
            "Lewis Hamilton",
            "Lewis Hamilton",
            "Lewis Hamilton",
            "Lewis Hamilton",
            "Lewis Hamilton",
            "Lewis Hamilton",
            "Lewis Hamilton",
            "Lewis Hamilton",
            "Lewis Hamilton",
            "Lewis Hamilton",
            "Lewis Hamilton",
            "Lewis Hamilton"
           ],
           "legendgroup": "Lewis Hamilton",
           "marker": {
            "color": "rgb(76,114,176)",
            "size": [
             95.52,
             77.506,
             77.453,
             79.56,
             93.401,
             103.131,
             89.02,
             83.839,
             75.706,
             88.56200000000001,
             82.57600000000001,
             95.367,
             0,
             84.80199999999998,
             100.367,
             84.35700000000001,
             86.258,
             0,
             110.75,
             97.76100000000001,
             115.647,
             77.209,
             104.007,
             80.09100000000002,
             0,
             115.541,
             107.266,
             78.069,
             87.895,
             101.20200000000001,
             109.947,
             78.94200000000002,
             113.70700000000001,
             112.505,
             0,
             98.595,
             67.241
            ],
            "sizemode": "area",
            "sizeref": 0.03596189349112426,
            "symbol": "circle"
           },
           "mode": "markers",
           "name": "Lewis Hamilton",
           "orientation": "h",
           "showlegend": true,
           "type": "scatter",
           "x": [
            95.52,
            77.506,
            77.453,
            79.56,
            93.401,
            103.131,
            89.02,
            83.839,
            75.706,
            88.56200000000001,
            82.57600000000001,
            95.367,
            0,
            84.80199999999998,
            100.367,
            84.35700000000001,
            86.258,
            0,
            110.75,
            97.76100000000001,
            115.647,
            77.209,
            104.007,
            80.09100000000002,
            0,
            115.541,
            107.266,
            78.069,
            87.895,
            101.20200000000001,
            109.947,
            78.94200000000002,
            113.70700000000001,
            112.505,
            0,
            98.595,
            67.241
           ],
           "xaxis": "x",
           "y": [
            "13",
            0,
            "10",
            "12",
            "9",
            0,
            0,
            "9",
            "12",
            "13",
            "16",
            "18",
            0,
            "12",
            0,
            "14",
            0,
            0,
            0,
            0,
            0,
            0,
            "19",
            0,
            0,
            0,
            0,
            0,
            "12",
            0,
            0,
            0,
            0,
            0,
            0,
            0,
            0
           ],
           "yaxis": "y"
          },
          {
           "hovertemplate": "<b>%{hovertext}</b><br><br>Full Name=Sergio Pérez<br>Points=0.0<br>Fastest Lap Time=%{marker.size}<br>Position=%{y}<extra></extra>",
           "hovertext": [
            "Sergio Pérez",
            "Sergio Pérez",
            "Sergio Pérez",
            "Sergio Pérez",
            "Sergio Pérez",
            "Sergio Pérez",
            "Sergio Pérez",
            "Sergio Pérez",
            "Sergio Pérez",
            "Sergio Pérez",
            "Sergio Pérez",
            "Sergio Pérez",
            "Sergio Pérez",
            "Sergio Pérez",
            "Sergio Pérez",
            "Sergio Pérez",
            "Sergio Pérez",
            "Sergio Pérez",
            "Sergio Pérez",
            "Sergio Pérez",
            "Sergio Pérez",
            "Sergio Pérez",
            "Sergio Pérez",
            "Sergio Pérez",
            "Sergio Pérez",
            "Sergio Pérez",
            "Sergio Pérez",
            "Sergio Pérez",
            "Sergio Pérez",
            "Sergio Pérez",
            "Sergio Pérez",
            "Sergio Pérez",
            "Sergio Pérez",
            "Sergio Pérez",
            "Sergio Pérez",
            "Sergio Pérez",
            "Sergio Pérez",
            "Sergio Pérez",
            "Sergio Pérez",
            "Sergio Pérez",
            "Sergio Pérez",
            "Sergio Pérez",
            "Sergio Pérez",
            "Sergio Pérez",
            "Sergio Pérez",
            "Sergio Pérez",
            "Sergio Pérez",
            "Sergio Pérez",
            "Sergio Pérez",
            "Sergio Pérez",
            "Sergio Pérez",
            "Sergio Pérez",
            "Sergio Pérez",
            "Sergio Pérez",
            "Sergio Pérez",
            "Sergio Pérez",
            "Sergio Pérez",
            "Sergio Pérez",
            "Sergio Pérez",
            "Sergio Pérez",
            "Sergio Pérez",
            "Sergio Pérez",
            "Sergio Pérez",
            "Sergio Pérez",
            "Sergio Pérez",
            "Sergio Pérez",
            "Sergio Pérez",
            "Sergio Pérez",
            "Sergio Pérez",
            "Sergio Pérez",
            "Sergio Pérez",
            "Sergio Pérez",
            "Sergio Pérez",
            "Sergio Pérez",
            "Sergio Pérez"
           ],
           "ids": [
            "Sergio Pérez",
            "Sergio Pérez",
            "Sergio Pérez",
            "Sergio Pérez",
            "Sergio Pérez",
            "Sergio Pérez",
            "Sergio Pérez",
            "Sergio Pérez",
            "Sergio Pérez",
            "Sergio Pérez",
            "Sergio Pérez",
            "Sergio Pérez",
            "Sergio Pérez",
            "Sergio Pérez",
            "Sergio Pérez",
            "Sergio Pérez",
            "Sergio Pérez",
            "Sergio Pérez",
            "Sergio Pérez",
            "Sergio Pérez",
            "Sergio Pérez",
            "Sergio Pérez",
            "Sergio Pérez",
            "Sergio Pérez",
            "Sergio Pérez",
            "Sergio Pérez",
            "Sergio Pérez",
            "Sergio Pérez",
            "Sergio Pérez",
            "Sergio Pérez",
            "Sergio Pérez",
            "Sergio Pérez",
            "Sergio Pérez",
            "Sergio Pérez",
            "Sergio Pérez",
            "Sergio Pérez",
            "Sergio Pérez",
            "Sergio Pérez",
            "Sergio Pérez",
            "Sergio Pérez",
            "Sergio Pérez",
            "Sergio Pérez",
            "Sergio Pérez",
            "Sergio Pérez",
            "Sergio Pérez",
            "Sergio Pérez",
            "Sergio Pérez",
            "Sergio Pérez",
            "Sergio Pérez",
            "Sergio Pérez",
            "Sergio Pérez",
            "Sergio Pérez",
            "Sergio Pérez",
            "Sergio Pérez",
            "Sergio Pérez",
            "Sergio Pérez",
            "Sergio Pérez",
            "Sergio Pérez",
            "Sergio Pérez",
            "Sergio Pérez",
            "Sergio Pérez",
            "Sergio Pérez",
            "Sergio Pérez",
            "Sergio Pérez",
            "Sergio Pérez",
            "Sergio Pérez",
            "Sergio Pérez",
            "Sergio Pérez",
            "Sergio Pérez",
            "Sergio Pérez",
            "Sergio Pérez",
            "Sergio Pérez",
            "Sergio Pérez",
            "Sergio Pérez",
            "Sergio Pérez"
           ],
           "legendgroup": "Sergio Pérez",
           "marker": {
            "color": "rgb(221,132,82)",
            "size": [
             89.962,
             103.29799999999999,
             101.64299999999999,
             90.79700000000001,
             103.949,
             97.03299999999999,
             84.999,
             114.244,
             89.40299999999998,
             102.425,
             104.566,
             77.78,
             101.071,
             98.146,
             88.605,
             77.29599999999998,
             99.781,
             85.21799999999999,
             0,
             98.98299999999999,
             102.495,
             92.208,
             105.41,
             100.70100000000001,
             0,
             89.926,
             101.281,
             79.53,
             77.369,
             96.131,
             113.472,
             87.60700000000001,
             95.845,
             0,
             0,
             79.491,
             98.716,
             90.28,
             0,
             74.55,
             105.345,
             103.512,
             91.932,
             78.889,
             88.499,
             98.591,
             75.97,
             92.78,
             96.067,
             101.846,
             70.12,
             85.021,
             74.82,
             105.588,
             0,
             108.3,
             87.633,
             95.266,
             97.67299999999999,
             77.54599999999998,
             75.1,
             98.319,
             83.26299999999999,
             105.389,
             83.545,
             88.485,
             81.85900000000002,
             76.613,
             76.314,
             95.014,
             69.061,
             89.456,
             0,
             81.73400000000002,
             106.683
            ],
            "sizemode": "area",
            "sizeref": 0.03596189349112426,
            "symbol": "circle"
           },
           "mode": "markers",
           "name": "Sergio Pérez",
           "orientation": "h",
           "showlegend": true,
           "type": "scatter",
           "x": [
            89.962,
            103.29799999999999,
            101.64299999999999,
            90.79700000000001,
            103.949,
            97.03299999999999,
            84.999,
            114.244,
            89.40299999999998,
            102.425,
            104.566,
            77.78,
            101.071,
            98.146,
            88.605,
            77.29599999999998,
            99.781,
            85.21799999999999,
            0,
            98.98299999999999,
            102.495,
            92.208,
            105.41,
            100.70100000000001,
            0,
            89.926,
            101.281,
            79.53,
            77.369,
            96.131,
            113.472,
            87.60700000000001,
            95.845,
            0,
            0,
            79.491,
            98.716,
            90.28,
            0,
            74.55,
            105.345,
            103.512,
            91.932,
            78.889,
            88.499,
            98.591,
            75.97,
            92.78,
            96.067,
            101.846,
            70.12,
            85.021,
            74.82,
            105.588,
            0,
            108.3,
            87.633,
            95.266,
            97.67299999999999,
            77.54599999999998,
            75.1,
            98.319,
            83.26299999999999,
            105.389,
            83.545,
            88.485,
            81.85900000000002,
            76.613,
            76.314,
            95.014,
            69.061,
            89.456,
            0,
            81.73400000000002,
            106.683
           ],
           "xaxis": "x",
           "y": [
            0,
            0,
            "17",
            "14",
            "11",
            "11",
            "15",
            0,
            0,
            "16",
            "11",
            "13",
            "11",
            "11",
            0,
            "11",
            0,
            "14",
            0,
            0,
            "11",
            0,
            "15",
            "11",
            0,
            "11",
            "11",
            "16",
            "11",
            "20",
            "11",
            "12",
            "15",
            0,
            0,
            "11",
            "11",
            0,
            0,
            "15",
            "13",
            "11",
            "13",
            "11",
            0,
            "12",
            "12",
            "13",
            "16",
            "11",
            "17",
            "11",
            "13",
            0,
            0,
            "17",
            "11",
            "16",
            "12",
            "12",
            "14",
            0,
            "14",
            "16",
            0,
            "13",
            "15",
            "13",
            "12",
            "12",
            "11",
            "17",
            0,
            "11",
            0
           ],
           "yaxis": "y"
          },
          {
           "hovertemplate": "<b>%{hovertext}</b><br><br>Full Name=Daniel Ricciardo<br>Points=0.0<br>Fastest Lap Time=%{marker.size}<br>Position=%{y}<extra></extra>",
           "hovertext": [
            "Daniel Ricciardo",
            "Daniel Ricciardo",
            "Daniel Ricciardo",
            "Daniel Ricciardo",
            "Daniel Ricciardo",
            "Daniel Ricciardo",
            "Daniel Ricciardo",
            "Daniel Ricciardo",
            "Daniel Ricciardo",
            "Daniel Ricciardo",
            "Daniel Ricciardo",
            "Daniel Ricciardo",
            "Daniel Ricciardo",
            "Daniel Ricciardo",
            "Daniel Ricciardo",
            "Daniel Ricciardo",
            "Daniel Ricciardo",
            "Daniel Ricciardo",
            "Daniel Ricciardo",
            "Daniel Ricciardo",
            "Daniel Ricciardo",
            "Daniel Ricciardo",
            "Daniel Ricciardo",
            "Daniel Ricciardo",
            "Daniel Ricciardo",
            "Daniel Ricciardo",
            "Daniel Ricciardo",
            "Daniel Ricciardo",
            "Daniel Ricciardo",
            "Daniel Ricciardo",
            "Daniel Ricciardo",
            "Daniel Ricciardo",
            "Daniel Ricciardo",
            "Daniel Ricciardo",
            "Daniel Ricciardo",
            "Daniel Ricciardo",
            "Daniel Ricciardo",
            "Daniel Ricciardo",
            "Daniel Ricciardo",
            "Daniel Ricciardo",
            "Daniel Ricciardo",
            "Daniel Ricciardo",
            "Daniel Ricciardo",
            "Daniel Ricciardo",
            "Daniel Ricciardo",
            "Daniel Ricciardo",
            "Daniel Ricciardo",
            "Daniel Ricciardo",
            "Daniel Ricciardo",
            "Daniel Ricciardo",
            "Daniel Ricciardo",
            "Daniel Ricciardo",
            "Daniel Ricciardo",
            "Daniel Ricciardo",
            "Daniel Ricciardo",
            "Daniel Ricciardo",
            "Daniel Ricciardo",
            "Daniel Ricciardo",
            "Daniel Ricciardo",
            "Daniel Ricciardo",
            "Daniel Ricciardo",
            "Daniel Ricciardo",
            "Daniel Ricciardo",
            "Daniel Ricciardo",
            "Daniel Ricciardo",
            "Daniel Ricciardo",
            "Daniel Ricciardo",
            "Daniel Ricciardo",
            "Daniel Ricciardo",
            "Daniel Ricciardo",
            "Daniel Ricciardo",
            "Daniel Ricciardo",
            "Daniel Ricciardo",
            "Daniel Ricciardo",
            "Daniel Ricciardo",
            "Daniel Ricciardo",
            "Daniel Ricciardo"
           ],
           "ids": [
            "Daniel Ricciardo",
            "Daniel Ricciardo",
            "Daniel Ricciardo",
            "Daniel Ricciardo",
            "Daniel Ricciardo",
            "Daniel Ricciardo",
            "Daniel Ricciardo",
            "Daniel Ricciardo",
            "Daniel Ricciardo",
            "Daniel Ricciardo",
            "Daniel Ricciardo",
            "Daniel Ricciardo",
            "Daniel Ricciardo",
            "Daniel Ricciardo",
            "Daniel Ricciardo",
            "Daniel Ricciardo",
            "Daniel Ricciardo",
            "Daniel Ricciardo",
            "Daniel Ricciardo",
            "Daniel Ricciardo",
            "Daniel Ricciardo",
            "Daniel Ricciardo",
            "Daniel Ricciardo",
            "Daniel Ricciardo",
            "Daniel Ricciardo",
            "Daniel Ricciardo",
            "Daniel Ricciardo",
            "Daniel Ricciardo",
            "Daniel Ricciardo",
            "Daniel Ricciardo",
            "Daniel Ricciardo",
            "Daniel Ricciardo",
            "Daniel Ricciardo",
            "Daniel Ricciardo",
            "Daniel Ricciardo",
            "Daniel Ricciardo",
            "Daniel Ricciardo",
            "Daniel Ricciardo",
            "Daniel Ricciardo",
            "Daniel Ricciardo",
            "Daniel Ricciardo",
            "Daniel Ricciardo",
            "Daniel Ricciardo",
            "Daniel Ricciardo",
            "Daniel Ricciardo",
            "Daniel Ricciardo",
            "Daniel Ricciardo",
            "Daniel Ricciardo",
            "Daniel Ricciardo",
            "Daniel Ricciardo",
            "Daniel Ricciardo",
            "Daniel Ricciardo",
            "Daniel Ricciardo",
            "Daniel Ricciardo",
            "Daniel Ricciardo",
            "Daniel Ricciardo",
            "Daniel Ricciardo",
            "Daniel Ricciardo",
            "Daniel Ricciardo",
            "Daniel Ricciardo",
            "Daniel Ricciardo",
            "Daniel Ricciardo",
            "Daniel Ricciardo",
            "Daniel Ricciardo",
            "Daniel Ricciardo",
            "Daniel Ricciardo",
            "Daniel Ricciardo",
            "Daniel Ricciardo",
            "Daniel Ricciardo",
            "Daniel Ricciardo",
            "Daniel Ricciardo",
            "Daniel Ricciardo",
            "Daniel Ricciardo",
            "Daniel Ricciardo",
            "Daniel Ricciardo",
            "Daniel Ricciardo",
            "Daniel Ricciardo"
           ],
           "legendgroup": "Daniel Ricciardo",
           "marker": {
            "color": "rgb(85,168,104)",
            "size": [
             100.91,
             100.48899999999999,
             88.876,
             119.831,
             92.01299999999999,
             119.064,
             101.43700000000001,
             104.87,
             91.67399999999999,
             108.274,
             79.649,
             101.756,
             101.251,
             97.903,
             88.587,
             79.752,
             76.60900000000002,
             103.67399999999999,
             95.448,
             80.066,
             86.508,
             88.62100000000001,
             89.44,
             100.772,
             79.30799999999998,
             90.881,
             102.581,
             99.579,
             79.426,
             78.257,
             95.98200000000001,
             86.863,
             113.052,
             102.947,
             95.02,
             106.042,
             102.119,
             0,
             104.675,
             75.387,
             79.06,
             99.94,
             116.26299999999999,
             98.898,
             101.88799999999999,
             76.313,
             101.179,
             89.447,
             102.285,
             0,
             100.102,
             82.789,
             102.757,
             0,
             105.419,
             67.59100000000001,
             78.262,
             109.242,
             85.69200000000002,
             100.433,
             79.462,
             89.848,
             96.697,
             106.76700000000001,
             80.615,
             95.15,
             68.01899999999999,
             92.654,
             80.839,
             110.45100000000001,
             105.915,
             101.284,
             93.48100000000001,
             101.19,
             70.61,
             91.16799999999999,
             82.464
            ],
            "sizemode": "area",
            "sizeref": 0.03596189349112426,
            "symbol": "circle"
           },
           "mode": "markers",
           "name": "Daniel Ricciardo",
           "orientation": "h",
           "showlegend": true,
           "type": "scatter",
           "x": [
            100.91,
            100.48899999999999,
            88.876,
            119.831,
            92.01299999999999,
            119.064,
            101.43700000000001,
            104.87,
            91.67399999999999,
            108.274,
            79.649,
            101.756,
            101.251,
            97.903,
            88.587,
            79.752,
            76.60900000000002,
            103.67399999999999,
            95.448,
            80.066,
            86.508,
            88.62100000000001,
            89.44,
            100.772,
            79.30799999999998,
            90.881,
            102.581,
            99.579,
            79.426,
            78.257,
            95.98200000000001,
            86.863,
            113.052,
            102.947,
            95.02,
            106.042,
            102.119,
            0,
            104.675,
            75.387,
            79.06,
            99.94,
            116.26299999999999,
            98.898,
            101.88799999999999,
            76.313,
            101.179,
            89.447,
            102.285,
            0,
            100.102,
            82.789,
            102.757,
            0,
            105.419,
            67.59100000000001,
            78.262,
            109.242,
            85.69200000000002,
            100.433,
            79.462,
            89.848,
            96.697,
            106.76700000000001,
            80.615,
            95.15,
            68.01899999999999,
            92.654,
            80.839,
            110.45100000000001,
            105.915,
            101.284,
            93.48100000000001,
            101.19,
            70.61,
            91.16799999999999,
            82.464
           ],
           "xaxis": "x",
           "y": [
            "19",
            "19",
            "18",
            0,
            0,
            "19",
            "22",
            "19",
            "18",
            0,
            "20",
            "12",
            "17",
            "15",
            "13",
            0,
            "14",
            "11",
            "13",
            "13",
            "15",
            "12",
            "13",
            "12",
            "13",
            0,
            "18",
            "16",
            0,
            "15",
            "12",
            "13",
            0,
            "19",
            "13",
            "16",
            "11",
            0,
            0,
            0,
            "13",
            0,
            0,
            "15",
            "15",
            "11",
            "11",
            0,
            0,
            0,
            0,
            0,
            0,
            0,
            0,
            0,
            0,
            0,
            0,
            0,
            0,
            0,
            0,
            0,
            "12",
            "11",
            "12",
            0,
            "14",
            "14",
            "14",
            0,
            0,
            "11",
            0,
            "14",
            "11"
           ],
           "yaxis": "y"
          },
          {
           "hovertemplate": "<b>%{hovertext}</b><br><br>Full Name=Valtteri Bottas<br>Points=0.0<br>Fastest Lap Time=%{marker.size}<br>Position=%{y}<extra></extra>",
           "hovertext": [
            "Valtteri Bottas",
            "Valtteri Bottas",
            "Valtteri Bottas",
            "Valtteri Bottas",
            "Valtteri Bottas",
            "Valtteri Bottas",
            "Valtteri Bottas",
            "Valtteri Bottas",
            "Valtteri Bottas",
            "Valtteri Bottas",
            "Valtteri Bottas",
            "Valtteri Bottas",
            "Valtteri Bottas",
            "Valtteri Bottas",
            "Valtteri Bottas",
            "Valtteri Bottas",
            "Valtteri Bottas",
            "Valtteri Bottas",
            "Valtteri Bottas",
            "Valtteri Bottas",
            "Valtteri Bottas",
            "Valtteri Bottas",
            "Valtteri Bottas",
            "Valtteri Bottas",
            "Valtteri Bottas",
            "Valtteri Bottas",
            "Valtteri Bottas",
            "Valtteri Bottas",
            "Valtteri Bottas",
            "Valtteri Bottas",
            "Valtteri Bottas",
            "Valtteri Bottas",
            "Valtteri Bottas",
            "Valtteri Bottas",
            "Valtteri Bottas",
            "Valtteri Bottas",
            "Valtteri Bottas",
            "Valtteri Bottas",
            "Valtteri Bottas"
           ],
           "ids": [
            "Valtteri Bottas",
            "Valtteri Bottas",
            "Valtteri Bottas",
            "Valtteri Bottas",
            "Valtteri Bottas",
            "Valtteri Bottas",
            "Valtteri Bottas",
            "Valtteri Bottas",
            "Valtteri Bottas",
            "Valtteri Bottas",
            "Valtteri Bottas",
            "Valtteri Bottas",
            "Valtteri Bottas",
            "Valtteri Bottas",
            "Valtteri Bottas",
            "Valtteri Bottas",
            "Valtteri Bottas",
            "Valtteri Bottas",
            "Valtteri Bottas",
            "Valtteri Bottas",
            "Valtteri Bottas",
            "Valtteri Bottas",
            "Valtteri Bottas",
            "Valtteri Bottas",
            "Valtteri Bottas",
            "Valtteri Bottas",
            "Valtteri Bottas",
            "Valtteri Bottas",
            "Valtteri Bottas",
            "Valtteri Bottas",
            "Valtteri Bottas",
            "Valtteri Bottas",
            "Valtteri Bottas",
            "Valtteri Bottas",
            "Valtteri Bottas",
            "Valtteri Bottas",
            "Valtteri Bottas",
            "Valtteri Bottas",
            "Valtteri Bottas"
           ],
           "legendgroup": "Valtteri Bottas",
           "marker": {
            "color": "rgb(196,78,82)",
            "size": [
             90.652,
             101.373,
             98.2,
             98.192,
             89.74700000000001,
             80.92099999999998,
             78.00399999999999,
             96.31200000000001,
             93.972,
             87.12700000000001,
             112.68799999999999,
             87.166,
             111.706,
             103.869,
             97.85600000000001,
             88.928,
             104.351,
             76.84,
             81.105,
             112.515,
             0,
             78.944,
             87.05799999999998,
             101.134,
             151.939,
             106.464,
             79.223,
             97.383,
             111.368,
             104.977,
             86.06200000000001,
             107.837,
             84.696,
             105.149,
             69.044,
             78.27199999999998,
             70.69800000000002,
             89.265,
             91.884
            ],
            "sizemode": "area",
            "sizeref": 0.03596189349112426,
            "symbol": "circle"
           },
           "mode": "markers",
           "name": "Valtteri Bottas",
           "orientation": "h",
           "showlegend": true,
           "type": "scatter",
           "x": [
            90.652,
            101.373,
            98.2,
            98.192,
            89.74700000000001,
            80.92099999999998,
            78.00399999999999,
            96.31200000000001,
            93.972,
            87.12700000000001,
            112.68799999999999,
            87.166,
            111.706,
            103.869,
            97.85600000000001,
            88.928,
            104.351,
            76.84,
            81.105,
            112.515,
            0,
            78.944,
            87.05799999999998,
            101.134,
            151.939,
            106.464,
            79.223,
            97.383,
            111.368,
            104.977,
            86.06200000000001,
            107.837,
            84.696,
            105.149,
            69.044,
            78.27199999999998,
            70.69800000000002,
            89.265,
            91.884
           ],
           "xaxis": "x",
           "y": [
            "14",
            "11",
            "13",
            "14",
            "16",
            "12",
            "14",
            "12",
            "16",
            0,
            "15",
            "15",
            "13",
            "12",
            "17",
            "16",
            "15",
            0,
            0,
            "11",
            0,
            "14",
            "13",
            "12",
            0,
            "13",
            "12",
            "14",
            0,
            "16",
            "11",
            0,
            0,
            0,
            0,
            0,
            0,
            "11",
            0
           ],
           "yaxis": "y"
          },
          {
           "hovertemplate": "<b>%{hovertext}</b><br><br>Full Name=Carlos Sainz<br>Points=0.0<br>Fastest Lap Time=%{marker.size}<br>Position=%{y}<extra></extra>",
           "hovertext": [
            "Carlos Sainz",
            "Carlos Sainz",
            "Carlos Sainz",
            "Carlos Sainz",
            "Carlos Sainz",
            "Carlos Sainz",
            "Carlos Sainz",
            "Carlos Sainz",
            "Carlos Sainz",
            "Carlos Sainz",
            "Carlos Sainz",
            "Carlos Sainz",
            "Carlos Sainz",
            "Carlos Sainz",
            "Carlos Sainz",
            "Carlos Sainz",
            "Carlos Sainz",
            "Carlos Sainz",
            "Carlos Sainz",
            "Carlos Sainz",
            "Carlos Sainz",
            "Carlos Sainz",
            "Carlos Sainz",
            "Carlos Sainz",
            "Carlos Sainz",
            "Carlos Sainz",
            "Carlos Sainz",
            "Carlos Sainz",
            "Carlos Sainz",
            "Carlos Sainz",
            "Carlos Sainz",
            "Carlos Sainz",
            "Carlos Sainz",
            "Carlos Sainz",
            "Carlos Sainz",
            "Carlos Sainz",
            "Carlos Sainz",
            "Carlos Sainz",
            "Carlos Sainz",
            "Carlos Sainz",
            "Carlos Sainz",
            "Carlos Sainz",
            "Carlos Sainz",
            "Carlos Sainz",
            "Carlos Sainz",
            "Carlos Sainz",
            "Carlos Sainz",
            "Carlos Sainz",
            "Carlos Sainz",
            "Carlos Sainz",
            "Carlos Sainz",
            "Carlos Sainz",
            "Carlos Sainz",
            "Carlos Sainz"
           ],
           "ids": [
            "Carlos Sainz",
            "Carlos Sainz",
            "Carlos Sainz",
            "Carlos Sainz",
            "Carlos Sainz",
            "Carlos Sainz",
            "Carlos Sainz",
            "Carlos Sainz",
            "Carlos Sainz",
            "Carlos Sainz",
            "Carlos Sainz",
            "Carlos Sainz",
            "Carlos Sainz",
            "Carlos Sainz",
            "Carlos Sainz",
            "Carlos Sainz",
            "Carlos Sainz",
            "Carlos Sainz",
            "Carlos Sainz",
            "Carlos Sainz",
            "Carlos Sainz",
            "Carlos Sainz",
            "Carlos Sainz",
            "Carlos Sainz",
            "Carlos Sainz",
            "Carlos Sainz",
            "Carlos Sainz",
            "Carlos Sainz",
            "Carlos Sainz",
            "Carlos Sainz",
            "Carlos Sainz",
            "Carlos Sainz",
            "Carlos Sainz",
            "Carlos Sainz",
            "Carlos Sainz",
            "Carlos Sainz",
            "Carlos Sainz",
            "Carlos Sainz",
            "Carlos Sainz",
            "Carlos Sainz",
            "Carlos Sainz",
            "Carlos Sainz",
            "Carlos Sainz",
            "Carlos Sainz",
            "Carlos Sainz",
            "Carlos Sainz",
            "Carlos Sainz",
            "Carlos Sainz",
            "Carlos Sainz",
            "Carlos Sainz",
            "Carlos Sainz",
            "Carlos Sainz",
            "Carlos Sainz",
            "Carlos Sainz"
           ],
           "legendgroup": "Carlos Sainz",
           "marker": {
            "color": "rgb(129,114,179)",
            "size": [
             102.652,
             100.651,
             78.811,
             73.234,
             98.697,
             88.611,
             114.68,
             87.51,
             102.258,
             82.17200000000001,
             0,
             106.998,
             98.40799999999999,
             102.205,
             108.804,
             79.957,
             0,
             86.751,
             110.53200000000001,
             99.243,
             97.723,
             84.46700000000001,
             106.591,
             98.026,
             0,
             69.15,
             0,
             86.21000000000002,
             98.123,
             0,
             81.36,
             73.625,
             103.37799999999999,
             95.535,
             68.766,
             94.602,
             77.43,
             108.67,
             99.73100000000001,
             82.38600000000001,
             72.169,
             90.899,
             95.586,
             97.502,
             76.471,
             0,
             85.637,
             105.969,
             80.311,
             89.94800000000002,
             90.556,
             0,
             134.10299999999998,
             0
            ],
            "sizemode": "area",
            "sizeref": 0.03596189349112426,
            "symbol": "circle"
           },
           "mode": "markers",
           "name": "Carlos Sainz",
           "orientation": "h",
           "showlegend": true,
           "type": "scatter",
           "x": [
            102.652,
            100.651,
            78.811,
            73.234,
            98.697,
            88.611,
            114.68,
            87.51,
            102.258,
            82.17200000000001,
            0,
            106.998,
            98.40799999999999,
            102.205,
            108.804,
            79.957,
            0,
            86.751,
            110.53200000000001,
            99.243,
            97.723,
            84.46700000000001,
            106.591,
            98.026,
            0,
            69.15,
            0,
            86.21000000000002,
            98.123,
            0,
            81.36,
            73.625,
            103.37799999999999,
            95.535,
            68.766,
            94.602,
            77.43,
            108.67,
            99.73100000000001,
            82.38600000000001,
            72.169,
            90.899,
            95.586,
            97.502,
            76.471,
            0,
            85.637,
            105.969,
            80.311,
            89.94800000000002,
            90.556,
            0,
            134.10299999999998,
            0
           ],
           "xaxis": "x",
           "y": [
            "13",
            0,
            "12",
            0,
            0,
            0,
            0,
            "11",
            0,
            "13",
            0,
            "11",
            0,
            "12",
            0,
            "14",
            0,
            "15",
            "14",
            "11",
            "17",
            "16",
            0,
            0,
            0,
            0,
            0,
            "14",
            0,
            0,
            0,
            "11",
            0,
            "11",
            "12",
            0,
            "12",
            "11",
            "17",
            0,
            "12",
            0,
            0,
            "14",
            "11",
            0,
            0,
            "12",
            "13",
            "13",
            "13",
            0,
            0,
            0
           ],
           "yaxis": "y"
          },
          {
           "hovertemplate": "<b>%{hovertext}</b><br><br>Full Name=Max Verstappen<br>Points=0.0<br>Fastest Lap Time=%{marker.size}<br>Position=%{y}<extra></extra>",
           "hovertext": [
            "Max Verstappen",
            "Max Verstappen",
            "Max Verstappen",
            "Max Verstappen",
            "Max Verstappen",
            "Max Verstappen",
            "Max Verstappen",
            "Max Verstappen",
            "Max Verstappen",
            "Max Verstappen",
            "Max Verstappen",
            "Max Verstappen",
            "Max Verstappen",
            "Max Verstappen",
            "Max Verstappen",
            "Max Verstappen",
            "Max Verstappen",
            "Max Verstappen",
            "Max Verstappen",
            "Max Verstappen",
            "Max Verstappen",
            "Max Verstappen",
            "Max Verstappen",
            "Max Verstappen",
            "Max Verstappen",
            "Max Verstappen",
            "Max Verstappen",
            "Max Verstappen",
            "Max Verstappen"
           ],
           "ids": [
            "Max Verstappen",
            "Max Verstappen",
            "Max Verstappen",
            "Max Verstappen",
            "Max Verstappen",
            "Max Verstappen",
            "Max Verstappen",
            "Max Verstappen",
            "Max Verstappen",
            "Max Verstappen",
            "Max Verstappen",
            "Max Verstappen",
            "Max Verstappen",
            "Max Verstappen",
            "Max Verstappen",
            "Max Verstappen",
            "Max Verstappen",
            "Max Verstappen",
            "Max Verstappen",
            "Max Verstappen",
            "Max Verstappen",
            "Max Verstappen",
            "Max Verstappen",
            "Max Verstappen",
            "Max Verstappen",
            "Max Verstappen",
            "Max Verstappen",
            "Max Verstappen",
            "Max Verstappen"
           ],
           "legendgroup": "Max Verstappen",
           "marker": {
            "color": "rgb(147,120,96)",
            "size": [
             94.295,
             103.88,
             99.60700000000001,
             91.896,
             78.873,
             78.616,
             140.776,
             87.39,
             105.746,
             102.029,
             86.56299999999999,
             113.281,
             102.42399999999999,
             96.681,
             0,
             77.187,
             106.398,
             0,
             111.022,
             0,
             0,
             105.771,
             92.007,
             83.985,
             0,
             97.249,
             69.351,
             85.539,
             0
            ],
            "sizemode": "area",
            "sizeref": 0.03596189349112426,
            "symbol": "circle"
           },
           "mode": "markers",
           "name": "Max Verstappen",
           "orientation": "h",
           "showlegend": true,
           "type": "scatter",
           "x": [
            94.295,
            103.88,
            99.60700000000001,
            91.896,
            78.873,
            78.616,
            140.776,
            87.39,
            105.746,
            102.029,
            86.56299999999999,
            113.281,
            102.42399999999999,
            96.681,
            0,
            77.187,
            106.398,
            0,
            111.022,
            0,
            0,
            105.771,
            92.007,
            83.985,
            0,
            97.249,
            69.351,
            85.539,
            0
           ],
           "xaxis": "x",
           "y": [
            0,
            "17",
            0,
            "11",
            0,
            "15",
            0,
            "12",
            "16",
            0,
            0,
            "11",
            0,
            0,
            0,
            0,
            0,
            0,
            0,
            0,
            0,
            0,
            0,
            0,
            0,
            0,
            0,
            0,
            0
           ],
           "yaxis": "y"
          },
          {
           "hovertemplate": "<b>%{hovertext}</b><br><br>Full Name=Pierre Gasly<br>Points=0.0<br>Fastest Lap Time=%{marker.size}<br>Position=%{y}<extra></extra>",
           "hovertext": [
            "Pierre Gasly",
            "Pierre Gasly",
            "Pierre Gasly",
            "Pierre Gasly",
            "Pierre Gasly",
            "Pierre Gasly",
            "Pierre Gasly",
            "Pierre Gasly",
            "Pierre Gasly",
            "Pierre Gasly",
            "Pierre Gasly",
            "Pierre Gasly",
            "Pierre Gasly",
            "Pierre Gasly",
            "Pierre Gasly",
            "Pierre Gasly",
            "Pierre Gasly",
            "Pierre Gasly",
            "Pierre Gasly",
            "Pierre Gasly",
            "Pierre Gasly",
            "Pierre Gasly",
            "Pierre Gasly",
            "Pierre Gasly",
            "Pierre Gasly",
            "Pierre Gasly",
            "Pierre Gasly",
            "Pierre Gasly",
            "Pierre Gasly",
            "Pierre Gasly",
            "Pierre Gasly",
            "Pierre Gasly"
           ],
           "ids": [
            "Pierre Gasly",
            "Pierre Gasly",
            "Pierre Gasly",
            "Pierre Gasly",
            "Pierre Gasly",
            "Pierre Gasly",
            "Pierre Gasly",
            "Pierre Gasly",
            "Pierre Gasly",
            "Pierre Gasly",
            "Pierre Gasly",
            "Pierre Gasly",
            "Pierre Gasly",
            "Pierre Gasly",
            "Pierre Gasly",
            "Pierre Gasly",
            "Pierre Gasly",
            "Pierre Gasly",
            "Pierre Gasly",
            "Pierre Gasly",
            "Pierre Gasly",
            "Pierre Gasly",
            "Pierre Gasly",
            "Pierre Gasly",
            "Pierre Gasly",
            "Pierre Gasly",
            "Pierre Gasly",
            "Pierre Gasly",
            "Pierre Gasly",
            "Pierre Gasly",
            "Pierre Gasly",
            "Pierre Gasly"
           ],
           "legendgroup": "Pierre Gasly",
           "marker": {
            "color": "rgb(218,139,195)",
            "size": [
             97.17,
             94.53299999999999,
             80.85900000000002,
             73.32300000000002,
             103.844,
             90.649,
             98.367,
             108.035,
             0,
             75.699,
             0,
             69.295,
             93.465,
             77.762,
             84.059,
             106.06299999999999,
             104.071,
             94.133,
             100.098,
             73.822,
             103.988,
             87.229,
             105.712,
             77.495,
             83.885,
             98.60600000000001,
             100.85,
             102.414,
             67.827,
             83.939,
             90.09200000000001,
             0
            ],
            "sizemode": "area",
            "sizeref": 0.03596189349112426,
            "symbol": "circle"
           },
           "mode": "markers",
           "name": "Pierre Gasly",
           "orientation": "h",
           "showlegend": true,
           "type": "scatter",
           "x": [
            97.17,
            94.53299999999999,
            80.85900000000002,
            73.32300000000002,
            103.844,
            90.649,
            98.367,
            108.035,
            0,
            75.699,
            0,
            69.295,
            93.465,
            77.762,
            84.059,
            106.06299999999999,
            104.071,
            94.133,
            100.098,
            73.822,
            103.988,
            87.229,
            105.712,
            77.495,
            83.885,
            98.60600000000001,
            100.85,
            102.414,
            67.827,
            83.939,
            90.09200000000001,
            0
           ],
           "xaxis": "x",
           "y": [
            "14",
            "13",
            "13",
            "12",
            "16",
            0,
            "18",
            "12",
            0,
            "11",
            0,
            "11",
            "13",
            "14",
            "15",
            "13",
            0,
            "11",
            "12",
            "13",
            0,
            "11",
            0,
            "14",
            "11",
            "14",
            "16",
            "18",
            "15",
            0,
            "11",
            0
           ],
           "yaxis": "y"
          },
          {
           "hovertemplate": "<b>%{hovertext}</b><br><br>Full Name=Charles Leclerc<br>Points=0.0<br>Fastest Lap Time=%{marker.size}<br>Position=%{y}<extra></extra>",
           "hovertext": [
            "Charles Leclerc",
            "Charles Leclerc",
            "Charles Leclerc",
            "Charles Leclerc",
            "Charles Leclerc",
            "Charles Leclerc",
            "Charles Leclerc",
            "Charles Leclerc",
            "Charles Leclerc",
            "Charles Leclerc",
            "Charles Leclerc",
            "Charles Leclerc",
            "Charles Leclerc",
            "Charles Leclerc",
            "Charles Leclerc",
            "Charles Leclerc",
            "Charles Leclerc",
            "Charles Leclerc",
            "Charles Leclerc"
           ],
           "ids": [
            "Charles Leclerc",
            "Charles Leclerc",
            "Charles Leclerc",
            "Charles Leclerc",
            "Charles Leclerc",
            "Charles Leclerc",
            "Charles Leclerc",
            "Charles Leclerc",
            "Charles Leclerc",
            "Charles Leclerc",
            "Charles Leclerc",
            "Charles Leclerc",
            "Charles Leclerc",
            "Charles Leclerc",
            "Charles Leclerc",
            "Charles Leclerc",
            "Charles Leclerc",
            "Charles Leclerc",
            "Charles Leclerc"
           ],
           "legendgroup": "Charles Leclerc",
           "marker": {
            "color": "rgb(140,140,140)",
            "size": [
             88.759,
             95.075,
             98.808,
             77.71000000000002,
             95.209,
             77.852,
             0,
             0,
             83.76799999999999,
             94.515,
             100.522,
             79.15100000000001,
             87.697,
             71.423,
             95.379,
             80.821,
             83.96799999999999,
             107.84,
             86.02600000000001
            ],
            "sizemode": "area",
            "sizeref": 0.03596189349112426,
            "symbol": "circle"
           },
           "mode": "markers",
           "name": "Charles Leclerc",
           "orientation": "h",
           "showlegend": true,
           "type": "scatter",
           "x": [
            88.759,
            95.075,
            98.808,
            77.71000000000002,
            95.209,
            77.852,
            0,
            0,
            83.76799999999999,
            94.515,
            100.522,
            79.15100000000001,
            87.697,
            71.423,
            95.379,
            80.821,
            83.96799999999999,
            107.84,
            86.02600000000001
           ],
           "xaxis": "x",
           "y": [
            "13",
            "12",
            "19",
            0,
            0,
            "15",
            0,
            0,
            "12",
            0,
            0,
            0,
            0,
            "18",
            0,
            "11",
            0,
            "14",
            0
           ],
           "yaxis": "y"
          },
          {
           "hovertemplate": "<b>%{hovertext}</b><br><br>Full Name=Lando Norris<br>Points=0.0<br>Fastest Lap Time=%{marker.size}<br>Position=%{y}<extra></extra>",
           "hovertext": [
            "Lando Norris",
            "Lando Norris",
            "Lando Norris",
            "Lando Norris",
            "Lando Norris",
            "Lando Norris",
            "Lando Norris",
            "Lando Norris",
            "Lando Norris",
            "Lando Norris",
            "Lando Norris",
            "Lando Norris",
            "Lando Norris",
            "Lando Norris"
           ],
           "ids": [
            "Lando Norris",
            "Lando Norris",
            "Lando Norris",
            "Lando Norris",
            "Lando Norris",
            "Lando Norris",
            "Lando Norris",
            "Lando Norris",
            "Lando Norris",
            "Lando Norris",
            "Lando Norris",
            "Lando Norris",
            "Lando Norris",
            "Lando Norris"
           ],
           "legendgroup": "Lando Norris",
           "marker": {
            "color": "rgb(204,185,116)",
            "size": [
             88.555,
             98.346,
             82.561,
             76.413,
             78.023,
             89.63600000000001,
             91.081,
             108.321,
             94.116,
             81.643,
             79.945,
             97.377,
             92.32799999999999,
             79.36
            ],
            "sizemode": "area",
            "sizeref": 0.03596189349112426,
            "symbol": "circle"
           },
           "mode": "markers",
           "name": "Lando Norris",
           "orientation": "h",
           "showlegend": true,
           "type": "scatter",
           "x": [
            88.555,
            98.346,
            82.561,
            76.413,
            78.023,
            89.63600000000001,
            91.081,
            108.321,
            94.116,
            81.643,
            79.945,
            97.377,
            92.32799999999999,
            79.36
           ],
           "xaxis": "x",
           "y": [
            "12",
            "18",
            0,
            "11",
            0,
            "11",
            0,
            "11",
            "11",
            0,
            "13",
            "15",
            0,
            "13"
           ],
           "yaxis": "y"
          },
          {
           "hovertemplate": "<b>%{hovertext}</b><br><br>Full Name=Alexander Albon<br>Points=0.0<br>Fastest Lap Time=%{marker.size}<br>Position=%{y}<extra></extra>",
           "hovertext": [
            "Alexander Albon",
            "Alexander Albon",
            "Alexander Albon",
            "Alexander Albon",
            "Alexander Albon",
            "Alexander Albon",
            "Alexander Albon",
            "Alexander Albon",
            "Alexander Albon",
            "Alexander Albon",
            "Alexander Albon",
            "Alexander Albon"
           ],
           "ids": [
            "Alexander Albon",
            "Alexander Albon",
            "Alexander Albon",
            "Alexander Albon",
            "Alexander Albon",
            "Alexander Albon",
            "Alexander Albon",
            "Alexander Albon",
            "Alexander Albon",
            "Alexander Albon",
            "Alexander Albon",
            "Alexander Albon"
           ],
           "legendgroup": "Alexander Albon",
           "marker": {
            "color": "rgb(100,181,205)",
            "size": [
             88.18799999999999,
             105.754,
             81.02799999999998,
             77.15100000000001,
             95.029,
             68.946,
             90.87200000000001,
             71.087,
             68.432,
             84.926,
             92.33,
             79.89
            ],
            "sizemode": "area",
            "sizeref": 0.03596189349112426,
            "symbol": "circle"
           },
           "mode": "markers",
           "name": "Alexander Albon",
           "orientation": "h",
           "showlegend": true,
           "type": "scatter",
           "x": [
            88.18799999999999,
            105.754,
            81.02799999999998,
            77.15100000000001,
            95.029,
            68.946,
            90.87200000000001,
            71.087,
            68.432,
            84.926,
            92.33,
            79.89
           ],
           "xaxis": "x",
           "y": [
            "14",
            "11",
            "11",
            0,
            "15",
            "15",
            "12",
            "14",
            "13",
            "15",
            0,
            "12"
           ],
           "yaxis": "y"
          }
         ],
         "name": "0.0"
        },
        {
         "data": [
          {
           "hovertemplate": "<b>%{hovertext}</b><br><br>Full Name=Lewis Hamilton<br>Points=6.0<br>Fastest Lap Time=%{marker.size}<br>Position=%{y}<extra></extra>",
           "hovertext": [
            "Lewis Hamilton",
            "Lewis Hamilton",
            "Lewis Hamilton",
            "Lewis Hamilton",
            "Lewis Hamilton",
            "Lewis Hamilton",
            "Lewis Hamilton",
            "Lewis Hamilton",
            "Lewis Hamilton",
            "Lewis Hamilton",
            "Lewis Hamilton",
            "Lewis Hamilton",
            "Lewis Hamilton"
           ],
           "ids": [
            "Lewis Hamilton",
            "Lewis Hamilton",
            "Lewis Hamilton",
            "Lewis Hamilton",
            "Lewis Hamilton",
            "Lewis Hamilton",
            "Lewis Hamilton",
            "Lewis Hamilton",
            "Lewis Hamilton",
            "Lewis Hamilton",
            "Lewis Hamilton",
            "Lewis Hamilton",
            "Lewis Hamilton"
           ],
           "legendgroup": "Lewis Hamilton",
           "marker": {
            "color": "rgb(76,114,176)",
            "size": [
             82.01700000000001,
             108.135,
             106.072,
             86.351,
             76.587,
             81.675,
             93.259,
             74.345,
             88.721,
             105.463,
             100.662,
             75.825,
             71.082
            ],
            "sizemode": "area",
            "sizeref": 0.03596189349112426,
            "symbol": "circle"
           },
           "mode": "markers",
           "name": "Lewis Hamilton",
           "orientation": "h",
           "showlegend": true,
           "type": "scatter",
           "x": [
            82.01700000000001,
            108.135,
            106.072,
            86.351,
            76.587,
            81.675,
            93.259,
            74.345,
            88.721,
            105.463,
            100.662,
            75.825,
            71.082
           ],
           "xaxis": "x",
           "y": [
            "3",
            "3",
            "3",
            "3",
            "3",
            "3",
            "3",
            "3",
            "7",
            "7",
            "7",
            "7",
            "7"
           ],
           "yaxis": "y"
          },
          {
           "hovertemplate": "<b>%{hovertext}</b><br><br>Full Name=Sergio Pérez<br>Points=6.0<br>Fastest Lap Time=%{marker.size}<br>Position=%{y}<extra></extra>",
           "hovertext": [
            "Sergio Pérez",
            "Sergio Pérez",
            "Sergio Pérez",
            "Sergio Pérez",
            "Sergio Pérez",
            "Sergio Pérez",
            "Sergio Pérez",
            "Sergio Pérez",
            "Sergio Pérez",
            "Sergio Pérez",
            "Sergio Pérez",
            "Sergio Pérez",
            "Sergio Pérez",
            "Sergio Pérez",
            "Sergio Pérez",
            "Sergio Pérez",
            "Sergio Pérez",
            "Sergio Pérez",
            "Sergio Pérez",
            "Sergio Pérez",
            "Sergio Pérez",
            "Sergio Pérez",
            "Sergio Pérez",
            "Sergio Pérez"
           ],
           "ids": [
            "Sergio Pérez",
            "Sergio Pérez",
            "Sergio Pérez",
            "Sergio Pérez",
            "Sergio Pérez",
            "Sergio Pérez",
            "Sergio Pérez",
            "Sergio Pérez",
            "Sergio Pérez",
            "Sergio Pérez",
            "Sergio Pérez",
            "Sergio Pérez",
            "Sergio Pérez",
            "Sergio Pérez",
            "Sergio Pérez",
            "Sergio Pérez",
            "Sergio Pérez",
            "Sergio Pérez",
            "Sergio Pérez",
            "Sergio Pérez",
            "Sergio Pérez",
            "Sergio Pérez",
            "Sergio Pérez",
            "Sergio Pérez"
           ],
           "legendgroup": "Sergio Pérez",
           "marker": {
            "color": "rgb(221,132,82)",
            "size": [
             96.656,
             101.83,
             89.10700000000001,
             112.007,
             79.657,
             111.97,
             89.801,
             96.756,
             88.336,
             94.609,
             68.47,
             94.744,
             79.929,
             102.689,
             68.50399999999999,
             77.867,
             84.179,
             94.073,
             83.77,
             98.04299999999999,
             80.485,
             102.639,
             80.09,
             80.80199999999998
            ],
            "sizemode": "area",
            "sizeref": 0.03596189349112426,
            "symbol": "circle"
           },
           "mode": "markers",
           "name": "Sergio Pérez",
           "orientation": "h",
           "showlegend": true,
           "type": "scatter",
           "x": [
            96.656,
            101.83,
            89.10700000000001,
            112.007,
            79.657,
            111.97,
            89.801,
            96.756,
            88.336,
            94.609,
            68.47,
            94.744,
            79.929,
            102.689,
            68.50399999999999,
            77.867,
            84.179,
            94.073,
            83.77,
            98.04299999999999,
            80.485,
            102.639,
            80.09,
            80.80199999999998
           ],
           "xaxis": "x",
           "y": [
            "7",
            "7",
            "7",
            "7",
            "7",
            "7",
            "7",
            "7",
            "7",
            "7",
            "7",
            "7",
            "7",
            "7",
            "7",
            "7",
            "8",
            "7",
            "7",
            "7",
            "7",
            "7",
            "7",
            "7"
           ],
           "yaxis": "y"
          },
          {
           "hovertemplate": "<b>%{hovertext}</b><br><br>Full Name=Daniel Ricciardo<br>Points=6.0<br>Fastest Lap Time=%{marker.size}<br>Position=%{y}<extra></extra>",
           "hovertext": [
            "Daniel Ricciardo",
            "Daniel Ricciardo",
            "Daniel Ricciardo",
            "Daniel Ricciardo",
            "Daniel Ricciardo",
            "Daniel Ricciardo",
            "Daniel Ricciardo",
            "Daniel Ricciardo"
           ],
           "ids": [
            "Daniel Ricciardo",
            "Daniel Ricciardo",
            "Daniel Ricciardo",
            "Daniel Ricciardo",
            "Daniel Ricciardo",
            "Daniel Ricciardo",
            "Daniel Ricciardo",
            "Daniel Ricciardo"
           ],
           "legendgroup": "Daniel Ricciardo",
           "marker": {
            "color": "rgb(85,168,104)",
            "size": [
             100.24,
             87.294,
             103.05,
             91.124,
             76.506,
             107.736,
             98.632,
             89.624
            ],
            "sizemode": "area",
            "sizeref": 0.03596189349112426,
            "symbol": "circle"
           },
           "mode": "markers",
           "name": "Daniel Ricciardo",
           "orientation": "h",
           "showlegend": true,
           "type": "scatter",
           "x": [
            100.24,
            87.294,
            103.05,
            91.124,
            76.506,
            107.736,
            98.632,
            89.624
           ],
           "xaxis": "x",
           "y": [
            "7",
            "7",
            "7",
            "7",
            "7",
            "7",
            "7",
            "7"
           ],
           "yaxis": "y"
          },
          {
           "hovertemplate": "<b>%{hovertext}</b><br><br>Full Name=Valtteri Bottas<br>Points=6.0<br>Fastest Lap Time=%{marker.size}<br>Position=%{y}<extra></extra>",
           "hovertext": [
            "Valtteri Bottas",
            "Valtteri Bottas",
            "Valtteri Bottas"
           ],
           "ids": [
            "Valtteri Bottas",
            "Valtteri Bottas",
            "Valtteri Bottas"
           ],
           "legendgroup": "Valtteri Bottas",
           "marker": {
            "color": "rgb(196,78,82)",
            "size": [
             102.66,
             79.321,
             94.225
            ],
            "sizemode": "area",
            "sizeref": 0.03596189349112426,
            "symbol": "circle"
           },
           "mode": "markers",
           "name": "Valtteri Bottas",
           "orientation": "h",
           "showlegend": true,
           "type": "scatter",
           "x": [
            102.66,
            79.321,
            94.225
           ],
           "xaxis": "x",
           "y": [
            "7",
            "7",
            "7"
           ],
           "yaxis": "y"
          },
          {
           "hovertemplate": "<b>%{hovertext}</b><br><br>Full Name=Carlos Sainz<br>Points=6.0<br>Fastest Lap Time=%{marker.size}<br>Position=%{y}<extra></extra>",
           "hovertext": [
            "Carlos Sainz",
            "Carlos Sainz",
            "Carlos Sainz",
            "Carlos Sainz",
            "Carlos Sainz",
            "Carlos Sainz",
            "Carlos Sainz",
            "Carlos Sainz"
           ],
           "ids": [
            "Carlos Sainz",
            "Carlos Sainz",
            "Carlos Sainz",
            "Carlos Sainz",
            "Carlos Sainz",
            "Carlos Sainz",
            "Carlos Sainz",
            "Carlos Sainz"
           ],
           "legendgroup": "Carlos Sainz",
           "marker": {
            "color": "rgb(129,114,179)",
            "size": [
             102.66,
             97.398,
             86.186,
             81.87100000000001,
             100.462,
             81.324,
             99.85799999999999,
             105.807
            ],
            "sizemode": "area",
            "sizeref": 0.03596189349112426,
            "symbol": "circle"
           },
           "mode": "markers",
           "name": "Carlos Sainz",
           "orientation": "h",
           "showlegend": true,
           "type": "scatter",
           "x": [
            102.66,
            97.398,
            86.186,
            81.87100000000001,
            100.462,
            81.324,
            99.85799999999999,
            105.807
           ],
           "xaxis": "x",
           "y": [
            "7",
            "7",
            "7",
            "7",
            "7",
            "7",
            "7",
            "7"
           ],
           "yaxis": "y"
          },
          {
           "hovertemplate": "<b>%{hovertext}</b><br><br>Full Name=Max Verstappen<br>Points=6.0<br>Fastest Lap Time=%{marker.size}<br>Position=%{y}<extra></extra>",
           "hovertext": [
            "Max Verstappen",
            "Max Verstappen"
           ],
           "ids": [
            "Max Verstappen",
            "Max Verstappen"
           ],
           "legendgroup": "Max Verstappen",
           "marker": {
            "color": "rgb(147,120,96)",
            "size": [
             104.579,
             86.405
            ],
            "sizemode": "area",
            "sizeref": 0.03596189349112426,
            "symbol": "circle"
           },
           "mode": "markers",
           "name": "Max Verstappen",
           "orientation": "h",
           "showlegend": true,
           "type": "scatter",
           "x": [
            104.579,
            86.405
           ],
           "xaxis": "x",
           "y": [
            "7",
            "7"
           ],
           "yaxis": "y"
          },
          {
           "hovertemplate": "<b>%{hovertext}</b><br><br>Full Name=Pierre Gasly<br>Points=6.0<br>Fastest Lap Time=%{marker.size}<br>Position=%{y}<extra></extra>",
           "hovertext": [
            "Pierre Gasly",
            "Pierre Gasly",
            "Pierre Gasly",
            "Pierre Gasly",
            "Pierre Gasly"
           ],
           "ids": [
            "Pierre Gasly",
            "Pierre Gasly",
            "Pierre Gasly",
            "Pierre Gasly",
            "Pierre Gasly"
           ],
           "legendgroup": "Pierre Gasly",
           "marker": {
            "color": "rgb(218,139,195)",
            "size": [
             77.09899999999999,
             68.78999999999999,
             95.321,
             69.025,
             89.60300000000002
            ],
            "sizemode": "area",
            "sizeref": 0.03596189349112426,
            "symbol": "circle"
           },
           "mode": "markers",
           "name": "Pierre Gasly",
           "orientation": "h",
           "showlegend": true,
           "type": "scatter",
           "x": [
            77.09899999999999,
            68.78999999999999,
            95.321,
            69.025,
            89.60300000000002
           ],
           "xaxis": "x",
           "y": [
            "7",
            "7",
            "7",
            "7",
            "7"
           ],
           "yaxis": "y"
          },
          {
           "hovertemplate": "<b>%{hovertext}</b><br><br>Full Name=Charles Leclerc<br>Points=6.0<br>Fastest Lap Time=%{marker.size}<br>Position=%{y}<extra></extra>",
           "hovertext": [
            "Charles Leclerc",
            "Charles Leclerc",
            "Charles Leclerc",
            "Charles Leclerc",
            "Charles Leclerc"
           ],
           "ids": [
            "Charles Leclerc",
            "Charles Leclerc",
            "Charles Leclerc",
            "Charles Leclerc",
            "Charles Leclerc"
           ],
           "legendgroup": "Charles Leclerc",
           "marker": {
            "color": "rgb(140,140,140)",
            "size": [
             98.10700000000001,
             80.53699999999999,
             72.082,
             102.876,
             90.712
            ],
            "sizemode": "area",
            "sizeref": 0.03596189349112426,
            "symbol": "circle"
           },
           "mode": "markers",
           "name": "Charles Leclerc",
           "orientation": "h",
           "showlegend": true,
           "type": "scatter",
           "x": [
            98.10700000000001,
            80.53699999999999,
            72.082,
            102.876,
            90.712
           ],
           "xaxis": "x",
           "y": [
            "7",
            "7",
            "7",
            "7",
            "7"
           ],
           "yaxis": "y"
          },
          {
           "hovertemplate": "<b>%{hovertext}</b><br><br>Full Name=Lando Norris<br>Points=6.0<br>Fastest Lap Time=%{marker.size}<br>Position=%{y}<extra></extra>",
           "hovertext": [
            "Lando Norris",
            "Lando Norris",
            "Lando Norris"
           ],
           "ids": [
            "Lando Norris",
            "Lando Norris",
            "Lando Norris"
           ],
           "legendgroup": "Lando Norris",
           "marker": {
            "color": "rgb(204,185,116)",
            "size": [
             105.716,
             98.074,
             108.552
            ],
            "sizemode": "area",
            "sizeref": 0.03596189349112426,
            "symbol": "circle"
           },
           "mode": "markers",
           "name": "Lando Norris",
           "orientation": "h",
           "showlegend": true,
           "type": "scatter",
           "x": [
            105.716,
            98.074,
            108.552
           ],
           "xaxis": "x",
           "y": [
            "7",
            "7",
            "7"
           ],
           "yaxis": "y"
          }
         ],
         "name": "6.0"
        },
        {
         "data": [
          {
           "hovertemplate": "<b>%{hovertext}</b><br><br>Full Name=Lewis Hamilton<br>Points=8.0<br>Fastest Lap Time=%{marker.size}<br>Position=%{y}<extra></extra>",
           "hovertext": [
            "Lewis Hamilton",
            "Lewis Hamilton",
            "Lewis Hamilton",
            "Lewis Hamilton",
            "Lewis Hamilton",
            "Lewis Hamilton",
            "Lewis Hamilton",
            "Lewis Hamilton",
            "Lewis Hamilton",
            "Lewis Hamilton",
            "Lewis Hamilton",
            "Lewis Hamilton",
            "Lewis Hamilton"
           ],
           "ids": [
            "Lewis Hamilton",
            "Lewis Hamilton",
            "Lewis Hamilton",
            "Lewis Hamilton",
            "Lewis Hamilton",
            "Lewis Hamilton",
            "Lewis Hamilton",
            "Lewis Hamilton",
            "Lewis Hamilton",
            "Lewis Hamilton",
            "Lewis Hamilton",
            "Lewis Hamilton",
            "Lewis Hamilton"
           ],
           "legendgroup": "Lewis Hamilton",
           "marker": {
            "color": "rgb(76,114,176)",
            "size": [
             86.529,
             98.884,
             96.70100000000001,
             94.27,
             82.876,
             75.372,
             82.936,
             99.056,
             88.506,
             97.745,
             77.84700000000002,
             89.05199999999998,
             85.727
            ],
            "sizemode": "area",
            "sizeref": 0.03596189349112426,
            "symbol": "circle"
           },
           "mode": "markers",
           "name": "Lewis Hamilton",
           "orientation": "h",
           "showlegend": true,
           "type": "scatter",
           "x": [
            86.529,
            98.884,
            96.70100000000001,
            94.27,
            82.876,
            75.372,
            82.936,
            99.056,
            88.506,
            97.745,
            77.84700000000002,
            89.05199999999998,
            85.727
           ],
           "xaxis": "x",
           "y": [
            "2",
            "2",
            "2",
            "2",
            "2",
            "2",
            "2",
            "2",
            "6",
            "6",
            "6",
            "6",
            "6"
           ],
           "yaxis": "y"
          },
          {
           "hovertemplate": "<b>%{hovertext}</b><br><br>Full Name=Sergio Pérez<br>Points=8.0<br>Fastest Lap Time=%{marker.size}<br>Position=%{y}<extra></extra>",
           "hovertext": [
            "Sergio Pérez",
            "Sergio Pérez",
            "Sergio Pérez",
            "Sergio Pérez",
            "Sergio Pérez",
            "Sergio Pérez",
            "Sergio Pérez",
            "Sergio Pérez",
            "Sergio Pérez",
            "Sergio Pérez",
            "Sergio Pérez",
            "Sergio Pérez",
            "Sergio Pérez"
           ],
           "ids": [
            "Sergio Pérez",
            "Sergio Pérez",
            "Sergio Pérez",
            "Sergio Pérez",
            "Sergio Pérez",
            "Sergio Pérez",
            "Sergio Pérez",
            "Sergio Pérez",
            "Sergio Pérez",
            "Sergio Pérez",
            "Sergio Pérez",
            "Sergio Pérez",
            "Sergio Pérez"
           ],
           "legendgroup": "Sergio Pérez",
           "marker": {
            "color": "rgb(221,132,82)",
            "size": [
             79.27,
             97.913,
             76.24600000000001,
             72.142,
             88.14,
             97.9,
             99.32799999999999,
             98.661,
             95.591,
             105.524,
             108.781,
             68.305,
             67.188
            ],
            "sizemode": "area",
            "sizeref": 0.03596189349112426,
            "symbol": "circle"
           },
           "mode": "markers",
           "name": "Sergio Pérez",
           "orientation": "h",
           "showlegend": true,
           "type": "scatter",
           "x": [
            79.27,
            97.913,
            76.24600000000001,
            72.142,
            88.14,
            97.9,
            99.32799999999999,
            98.661,
            95.591,
            105.524,
            108.781,
            68.305,
            67.188
           ],
           "xaxis": "x",
           "y": [
            "6",
            "6",
            "6",
            "6",
            "6",
            "6",
            "6",
            "6",
            "6",
            "6",
            "6",
            "6",
            "6"
           ],
           "yaxis": "y"
          },
          {
           "hovertemplate": "<b>%{hovertext}</b><br><br>Full Name=Daniel Ricciardo<br>Points=8.0<br>Fastest Lap Time=%{marker.size}<br>Position=%{y}<extra></extra>",
           "hovertext": [
            "Daniel Ricciardo",
            "Daniel Ricciardo",
            "Daniel Ricciardo",
            "Daniel Ricciardo",
            "Daniel Ricciardo",
            "Daniel Ricciardo",
            "Daniel Ricciardo",
            "Daniel Ricciardo",
            "Daniel Ricciardo",
            "Daniel Ricciardo",
            "Daniel Ricciardo",
            "Daniel Ricciardo"
           ],
           "ids": [
            "Daniel Ricciardo",
            "Daniel Ricciardo",
            "Daniel Ricciardo",
            "Daniel Ricciardo",
            "Daniel Ricciardo",
            "Daniel Ricciardo",
            "Daniel Ricciardo",
            "Daniel Ricciardo",
            "Daniel Ricciardo",
            "Daniel Ricciardo",
            "Daniel Ricciardo",
            "Daniel Ricciardo"
           ],
           "legendgroup": "Daniel Ricciardo",
           "marker": {
            "color": "rgb(85,168,104)",
            "size": [
             80.846,
             92.79700000000001,
             98.948,
             106.305,
             95.51100000000001,
             72.029,
             103.12,
             96.345,
             76.075,
             100.564,
             72.733,
             83.898
            ],
            "sizemode": "area",
            "sizeref": 0.03596189349112426,
            "symbol": "circle"
           },
           "mode": "markers",
           "name": "Daniel Ricciardo",
           "orientation": "h",
           "showlegend": true,
           "type": "scatter",
           "x": [
            80.846,
            92.79700000000001,
            98.948,
            106.305,
            95.51100000000001,
            72.029,
            103.12,
            96.345,
            76.075,
            100.564,
            72.733,
            83.898
           ],
           "xaxis": "x",
           "y": [
            "6",
            "6",
            "6",
            "6",
            "6",
            "6",
            "6",
            "6",
            "6",
            "6",
            "6",
            "6"
           ],
           "yaxis": "y"
          },
          {
           "hovertemplate": "<b>%{hovertext}</b><br><br>Full Name=Valtteri Bottas<br>Points=8.0<br>Fastest Lap Time=%{marker.size}<br>Position=%{y}<extra></extra>",
           "hovertext": [
            "Valtteri Bottas",
            "Valtteri Bottas",
            "Valtteri Bottas",
            "Valtteri Bottas",
            "Valtteri Bottas"
           ],
           "ids": [
            "Valtteri Bottas",
            "Valtteri Bottas",
            "Valtteri Bottas",
            "Valtteri Bottas",
            "Valtteri Bottas"
           ],
           "legendgroup": "Valtteri Bottas",
           "marker": {
            "color": "rgb(196,78,82)",
            "size": [
             114.103,
             103.051,
             107.604,
             86.708,
             95.849
            ],
            "sizemode": "area",
            "sizeref": 0.03596189349112426,
            "symbol": "circle"
           },
           "mode": "markers",
           "name": "Valtteri Bottas",
           "orientation": "h",
           "showlegend": true,
           "type": "scatter",
           "x": [
            114.103,
            103.051,
            107.604,
            86.708,
            95.849
           ],
           "xaxis": "x",
           "y": [
            "6",
            "6",
            "6",
            "6",
            "6"
           ],
           "yaxis": "y"
          },
          {
           "hovertemplate": "<b>%{hovertext}</b><br><br>Full Name=Carlos Sainz<br>Points=8.0<br>Fastest Lap Time=%{marker.size}<br>Position=%{y}<extra></extra>",
           "hovertext": [
            "Carlos Sainz",
            "Carlos Sainz",
            "Carlos Sainz",
            "Carlos Sainz",
            "Carlos Sainz",
            "Carlos Sainz",
            "Carlos Sainz",
            "Carlos Sainz",
            "Carlos Sainz",
            "Carlos Sainz",
            "Carlos Sainz"
           ],
           "ids": [
            "Carlos Sainz",
            "Carlos Sainz",
            "Carlos Sainz",
            "Carlos Sainz",
            "Carlos Sainz",
            "Carlos Sainz",
            "Carlos Sainz",
            "Carlos Sainz",
            "Carlos Sainz",
            "Carlos Sainz",
            "Carlos Sainz"
           ],
           "legendgroup": "Carlos Sainz",
           "marker": {
            "color": "rgb(129,114,179)",
            "size": [
             89.663,
             102.83200000000001,
             87.15299999999998,
             76.649,
             101.351,
             75.891,
             94.561,
             89.757,
             98.02,
             81.771,
             80.268
            ],
            "sizemode": "area",
            "sizeref": 0.03596189349112426,
            "symbol": "circle"
           },
           "mode": "markers",
           "name": "Carlos Sainz",
           "orientation": "h",
           "showlegend": true,
           "type": "scatter",
           "x": [
            89.663,
            102.83200000000001,
            87.15299999999998,
            76.649,
            101.351,
            75.891,
            94.561,
            89.757,
            98.02,
            81.771,
            80.268
           ],
           "xaxis": "x",
           "y": [
            "6",
            "6",
            "6",
            "6",
            "6",
            "6",
            "6",
            "6",
            "6",
            "6",
            "6"
           ],
           "yaxis": "y"
          },
          {
           "hovertemplate": "<b>%{hovertext}</b><br><br>Full Name=Max Verstappen<br>Points=8.0<br>Fastest Lap Time=%{marker.size}<br>Position=%{y}<extra></extra>",
           "hovertext": [
            "Max Verstappen",
            "Max Verstappen",
            "Max Verstappen",
            "Max Verstappen"
           ],
           "ids": [
            "Max Verstappen",
            "Max Verstappen",
            "Max Verstappen",
            "Max Verstappen"
           ],
           "legendgroup": "Max Verstappen",
           "marker": {
            "color": "rgb(147,120,96)",
            "size": [
             95.504,
             109.05,
             86.88,
             80.406
            ],
            "sizemode": "area",
            "sizeref": 0.03596189349112426,
            "symbol": "circle"
           },
           "mode": "markers",
           "name": "Max Verstappen",
           "orientation": "h",
           "showlegend": true,
           "type": "scatter",
           "x": [
            95.504,
            109.05,
            86.88,
            80.406
           ],
           "xaxis": "x",
           "y": [
            "6",
            "6",
            "6",
            "6"
           ],
           "yaxis": "y"
          },
          {
           "hovertemplate": "<b>%{hovertext}</b><br><br>Full Name=Pierre Gasly<br>Points=8.0<br>Fastest Lap Time=%{marker.size}<br>Position=%{y}<extra></extra>",
           "hovertext": [
            "Pierre Gasly",
            "Pierre Gasly",
            "Pierre Gasly",
            "Pierre Gasly"
           ],
           "ids": [
            "Pierre Gasly",
            "Pierre Gasly",
            "Pierre Gasly",
            "Pierre Gasly"
           ],
           "legendgroup": "Pierre Gasly",
           "marker": {
            "color": "rgb(218,139,195)",
            "size": [
             81.685,
             80.536,
             81.045,
             90.11
            ],
            "sizemode": "area",
            "sizeref": 0.03596189349112426,
            "symbol": "circle"
           },
           "mode": "markers",
           "name": "Pierre Gasly",
           "orientation": "h",
           "showlegend": true,
           "type": "scatter",
           "x": [
            81.685,
            80.536,
            81.045,
            90.11
           ],
           "xaxis": "x",
           "y": [
            "6",
            "6",
            "6",
            "6"
           ],
           "yaxis": "y"
          },
          {
           "hovertemplate": "<b>%{hovertext}</b><br><br>Full Name=Charles Leclerc<br>Points=8.0<br>Fastest Lap Time=%{marker.size}<br>Position=%{y}<extra></extra>",
           "hovertext": [
            "Charles Leclerc",
            "Charles Leclerc",
            "Charles Leclerc"
           ],
           "ids": [
            "Charles Leclerc",
            "Charles Leclerc",
            "Charles Leclerc"
           ],
           "legendgroup": "Charles Leclerc",
           "marker": {
            "color": "rgb(140,140,140)",
            "size": [
             107.403,
             91.611,
             99.053
            ],
            "sizemode": "area",
            "sizeref": 0.03596189349112426,
            "symbol": "circle"
           },
           "mode": "markers",
           "name": "Charles Leclerc",
           "orientation": "h",
           "showlegend": true,
           "type": "scatter",
           "x": [
            107.403,
            91.611,
            99.053
           ],
           "xaxis": "x",
           "y": [
            "6",
            "6",
            "6"
           ],
           "yaxis": "y"
          },
          {
           "hovertemplate": "<b>%{hovertext}</b><br><br>Full Name=Lando Norris<br>Points=8.0<br>Fastest Lap Time=%{marker.size}<br>Position=%{y}<extra></extra>",
           "hovertext": [
            "Lando Norris",
            "Lando Norris",
            "Lando Norris"
           ],
           "ids": [
            "Lando Norris",
            "Lando Norris",
            "Lando Norris"
           ],
           "legendgroup": "Lando Norris",
           "marker": {
            "color": "rgb(204,185,116)",
            "size": [
             95.777,
             68.699,
             81.19800000000002
            ],
            "sizemode": "area",
            "sizeref": 0.03596189349112426,
            "symbol": "circle"
           },
           "mode": "markers",
           "name": "Lando Norris",
           "orientation": "h",
           "showlegend": true,
           "type": "scatter",
           "x": [
            95.777,
            68.699,
            81.19800000000002
           ],
           "xaxis": "x",
           "y": [
            "6",
            "6",
            "6"
           ],
           "yaxis": "y"
          },
          {
           "hovertemplate": "<b>%{hovertext}</b><br><br>Full Name=Alexander Albon<br>Points=8.0<br>Fastest Lap Time=%{marker.size}<br>Position=%{y}<extra></extra>",
           "hovertext": [
            "Alexander Albon",
            "Alexander Albon",
            "Alexander Albon",
            "Alexander Albon",
            "Alexander Albon"
           ],
           "ids": [
            "Alexander Albon",
            "Alexander Albon",
            "Alexander Albon",
            "Alexander Albon",
            "Alexander Albon"
           ],
           "legendgroup": "Alexander Albon",
           "marker": {
            "color": "rgb(100,181,205)",
            "size": [
             77.85,
             83.36399999999999,
             105.26,
             102.219,
             108.736
            ],
            "sizemode": "area",
            "sizeref": 0.03596189349112426,
            "symbol": "circle"
           },
           "mode": "markers",
           "name": "Alexander Albon",
           "orientation": "h",
           "showlegend": true,
           "type": "scatter",
           "x": [
            77.85,
            83.36399999999999,
            105.26,
            102.219,
            108.736
           ],
           "xaxis": "x",
           "y": [
            "6",
            "6",
            "6",
            "6",
            "6"
           ],
           "yaxis": "y"
          }
         ],
         "name": "8.0"
        },
        {
         "data": [
          {
           "hovertemplate": "<b>%{hovertext}</b><br><br>Full Name=Lewis Hamilton<br>Points=2.0<br>Fastest Lap Time=%{marker.size}<br>Position=%{y}<extra></extra>",
           "hovertext": [
            "Lewis Hamilton",
            "Lewis Hamilton",
            "Lewis Hamilton",
            "Lewis Hamilton",
            "Lewis Hamilton",
            "Lewis Hamilton"
           ],
           "ids": [
            "Lewis Hamilton",
            "Lewis Hamilton",
            "Lewis Hamilton",
            "Lewis Hamilton",
            "Lewis Hamilton",
            "Lewis Hamilton"
           ],
           "legendgroup": "Lewis Hamilton",
           "marker": {
            "color": "rgb(76,114,176)",
            "size": [
             89.721,
             72.506,
             85.84899999999999,
             76.69200000000002,
             79.945,
             78.811
            ],
            "sizemode": "area",
            "sizeref": 0.03596189349112426,
            "symbol": "circle"
           },
           "mode": "markers",
           "name": "Lewis Hamilton",
           "orientation": "h",
           "showlegend": true,
           "type": "scatter",
           "x": [
            89.721,
            72.506,
            85.84899999999999,
            76.69200000000002,
            79.945,
            78.811
           ],
           "xaxis": "x",
           "y": [
            "7",
            "7",
            "9",
            "9",
            "9",
            "9"
           ],
           "yaxis": "y"
          },
          {
           "hovertemplate": "<b>%{hovertext}</b><br><br>Full Name=Sergio Pérez<br>Points=2.0<br>Fastest Lap Time=%{marker.size}<br>Position=%{y}<extra></extra>",
           "hovertext": [
            "Sergio Pérez",
            "Sergio Pérez",
            "Sergio Pérez",
            "Sergio Pérez",
            "Sergio Pérez",
            "Sergio Pérez",
            "Sergio Pérez",
            "Sergio Pérez",
            "Sergio Pérez",
            "Sergio Pérez",
            "Sergio Pérez",
            "Sergio Pérez",
            "Sergio Pérez",
            "Sergio Pérez",
            "Sergio Pérez",
            "Sergio Pérez",
            "Sergio Pérez"
           ],
           "ids": [
            "Sergio Pérez",
            "Sergio Pérez",
            "Sergio Pérez",
            "Sergio Pérez",
            "Sergio Pérez",
            "Sergio Pérez",
            "Sergio Pérez",
            "Sergio Pérez",
            "Sergio Pérez",
            "Sergio Pérez",
            "Sergio Pérez",
            "Sergio Pérez",
            "Sergio Pérez",
            "Sergio Pérez",
            "Sergio Pérez",
            "Sergio Pérez",
            "Sergio Pérez"
           ],
           "legendgroup": "Sergio Pérez",
           "marker": {
            "color": "rgb(221,132,82)",
            "size": [
             87.24700000000001,
             103.526,
             99.199,
             87.251,
             86.14299999999999,
             105.435,
             102.228,
             90.756,
             72.377,
             98.466,
             101.897,
             96.531,
             93.504,
             84.96799999999999,
             73.05199999999998,
             81.128,
             72.84
            ],
            "sizemode": "area",
            "sizeref": 0.03596189349112426,
            "symbol": "circle"
           },
           "mode": "markers",
           "name": "Sergio Pérez",
           "orientation": "h",
           "showlegend": true,
           "type": "scatter",
           "x": [
            87.24700000000001,
            103.526,
            99.199,
            87.251,
            86.14299999999999,
            105.435,
            102.228,
            90.756,
            72.377,
            98.466,
            101.897,
            96.531,
            93.504,
            84.96799999999999,
            73.05199999999998,
            81.128,
            72.84
           ],
           "xaxis": "x",
           "y": [
            "9",
            "9",
            "9",
            "9",
            "9",
            "9",
            "9",
            "9",
            "9",
            "9",
            "9",
            "9",
            "9",
            "9",
            "9",
            "9",
            "9"
           ],
           "yaxis": "y"
          },
          {
           "hovertemplate": "<b>%{hovertext}</b><br><br>Full Name=Daniel Ricciardo<br>Points=2.0<br>Fastest Lap Time=%{marker.size}<br>Position=%{y}<extra></extra>",
           "hovertext": [
            "Daniel Ricciardo",
            "Daniel Ricciardo",
            "Daniel Ricciardo",
            "Daniel Ricciardo",
            "Daniel Ricciardo",
            "Daniel Ricciardo",
            "Daniel Ricciardo"
           ],
           "ids": [
            "Daniel Ricciardo",
            "Daniel Ricciardo",
            "Daniel Ricciardo",
            "Daniel Ricciardo",
            "Daniel Ricciardo",
            "Daniel Ricciardo",
            "Daniel Ricciardo"
           ],
           "legendgroup": "Daniel Ricciardo",
           "marker": {
            "color": "rgb(85,168,104)",
            "size": [
             90.59200000000001,
             114.605,
             114.26700000000001,
             103.148,
             103.245,
             75.697,
             80.906
            ],
            "sizemode": "area",
            "sizeref": 0.03596189349112426,
            "symbol": "circle"
           },
           "mode": "markers",
           "name": "Daniel Ricciardo",
           "orientation": "h",
           "showlegend": true,
           "type": "scatter",
           "x": [
            90.59200000000001,
            114.605,
            114.26700000000001,
            103.148,
            103.245,
            75.697,
            80.906
           ],
           "xaxis": "x",
           "y": [
            "9",
            "9",
            "9",
            "9",
            "9",
            "9",
            "9"
           ],
           "yaxis": "y"
          },
          {
           "hovertemplate": "<b>%{hovertext}</b><br><br>Full Name=Valtteri Bottas<br>Points=2.0<br>Fastest Lap Time=%{marker.size}<br>Position=%{y}<extra></extra>",
           "hovertext": [
            "Valtteri Bottas",
            "Valtteri Bottas",
            "Valtteri Bottas",
            "Valtteri Bottas",
            "Valtteri Bottas"
           ],
           "ids": [
            "Valtteri Bottas",
            "Valtteri Bottas",
            "Valtteri Bottas",
            "Valtteri Bottas",
            "Valtteri Bottas"
           ],
           "legendgroup": "Valtteri Bottas",
           "marker": {
            "color": "rgb(196,78,82)",
            "size": [
             114.646,
             97.07700000000001,
             70.21000000000001,
             85.273,
             80.44200000000002
            ],
            "sizemode": "area",
            "sizeref": 0.03596189349112426,
            "symbol": "circle"
           },
           "mode": "markers",
           "name": "Valtteri Bottas",
           "orientation": "h",
           "showlegend": true,
           "type": "scatter",
           "x": [
            114.646,
            97.07700000000001,
            70.21000000000001,
            85.273,
            80.44200000000002
           ],
           "xaxis": "x",
           "y": [
            "9",
            "9",
            "9",
            "9",
            "9"
           ],
           "yaxis": "y"
          },
          {
           "hovertemplate": "<b>%{hovertext}</b><br><br>Full Name=Carlos Sainz<br>Points=2.0<br>Fastest Lap Time=%{marker.size}<br>Position=%{y}<extra></extra>",
           "hovertext": [
            "Carlos Sainz",
            "Carlos Sainz",
            "Carlos Sainz",
            "Carlos Sainz",
            "Carlos Sainz",
            "Carlos Sainz",
            "Carlos Sainz",
            "Carlos Sainz",
            "Carlos Sainz"
           ],
           "ids": [
            "Carlos Sainz",
            "Carlos Sainz",
            "Carlos Sainz",
            "Carlos Sainz",
            "Carlos Sainz",
            "Carlos Sainz",
            "Carlos Sainz",
            "Carlos Sainz",
            "Carlos Sainz"
           ],
           "legendgroup": "Carlos Sainz",
           "marker": {
            "color": "rgb(129,114,179)",
            "size": [
             92.87200000000001,
             91.156,
             110.401,
             91.671,
             101.485,
             76.578,
             97.754,
             82.774,
             80.477
            ],
            "sizemode": "area",
            "sizeref": 0.03596189349112426,
            "symbol": "circle"
           },
           "mode": "markers",
           "name": "Carlos Sainz",
           "orientation": "h",
           "showlegend": true,
           "type": "scatter",
           "x": [
            92.87200000000001,
            91.156,
            110.401,
            91.671,
            101.485,
            76.578,
            97.754,
            82.774,
            80.477
           ],
           "xaxis": "x",
           "y": [
            "9",
            "9",
            "9",
            "9",
            "9",
            "9",
            "9",
            "9",
            "9"
           ],
           "yaxis": "y"
          },
          {
           "hovertemplate": "<b>%{hovertext}</b><br><br>Full Name=Max Verstappen<br>Points=2.0<br>Fastest Lap Time=%{marker.size}<br>Position=%{y}<extra></extra>",
           "hovertext": [
            "Max Verstappen",
            "Max Verstappen",
            "Max Verstappen",
            "Max Verstappen"
           ],
           "ids": [
            "Max Verstappen",
            "Max Verstappen",
            "Max Verstappen",
            "Max Verstappen"
           ],
           "legendgroup": "Max Verstappen",
           "marker": {
            "color": "rgb(147,120,96)",
            "size": [
             98.23700000000001,
             82.60300000000002,
             75.972,
             74.26
            ],
            "sizemode": "area",
            "sizeref": 0.03596189349112426,
            "symbol": "circle"
           },
           "mode": "markers",
           "name": "Max Verstappen",
           "orientation": "h",
           "showlegend": true,
           "type": "scatter",
           "x": [
            98.23700000000001,
            82.60300000000002,
            75.972,
            74.26
           ],
           "xaxis": "x",
           "y": [
            "9",
            "9",
            "9",
            "9"
           ],
           "yaxis": "y"
          },
          {
           "hovertemplate": "<b>%{hovertext}</b><br><br>Full Name=Pierre Gasly<br>Points=2.0<br>Fastest Lap Time=%{marker.size}<br>Position=%{y}<extra></extra>",
           "hovertext": [
            "Pierre Gasly",
            "Pierre Gasly",
            "Pierre Gasly",
            "Pierre Gasly",
            "Pierre Gasly"
           ],
           "ids": [
            "Pierre Gasly",
            "Pierre Gasly",
            "Pierre Gasly",
            "Pierre Gasly",
            "Pierre Gasly"
           ],
           "legendgroup": "Pierre Gasly",
           "marker": {
            "color": "rgb(218,139,195)",
            "size": [
             108.588,
             109.7,
             79.53,
             82.54299999999999,
             97.23100000000001
            ],
            "sizemode": "area",
            "sizeref": 0.03596189349112426,
            "symbol": "circle"
           },
           "mode": "markers",
           "name": "Pierre Gasly",
           "orientation": "h",
           "showlegend": true,
           "type": "scatter",
           "x": [
            108.588,
            109.7,
            79.53,
            82.54299999999999,
            97.23100000000001
           ],
           "xaxis": "x",
           "y": [
            "9",
            "9",
            "9",
            "9",
            "9"
           ],
           "yaxis": "y"
          },
          {
           "hovertemplate": "<b>%{hovertext}</b><br><br>Full Name=Charles Leclerc<br>Points=2.0<br>Fastest Lap Time=%{marker.size}<br>Position=%{y}<extra></extra>",
           "hovertext": [
            "Charles Leclerc",
            "Charles Leclerc"
           ],
           "ids": [
            "Charles Leclerc",
            "Charles Leclerc"
           ],
           "legendgroup": "Charles Leclerc",
           "marker": {
            "color": "rgb(140,140,140)",
            "size": [
             69.006,
             105.20299999999999
            ],
            "sizemode": "area",
            "sizeref": 0.03596189349112426,
            "symbol": "circle"
           },
           "mode": "markers",
           "name": "Charles Leclerc",
           "orientation": "h",
           "showlegend": true,
           "type": "scatter",
           "x": [
            69.006,
            105.20299999999999
           ],
           "xaxis": "x",
           "y": [
            "9",
            "9"
           ],
           "yaxis": "y"
          },
          {
           "hovertemplate": "<b>%{hovertext}</b><br><br>Full Name=Lando Norris<br>Points=2.0<br>Fastest Lap Time=%{marker.size}<br>Position=%{y}<extra></extra>",
           "hovertext": [
            "Lando Norris",
            "Lando Norris",
            "Lando Norris"
           ],
           "ids": [
            "Lando Norris",
            "Lando Norris",
            "Lando Norris"
           ],
           "legendgroup": "Lando Norris",
           "marker": {
            "color": "rgb(204,185,116)",
            "size": [
             94.754,
             81.188,
             90.698
            ],
            "sizemode": "area",
            "sizeref": 0.03596189349112426,
            "symbol": "circle"
           },
           "mode": "markers",
           "name": "Lando Norris",
           "orientation": "h",
           "showlegend": true,
           "type": "scatter",
           "x": [
            94.754,
            81.188,
            90.698
           ],
           "xaxis": "x",
           "y": [
            "9",
            "9",
            "9"
           ],
           "yaxis": "y"
          },
          {
           "hovertemplate": "<b>%{hovertext}</b><br><br>Full Name=Alexander Albon<br>Points=2.0<br>Fastest Lap Time=%{marker.size}<br>Position=%{y}<extra></extra>",
           "hovertext": [
            "Alexander Albon"
           ],
           "ids": [
            "Alexander Albon"
           ],
           "legendgroup": "Alexander Albon",
           "marker": {
            "color": "rgb(100,181,205)",
            "size": [
             96.752
            ],
            "sizemode": "area",
            "sizeref": 0.03596189349112426,
            "symbol": "circle"
           },
           "mode": "markers",
           "name": "Alexander Albon",
           "orientation": "h",
           "showlegend": true,
           "type": "scatter",
           "x": [
            96.752
           ],
           "xaxis": "x",
           "y": [
            "9"
           ],
           "yaxis": "y"
          }
         ],
         "name": "2.0"
        },
        {
         "data": [
          {
           "hovertemplate": "<b>%{hovertext}</b><br><br>Full Name=Lewis Hamilton<br>Points=5.0<br>Fastest Lap Time=%{marker.size}<br>Position=%{y}<extra></extra>",
           "hovertext": [
            "Lewis Hamilton",
            "Lewis Hamilton"
           ],
           "ids": [
            "Lewis Hamilton",
            "Lewis Hamilton"
           ],
           "legendgroup": "Lewis Hamilton",
           "marker": {
            "color": "rgb(76,114,176)",
            "size": [
             108.215,
             94.915
            ],
            "sizemode": "area",
            "sizeref": 0.03596189349112426,
            "symbol": "circle"
           },
           "mode": "markers",
           "name": "Lewis Hamilton",
           "orientation": "h",
           "showlegend": true,
           "type": "scatter",
           "x": [
            108.215,
            94.915
           ],
           "xaxis": "x",
           "y": [
            "4",
            "4"
           ],
           "yaxis": "y"
          }
         ],
         "name": "5.0"
        },
        {
         "data": [
          {
           "hovertemplate": "<b>%{hovertext}</b><br><br>Full Name=Lewis Hamilton<br>Points=1.0<br>Fastest Lap Time=%{marker.size}<br>Position=%{y}<extra></extra>",
           "hovertext": [
            "Lewis Hamilton",
            "Lewis Hamilton"
           ],
           "ids": [
            "Lewis Hamilton",
            "Lewis Hamilton"
           ],
           "legendgroup": "Lewis Hamilton",
           "marker": {
            "color": "rgb(76,114,176)",
            "size": [
             99.141,
             102.721
            ],
            "sizemode": "area",
            "sizeref": 0.03596189349112426,
            "symbol": "circle"
           },
           "mode": "markers",
           "name": "Lewis Hamilton",
           "orientation": "h",
           "showlegend": true,
           "type": "scatter",
           "x": [
            99.141,
            102.721
           ],
           "xaxis": "x",
           "y": [
            "7",
            "10"
           ],
           "yaxis": "y"
          },
          {
           "hovertemplate": "<b>%{hovertext}</b><br><br>Full Name=Sergio Pérez<br>Points=1.0<br>Fastest Lap Time=%{marker.size}<br>Position=%{y}<extra></extra>",
           "hovertext": [
            "Sergio Pérez",
            "Sergio Pérez",
            "Sergio Pérez",
            "Sergio Pérez",
            "Sergio Pérez",
            "Sergio Pérez",
            "Sergio Pérez",
            "Sergio Pérez",
            "Sergio Pérez",
            "Sergio Pérez",
            "Sergio Pérez",
            "Sergio Pérez",
            "Sergio Pérez",
            "Sergio Pérez",
            "Sergio Pérez",
            "Sergio Pérez",
            "Sergio Pérez",
            "Sergio Pérez",
            "Sergio Pérez"
           ],
           "ids": [
            "Sergio Pérez",
            "Sergio Pérez",
            "Sergio Pérez",
            "Sergio Pérez",
            "Sergio Pérez",
            "Sergio Pérez",
            "Sergio Pérez",
            "Sergio Pérez",
            "Sergio Pérez",
            "Sergio Pérez",
            "Sergio Pérez",
            "Sergio Pérez",
            "Sergio Pérez",
            "Sergio Pérez",
            "Sergio Pérez",
            "Sergio Pérez",
            "Sergio Pérez",
            "Sergio Pérez",
            "Sergio Pérez"
           ],
           "legendgroup": "Sergio Pérez",
           "marker": {
            "color": "rgb(221,132,82)",
            "size": [
             114.615,
             89.345,
             112.778,
             102.973,
             92.634,
             80.752,
             113.556,
             102.92399999999999,
             91.959,
             76.559,
             79.60600000000001,
             83.60700000000001,
             93.472,
             98.3,
             72.472,
             96.33,
             100.165,
             108.389,
             84.336
            ],
            "sizemode": "area",
            "sizeref": 0.03596189349112426,
            "symbol": "circle"
           },
           "mode": "markers",
           "name": "Sergio Pérez",
           "orientation": "h",
           "showlegend": true,
           "type": "scatter",
           "x": [
            114.615,
            89.345,
            112.778,
            102.973,
            92.634,
            80.752,
            113.556,
            102.92399999999999,
            91.959,
            76.559,
            79.60600000000001,
            83.60700000000001,
            93.472,
            98.3,
            72.472,
            96.33,
            100.165,
            108.389,
            84.336
           ],
           "xaxis": "x",
           "y": [
            "10",
            "10",
            "10",
            "10",
            "10",
            "10",
            "10",
            "10",
            "10",
            "10",
            "10",
            "10",
            "10",
            "10",
            "10",
            "10",
            "10",
            "10",
            "10"
           ],
           "yaxis": "y"
          },
          {
           "hovertemplate": "<b>%{hovertext}</b><br><br>Full Name=Daniel Ricciardo<br>Points=1.0<br>Fastest Lap Time=%{marker.size}<br>Position=%{y}<extra></extra>",
           "hovertext": [
            "Daniel Ricciardo",
            "Daniel Ricciardo",
            "Daniel Ricciardo",
            "Daniel Ricciardo",
            "Daniel Ricciardo",
            "Daniel Ricciardo",
            "Daniel Ricciardo",
            "Daniel Ricciardo",
            "Daniel Ricciardo"
           ],
           "ids": [
            "Daniel Ricciardo",
            "Daniel Ricciardo",
            "Daniel Ricciardo",
            "Daniel Ricciardo",
            "Daniel Ricciardo",
            "Daniel Ricciardo",
            "Daniel Ricciardo",
            "Daniel Ricciardo",
            "Daniel Ricciardo"
           ],
           "legendgroup": "Daniel Ricciardo",
           "marker": {
            "color": "rgb(85,168,104)",
            "size": [
             97.455,
             105.903,
             88.083,
             110.96700000000001,
             88.831,
             76.97399999999999,
             105.31200000000001,
             71.689,
             101.98
            ],
            "sizemode": "area",
            "sizeref": 0.03596189349112426,
            "symbol": "circle"
           },
           "mode": "markers",
           "name": "Daniel Ricciardo",
           "orientation": "h",
           "showlegend": true,
           "type": "scatter",
           "x": [
            97.455,
            105.903,
            88.083,
            110.96700000000001,
            88.831,
            76.97399999999999,
            105.31200000000001,
            71.689,
            101.98
           ],
           "xaxis": "x",
           "y": [
            "10",
            "10",
            "10",
            "10",
            "10",
            "10",
            "10",
            "10",
            "10"
           ],
           "yaxis": "y"
          },
          {
           "hovertemplate": "<b>%{hovertext}</b><br><br>Full Name=Valtteri Bottas<br>Points=1.0<br>Fastest Lap Time=%{marker.size}<br>Position=%{y}<extra></extra>",
           "hovertext": [
            "Valtteri Bottas",
            "Valtteri Bottas",
            "Valtteri Bottas"
           ],
           "ids": [
            "Valtteri Bottas",
            "Valtteri Bottas",
            "Valtteri Bottas"
           ],
           "legendgroup": "Valtteri Bottas",
           "marker": {
            "color": "rgb(196,78,82)",
            "size": [
             74.229,
             101.558,
             97.844
            ],
            "sizemode": "area",
            "sizeref": 0.03596189349112426,
            "symbol": "circle"
           },
           "mode": "markers",
           "name": "Valtteri Bottas",
           "orientation": "h",
           "showlegend": true,
           "type": "scatter",
           "x": [
            74.229,
            101.558,
            97.844
           ],
           "xaxis": "x",
           "y": [
            "10",
            "10",
            "10"
           ],
           "yaxis": "y"
          },
          {
           "hovertemplate": "<b>%{hovertext}</b><br><br>Full Name=Carlos Sainz<br>Points=1.0<br>Fastest Lap Time=%{marker.size}<br>Position=%{y}<extra></extra>",
           "hovertext": [
            "Carlos Sainz",
            "Carlos Sainz",
            "Carlos Sainz",
            "Carlos Sainz",
            "Carlos Sainz",
            "Carlos Sainz",
            "Carlos Sainz",
            "Carlos Sainz"
           ],
           "ids": [
            "Carlos Sainz",
            "Carlos Sainz",
            "Carlos Sainz",
            "Carlos Sainz",
            "Carlos Sainz",
            "Carlos Sainz",
            "Carlos Sainz",
            "Carlos Sainz"
           ],
           "legendgroup": "Carlos Sainz",
           "marker": {
            "color": "rgb(129,114,179)",
            "size": [
             79.816,
             98.686,
             98.85799999999999,
             109.709,
             87.944,
             77.491,
             94.197,
             101.294
            ],
            "sizemode": "area",
            "sizeref": 0.03596189349112426,
            "symbol": "circle"
           },
           "mode": "markers",
           "name": "Carlos Sainz",
           "orientation": "h",
           "showlegend": true,
           "type": "scatter",
           "x": [
            79.816,
            98.686,
            98.85799999999999,
            109.709,
            87.944,
            77.491,
            94.197,
            101.294
           ],
           "xaxis": "x",
           "y": [
            "10",
            "10",
            "10",
            "10",
            "10",
            "10",
            "10",
            "10"
           ],
           "yaxis": "y"
          },
          {
           "hovertemplate": "<b>%{hovertext}</b><br><br>Full Name=Max Verstappen<br>Points=1.0<br>Fastest Lap Time=%{marker.size}<br>Position=%{y}<extra></extra>",
           "hovertext": [
            "Max Verstappen",
            "Max Verstappen",
            "Max Verstappen"
           ],
           "ids": [
            "Max Verstappen",
            "Max Verstappen",
            "Max Verstappen"
           ],
           "legendgroup": "Max Verstappen",
           "marker": {
            "color": "rgb(147,120,96)",
            "size": [
             103.265,
             91.516,
             84.351
            ],
            "sizemode": "area",
            "sizeref": 0.03596189349112426,
            "symbol": "circle"
           },
           "mode": "markers",
           "name": "Max Verstappen",
           "orientation": "h",
           "showlegend": true,
           "type": "scatter",
           "x": [
            103.265,
            91.516,
            84.351
           ],
           "xaxis": "x",
           "y": [
            "10",
            "10",
            "10"
           ],
           "yaxis": "y"
          },
          {
           "hovertemplate": "<b>%{hovertext}</b><br><br>Full Name=Pierre Gasly<br>Points=1.0<br>Fastest Lap Time=%{marker.size}<br>Position=%{y}<extra></extra>",
           "hovertext": [
            "Pierre Gasly",
            "Pierre Gasly"
           ],
           "ids": [
            "Pierre Gasly",
            "Pierre Gasly"
           ],
           "legendgroup": "Pierre Gasly",
           "marker": {
            "color": "rgb(218,139,195)",
            "size": [
             82.755,
             95.197
            ],
            "sizemode": "area",
            "sizeref": 0.03596189349112426,
            "symbol": "circle"
           },
           "mode": "markers",
           "name": "Pierre Gasly",
           "orientation": "h",
           "showlegend": true,
           "type": "scatter",
           "x": [
            82.755,
            95.197
           ],
           "xaxis": "x",
           "y": [
            "10",
            "10"
           ],
           "yaxis": "y"
          },
          {
           "hovertemplate": "<b>%{hovertext}</b><br><br>Full Name=Charles Leclerc<br>Points=1.0<br>Fastest Lap Time=%{marker.size}<br>Position=%{y}<extra></extra>",
           "hovertext": [
            "Charles Leclerc",
            "Charles Leclerc",
            "Charles Leclerc"
           ],
           "ids": [
            "Charles Leclerc",
            "Charles Leclerc",
            "Charles Leclerc"
           ],
           "legendgroup": "Charles Leclerc",
           "marker": {
            "color": "rgb(140,140,140)",
            "size": [
             82.12200000000001,
             75.48,
             95.977
            ],
            "sizemode": "area",
            "sizeref": 0.03596189349112426,
            "symbol": "circle"
           },
           "mode": "markers",
           "name": "Charles Leclerc",
           "orientation": "h",
           "showlegend": true,
           "type": "scatter",
           "x": [
            82.12200000000001,
            75.48,
            95.977
           ],
           "xaxis": "x",
           "y": [
            "10",
            "10",
            "10"
           ],
           "yaxis": "y"
          },
          {
           "hovertemplate": "<b>%{hovertext}</b><br><br>Full Name=Lando Norris<br>Points=1.0<br>Fastest Lap Time=%{marker.size}<br>Position=%{y}<extra></extra>",
           "hovertext": [
            "Lando Norris",
            "Lando Norris"
           ],
           "ids": [
            "Lando Norris",
            "Lando Norris"
           ],
           "legendgroup": "Lando Norris",
           "marker": {
            "color": "rgb(204,185,116)",
            "size": [
             84.044,
             82.39200000000001
            ],
            "sizemode": "area",
            "sizeref": 0.03596189349112426,
            "symbol": "circle"
           },
           "mode": "markers",
           "name": "Lando Norris",
           "orientation": "h",
           "showlegend": true,
           "type": "scatter",
           "x": [
            84.044,
            82.39200000000001
           ],
           "xaxis": "x",
           "y": [
            "10",
            "10"
           ],
           "yaxis": "y"
          },
          {
           "hovertemplate": "<b>%{hovertext}</b><br><br>Full Name=Alexander Albon<br>Points=1.0<br>Fastest Lap Time=%{marker.size}<br>Position=%{y}<extra></extra>",
           "hovertext": [
            "Alexander Albon",
            "Alexander Albon",
            "Alexander Albon"
           ],
           "ids": [
            "Alexander Albon",
            "Alexander Albon",
            "Alexander Albon"
           ],
           "legendgroup": "Alexander Albon",
           "marker": {
            "color": "rgb(100,181,205)",
            "size": [
             98.901,
             80.62100000000001,
             98.377
            ],
            "sizemode": "area",
            "sizeref": 0.03596189349112426,
            "symbol": "circle"
           },
           "mode": "markers",
           "name": "Alexander Albon",
           "orientation": "h",
           "showlegend": true,
           "type": "scatter",
           "x": [
            98.901,
            80.62100000000001,
            98.377
           ],
           "xaxis": "x",
           "y": [
            "10",
            "10",
            "10"
           ],
           "yaxis": "y"
          }
         ],
         "name": "1.0"
        },
        {
         "data": [
          {
           "hovertemplate": "<b>%{hovertext}</b><br><br>Full Name=Lewis Hamilton<br>Points=3.0<br>Fastest Lap Time=%{marker.size}<br>Position=%{y}<extra></extra>",
           "hovertext": [
            "Lewis Hamilton"
           ],
           "ids": [
            "Lewis Hamilton"
           ],
           "legendgroup": "Lewis Hamilton",
           "marker": {
            "color": "rgb(76,114,176)",
            "size": [
             114.665
            ],
            "sizemode": "area",
            "sizeref": 0.03596189349112426,
            "symbol": "circle"
           },
           "mode": "markers",
           "name": "Lewis Hamilton",
           "orientation": "h",
           "showlegend": true,
           "type": "scatter",
           "x": [
            114.665
           ],
           "xaxis": "x",
           "y": [
            "6"
           ],
           "yaxis": "y"
          },
          {
           "hovertemplate": "<b>%{hovertext}</b><br><br>Full Name=Carlos Sainz<br>Points=3.0<br>Fastest Lap Time=%{marker.size}<br>Position=%{y}<extra></extra>",
           "hovertext": [
            "Carlos Sainz"
           ],
           "ids": [
            "Carlos Sainz"
           ],
           "legendgroup": "Carlos Sainz",
           "marker": {
            "color": "rgb(129,114,179)",
            "size": [
             65.619
            ],
            "sizemode": "area",
            "sizeref": 0.03596189349112426,
            "symbol": "circle"
           },
           "mode": "markers",
           "name": "Carlos Sainz",
           "orientation": "h",
           "showlegend": true,
           "type": "scatter",
           "x": [
            65.619
           ],
           "xaxis": "x",
           "y": [
            "9"
           ],
           "yaxis": "y"
          }
         ],
         "name": "3.0"
        },
        {
         "data": [
          {
           "hovertemplate": "<b>%{hovertext}</b><br><br>Full Name=Lewis Hamilton<br>Points=15.0<br>Fastest Lap Time=%{marker.size}<br>Position=%{y}<extra></extra>",
           "hovertext": [
            "Lewis Hamilton",
            "Lewis Hamilton",
            "Lewis Hamilton",
            "Lewis Hamilton",
            "Lewis Hamilton",
            "Lewis Hamilton",
            "Lewis Hamilton",
            "Lewis Hamilton",
            "Lewis Hamilton",
            "Lewis Hamilton",
            "Lewis Hamilton",
            "Lewis Hamilton",
            "Lewis Hamilton",
            "Lewis Hamilton",
            "Lewis Hamilton",
            "Lewis Hamilton",
            "Lewis Hamilton",
            "Lewis Hamilton",
            "Lewis Hamilton"
           ],
           "ids": [
            "Lewis Hamilton",
            "Lewis Hamilton",
            "Lewis Hamilton",
            "Lewis Hamilton",
            "Lewis Hamilton",
            "Lewis Hamilton",
            "Lewis Hamilton",
            "Lewis Hamilton",
            "Lewis Hamilton",
            "Lewis Hamilton",
            "Lewis Hamilton",
            "Lewis Hamilton",
            "Lewis Hamilton",
            "Lewis Hamilton",
            "Lewis Hamilton",
            "Lewis Hamilton",
            "Lewis Hamilton",
            "Lewis Hamilton",
            "Lewis Hamilton"
           ],
           "legendgroup": "Lewis Hamilton",
           "marker": {
            "color": "rgb(76,114,176)",
            "size": [
             119.56,
             89.538,
             101.539,
             100.53,
             101.001,
             99.98100000000001,
             76.354,
             111.596,
             79.908,
             87.38,
             78.676,
             94.677,
             111.583,
             107.752,
             95.152,
             93.95299999999999,
             76.27,
             97.39200000000001,
             98.075
            ],
            "sizemode": "area",
            "sizeref": 0.03596189349112426,
            "symbol": "circle"
           },
           "mode": "markers",
           "name": "Lewis Hamilton",
           "orientation": "h",
           "showlegend": true,
           "type": "scatter",
           "x": [
            119.56,
            89.538,
            101.539,
            100.53,
            101.001,
            99.98100000000001,
            76.354,
            111.596,
            79.908,
            87.38,
            78.676,
            94.677,
            111.583,
            107.752,
            95.152,
            93.95299999999999,
            76.27,
            97.39200000000001,
            98.075
           ],
           "xaxis": "x",
           "y": [
            "3",
            "3",
            "3",
            "3",
            "3",
            "3",
            "3",
            "3",
            "3",
            "3",
            "3",
            "3",
            "3",
            "3",
            "3",
            "3",
            "3",
            "3",
            "3"
           ],
           "yaxis": "y"
          },
          {
           "hovertemplate": "<b>%{hovertext}</b><br><br>Full Name=Sergio Pérez<br>Points=15.0<br>Fastest Lap Time=%{marker.size}<br>Position=%{y}<extra></extra>",
           "hovertext": [
            "Sergio Pérez",
            "Sergio Pérez",
            "Sergio Pérez",
            "Sergio Pérez",
            "Sergio Pérez",
            "Sergio Pérez"
           ],
           "ids": [
            "Sergio Pérez",
            "Sergio Pérez",
            "Sergio Pérez",
            "Sergio Pérez",
            "Sergio Pérez",
            "Sergio Pérez"
           ],
           "legendgroup": "Sergio Pérez",
           "marker": {
            "color": "rgb(221,132,82)",
            "size": [
             76.414,
             99.32,
             101.772,
             78.446,
             106.99,
             106.206
            ],
            "sizemode": "area",
            "sizeref": 0.03596189349112426,
            "symbol": "circle"
           },
           "mode": "markers",
           "name": "Sergio Pérez",
           "orientation": "h",
           "showlegend": true,
           "type": "scatter",
           "x": [
            76.414,
            99.32,
            101.772,
            78.446,
            106.99,
            106.206
           ],
           "xaxis": "x",
           "y": [
            "3",
            "3",
            "3",
            "3",
            "3",
            "3"
           ],
           "yaxis": "y"
          },
          {
           "hovertemplate": "<b>%{hovertext}</b><br><br>Full Name=Daniel Ricciardo<br>Points=15.0<br>Fastest Lap Time=%{marker.size}<br>Position=%{y}<extra></extra>",
           "hovertext": [
            "Daniel Ricciardo",
            "Daniel Ricciardo",
            "Daniel Ricciardo",
            "Daniel Ricciardo",
            "Daniel Ricciardo",
            "Daniel Ricciardo",
            "Daniel Ricciardo",
            "Daniel Ricciardo",
            "Daniel Ricciardo",
            "Daniel Ricciardo",
            "Daniel Ricciardo",
            "Daniel Ricciardo",
            "Daniel Ricciardo",
            "Daniel Ricciardo",
            "Daniel Ricciardo",
            "Daniel Ricciardo",
            "Daniel Ricciardo"
           ],
           "ids": [
            "Daniel Ricciardo",
            "Daniel Ricciardo",
            "Daniel Ricciardo",
            "Daniel Ricciardo",
            "Daniel Ricciardo",
            "Daniel Ricciardo",
            "Daniel Ricciardo",
            "Daniel Ricciardo",
            "Daniel Ricciardo",
            "Daniel Ricciardo",
            "Daniel Ricciardo",
            "Daniel Ricciardo",
            "Daniel Ricciardo",
            "Daniel Ricciardo",
            "Daniel Ricciardo",
            "Daniel Ricciardo",
            "Daniel Ricciardo"
           ],
           "legendgroup": "Daniel Ricciardo",
           "marker": {
            "color": "rgb(85,168,104)",
            "size": [
             90.012,
             79.252,
             98.459,
             112.569,
             102.831,
             84.821,
             84.60799999999999,
             102.555,
             81.134,
             83.686,
             75.756,
             76.16499999999998,
             67.44200000000001,
             107.54899999999999,
             94.77,
             93.694,
             89.584
            ],
            "sizemode": "area",
            "sizeref": 0.03596189349112426,
            "symbol": "circle"
           },
           "mode": "markers",
           "name": "Daniel Ricciardo",
           "orientation": "h",
           "showlegend": true,
           "type": "scatter",
           "x": [
            90.012,
            79.252,
            98.459,
            112.569,
            102.831,
            84.821,
            84.60799999999999,
            102.555,
            81.134,
            83.686,
            75.756,
            76.16499999999998,
            67.44200000000001,
            107.54899999999999,
            94.77,
            93.694,
            89.584
           ],
           "xaxis": "x",
           "y": [
            "3",
            "3",
            "3",
            "3",
            "3",
            "3",
            "3",
            "3",
            "3",
            "3",
            "3",
            "3",
            "3",
            "3",
            "3",
            "3",
            "3"
           ],
           "yaxis": "y"
          },
          {
           "hovertemplate": "<b>%{hovertext}</b><br><br>Full Name=Valtteri Bottas<br>Points=15.0<br>Fastest Lap Time=%{marker.size}<br>Position=%{y}<extra></extra>",
           "hovertext": [
            "Valtteri Bottas",
            "Valtteri Bottas",
            "Valtteri Bottas",
            "Valtteri Bottas",
            "Valtteri Bottas",
            "Valtteri Bottas",
            "Valtteri Bottas",
            "Valtteri Bottas",
            "Valtteri Bottas",
            "Valtteri Bottas",
            "Valtteri Bottas",
            "Valtteri Bottas",
            "Valtteri Bottas",
            "Valtteri Bottas",
            "Valtteri Bottas",
            "Valtteri Bottas",
            "Valtteri Bottas"
           ],
           "ids": [
            "Valtteri Bottas",
            "Valtteri Bottas",
            "Valtteri Bottas",
            "Valtteri Bottas",
            "Valtteri Bottas",
            "Valtteri Bottas",
            "Valtteri Bottas",
            "Valtteri Bottas",
            "Valtteri Bottas",
            "Valtteri Bottas",
            "Valtteri Bottas",
            "Valtteri Bottas",
            "Valtteri Bottas",
            "Valtteri Bottas",
            "Valtteri Bottas",
            "Valtteri Bottas",
            "Valtteri Bottas"
           ],
           "legendgroup": "Valtteri Bottas",
           "marker": {
            "color": "rgb(196,78,82)",
            "size": [
             72.581,
             112.716,
             100.896,
             77.922,
             81.58500000000002,
             76.938,
             86.59299999999999,
             94.087,
             81.214,
             105.405,
             82.90700000000001,
             75.163,
             68.565,
             106.465,
             79.494,
             77.66499999999998,
             89.765
            ],
            "sizemode": "area",
            "sizeref": 0.03596189349112426,
            "symbol": "circle"
           },
           "mode": "markers",
           "name": "Valtteri Bottas",
           "orientation": "h",
           "showlegend": true,
           "type": "scatter",
           "x": [
            72.581,
            112.716,
            100.896,
            77.922,
            81.58500000000002,
            76.938,
            86.59299999999999,
            94.087,
            81.214,
            105.405,
            82.90700000000001,
            75.163,
            68.565,
            106.465,
            79.494,
            77.66499999999998,
            89.765
           ],
           "xaxis": "x",
           "y": [
            "3",
            "3",
            "3",
            "3",
            "3",
            "3",
            "3",
            "3",
            "3",
            "3",
            "3",
            "3",
            "3",
            "3",
            "3",
            "3",
            "3"
           ],
           "yaxis": "y"
          },
          {
           "hovertemplate": "<b>%{hovertext}</b><br><br>Full Name=Carlos Sainz<br>Points=15.0<br>Fastest Lap Time=%{marker.size}<br>Position=%{y}<extra></extra>",
           "hovertext": [
            "Carlos Sainz"
           ],
           "ids": [
            "Carlos Sainz"
           ],
           "legendgroup": "Carlos Sainz",
           "marker": {
            "color": "rgb(129,114,179)",
            "size": [
             73.158
            ],
            "sizemode": "area",
            "sizeref": 0.03596189349112426,
            "symbol": "circle"
           },
           "mode": "markers",
           "name": "Carlos Sainz",
           "orientation": "h",
           "showlegend": true,
           "type": "scatter",
           "x": [
            73.158
           ],
           "xaxis": "x",
           "y": [
            "3"
           ],
           "yaxis": "y"
          },
          {
           "hovertemplate": "<b>%{hovertext}</b><br><br>Full Name=Max Verstappen<br>Points=15.0<br>Fastest Lap Time=%{marker.size}<br>Position=%{y}<extra></extra>",
           "hovertext": [
            "Max Verstappen",
            "Max Verstappen",
            "Max Verstappen",
            "Max Verstappen",
            "Max Verstappen",
            "Max Verstappen",
            "Max Verstappen",
            "Max Verstappen",
            "Max Verstappen",
            "Max Verstappen",
            "Max Verstappen",
            "Max Verstappen",
            "Max Verstappen",
            "Max Verstappen",
            "Max Verstappen"
           ],
           "ids": [
            "Max Verstappen",
            "Max Verstappen",
            "Max Verstappen",
            "Max Verstappen",
            "Max Verstappen",
            "Max Verstappen",
            "Max Verstappen",
            "Max Verstappen",
            "Max Verstappen",
            "Max Verstappen",
            "Max Verstappen",
            "Max Verstappen",
            "Max Verstappen",
            "Max Verstappen",
            "Max Verstappen"
           ],
           "legendgroup": "Max Verstappen",
           "marker": {
            "color": "rgb(147,120,96)",
            "size": [
             78.91,
             85.305,
             96.722,
             79.422,
             73.86399999999999,
             106.946,
             93.367,
             101.909,
             86.256,
             79.76899999999999,
             105.176,
             98.214,
             66.145,
             108.305,
             79.854
            ],
            "sizemode": "area",
            "sizeref": 0.03596189349112426,
            "symbol": "circle"
           },
           "mode": "markers",
           "name": "Max Verstappen",
           "orientation": "h",
           "showlegend": true,
           "type": "scatter",
           "x": [
            78.91,
            85.305,
            96.722,
            79.422,
            73.86399999999999,
            106.946,
            93.367,
            101.909,
            86.256,
            79.76899999999999,
            105.176,
            98.214,
            66.145,
            108.305,
            79.854
           ],
           "xaxis": "x",
           "y": [
            "3",
            "3",
            "3",
            "3",
            "3",
            "3",
            "3",
            "3",
            "3",
            "3",
            "3",
            "3",
            "3",
            "3",
            "3"
           ],
           "yaxis": "y"
          },
          {
           "hovertemplate": "<b>%{hovertext}</b><br><br>Full Name=Charles Leclerc<br>Points=15.0<br>Fastest Lap Time=%{marker.size}<br>Position=%{y}<extra></extra>",
           "hovertext": [
            "Charles Leclerc",
            "Charles Leclerc",
            "Charles Leclerc",
            "Charles Leclerc",
            "Charles Leclerc",
            "Charles Leclerc"
           ],
           "ids": [
            "Charles Leclerc",
            "Charles Leclerc",
            "Charles Leclerc",
            "Charles Leclerc",
            "Charles Leclerc",
            "Charles Leclerc"
           ],
           "legendgroup": "Charles Leclerc",
           "marker": {
            "color": "rgb(140,140,140)",
            "size": [
             74.35600000000001,
             93.82799999999999,
             89.31299999999999,
             96.193,
             100.442,
             89.81299999999999
            ],
            "sizemode": "area",
            "sizeref": 0.03596189349112426,
            "symbol": "circle"
           },
           "mode": "markers",
           "name": "Charles Leclerc",
           "orientation": "h",
           "showlegend": true,
           "type": "scatter",
           "x": [
            74.35600000000001,
            93.82799999999999,
            89.31299999999999,
            96.193,
            100.442,
            89.81299999999999
           ],
           "xaxis": "x",
           "y": [
            "3",
            "3",
            "3",
            "3",
            "3",
            "3"
           ],
           "yaxis": "y"
          },
          {
           "hovertemplate": "<b>%{hovertext}</b><br><br>Full Name=Alexander Albon<br>Points=15.0<br>Fastest Lap Time=%{marker.size}<br>Position=%{y}<extra></extra>",
           "hovertext": [
            "Alexander Albon"
           ],
           "ids": [
            "Alexander Albon"
           ],
           "legendgroup": "Alexander Albon",
           "marker": {
            "color": "rgb(100,181,205)",
            "size": [
             80.039
            ],
            "sizemode": "area",
            "sizeref": 0.03596189349112426,
            "symbol": "circle"
           },
           "mode": "markers",
           "name": "Alexander Albon",
           "orientation": "h",
           "showlegend": true,
           "type": "scatter",
           "x": [
            80.039
           ],
           "xaxis": "x",
           "y": [
            "3"
           ],
           "yaxis": "y"
          }
         ],
         "name": "15.0"
        },
        {
         "data": [
          {
           "hovertemplate": "<b>%{hovertext}</b><br><br>Full Name=Lewis Hamilton<br>Points=18.0<br>Fastest Lap Time=%{marker.size}<br>Position=%{y}<extra></extra>",
           "hovertext": [
            "Lewis Hamilton",
            "Lewis Hamilton",
            "Lewis Hamilton",
            "Lewis Hamilton",
            "Lewis Hamilton",
            "Lewis Hamilton",
            "Lewis Hamilton",
            "Lewis Hamilton",
            "Lewis Hamilton",
            "Lewis Hamilton",
            "Lewis Hamilton",
            "Lewis Hamilton",
            "Lewis Hamilton",
            "Lewis Hamilton",
            "Lewis Hamilton",
            "Lewis Hamilton",
            "Lewis Hamilton",
            "Lewis Hamilton",
            "Lewis Hamilton",
            "Lewis Hamilton",
            "Lewis Hamilton",
            "Lewis Hamilton",
            "Lewis Hamilton",
            "Lewis Hamilton",
            "Lewis Hamilton",
            "Lewis Hamilton",
            "Lewis Hamilton",
            "Lewis Hamilton",
            "Lewis Hamilton",
            "Lewis Hamilton",
            "Lewis Hamilton"
           ],
           "ids": [
            "Lewis Hamilton",
            "Lewis Hamilton",
            "Lewis Hamilton",
            "Lewis Hamilton",
            "Lewis Hamilton",
            "Lewis Hamilton",
            "Lewis Hamilton",
            "Lewis Hamilton",
            "Lewis Hamilton",
            "Lewis Hamilton",
            "Lewis Hamilton",
            "Lewis Hamilton",
            "Lewis Hamilton",
            "Lewis Hamilton",
            "Lewis Hamilton",
            "Lewis Hamilton",
            "Lewis Hamilton",
            "Lewis Hamilton",
            "Lewis Hamilton",
            "Lewis Hamilton",
            "Lewis Hamilton",
            "Lewis Hamilton",
            "Lewis Hamilton",
            "Lewis Hamilton",
            "Lewis Hamilton",
            "Lewis Hamilton",
            "Lewis Hamilton",
            "Lewis Hamilton",
            "Lewis Hamilton",
            "Lewis Hamilton",
            "Lewis Hamilton"
           ],
           "legendgroup": "Lewis Hamilton",
           "marker": {
            "color": "rgb(76,114,176)",
            "size": [
             102.061,
             99.156,
             92.758,
             110.43,
             101.274,
             90.314,
             86.727,
             100.459,
             79.361,
             72.217,
             73.555,
             103.125,
             88.27,
             71.475,
             80.723,
             74.832,
             104.51700000000001,
             90.646,
             100.266,
             86.303,
             87.03299999999999,
             92.79799999999999,
             94.45200000000001,
             101.473,
             86.444,
             91.245,
             106.721,
             86.057,
             104.166,
             106.58,
             98.446
            ],
            "sizemode": "area",
            "sizeref": 0.03596189349112426,
            "symbol": "circle"
           },
           "mode": "markers",
           "name": "Lewis Hamilton",
           "orientation": "h",
           "showlegend": true,
           "type": "scatter",
           "x": [
            102.061,
            99.156,
            92.758,
            110.43,
            101.274,
            90.314,
            86.727,
            100.459,
            79.361,
            72.217,
            73.555,
            103.125,
            88.27,
            71.475,
            80.723,
            74.832,
            104.51700000000001,
            90.646,
            100.266,
            86.303,
            87.03299999999999,
            92.79799999999999,
            94.45200000000001,
            101.473,
            86.444,
            91.245,
            106.721,
            86.057,
            104.166,
            106.58,
            98.446
           ],
           "xaxis": "x",
           "y": [
            "2",
            "2",
            "2",
            "2",
            "2",
            "2",
            "2",
            "2",
            "2",
            "2",
            "2",
            "2",
            "2",
            "2",
            "2",
            "2",
            "2",
            "2",
            "2",
            "2",
            "2",
            "2",
            "2",
            "2",
            "2",
            "2",
            "2",
            "2",
            "2",
            "2",
            "2"
           ],
           "yaxis": "y"
          },
          {
           "hovertemplate": "<b>%{hovertext}</b><br><br>Full Name=Sergio Pérez<br>Points=18.0<br>Fastest Lap Time=%{marker.size}<br>Position=%{y}<extra></extra>",
           "hovertext": [
            "Sergio Pérez",
            "Sergio Pérez"
           ],
           "ids": [
            "Sergio Pérez",
            "Sergio Pérez"
           ],
           "legendgroup": "Sergio Pérez",
           "marker": {
            "color": "rgb(221,132,82)",
            "size": [
             101.021,
             87.56200000000001
            ],
            "sizemode": "area",
            "sizeref": 0.03596189349112426,
            "symbol": "circle"
           },
           "mode": "markers",
           "name": "Sergio Pérez",
           "orientation": "h",
           "showlegend": true,
           "type": "scatter",
           "x": [
            101.021,
            87.56200000000001
           ],
           "xaxis": "x",
           "y": [
            "2",
            "2"
           ],
           "yaxis": "y"
          },
          {
           "hovertemplate": "<b>%{hovertext}</b><br><br>Full Name=Daniel Ricciardo<br>Points=18.0<br>Fastest Lap Time=%{marker.size}<br>Position=%{y}<extra></extra>",
           "hovertext": [
            "Daniel Ricciardo",
            "Daniel Ricciardo",
            "Daniel Ricciardo",
            "Daniel Ricciardo",
            "Daniel Ricciardo",
            "Daniel Ricciardo"
           ],
           "ids": [
            "Daniel Ricciardo",
            "Daniel Ricciardo",
            "Daniel Ricciardo",
            "Daniel Ricciardo",
            "Daniel Ricciardo",
            "Daniel Ricciardo"
           ],
           "legendgroup": "Daniel Ricciardo",
           "marker": {
            "color": "rgb(85,168,104)",
            "size": [
             110.041,
             78.294,
             78.44200000000002,
             112.461,
             107.18700000000001,
             105.301
            ],
            "sizemode": "area",
            "sizeref": 0.03596189349112426,
            "symbol": "circle"
           },
           "mode": "markers",
           "name": "Daniel Ricciardo",
           "orientation": "h",
           "showlegend": true,
           "type": "scatter",
           "x": [
            110.041,
            78.294,
            78.44200000000002,
            112.461,
            107.18700000000001,
            105.301
           ],
           "xaxis": "x",
           "y": [
            "2",
            "2",
            "2",
            "2",
            "2",
            "2"
           ],
           "yaxis": "y"
          },
          {
           "hovertemplate": "<b>%{hovertext}</b><br><br>Full Name=Valtteri Bottas<br>Points=18.0<br>Fastest Lap Time=%{marker.size}<br>Position=%{y}<extra></extra>",
           "hovertext": [
            "Valtteri Bottas",
            "Valtteri Bottas",
            "Valtteri Bottas",
            "Valtteri Bottas",
            "Valtteri Bottas",
            "Valtteri Bottas",
            "Valtteri Bottas",
            "Valtteri Bottas",
            "Valtteri Bottas",
            "Valtteri Bottas",
            "Valtteri Bottas",
            "Valtteri Bottas",
            "Valtteri Bottas",
            "Valtteri Bottas",
            "Valtteri Bottas",
            "Valtteri Bottas",
            "Valtteri Bottas",
            "Valtteri Bottas",
            "Valtteri Bottas",
            "Valtteri Bottas",
            "Valtteri Bottas",
            "Valtteri Bottas",
            "Valtteri Bottas",
            "Valtteri Bottas",
            "Valtteri Bottas",
            "Valtteri Bottas"
           ],
           "ids": [
            "Valtteri Bottas",
            "Valtteri Bottas",
            "Valtteri Bottas",
            "Valtteri Bottas",
            "Valtteri Bottas",
            "Valtteri Bottas",
            "Valtteri Bottas",
            "Valtteri Bottas",
            "Valtteri Bottas",
            "Valtteri Bottas",
            "Valtteri Bottas",
            "Valtteri Bottas",
            "Valtteri Bottas",
            "Valtteri Bottas",
            "Valtteri Bottas",
            "Valtteri Bottas",
            "Valtteri Bottas",
            "Valtteri Bottas",
            "Valtteri Bottas",
            "Valtteri Bottas",
            "Valtteri Bottas",
            "Valtteri Bottas",
            "Valtteri Bottas",
            "Valtteri Bottas",
            "Valtteri Bottas",
            "Valtteri Bottas"
           ],
           "legendgroup": "Valtteri Bottas",
           "marker": {
            "color": "rgb(196,78,82)",
            "size": [
             98.264,
             81.494,
             75.89399999999999,
             103.925,
             90.905,
             83.488,
             79.374,
             72.46600000000001,
             93.74,
             96.98700000000001,
             79.47800000000002,
             73.992,
             75.721,
             95.861,
             93.11,
             94.209,
             94.87200000000001,
             78.737,
             93.586,
             87.406,
             82.85900000000002,
             96.316,
             67.53399999999999,
             107.98299999999999,
             79.432,
             79.345
            ],
            "sizemode": "area",
            "sizeref": 0.03596189349112426,
            "symbol": "circle"
           },
           "mode": "markers",
           "name": "Valtteri Bottas",
           "orientation": "h",
           "showlegend": true,
           "type": "scatter",
           "x": [
            98.264,
            81.494,
            75.89399999999999,
            103.925,
            90.905,
            83.488,
            79.374,
            72.46600000000001,
            93.74,
            96.98700000000001,
            79.47800000000002,
            73.992,
            75.721,
            95.861,
            93.11,
            94.209,
            94.87200000000001,
            78.737,
            93.586,
            87.406,
            82.85900000000002,
            96.316,
            67.53399999999999,
            107.98299999999999,
            79.432,
            79.345
           ],
           "xaxis": "x",
           "y": [
            "2",
            "2",
            "2",
            "2",
            "2",
            "2",
            "2",
            "2",
            "2",
            "2",
            "2",
            "2",
            "2",
            "2",
            "2",
            "2",
            "2",
            "2",
            "2",
            "2",
            "2",
            "2",
            "2",
            "2",
            "2",
            "2"
           ],
           "yaxis": "y"
          },
          {
           "hovertemplate": "<b>%{hovertext}</b><br><br>Full Name=Carlos Sainz<br>Points=18.0<br>Fastest Lap Time=%{marker.size}<br>Position=%{y}<extra></extra>",
           "hovertext": [
            "Carlos Sainz"
           ],
           "ids": [
            "Carlos Sainz"
           ],
           "legendgroup": "Carlos Sainz",
           "marker": {
            "color": "rgb(129,114,179)",
            "size": [
             83.882
            ],
            "sizemode": "area",
            "sizeref": 0.03596189349112426,
            "symbol": "circle"
           },
           "mode": "markers",
           "name": "Carlos Sainz",
           "orientation": "h",
           "showlegend": true,
           "type": "scatter",
           "x": [
            83.882
           ],
           "xaxis": "x",
           "y": [
            "2"
           ],
           "yaxis": "y"
          },
          {
           "hovertemplate": "<b>%{hovertext}</b><br><br>Full Name=Max Verstappen<br>Points=18.0<br>Fastest Lap Time=%{marker.size}<br>Position=%{y}<extra></extra>",
           "hovertext": [
            "Max Verstappen",
            "Max Verstappen",
            "Max Verstappen",
            "Max Verstappen",
            "Max Verstappen",
            "Max Verstappen",
            "Max Verstappen",
            "Max Verstappen",
            "Max Verstappen",
            "Max Verstappen",
            "Max Verstappen",
            "Max Verstappen",
            "Max Verstappen"
           ],
           "ids": [
            "Max Verstappen",
            "Max Verstappen",
            "Max Verstappen",
            "Max Verstappen",
            "Max Verstappen",
            "Max Verstappen",
            "Max Verstappen",
            "Max Verstappen",
            "Max Verstappen",
            "Max Verstappen",
            "Max Verstappen",
            "Max Verstappen",
            "Max Verstappen"
           ],
           "legendgroup": "Max Verstappen",
           "marker": {
            "color": "rgb(147,120,96)",
            "size": [
             69.618,
             96.40700000000001,
             97.376,
             96.38600000000001,
             93.73,
             94.275,
             103.345,
             98.246,
             71.578,
             101.119,
             79.184,
             81.477,
             97.33200000000001
            ],
            "sizemode": "area",
            "sizeref": 0.03596189349112426,
            "symbol": "circle"
           },
           "mode": "markers",
           "name": "Max Verstappen",
           "orientation": "h",
           "showlegend": true,
           "type": "scatter",
           "x": [
            69.618,
            96.40700000000001,
            97.376,
            96.38600000000001,
            93.73,
            94.275,
            103.345,
            98.246,
            71.578,
            101.119,
            79.184,
            81.477,
            97.33200000000001
           ],
           "xaxis": "x",
           "y": [
            "2",
            "2",
            "2",
            "2",
            "2",
            "2",
            "2",
            "2",
            "2",
            "2",
            "2",
            "2",
            "2"
           ],
           "yaxis": "y"
          },
          {
           "hovertemplate": "<b>%{hovertext}</b><br><br>Full Name=Pierre Gasly<br>Points=18.0<br>Fastest Lap Time=%{marker.size}<br>Position=%{y}<extra></extra>",
           "hovertext": [
            "Pierre Gasly"
           ],
           "ids": [
            "Pierre Gasly"
           ],
           "legendgroup": "Pierre Gasly",
           "marker": {
            "color": "rgb(218,139,195)",
            "size": [
             72.425
            ],
            "sizemode": "area",
            "sizeref": 0.03596189349112426,
            "symbol": "circle"
           },
           "mode": "markers",
           "name": "Pierre Gasly",
           "orientation": "h",
           "showlegend": true,
           "type": "scatter",
           "x": [
            72.425
           ],
           "xaxis": "x",
           "y": [
            "2"
           ],
           "yaxis": "y"
          },
          {
           "hovertemplate": "<b>%{hovertext}</b><br><br>Full Name=Charles Leclerc<br>Points=18.0<br>Fastest Lap Time=%{marker.size}<br>Position=%{y}<extra></extra>",
           "hovertext": [
            "Charles Leclerc",
            "Charles Leclerc",
            "Charles Leclerc"
           ],
           "ids": [
            "Charles Leclerc",
            "Charles Leclerc",
            "Charles Leclerc"
           ],
           "legendgroup": "Charles Leclerc",
           "marker": {
            "color": "rgb(140,140,140)",
            "size": [
             67.994,
             104.723,
             67.90100000000001
            ],
            "sizemode": "area",
            "sizeref": 0.03596189349112426,
            "symbol": "circle"
           },
           "mode": "markers",
           "name": "Charles Leclerc",
           "orientation": "h",
           "showlegend": true,
           "type": "scatter",
           "x": [
            67.994,
            104.723,
            67.90100000000001
           ],
           "xaxis": "x",
           "y": [
            "2",
            "2",
            "2"
           ],
           "yaxis": "y"
          }
         ],
         "name": "18.0"
        },
        {
         "data": [
          {
           "hovertemplate": "<b>%{hovertext}</b><br><br>Full Name=Lewis Hamilton<br>Points=25.0<br>Fastest Lap Time=%{marker.size}<br>Position=%{y}<extra></extra>",
           "hovertext": [
            "Lewis Hamilton",
            "Lewis Hamilton",
            "Lewis Hamilton",
            "Lewis Hamilton",
            "Lewis Hamilton",
            "Lewis Hamilton",
            "Lewis Hamilton",
            "Lewis Hamilton",
            "Lewis Hamilton",
            "Lewis Hamilton",
            "Lewis Hamilton",
            "Lewis Hamilton",
            "Lewis Hamilton",
            "Lewis Hamilton",
            "Lewis Hamilton",
            "Lewis Hamilton",
            "Lewis Hamilton",
            "Lewis Hamilton",
            "Lewis Hamilton",
            "Lewis Hamilton",
            "Lewis Hamilton",
            "Lewis Hamilton",
            "Lewis Hamilton",
            "Lewis Hamilton",
            "Lewis Hamilton",
            "Lewis Hamilton",
            "Lewis Hamilton",
            "Lewis Hamilton",
            "Lewis Hamilton",
            "Lewis Hamilton",
            "Lewis Hamilton",
            "Lewis Hamilton",
            "Lewis Hamilton",
            "Lewis Hamilton",
            "Lewis Hamilton",
            "Lewis Hamilton",
            "Lewis Hamilton",
            "Lewis Hamilton",
            "Lewis Hamilton",
            "Lewis Hamilton",
            "Lewis Hamilton",
            "Lewis Hamilton",
            "Lewis Hamilton",
            "Lewis Hamilton",
            "Lewis Hamilton",
            "Lewis Hamilton",
            "Lewis Hamilton",
            "Lewis Hamilton",
            "Lewis Hamilton",
            "Lewis Hamilton",
            "Lewis Hamilton",
            "Lewis Hamilton",
            "Lewis Hamilton",
            "Lewis Hamilton",
            "Lewis Hamilton",
            "Lewis Hamilton",
            "Lewis Hamilton",
            "Lewis Hamilton",
            "Lewis Hamilton",
            "Lewis Hamilton",
            "Lewis Hamilton",
            "Lewis Hamilton",
            "Lewis Hamilton",
            "Lewis Hamilton",
            "Lewis Hamilton",
            "Lewis Hamilton",
            "Lewis Hamilton",
            "Lewis Hamilton",
            "Lewis Hamilton",
            "Lewis Hamilton",
            "Lewis Hamilton",
            "Lewis Hamilton",
            "Lewis Hamilton"
           ],
           "ids": [
            "Lewis Hamilton",
            "Lewis Hamilton",
            "Lewis Hamilton",
            "Lewis Hamilton",
            "Lewis Hamilton",
            "Lewis Hamilton",
            "Lewis Hamilton",
            "Lewis Hamilton",
            "Lewis Hamilton",
            "Lewis Hamilton",
            "Lewis Hamilton",
            "Lewis Hamilton",
            "Lewis Hamilton",
            "Lewis Hamilton",
            "Lewis Hamilton",
            "Lewis Hamilton",
            "Lewis Hamilton",
            "Lewis Hamilton",
            "Lewis Hamilton",
            "Lewis Hamilton",
            "Lewis Hamilton",
            "Lewis Hamilton",
            "Lewis Hamilton",
            "Lewis Hamilton",
            "Lewis Hamilton",
            "Lewis Hamilton",
            "Lewis Hamilton",
            "Lewis Hamilton",
            "Lewis Hamilton",
            "Lewis Hamilton",
            "Lewis Hamilton",
            "Lewis Hamilton",
            "Lewis Hamilton",
            "Lewis Hamilton",
            "Lewis Hamilton",
            "Lewis Hamilton",
            "Lewis Hamilton",
            "Lewis Hamilton",
            "Lewis Hamilton",
            "Lewis Hamilton",
            "Lewis Hamilton",
            "Lewis Hamilton",
            "Lewis Hamilton",
            "Lewis Hamilton",
            "Lewis Hamilton",
            "Lewis Hamilton",
            "Lewis Hamilton",
            "Lewis Hamilton",
            "Lewis Hamilton",
            "Lewis Hamilton",
            "Lewis Hamilton",
            "Lewis Hamilton",
            "Lewis Hamilton",
            "Lewis Hamilton",
            "Lewis Hamilton",
            "Lewis Hamilton",
            "Lewis Hamilton",
            "Lewis Hamilton",
            "Lewis Hamilton",
            "Lewis Hamilton",
            "Lewis Hamilton",
            "Lewis Hamilton",
            "Lewis Hamilton",
            "Lewis Hamilton",
            "Lewis Hamilton",
            "Lewis Hamilton",
            "Lewis Hamilton",
            "Lewis Hamilton",
            "Lewis Hamilton",
            "Lewis Hamilton",
            "Lewis Hamilton",
            "Lewis Hamilton",
            "Lewis Hamilton"
           ],
           "legendgroup": "Lewis Hamilton",
           "marker": {
            "color": "rgb(76,114,176)",
            "size": [
             90.075,
             77.806,
             109.069,
             100.415,
             94.302,
             103.461,
             77.02,
             85.67699999999998,
             88.42699999999998,
             99.709,
             84.64699999999998,
             103.066,
             97.10799999999999,
             101.196,
             89.48299999999999,
             97.176,
             88.00399999999999,
             110.417,
             111.6,
             101.60600000000001,
             101.929,
             90.945,
             102.208,
             97.85700000000001,
             77.47200000000002,
             97.09299999999999,
             112.504,
             86.67200000000001,
             96.145,
             100.573,
             100.738,
             77.939,
             75.98100000000001,
             68.411,
             95.771,
             83.84899999999999,
             78.74600000000001,
             102.38600000000001,
             82.596,
             85.639,
             105.137,
             95.37799999999999,
             83.59299999999999,
             74.551,
             90.62100000000001,
             106.603,
             83.488,
             105.008,
             93.78,
             98.776,
             105.412,
             79.133,
             94.509,
             75.545,
             81.107,
             82.49700000000001,
             102.913,
             95.916,
             92.785,
             71.795,
             101.35700000000001,
             93.528,
             95.89200000000001,
             76.167,
             74.813,
             92.764,
             78.52799999999998,
             79.461,
             66.719,
             89.238,
             79.822,
             107.758,
             88.145
            ],
            "sizemode": "area",
            "sizeref": 0.03596189349112426,
            "symbol": "circle"
           },
           "mode": "markers",
           "name": "Lewis Hamilton",
           "orientation": "h",
           "showlegend": true,
           "type": "scatter",
           "x": [
            90.075,
            77.806,
            109.069,
            100.415,
            94.302,
            103.461,
            77.02,
            85.67699999999998,
            88.42699999999998,
            99.709,
            84.64699999999998,
            103.066,
            97.10799999999999,
            101.196,
            89.48299999999999,
            97.176,
            88.00399999999999,
            110.417,
            111.6,
            101.60600000000001,
            101.929,
            90.945,
            102.208,
            97.85700000000001,
            77.47200000000002,
            97.09299999999999,
            112.504,
            86.67200000000001,
            96.145,
            100.573,
            100.738,
            77.939,
            75.98100000000001,
            68.411,
            95.771,
            83.84899999999999,
            78.74600000000001,
            102.38600000000001,
            82.596,
            85.639,
            105.137,
            95.37799999999999,
            83.59299999999999,
            74.551,
            90.62100000000001,
            106.603,
            83.488,
            105.008,
            93.78,
            98.776,
            105.412,
            79.133,
            94.509,
            75.545,
            81.107,
            82.49700000000001,
            102.913,
            95.916,
            92.785,
            71.795,
            101.35700000000001,
            93.528,
            95.89200000000001,
            76.167,
            74.813,
            92.764,
            78.52799999999998,
            79.461,
            66.719,
            89.238,
            79.822,
            107.758,
            88.145
           ],
           "xaxis": "x",
           "y": [
            "1",
            "1",
            "1",
            "1",
            "1",
            "1",
            "1",
            "1",
            "1",
            "1",
            "1",
            "1",
            "1",
            "1",
            "1",
            "1",
            "1",
            "1",
            "1",
            "1",
            "1",
            "1",
            "1",
            "1",
            "1",
            "1",
            "1",
            "1",
            "1",
            "1",
            "1",
            "1",
            "1",
            "1",
            "1",
            "1",
            "1",
            "1",
            "1",
            "1",
            "1",
            "1",
            "1",
            "1",
            "1",
            "1",
            "1",
            "1",
            "1",
            "1",
            "1",
            "1",
            "1",
            "1",
            "1",
            "1",
            "1",
            "1",
            "1",
            "1",
            "1",
            "1",
            "1",
            "1",
            "1",
            "1",
            "1",
            "1",
            "1",
            "1",
            "1",
            "1",
            "1"
           ],
           "yaxis": "y"
          },
          {
           "hovertemplate": "<b>%{hovertext}</b><br><br>Full Name=Daniel Ricciardo<br>Points=25.0<br>Fastest Lap Time=%{marker.size}<br>Position=%{y}<extra></extra>",
           "hovertext": [
            "Daniel Ricciardo",
            "Daniel Ricciardo",
            "Daniel Ricciardo",
            "Daniel Ricciardo",
            "Daniel Ricciardo",
            "Daniel Ricciardo",
            "Daniel Ricciardo"
           ],
           "ids": [
            "Daniel Ricciardo",
            "Daniel Ricciardo",
            "Daniel Ricciardo",
            "Daniel Ricciardo",
            "Daniel Ricciardo",
            "Daniel Ricciardo",
            "Daniel Ricciardo"
           ],
           "legendgroup": "Daniel Ricciardo",
           "marker": {
            "color": "rgb(85,168,104)",
            "size": [
             78.64,
             86.60799999999999,
             112.974,
             97.449,
             104.882,
             95.785,
             75.562
            ],
            "sizemode": "area",
            "sizeref": 0.03596189349112426,
            "symbol": "circle"
           },
           "mode": "markers",
           "name": "Daniel Ricciardo",
           "orientation": "h",
           "showlegend": true,
           "type": "scatter",
           "x": [
            78.64,
            86.60799999999999,
            112.974,
            97.449,
            104.882,
            95.785,
            75.562
           ],
           "xaxis": "x",
           "y": [
            "1",
            "1",
            "1",
            "1",
            "1",
            "1",
            "1"
           ],
           "yaxis": "y"
          },
          {
           "hovertemplate": "<b>%{hovertext}</b><br><br>Full Name=Valtteri Bottas<br>Points=25.0<br>Fastest Lap Time=%{marker.size}<br>Position=%{y}<extra></extra>",
           "hovertext": [
            "Valtteri Bottas",
            "Valtteri Bottas",
            "Valtteri Bottas",
            "Valtteri Bottas",
            "Valtteri Bottas",
            "Valtteri Bottas",
            "Valtteri Bottas"
           ],
           "ids": [
            "Valtteri Bottas",
            "Valtteri Bottas",
            "Valtteri Bottas",
            "Valtteri Bottas",
            "Valtteri Bottas",
            "Valtteri Bottas",
            "Valtteri Bottas"
           ],
           "legendgroup": "Valtteri Bottas",
           "marker": {
            "color": "rgb(196,78,82)",
            "size": [
             97.367,
             67.847,
             100.65,
             104.024,
             91.86200000000001,
             67.657,
             96.95700000000001
            ],
            "sizemode": "area",
            "sizeref": 0.03596189349112426,
            "symbol": "circle"
           },
           "mode": "markers",
           "name": "Valtteri Bottas",
           "orientation": "h",
           "showlegend": true,
           "type": "scatter",
           "x": [
            97.367,
            67.847,
            100.65,
            104.024,
            91.86200000000001,
            67.657,
            96.95700000000001
           ],
           "xaxis": "x",
           "y": [
            "1",
            "1",
            "1",
            "1",
            "1",
            "1",
            "1"
           ],
           "yaxis": "y"
          },
          {
           "hovertemplate": "<b>%{hovertext}</b><br><br>Full Name=Max Verstappen<br>Points=25.0<br>Fastest Lap Time=%{marker.size}<br>Position=%{y}<extra></extra>",
           "hovertext": [
            "Max Verstappen",
            "Max Verstappen",
            "Max Verstappen",
            "Max Verstappen",
            "Max Verstappen",
            "Max Verstappen",
            "Max Verstappen"
           ],
           "ids": [
            "Max Verstappen",
            "Max Verstappen",
            "Max Verstappen",
            "Max Verstappen",
            "Max Verstappen",
            "Max Verstappen",
            "Max Verstappen"
           ],
           "legendgroup": "Max Verstappen",
           "marker": {
            "color": "rgb(147,120,96)",
            "size": [
             88.816,
             94.46700000000001,
             78.892,
             67.44200000000001,
             79.186,
             70.862,
             89.465
            ],
            "sizemode": "area",
            "sizeref": 0.03596189349112426,
            "symbol": "circle"
           },
           "mode": "markers",
           "name": "Max Verstappen",
           "orientation": "h",
           "showlegend": true,
           "type": "scatter",
           "x": [
            88.816,
            94.46700000000001,
            78.892,
            67.44200000000001,
            79.186,
            70.862,
            89.465
           ],
           "xaxis": "x",
           "y": [
            "1",
            "1",
            "1",
            "1",
            "1",
            "1",
            "1"
           ],
           "yaxis": "y"
          },
          {
           "hovertemplate": "<b>%{hovertext}</b><br><br>Full Name=Pierre Gasly<br>Points=25.0<br>Fastest Lap Time=%{marker.size}<br>Position=%{y}<extra></extra>",
           "hovertext": [
            "Pierre Gasly"
           ],
           "ids": [
            "Pierre Gasly"
           ],
           "legendgroup": "Pierre Gasly",
           "marker": {
            "color": "rgb(218,139,195)",
            "size": [
             84.037
            ],
            "sizemode": "area",
            "sizeref": 0.03596189349112426,
            "symbol": "circle"
           },
           "mode": "markers",
           "name": "Pierre Gasly",
           "orientation": "h",
           "showlegend": true,
           "type": "scatter",
           "x": [
            84.037
           ],
           "xaxis": "x",
           "y": [
            "1"
           ],
           "yaxis": "y"
          },
          {
           "hovertemplate": "<b>%{hovertext}</b><br><br>Full Name=Charles Leclerc<br>Points=25.0<br>Fastest Lap Time=%{marker.size}<br>Position=%{y}<extra></extra>",
           "hovertext": [
            "Charles Leclerc",
            "Charles Leclerc"
           ],
           "ids": [
            "Charles Leclerc",
            "Charles Leclerc"
           ],
           "legendgroup": "Charles Leclerc",
           "marker": {
            "color": "rgb(140,140,140)",
            "size": [
             106.664,
             83.009
            ],
            "sizemode": "area",
            "sizeref": 0.03596189349112426,
            "symbol": "circle"
           },
           "mode": "markers",
           "name": "Charles Leclerc",
           "orientation": "h",
           "showlegend": true,
           "type": "scatter",
           "x": [
            106.664,
            83.009
           ],
           "xaxis": "x",
           "y": [
            "1",
            "1"
           ],
           "yaxis": "y"
          }
         ],
         "name": "25.0"
        },
        {
         "data": [
          {
           "hovertemplate": "<b>%{hovertext}</b><br><br>Full Name=Lewis Hamilton<br>Points=12.0<br>Fastest Lap Time=%{marker.size}<br>Position=%{y}<extra></extra>",
           "hovertext": [
            "Lewis Hamilton",
            "Lewis Hamilton",
            "Lewis Hamilton",
            "Lewis Hamilton",
            "Lewis Hamilton",
            "Lewis Hamilton",
            "Lewis Hamilton",
            "Lewis Hamilton",
            "Lewis Hamilton",
            "Lewis Hamilton",
            "Lewis Hamilton",
            "Lewis Hamilton",
            "Lewis Hamilton",
            "Lewis Hamilton",
            "Lewis Hamilton",
            "Lewis Hamilton",
            "Lewis Hamilton",
            "Lewis Hamilton",
            "Lewis Hamilton"
           ],
           "ids": [
            "Lewis Hamilton",
            "Lewis Hamilton",
            "Lewis Hamilton",
            "Lewis Hamilton",
            "Lewis Hamilton",
            "Lewis Hamilton",
            "Lewis Hamilton",
            "Lewis Hamilton",
            "Lewis Hamilton",
            "Lewis Hamilton",
            "Lewis Hamilton",
            "Lewis Hamilton",
            "Lewis Hamilton",
            "Lewis Hamilton",
            "Lewis Hamilton",
            "Lewis Hamilton",
            "Lewis Hamilton",
            "Lewis Hamilton",
            "Lewis Hamilton"
           ],
           "legendgroup": "Lewis Hamilton",
           "marker": {
            "color": "rgb(76,114,176)",
            "size": [
             76.503,
             73.851,
             90.10799999999999,
             102.947,
             96.18,
             83.661,
             86.18700000000001,
             88.944,
             78.133,
             94.159,
             100.818,
             98.398,
             67.411,
             80.818,
             71.845,
             96.87799999999999,
             80.72800000000002,
             104.914,
             67.712
            ],
            "sizemode": "area",
            "sizeref": 0.03596189349112426,
            "symbol": "circle"
           },
           "mode": "markers",
           "name": "Lewis Hamilton",
           "orientation": "h",
           "showlegend": true,
           "type": "scatter",
           "x": [
            76.503,
            73.851,
            90.10799999999999,
            102.947,
            96.18,
            83.661,
            86.18700000000001,
            88.944,
            78.133,
            94.159,
            100.818,
            98.398,
            67.411,
            80.818,
            71.845,
            96.87799999999999,
            80.72800000000002,
            104.914,
            67.712
           ],
           "xaxis": "x",
           "y": [
            "4",
            "4",
            "4",
            "4",
            "4",
            "4",
            "4",
            "4",
            "4",
            "4",
            "4",
            "4",
            "4",
            "4",
            "4",
            "4",
            "4",
            "4",
            "4"
           ],
           "yaxis": "y"
          },
          {
           "hovertemplate": "<b>%{hovertext}</b><br><br>Full Name=Sergio Pérez<br>Points=12.0<br>Fastest Lap Time=%{marker.size}<br>Position=%{y}<extra></extra>",
           "hovertext": [
            "Sergio Pérez",
            "Sergio Pérez",
            "Sergio Pérez",
            "Sergio Pérez",
            "Sergio Pérez"
           ],
           "ids": [
            "Sergio Pérez",
            "Sergio Pérez",
            "Sergio Pérez",
            "Sergio Pérez",
            "Sergio Pérez"
           ],
           "legendgroup": "Sergio Pérez",
           "marker": {
            "color": "rgb(221,132,82)",
            "size": [
             105.808,
             87.09299999999999,
             85.755,
             98.141,
             89.7
            ],
            "sizemode": "area",
            "sizeref": 0.03596189349112426,
            "symbol": "circle"
           },
           "mode": "markers",
           "name": "Sergio Pérez",
           "orientation": "h",
           "showlegend": true,
           "type": "scatter",
           "x": [
            105.808,
            87.09299999999999,
            85.755,
            98.141,
            89.7
           ],
           "xaxis": "x",
           "y": [
            "7",
            "4",
            "4",
            "4",
            "4"
           ],
           "yaxis": "y"
          },
          {
           "hovertemplate": "<b>%{hovertext}</b><br><br>Full Name=Daniel Ricciardo<br>Points=12.0<br>Fastest Lap Time=%{marker.size}<br>Position=%{y}<extra></extra>",
           "hovertext": [
            "Daniel Ricciardo",
            "Daniel Ricciardo",
            "Daniel Ricciardo",
            "Daniel Ricciardo",
            "Daniel Ricciardo",
            "Daniel Ricciardo",
            "Daniel Ricciardo",
            "Daniel Ricciardo",
            "Daniel Ricciardo",
            "Daniel Ricciardo",
            "Daniel Ricciardo",
            "Daniel Ricciardo",
            "Daniel Ricciardo",
            "Daniel Ricciardo",
            "Daniel Ricciardo",
            "Daniel Ricciardo",
            "Daniel Ricciardo",
            "Daniel Ricciardo",
            "Daniel Ricciardo",
            "Daniel Ricciardo"
           ],
           "ids": [
            "Daniel Ricciardo",
            "Daniel Ricciardo",
            "Daniel Ricciardo",
            "Daniel Ricciardo",
            "Daniel Ricciardo",
            "Daniel Ricciardo",
            "Daniel Ricciardo",
            "Daniel Ricciardo",
            "Daniel Ricciardo",
            "Daniel Ricciardo",
            "Daniel Ricciardo",
            "Daniel Ricciardo",
            "Daniel Ricciardo",
            "Daniel Ricciardo",
            "Daniel Ricciardo",
            "Daniel Ricciardo",
            "Daniel Ricciardo",
            "Daniel Ricciardo",
            "Daniel Ricciardo",
            "Daniel Ricciardo"
           ],
           "legendgroup": "Daniel Ricciardo",
           "marker": {
            "color": "rgb(85,168,104)",
            "size": [
             99.26899999999999,
             101.473,
             112.23100000000001,
             88.99700000000001,
             96.064,
             101.015,
             88.209,
             96.01299999999999,
             96.791,
             83.361,
             85.945,
             74.15899999999999,
             95.382,
             80.012,
             93.18700000000001,
             71.343,
             101.249,
             83.46600000000002,
             89.48200000000001,
             80.426
            ],
            "sizemode": "area",
            "sizeref": 0.03596189349112426,
            "symbol": "circle"
           },
           "mode": "markers",
           "name": "Daniel Ricciardo",
           "orientation": "h",
           "showlegend": true,
           "type": "scatter",
           "x": [
            99.26899999999999,
            101.473,
            112.23100000000001,
            88.99700000000001,
            96.064,
            101.015,
            88.209,
            96.01299999999999,
            96.791,
            83.361,
            85.945,
            74.15899999999999,
            95.382,
            80.012,
            93.18700000000001,
            71.343,
            101.249,
            83.46600000000002,
            89.48200000000001,
            80.426
           ],
           "xaxis": "x",
           "y": [
            "4",
            "4",
            "4",
            "4",
            "4",
            "4",
            "4",
            "4",
            "4",
            "4",
            "4",
            "4",
            "4",
            "4",
            "4",
            "4",
            "4",
            "4",
            "4",
            "4"
           ],
           "yaxis": "y"
          },
          {
           "hovertemplate": "<b>%{hovertext}</b><br><br>Full Name=Valtteri Bottas<br>Points=12.0<br>Fastest Lap Time=%{marker.size}<br>Position=%{y}<extra></extra>",
           "hovertext": [
            "Valtteri Bottas",
            "Valtteri Bottas",
            "Valtteri Bottas",
            "Valtteri Bottas",
            "Valtteri Bottas",
            "Valtteri Bottas",
            "Valtteri Bottas",
            "Valtteri Bottas",
            "Valtteri Bottas",
            "Valtteri Bottas",
            "Valtteri Bottas"
           ],
           "ids": [
            "Valtteri Bottas",
            "Valtteri Bottas",
            "Valtteri Bottas",
            "Valtteri Bottas",
            "Valtteri Bottas",
            "Valtteri Bottas",
            "Valtteri Bottas",
            "Valtteri Bottas",
            "Valtteri Bottas",
            "Valtteri Bottas",
            "Valtteri Bottas"
           ],
           "legendgroup": "Valtteri Bottas",
           "marker": {
            "color": "rgb(196,78,82)",
            "size": [
             88.559,
             98.095,
             90.711,
             87.525,
             101.159,
             76.439,
             93.14399999999999,
             91.37700000000001,
             106.286,
             104.72,
             99.715
            ],
            "sizemode": "area",
            "sizeref": 0.03596189349112426,
            "symbol": "circle"
           },
           "mode": "markers",
           "name": "Valtteri Bottas",
           "orientation": "h",
           "showlegend": true,
           "type": "scatter",
           "x": [
            88.559,
            98.095,
            90.711,
            87.525,
            101.159,
            76.439,
            93.14399999999999,
            91.37700000000001,
            106.286,
            104.72,
            99.715
           ],
           "xaxis": "x",
           "y": [
            "4",
            "4",
            "4",
            "4",
            "4",
            "4",
            "4",
            "4",
            "4",
            "4",
            "4"
           ],
           "yaxis": "y"
          },
          {
           "hovertemplate": "<b>%{hovertext}</b><br><br>Full Name=Carlos Sainz<br>Points=12.0<br>Fastest Lap Time=%{marker.size}<br>Position=%{y}<extra></extra>",
           "hovertext": [
            "Carlos Sainz"
           ],
           "ids": [
            "Carlos Sainz"
           ],
           "legendgroup": "Carlos Sainz",
           "marker": {
            "color": "rgb(129,114,179)",
            "size": [
             106.537
            ],
            "sizemode": "area",
            "sizeref": 0.03596189349112426,
            "symbol": "circle"
           },
           "mode": "markers",
           "name": "Carlos Sainz",
           "orientation": "h",
           "showlegend": true,
           "type": "scatter",
           "x": [
            106.537
           ],
           "xaxis": "x",
           "y": [
            "4"
           ],
           "yaxis": "y"
          },
          {
           "hovertemplate": "<b>%{hovertext}</b><br><br>Full Name=Max Verstappen<br>Points=12.0<br>Fastest Lap Time=%{marker.size}<br>Position=%{y}<extra></extra>",
           "hovertext": [
            "Max Verstappen",
            "Max Verstappen",
            "Max Verstappen",
            "Max Verstappen",
            "Max Verstappen",
            "Max Verstappen",
            "Max Verstappen",
            "Max Verstappen",
            "Max Verstappen",
            "Max Verstappen",
            "Max Verstappen",
            "Max Verstappen",
            "Max Verstappen",
            "Max Verstappen"
           ],
           "ids": [
            "Max Verstappen",
            "Max Verstappen",
            "Max Verstappen",
            "Max Verstappen",
            "Max Verstappen",
            "Max Verstappen",
            "Max Verstappen",
            "Max Verstappen",
            "Max Verstappen",
            "Max Verstappen",
            "Max Verstappen",
            "Max Verstappen",
            "Max Verstappen",
            "Max Verstappen"
           ],
           "legendgroup": "Max Verstappen",
           "marker": {
            "color": "rgb(147,120,96)",
            "size": [
             87.65,
             103.17200000000001,
             76.319,
             82.887,
             105.18700000000001,
             90.678,
             98.06,
             75.852,
             95.311,
             96.14299999999999,
             104.794,
             76.229,
             94.162,
             96.93700000000001
            ],
            "sizemode": "area",
            "sizeref": 0.03596189349112426,
            "symbol": "circle"
           },
           "mode": "markers",
           "name": "Max Verstappen",
           "orientation": "h",
           "showlegend": true,
           "type": "scatter",
           "x": [
            87.65,
            103.17200000000001,
            76.319,
            82.887,
            105.18700000000001,
            90.678,
            98.06,
            75.852,
            95.311,
            96.14299999999999,
            104.794,
            76.229,
            94.162,
            96.93700000000001
           ],
           "xaxis": "x",
           "y": [
            "4",
            "4",
            "4",
            "4",
            "4",
            "4",
            "4",
            "4",
            "4",
            "4",
            "4",
            "4",
            "4",
            "4"
           ],
           "yaxis": "y"
          },
          {
           "hovertemplate": "<b>%{hovertext}</b><br><br>Full Name=Pierre Gasly<br>Points=12.0<br>Fastest Lap Time=%{marker.size}<br>Position=%{y}<extra></extra>",
           "hovertext": [
            "Pierre Gasly",
            "Pierre Gasly"
           ],
           "ids": [
            "Pierre Gasly",
            "Pierre Gasly"
           ],
           "legendgroup": "Pierre Gasly",
           "marker": {
            "color": "rgb(218,139,195)",
            "size": [
             94.863,
             89.544
            ],
            "sizemode": "area",
            "sizeref": 0.03596189349112426,
            "symbol": "circle"
           },
           "mode": "markers",
           "name": "Pierre Gasly",
           "orientation": "h",
           "showlegend": true,
           "type": "scatter",
           "x": [
            94.863,
            89.544
           ],
           "xaxis": "x",
           "y": [
            "4",
            "4"
           ],
           "yaxis": "y"
          },
          {
           "hovertemplate": "<b>%{hovertext}</b><br><br>Full Name=Charles Leclerc<br>Points=12.0<br>Fastest Lap Time=%{marker.size}<br>Position=%{y}<extra></extra>",
           "hovertext": [
            "Charles Leclerc",
            "Charles Leclerc",
            "Charles Leclerc"
           ],
           "ids": [
            "Charles Leclerc",
            "Charles Leclerc",
            "Charles Leclerc"
           ],
           "legendgroup": "Charles Leclerc",
           "marker": {
            "color": "rgb(140,140,140)",
            "size": [
             80.493,
             90.552,
             80.408
            ],
            "sizemode": "area",
            "sizeref": 0.03596189349112426,
            "symbol": "circle"
           },
           "mode": "markers",
           "name": "Charles Leclerc",
           "orientation": "h",
           "showlegend": true,
           "type": "scatter",
           "x": [
            80.493,
            90.552,
            80.408
           ],
           "xaxis": "x",
           "y": [
            "4",
            "4",
            "4"
           ],
           "yaxis": "y"
          },
          {
           "hovertemplate": "<b>%{hovertext}</b><br><br>Full Name=Lando Norris<br>Points=12.0<br>Fastest Lap Time=%{marker.size}<br>Position=%{y}<extra></extra>",
           "hovertext": [
            "Lando Norris"
           ],
           "ids": [
            "Lando Norris"
           ],
           "legendgroup": "Lando Norris",
           "marker": {
            "color": "rgb(204,185,116)",
            "size": [
             84.23200000000001
            ],
            "sizemode": "area",
            "sizeref": 0.03596189349112426,
            "symbol": "circle"
           },
           "mode": "markers",
           "name": "Lando Norris",
           "orientation": "h",
           "showlegend": true,
           "type": "scatter",
           "x": [
            84.23200000000001
           ],
           "xaxis": "x",
           "y": [
            "4"
           ],
           "yaxis": "y"
          },
          {
           "hovertemplate": "<b>%{hovertext}</b><br><br>Full Name=Alexander Albon<br>Points=12.0<br>Fastest Lap Time=%{marker.size}<br>Position=%{y}<extra></extra>",
           "hovertext": [
            "Alexander Albon",
            "Alexander Albon"
           ],
           "ids": [
            "Alexander Albon",
            "Alexander Albon"
           ],
           "legendgroup": "Alexander Albon",
           "marker": {
            "color": "rgb(100,181,205)",
            "size": [
             92.775,
             67.29899999999999
            ],
            "sizemode": "area",
            "sizeref": 0.03596189349112426,
            "symbol": "circle"
           },
           "mode": "markers",
           "name": "Alexander Albon",
           "orientation": "h",
           "showlegend": true,
           "type": "scatter",
           "x": [
            92.775,
            67.29899999999999
           ],
           "xaxis": "x",
           "y": [
            "4",
            "4"
           ],
           "yaxis": "y"
          }
         ],
         "name": "12.0"
        },
        {
         "data": [
          {
           "hovertemplate": "<b>%{hovertext}</b><br><br>Full Name=Lewis Hamilton<br>Points=50.0<br>Fastest Lap Time=%{marker.size}<br>Position=%{y}<extra></extra>",
           "hovertext": [
            "Lewis Hamilton"
           ],
           "ids": [
            "Lewis Hamilton"
           ],
           "legendgroup": "Lewis Hamilton",
           "marker": {
            "color": "rgb(76,114,176)",
            "size": [
             105.599
            ],
            "sizemode": "area",
            "sizeref": 0.03596189349112426,
            "symbol": "circle"
           },
           "mode": "markers",
           "name": "Lewis Hamilton",
           "orientation": "h",
           "showlegend": true,
           "type": "scatter",
           "x": [
            105.599
           ],
           "xaxis": "x",
           "y": [
            "1"
           ],
           "yaxis": "y"
          }
         ],
         "name": "50.0"
        },
        {
         "data": [
          {
           "hovertemplate": "<b>%{hovertext}</b><br><br>Full Name=Valtteri Bottas<br>Points=30.0<br>Fastest Lap Time=%{marker.size}<br>Position=%{y}<extra></extra>",
           "hovertext": [
            "Valtteri Bottas"
           ],
           "ids": [
            "Valtteri Bottas"
           ],
           "legendgroup": "Valtteri Bottas",
           "marker": {
            "color": "rgb(196,78,82)",
            "size": [
             105.727
            ],
            "sizemode": "area",
            "sizeref": 0.03596189349112426,
            "symbol": "circle"
           },
           "mode": "markers",
           "name": "Valtteri Bottas",
           "orientation": "h",
           "showlegend": true,
           "type": "scatter",
           "x": [
            105.727
           ],
           "xaxis": "x",
           "y": [
            "3"
           ],
           "yaxis": "y"
          }
         ],
         "name": "30.0"
        },
        {
         "data": [
          {
           "hovertemplate": "<b>%{hovertext}</b><br><br>Full Name=Daniel Ricciardo<br>Points=24.0<br>Fastest Lap Time=%{marker.size}<br>Position=%{y}<extra></extra>",
           "hovertext": [
            "Daniel Ricciardo"
           ],
           "ids": [
            "Daniel Ricciardo"
           ],
           "legendgroup": "Daniel Ricciardo",
           "marker": {
            "color": "rgb(85,168,104)",
            "size": [
             104.496
            ],
            "sizemode": "area",
            "sizeref": 0.03596189349112426,
            "symbol": "circle"
           },
           "mode": "markers",
           "name": "Daniel Ricciardo",
           "orientation": "h",
           "showlegend": true,
           "type": "scatter",
           "x": [
            104.496
           ],
           "xaxis": "x",
           "y": [
            "4"
           ],
           "yaxis": "y"
          }
         ],
         "name": "24.0"
        },
        {
         "data": [
          {
           "hovertemplate": "<b>%{hovertext}</b><br><br>Full Name=Lewis Hamilton<br>Points=26.0<br>Fastest Lap Time=%{marker.size}<br>Position=%{y}<extra></extra>",
           "hovertext": [
            "Lewis Hamilton",
            "Lewis Hamilton",
            "Lewis Hamilton",
            "Lewis Hamilton",
            "Lewis Hamilton",
            "Lewis Hamilton",
            "Lewis Hamilton"
           ],
           "ids": [
            "Lewis Hamilton",
            "Lewis Hamilton",
            "Lewis Hamilton",
            "Lewis Hamilton",
            "Lewis Hamilton",
            "Lewis Hamilton",
            "Lewis Hamilton"
           ],
           "legendgroup": "Lewis Hamilton",
           "marker": {
            "color": "rgb(76,114,176)",
            "size": [
             78.492,
             87.369,
             95.76100000000001,
             99.28299999999999,
             76.627,
             78.833,
             78.75
            ],
            "sizemode": "area",
            "sizeref": 0.03596189349112426,
            "symbol": "circle"
           },
           "mode": "markers",
           "name": "Lewis Hamilton",
           "orientation": "h",
           "showlegend": true,
           "type": "scatter",
           "x": [
            78.492,
            87.369,
            95.76100000000001,
            99.28299999999999,
            76.627,
            78.833,
            78.75
           ],
           "xaxis": "x",
           "y": [
            "1",
            "1",
            "1",
            "1",
            "1",
            "1",
            "1"
           ],
           "yaxis": "y"
          },
          {
           "hovertemplate": "<b>%{hovertext}</b><br><br>Full Name=Valtteri Bottas<br>Points=26.0<br>Fastest Lap Time=%{marker.size}<br>Position=%{y}<extra></extra>",
           "hovertext": [
            "Valtteri Bottas",
            "Valtteri Bottas"
           ],
           "ids": [
            "Valtteri Bottas",
            "Valtteri Bottas"
           ],
           "legendgroup": "Valtteri Bottas",
           "marker": {
            "color": "rgb(196,78,82)",
            "size": [
             85.58,
             97.03
            ],
            "sizemode": "area",
            "sizeref": 0.03596189349112426,
            "symbol": "circle"
           },
           "mode": "markers",
           "name": "Valtteri Bottas",
           "orientation": "h",
           "showlegend": true,
           "type": "scatter",
           "x": [
            85.58,
            97.03
           ],
           "xaxis": "x",
           "y": [
            "1",
            "1"
           ],
           "yaxis": "y"
          },
          {
           "hovertemplate": "<b>%{hovertext}</b><br><br>Full Name=Max Verstappen<br>Points=26.0<br>Fastest Lap Time=%{marker.size}<br>Position=%{y}<extra></extra>",
           "hovertext": [
            "Max Verstappen",
            "Max Verstappen"
           ],
           "ids": [
            "Max Verstappen",
            "Max Verstappen"
           ],
           "legendgroup": "Max Verstappen",
           "marker": {
            "color": "rgb(147,120,96)",
            "size": [
             67.475,
             76.645
            ],
            "sizemode": "area",
            "sizeref": 0.03596189349112426,
            "symbol": "circle"
           },
           "mode": "markers",
           "name": "Max Verstappen",
           "orientation": "h",
           "showlegend": true,
           "type": "scatter",
           "x": [
            67.475,
            76.645
           ],
           "xaxis": "x",
           "y": [
            "1",
            "1"
           ],
           "yaxis": "y"
          }
         ],
         "name": "26.0"
        },
        {
         "data": [
          {
           "hovertemplate": "<b>%{hovertext}</b><br><br>Full Name=Lewis Hamilton<br>Points=16.0<br>Fastest Lap Time=%{marker.size}<br>Position=%{y}<extra></extra>",
           "hovertext": [
            "Lewis Hamilton",
            "Lewis Hamilton"
           ],
           "ids": [
            "Lewis Hamilton",
            "Lewis Hamilton"
           ],
           "legendgroup": "Lewis Hamilton",
           "marker": {
            "color": "rgb(76,114,176)",
            "size": [
             81.779,
             90.98299999999999
            ],
            "sizemode": "area",
            "sizeref": 0.03596189349112426,
            "symbol": "circle"
           },
           "mode": "markers",
           "name": "Lewis Hamilton",
           "orientation": "h",
           "showlegend": true,
           "type": "scatter",
           "x": [
            81.779,
            90.98299999999999
           ],
           "xaxis": "x",
           "y": [
            "3",
            "3"
           ],
           "yaxis": "y"
          },
          {
           "hovertemplate": "<b>%{hovertext}</b><br><br>Full Name=Valtteri Bottas<br>Points=16.0<br>Fastest Lap Time=%{marker.size}<br>Position=%{y}<extra></extra>",
           "hovertext": [
            "Valtteri Bottas"
           ],
           "ids": [
            "Valtteri Bottas"
           ],
           "legendgroup": "Valtteri Bottas",
           "marker": {
            "color": "rgb(196,78,82)",
            "size": [
             78.18299999999998
            ],
            "sizemode": "area",
            "sizeref": 0.03596189349112426,
            "symbol": "circle"
           },
           "mode": "markers",
           "name": "Valtteri Bottas",
           "orientation": "h",
           "showlegend": true,
           "type": "scatter",
           "x": [
            78.18299999999998
           ],
           "xaxis": "x",
           "y": [
            "3"
           ],
           "yaxis": "y"
          },
          {
           "hovertemplate": "<b>%{hovertext}</b><br><br>Full Name=Charles Leclerc<br>Points=16.0<br>Fastest Lap Time=%{marker.size}<br>Position=%{y}<extra></extra>",
           "hovertext": [
            "Charles Leclerc"
           ],
           "ids": [
            "Charles Leclerc"
           ],
           "legendgroup": "Charles Leclerc",
           "marker": {
            "color": "rgb(140,140,140)",
            "size": [
             93.411
            ],
            "sizemode": "area",
            "sizeref": 0.03596189349112426,
            "symbol": "circle"
           },
           "mode": "markers",
           "name": "Charles Leclerc",
           "orientation": "h",
           "showlegend": true,
           "type": "scatter",
           "x": [
            93.411
           ],
           "xaxis": "x",
           "y": [
            "3"
           ],
           "yaxis": "y"
          },
          {
           "hovertemplate": "<b>%{hovertext}</b><br><br>Full Name=Lando Norris<br>Points=16.0<br>Fastest Lap Time=%{marker.size}<br>Position=%{y}<extra></extra>",
           "hovertext": [
            "Lando Norris"
           ],
           "ids": [
            "Lando Norris"
           ],
           "legendgroup": "Lando Norris",
           "marker": {
            "color": "rgb(204,185,116)",
            "size": [
             67.475
            ],
            "sizemode": "area",
            "sizeref": 0.03596189349112426,
            "symbol": "circle"
           },
           "mode": "markers",
           "name": "Lando Norris",
           "orientation": "h",
           "showlegend": true,
           "type": "scatter",
           "x": [
            67.475
           ],
           "xaxis": "x",
           "y": [
            "3"
           ],
           "yaxis": "y"
          }
         ],
         "name": "16.0"
        },
        {
         "data": [
          {
           "hovertemplate": "<b>%{hovertext}</b><br><br>Full Name=Pierre Gasly<br>Points=9.0<br>Fastest Lap Time=%{marker.size}<br>Position=%{y}<extra></extra>",
           "hovertext": [
            "Pierre Gasly"
           ],
           "ids": [
            "Pierre Gasly"
           ],
           "legendgroup": "Pierre Gasly",
           "marker": {
            "color": "rgb(218,139,195)",
            "size": [
             94.742
            ],
            "sizemode": "area",
            "sizeref": 0.03596189349112426,
            "symbol": "circle"
           },
           "mode": "markers",
           "name": "Pierre Gasly",
           "orientation": "h",
           "showlegend": true,
           "type": "scatter",
           "x": [
            94.742
           ],
           "xaxis": "x",
           "y": [
            "6"
           ],
           "yaxis": "y"
          }
         ],
         "name": "9.0"
        },
        {
         "data": [
          {
           "hovertemplate": "<b>%{hovertext}</b><br><br>Full Name=Pierre Gasly<br>Points=11.0<br>Fastest Lap Time=%{marker.size}<br>Position=%{y}<extra></extra>",
           "hovertext": [
            "Pierre Gasly"
           ],
           "ids": [
            "Pierre Gasly"
           ],
           "legendgroup": "Pierre Gasly",
           "marker": {
            "color": "rgb(218,139,195)",
            "size": [
             74.279
            ],
            "sizemode": "area",
            "sizeref": 0.03596189349112426,
            "symbol": "circle"
           },
           "mode": "markers",
           "name": "Pierre Gasly",
           "orientation": "h",
           "showlegend": true,
           "type": "scatter",
           "x": [
            74.279
           ],
           "xaxis": "x",
           "y": [
            "5"
           ],
           "yaxis": "y"
          },
          {
           "hovertemplate": "<b>%{hovertext}</b><br><br>Full Name=Charles Leclerc<br>Points=11.0<br>Fastest Lap Time=%{marker.size}<br>Position=%{y}<extra></extra>",
           "hovertext": [
            "Charles Leclerc"
           ],
           "ids": [
            "Charles Leclerc"
           ],
           "legendgroup": "Charles Leclerc",
           "marker": {
            "color": "rgb(140,140,140)",
            "size": [
             103.009
            ],
            "sizemode": "area",
            "sizeref": 0.03596189349112426,
            "symbol": "circle"
           },
           "mode": "markers",
           "name": "Charles Leclerc",
           "orientation": "h",
           "showlegend": true,
           "type": "scatter",
           "x": [
            103.009
           ],
           "xaxis": "x",
           "y": [
            "5"
           ],
           "yaxis": "y"
          }
         ],
         "name": "11.0"
        },
        {
         "data": [
          {
           "hovertemplate": "<b>%{hovertext}</b><br><br>Full Name=Daniel Ricciardo<br>Points=13.0<br>Fastest Lap Time=%{marker.size}<br>Position=%{y}<extra></extra>",
           "hovertext": [
            "Daniel Ricciardo"
           ],
           "ids": [
            "Daniel Ricciardo"
           ],
           "legendgroup": "Daniel Ricciardo",
           "marker": {
            "color": "rgb(85,168,104)",
            "size": [
             107.48299999999999
            ],
            "sizemode": "area",
            "sizeref": 0.03596189349112426,
            "symbol": "circle"
           },
           "mode": "markers",
           "name": "Daniel Ricciardo",
           "orientation": "h",
           "showlegend": true,
           "type": "scatter",
           "x": [
            107.48299999999999
           ],
           "xaxis": "x",
           "y": [
            "4"
           ],
           "yaxis": "y"
          },
          {
           "hovertemplate": "<b>%{hovertext}</b><br><br>Full Name=Valtteri Bottas<br>Points=13.0<br>Fastest Lap Time=%{marker.size}<br>Position=%{y}<extra></extra>",
           "hovertext": [
            "Valtteri Bottas"
           ],
           "ids": [
            "Valtteri Bottas"
           ],
           "legendgroup": "Valtteri Bottas",
           "marker": {
            "color": "rgb(196,78,82)",
            "size": [
             73.078
            ],
            "sizemode": "area",
            "sizeref": 0.03596189349112426,
            "symbol": "circle"
           },
           "mode": "markers",
           "name": "Valtteri Bottas",
           "orientation": "h",
           "showlegend": true,
           "type": "scatter",
           "x": [
            73.078
           ],
           "xaxis": "x",
           "y": [
            "4"
           ],
           "yaxis": "y"
          },
          {
           "hovertemplate": "<b>%{hovertext}</b><br><br>Full Name=Charles Leclerc<br>Points=13.0<br>Fastest Lap Time=%{marker.size}<br>Position=%{y}<extra></extra>",
           "hovertext": [
            "Charles Leclerc",
            "Charles Leclerc"
           ],
           "ids": [
            "Charles Leclerc",
            "Charles Leclerc"
           ],
           "legendgroup": "Charles Leclerc",
           "marker": {
            "color": "rgb(140,140,140)",
            "size": [
             79.232,
             96.169
            ],
            "sizemode": "area",
            "sizeref": 0.03596189349112426,
            "symbol": "circle"
           },
           "mode": "markers",
           "name": "Charles Leclerc",
           "orientation": "h",
           "showlegend": true,
           "type": "scatter",
           "x": [
            79.232,
            96.169
           ],
           "xaxis": "x",
           "y": [
            "4",
            "4"
           ],
           "yaxis": "y"
          }
         ],
         "name": "13.0"
        },
        {
         "data": [
          {
           "hovertemplate": "<b>%{hovertext}</b><br><br>Full Name=Lewis Hamilton<br>Points=19.0<br>Fastest Lap Time=%{marker.size}<br>Position=%{y}<extra></extra>",
           "hovertext": [
            "Lewis Hamilton"
           ],
           "ids": [
            "Lewis Hamilton"
           ],
           "legendgroup": "Lewis Hamilton",
           "marker": {
            "color": "rgb(76,114,176)",
            "size": [
             88.45100000000001
            ],
            "sizemode": "area",
            "sizeref": 0.03596189349112426,
            "symbol": "circle"
           },
           "mode": "markers",
           "name": "Lewis Hamilton",
           "orientation": "h",
           "showlegend": true,
           "type": "scatter",
           "x": [
            88.45100000000001
           ],
           "xaxis": "x",
           "y": [
            "2"
           ],
           "yaxis": "y"
          },
          {
           "hovertemplate": "<b>%{hovertext}</b><br><br>Full Name=Max Verstappen<br>Points=19.0<br>Fastest Lap Time=%{marker.size}<br>Position=%{y}<extra></extra>",
           "hovertext": [
            "Max Verstappen",
            "Max Verstappen",
            "Max Verstappen"
           ],
           "ids": [
            "Max Verstappen",
            "Max Verstappen",
            "Max Verstappen"
           ],
           "legendgroup": "Max Verstappen",
           "marker": {
            "color": "rgb(147,120,96)",
            "size": [
             77.10300000000002,
             87.09700000000002,
             88.139
            ],
            "sizemode": "area",
            "sizeref": 0.03596189349112426,
            "symbol": "circle"
           },
           "mode": "markers",
           "name": "Max Verstappen",
           "orientation": "h",
           "showlegend": true,
           "type": "scatter",
           "x": [
            77.10300000000002,
            87.09700000000002,
            88.139
           ],
           "xaxis": "x",
           "y": [
            "2",
            "2",
            "2"
           ],
           "yaxis": "y"
          }
         ],
         "name": "19.0"
        },
        {
         "data": [
          {
           "hovertemplate": "<b>%{hovertext}</b><br><br>Full Name=Lewis Hamilton<br>Points=7.0<br>Fastest Lap Time=%{marker.size}<br>Position=%{y}<extra></extra>",
           "hovertext": [
            "Lewis Hamilton"
           ],
           "ids": [
            "Lewis Hamilton"
           ],
           "legendgroup": "Lewis Hamilton",
           "marker": {
            "color": "rgb(76,114,176)",
            "size": [
             82.74600000000001
            ],
            "sizemode": "area",
            "sizeref": 0.03596189349112426,
            "symbol": "circle"
           },
           "mode": "markers",
           "name": "Lewis Hamilton",
           "orientation": "h",
           "showlegend": true,
           "type": "scatter",
           "x": [
            82.74600000000001
           ],
           "xaxis": "x",
           "y": [
            "7"
           ],
           "yaxis": "y"
          }
         ],
         "name": "7.0"
        }
       ],
       "layout": {
        "autosize": true,
        "legend": {
         "itemsizing": "constant",
         "title": {
          "text": "Full Name"
         },
         "tracegroupgap": 0
        },
        "margin": {
         "t": 60
        },
        "sliders": [
         {
          "active": 22,
          "currentvalue": {
           "prefix": "Points="
          },
          "len": 0.9,
          "pad": {
           "b": 10,
           "t": 60
          },
          "steps": [
           {
            "args": [
             [
              "10.0"
             ],
             {
              "frame": {
               "duration": 0,
               "redraw": false
              },
              "fromcurrent": true,
              "mode": "immediate",
              "transition": {
               "duration": 0,
               "easing": "linear"
              }
             }
            ],
            "label": "10.0",
            "method": "animate"
           },
           {
            "args": [
             [
              "4.0"
             ],
             {
              "frame": {
               "duration": 0,
               "redraw": false
              },
              "fromcurrent": true,
              "mode": "immediate",
              "transition": {
               "duration": 0,
               "easing": "linear"
              }
             }
            ],
            "label": "4.0",
            "method": "animate"
           },
           {
            "args": [
             [
              "0.0"
             ],
             {
              "frame": {
               "duration": 0,
               "redraw": false
              },
              "fromcurrent": true,
              "mode": "immediate",
              "transition": {
               "duration": 0,
               "easing": "linear"
              }
             }
            ],
            "label": "0.0",
            "method": "animate"
           },
           {
            "args": [
             [
              "6.0"
             ],
             {
              "frame": {
               "duration": 0,
               "redraw": false
              },
              "fromcurrent": true,
              "mode": "immediate",
              "transition": {
               "duration": 0,
               "easing": "linear"
              }
             }
            ],
            "label": "6.0",
            "method": "animate"
           },
           {
            "args": [
             [
              "8.0"
             ],
             {
              "frame": {
               "duration": 0,
               "redraw": false
              },
              "fromcurrent": true,
              "mode": "immediate",
              "transition": {
               "duration": 0,
               "easing": "linear"
              }
             }
            ],
            "label": "8.0",
            "method": "animate"
           },
           {
            "args": [
             [
              "2.0"
             ],
             {
              "frame": {
               "duration": 0,
               "redraw": false
              },
              "fromcurrent": true,
              "mode": "immediate",
              "transition": {
               "duration": 0,
               "easing": "linear"
              }
             }
            ],
            "label": "2.0",
            "method": "animate"
           },
           {
            "args": [
             [
              "5.0"
             ],
             {
              "frame": {
               "duration": 0,
               "redraw": false
              },
              "fromcurrent": true,
              "mode": "immediate",
              "transition": {
               "duration": 0,
               "easing": "linear"
              }
             }
            ],
            "label": "5.0",
            "method": "animate"
           },
           {
            "args": [
             [
              "1.0"
             ],
             {
              "frame": {
               "duration": 0,
               "redraw": false
              },
              "fromcurrent": true,
              "mode": "immediate",
              "transition": {
               "duration": 0,
               "easing": "linear"
              }
             }
            ],
            "label": "1.0",
            "method": "animate"
           },
           {
            "args": [
             [
              "3.0"
             ],
             {
              "frame": {
               "duration": 0,
               "redraw": false
              },
              "fromcurrent": true,
              "mode": "immediate",
              "transition": {
               "duration": 0,
               "easing": "linear"
              }
             }
            ],
            "label": "3.0",
            "method": "animate"
           },
           {
            "args": [
             [
              "15.0"
             ],
             {
              "frame": {
               "duration": 0,
               "redraw": false
              },
              "fromcurrent": true,
              "mode": "immediate",
              "transition": {
               "duration": 0,
               "easing": "linear"
              }
             }
            ],
            "label": "15.0",
            "method": "animate"
           },
           {
            "args": [
             [
              "18.0"
             ],
             {
              "frame": {
               "duration": 0,
               "redraw": false
              },
              "fromcurrent": true,
              "mode": "immediate",
              "transition": {
               "duration": 0,
               "easing": "linear"
              }
             }
            ],
            "label": "18.0",
            "method": "animate"
           },
           {
            "args": [
             [
              "25.0"
             ],
             {
              "frame": {
               "duration": 0,
               "redraw": false
              },
              "fromcurrent": true,
              "mode": "immediate",
              "transition": {
               "duration": 0,
               "easing": "linear"
              }
             }
            ],
            "label": "25.0",
            "method": "animate"
           },
           {
            "args": [
             [
              "12.0"
             ],
             {
              "frame": {
               "duration": 0,
               "redraw": false
              },
              "fromcurrent": true,
              "mode": "immediate",
              "transition": {
               "duration": 0,
               "easing": "linear"
              }
             }
            ],
            "label": "12.0",
            "method": "animate"
           },
           {
            "args": [
             [
              "50.0"
             ],
             {
              "frame": {
               "duration": 0,
               "redraw": false
              },
              "fromcurrent": true,
              "mode": "immediate",
              "transition": {
               "duration": 0,
               "easing": "linear"
              }
             }
            ],
            "label": "50.0",
            "method": "animate"
           },
           {
            "args": [
             [
              "30.0"
             ],
             {
              "frame": {
               "duration": 0,
               "redraw": false
              },
              "fromcurrent": true,
              "mode": "immediate",
              "transition": {
               "duration": 0,
               "easing": "linear"
              }
             }
            ],
            "label": "30.0",
            "method": "animate"
           },
           {
            "args": [
             [
              "24.0"
             ],
             {
              "frame": {
               "duration": 0,
               "redraw": false
              },
              "fromcurrent": true,
              "mode": "immediate",
              "transition": {
               "duration": 0,
               "easing": "linear"
              }
             }
            ],
            "label": "24.0",
            "method": "animate"
           },
           {
            "args": [
             [
              "26.0"
             ],
             {
              "frame": {
               "duration": 0,
               "redraw": false
              },
              "fromcurrent": true,
              "mode": "immediate",
              "transition": {
               "duration": 0,
               "easing": "linear"
              }
             }
            ],
            "label": "26.0",
            "method": "animate"
           },
           {
            "args": [
             [
              "16.0"
             ],
             {
              "frame": {
               "duration": 0,
               "redraw": false
              },
              "fromcurrent": true,
              "mode": "immediate",
              "transition": {
               "duration": 0,
               "easing": "linear"
              }
             }
            ],
            "label": "16.0",
            "method": "animate"
           },
           {
            "args": [
             [
              "9.0"
             ],
             {
              "frame": {
               "duration": 0,
               "redraw": false
              },
              "fromcurrent": true,
              "mode": "immediate",
              "transition": {
               "duration": 0,
               "easing": "linear"
              }
             }
            ],
            "label": "9.0",
            "method": "animate"
           },
           {
            "args": [
             [
              "11.0"
             ],
             {
              "frame": {
               "duration": 0,
               "redraw": false
              },
              "fromcurrent": true,
              "mode": "immediate",
              "transition": {
               "duration": 0,
               "easing": "linear"
              }
             }
            ],
            "label": "11.0",
            "method": "animate"
           },
           {
            "args": [
             [
              "13.0"
             ],
             {
              "frame": {
               "duration": 0,
               "redraw": false
              },
              "fromcurrent": true,
              "mode": "immediate",
              "transition": {
               "duration": 0,
               "easing": "linear"
              }
             }
            ],
            "label": "13.0",
            "method": "animate"
           },
           {
            "args": [
             [
              "19.0"
             ],
             {
              "frame": {
               "duration": 0,
               "redraw": false
              },
              "fromcurrent": true,
              "mode": "immediate",
              "transition": {
               "duration": 0,
               "easing": "linear"
              }
             }
            ],
            "label": "19.0",
            "method": "animate"
           },
           {
            "args": [
             [
              "7.0"
             ],
             {
              "frame": {
               "duration": 0,
               "redraw": false
              },
              "fromcurrent": true,
              "mode": "immediate",
              "transition": {
               "duration": 0,
               "easing": "linear"
              }
             }
            ],
            "label": "7.0",
            "method": "animate"
           }
          ],
          "x": 0.1,
          "xanchor": "left",
          "y": 0,
          "yanchor": "top"
         }
        ],
        "template": {
         "data": {
          "bar": [
           {
            "error_x": {
             "color": "rgb(36,36,36)"
            },
            "error_y": {
             "color": "rgb(36,36,36)"
            },
            "marker": {
             "line": {
              "color": "rgb(234,234,242)",
              "width": 0.5
             }
            },
            "type": "bar"
           }
          ],
          "barpolar": [
           {
            "marker": {
             "line": {
              "color": "rgb(234,234,242)",
              "width": 0.5
             }
            },
            "type": "barpolar"
           }
          ],
          "carpet": [
           {
            "aaxis": {
             "endlinecolor": "rgb(36,36,36)",
             "gridcolor": "white",
             "linecolor": "white",
             "minorgridcolor": "white",
             "startlinecolor": "rgb(36,36,36)"
            },
            "baxis": {
             "endlinecolor": "rgb(36,36,36)",
             "gridcolor": "white",
             "linecolor": "white",
             "minorgridcolor": "white",
             "startlinecolor": "rgb(36,36,36)"
            },
            "type": "carpet"
           }
          ],
          "choropleth": [
           {
            "colorbar": {
             "outlinewidth": 0,
             "tickcolor": "rgb(36,36,36)",
             "ticklen": 8,
             "ticks": "outside",
             "tickwidth": 2
            },
            "type": "choropleth"
           }
          ],
          "contour": [
           {
            "colorbar": {
             "outlinewidth": 0,
             "tickcolor": "rgb(36,36,36)",
             "ticklen": 8,
             "ticks": "outside",
             "tickwidth": 2
            },
            "colorscale": [
             [
              0,
              "rgb(2,4,25)"
             ],
             [
              0.06274509803921569,
              "rgb(24,15,41)"
             ],
             [
              0.12549019607843137,
              "rgb(47,23,57)"
             ],
             [
              0.18823529411764706,
              "rgb(71,28,72)"
             ],
             [
              0.25098039215686274,
              "rgb(97,30,82)"
             ],
             [
              0.3137254901960784,
              "rgb(123,30,89)"
             ],
             [
              0.3764705882352941,
              "rgb(150,27,91)"
             ],
             [
              0.4392156862745098,
              "rgb(177,22,88)"
             ],
             [
              0.5019607843137255,
              "rgb(203,26,79)"
             ],
             [
              0.5647058823529412,
              "rgb(223,47,67)"
             ],
             [
              0.6274509803921569,
              "rgb(236,76,61)"
             ],
             [
              0.6901960784313725,
              "rgb(242,107,73)"
             ],
             [
              0.7529411764705882,
              "rgb(244,135,95)"
             ],
             [
              0.8156862745098039,
              "rgb(245,162,122)"
             ],
             [
              0.8784313725490196,
              "rgb(246,188,153)"
             ],
             [
              0.9411764705882353,
              "rgb(247,212,187)"
             ],
             [
              1,
              "rgb(250,234,220)"
             ]
            ],
            "type": "contour"
           }
          ],
          "contourcarpet": [
           {
            "colorbar": {
             "outlinewidth": 0,
             "tickcolor": "rgb(36,36,36)",
             "ticklen": 8,
             "ticks": "outside",
             "tickwidth": 2
            },
            "type": "contourcarpet"
           }
          ],
          "heatmap": [
           {
            "colorbar": {
             "outlinewidth": 0,
             "tickcolor": "rgb(36,36,36)",
             "ticklen": 8,
             "ticks": "outside",
             "tickwidth": 2
            },
            "colorscale": [
             [
              0,
              "rgb(2,4,25)"
             ],
             [
              0.06274509803921569,
              "rgb(24,15,41)"
             ],
             [
              0.12549019607843137,
              "rgb(47,23,57)"
             ],
             [
              0.18823529411764706,
              "rgb(71,28,72)"
             ],
             [
              0.25098039215686274,
              "rgb(97,30,82)"
             ],
             [
              0.3137254901960784,
              "rgb(123,30,89)"
             ],
             [
              0.3764705882352941,
              "rgb(150,27,91)"
             ],
             [
              0.4392156862745098,
              "rgb(177,22,88)"
             ],
             [
              0.5019607843137255,
              "rgb(203,26,79)"
             ],
             [
              0.5647058823529412,
              "rgb(223,47,67)"
             ],
             [
              0.6274509803921569,
              "rgb(236,76,61)"
             ],
             [
              0.6901960784313725,
              "rgb(242,107,73)"
             ],
             [
              0.7529411764705882,
              "rgb(244,135,95)"
             ],
             [
              0.8156862745098039,
              "rgb(245,162,122)"
             ],
             [
              0.8784313725490196,
              "rgb(246,188,153)"
             ],
             [
              0.9411764705882353,
              "rgb(247,212,187)"
             ],
             [
              1,
              "rgb(250,234,220)"
             ]
            ],
            "type": "heatmap"
           }
          ],
          "heatmapgl": [
           {
            "colorbar": {
             "outlinewidth": 0,
             "tickcolor": "rgb(36,36,36)",
             "ticklen": 8,
             "ticks": "outside",
             "tickwidth": 2
            },
            "colorscale": [
             [
              0,
              "rgb(2,4,25)"
             ],
             [
              0.06274509803921569,
              "rgb(24,15,41)"
             ],
             [
              0.12549019607843137,
              "rgb(47,23,57)"
             ],
             [
              0.18823529411764706,
              "rgb(71,28,72)"
             ],
             [
              0.25098039215686274,
              "rgb(97,30,82)"
             ],
             [
              0.3137254901960784,
              "rgb(123,30,89)"
             ],
             [
              0.3764705882352941,
              "rgb(150,27,91)"
             ],
             [
              0.4392156862745098,
              "rgb(177,22,88)"
             ],
             [
              0.5019607843137255,
              "rgb(203,26,79)"
             ],
             [
              0.5647058823529412,
              "rgb(223,47,67)"
             ],
             [
              0.6274509803921569,
              "rgb(236,76,61)"
             ],
             [
              0.6901960784313725,
              "rgb(242,107,73)"
             ],
             [
              0.7529411764705882,
              "rgb(244,135,95)"
             ],
             [
              0.8156862745098039,
              "rgb(245,162,122)"
             ],
             [
              0.8784313725490196,
              "rgb(246,188,153)"
             ],
             [
              0.9411764705882353,
              "rgb(247,212,187)"
             ],
             [
              1,
              "rgb(250,234,220)"
             ]
            ],
            "type": "heatmapgl"
           }
          ],
          "histogram": [
           {
            "marker": {
             "colorbar": {
              "outlinewidth": 0,
              "tickcolor": "rgb(36,36,36)",
              "ticklen": 8,
              "ticks": "outside",
              "tickwidth": 2
             }
            },
            "type": "histogram"
           }
          ],
          "histogram2d": [
           {
            "colorbar": {
             "outlinewidth": 0,
             "tickcolor": "rgb(36,36,36)",
             "ticklen": 8,
             "ticks": "outside",
             "tickwidth": 2
            },
            "colorscale": [
             [
              0,
              "rgb(2,4,25)"
             ],
             [
              0.06274509803921569,
              "rgb(24,15,41)"
             ],
             [
              0.12549019607843137,
              "rgb(47,23,57)"
             ],
             [
              0.18823529411764706,
              "rgb(71,28,72)"
             ],
             [
              0.25098039215686274,
              "rgb(97,30,82)"
             ],
             [
              0.3137254901960784,
              "rgb(123,30,89)"
             ],
             [
              0.3764705882352941,
              "rgb(150,27,91)"
             ],
             [
              0.4392156862745098,
              "rgb(177,22,88)"
             ],
             [
              0.5019607843137255,
              "rgb(203,26,79)"
             ],
             [
              0.5647058823529412,
              "rgb(223,47,67)"
             ],
             [
              0.6274509803921569,
              "rgb(236,76,61)"
             ],
             [
              0.6901960784313725,
              "rgb(242,107,73)"
             ],
             [
              0.7529411764705882,
              "rgb(244,135,95)"
             ],
             [
              0.8156862745098039,
              "rgb(245,162,122)"
             ],
             [
              0.8784313725490196,
              "rgb(246,188,153)"
             ],
             [
              0.9411764705882353,
              "rgb(247,212,187)"
             ],
             [
              1,
              "rgb(250,234,220)"
             ]
            ],
            "type": "histogram2d"
           }
          ],
          "histogram2dcontour": [
           {
            "colorbar": {
             "outlinewidth": 0,
             "tickcolor": "rgb(36,36,36)",
             "ticklen": 8,
             "ticks": "outside",
             "tickwidth": 2
            },
            "colorscale": [
             [
              0,
              "rgb(2,4,25)"
             ],
             [
              0.06274509803921569,
              "rgb(24,15,41)"
             ],
             [
              0.12549019607843137,
              "rgb(47,23,57)"
             ],
             [
              0.18823529411764706,
              "rgb(71,28,72)"
             ],
             [
              0.25098039215686274,
              "rgb(97,30,82)"
             ],
             [
              0.3137254901960784,
              "rgb(123,30,89)"
             ],
             [
              0.3764705882352941,
              "rgb(150,27,91)"
             ],
             [
              0.4392156862745098,
              "rgb(177,22,88)"
             ],
             [
              0.5019607843137255,
              "rgb(203,26,79)"
             ],
             [
              0.5647058823529412,
              "rgb(223,47,67)"
             ],
             [
              0.6274509803921569,
              "rgb(236,76,61)"
             ],
             [
              0.6901960784313725,
              "rgb(242,107,73)"
             ],
             [
              0.7529411764705882,
              "rgb(244,135,95)"
             ],
             [
              0.8156862745098039,
              "rgb(245,162,122)"
             ],
             [
              0.8784313725490196,
              "rgb(246,188,153)"
             ],
             [
              0.9411764705882353,
              "rgb(247,212,187)"
             ],
             [
              1,
              "rgb(250,234,220)"
             ]
            ],
            "type": "histogram2dcontour"
           }
          ],
          "mesh3d": [
           {
            "colorbar": {
             "outlinewidth": 0,
             "tickcolor": "rgb(36,36,36)",
             "ticklen": 8,
             "ticks": "outside",
             "tickwidth": 2
            },
            "type": "mesh3d"
           }
          ],
          "parcoords": [
           {
            "line": {
             "colorbar": {
              "outlinewidth": 0,
              "tickcolor": "rgb(36,36,36)",
              "ticklen": 8,
              "ticks": "outside",
              "tickwidth": 2
             }
            },
            "type": "parcoords"
           }
          ],
          "pie": [
           {
            "automargin": true,
            "type": "pie"
           }
          ],
          "scatter": [
           {
            "marker": {
             "colorbar": {
              "outlinewidth": 0,
              "tickcolor": "rgb(36,36,36)",
              "ticklen": 8,
              "ticks": "outside",
              "tickwidth": 2
             }
            },
            "type": "scatter"
           }
          ],
          "scatter3d": [
           {
            "line": {
             "colorbar": {
              "outlinewidth": 0,
              "tickcolor": "rgb(36,36,36)",
              "ticklen": 8,
              "ticks": "outside",
              "tickwidth": 2
             }
            },
            "marker": {
             "colorbar": {
              "outlinewidth": 0,
              "tickcolor": "rgb(36,36,36)",
              "ticklen": 8,
              "ticks": "outside",
              "tickwidth": 2
             }
            },
            "type": "scatter3d"
           }
          ],
          "scattercarpet": [
           {
            "marker": {
             "colorbar": {
              "outlinewidth": 0,
              "tickcolor": "rgb(36,36,36)",
              "ticklen": 8,
              "ticks": "outside",
              "tickwidth": 2
             }
            },
            "type": "scattercarpet"
           }
          ],
          "scattergeo": [
           {
            "marker": {
             "colorbar": {
              "outlinewidth": 0,
              "tickcolor": "rgb(36,36,36)",
              "ticklen": 8,
              "ticks": "outside",
              "tickwidth": 2
             }
            },
            "type": "scattergeo"
           }
          ],
          "scattergl": [
           {
            "marker": {
             "colorbar": {
              "outlinewidth": 0,
              "tickcolor": "rgb(36,36,36)",
              "ticklen": 8,
              "ticks": "outside",
              "tickwidth": 2
             }
            },
            "type": "scattergl"
           }
          ],
          "scattermapbox": [
           {
            "marker": {
             "colorbar": {
              "outlinewidth": 0,
              "tickcolor": "rgb(36,36,36)",
              "ticklen": 8,
              "ticks": "outside",
              "tickwidth": 2
             }
            },
            "type": "scattermapbox"
           }
          ],
          "scatterpolar": [
           {
            "marker": {
             "colorbar": {
              "outlinewidth": 0,
              "tickcolor": "rgb(36,36,36)",
              "ticklen": 8,
              "ticks": "outside",
              "tickwidth": 2
             }
            },
            "type": "scatterpolar"
           }
          ],
          "scatterpolargl": [
           {
            "marker": {
             "colorbar": {
              "outlinewidth": 0,
              "tickcolor": "rgb(36,36,36)",
              "ticklen": 8,
              "ticks": "outside",
              "tickwidth": 2
             }
            },
            "type": "scatterpolargl"
           }
          ],
          "scatterternary": [
           {
            "marker": {
             "colorbar": {
              "outlinewidth": 0,
              "tickcolor": "rgb(36,36,36)",
              "ticklen": 8,
              "ticks": "outside",
              "tickwidth": 2
             }
            },
            "type": "scatterternary"
           }
          ],
          "surface": [
           {
            "colorbar": {
             "outlinewidth": 0,
             "tickcolor": "rgb(36,36,36)",
             "ticklen": 8,
             "ticks": "outside",
             "tickwidth": 2
            },
            "colorscale": [
             [
              0,
              "rgb(2,4,25)"
             ],
             [
              0.06274509803921569,
              "rgb(24,15,41)"
             ],
             [
              0.12549019607843137,
              "rgb(47,23,57)"
             ],
             [
              0.18823529411764706,
              "rgb(71,28,72)"
             ],
             [
              0.25098039215686274,
              "rgb(97,30,82)"
             ],
             [
              0.3137254901960784,
              "rgb(123,30,89)"
             ],
             [
              0.3764705882352941,
              "rgb(150,27,91)"
             ],
             [
              0.4392156862745098,
              "rgb(177,22,88)"
             ],
             [
              0.5019607843137255,
              "rgb(203,26,79)"
             ],
             [
              0.5647058823529412,
              "rgb(223,47,67)"
             ],
             [
              0.6274509803921569,
              "rgb(236,76,61)"
             ],
             [
              0.6901960784313725,
              "rgb(242,107,73)"
             ],
             [
              0.7529411764705882,
              "rgb(244,135,95)"
             ],
             [
              0.8156862745098039,
              "rgb(245,162,122)"
             ],
             [
              0.8784313725490196,
              "rgb(246,188,153)"
             ],
             [
              0.9411764705882353,
              "rgb(247,212,187)"
             ],
             [
              1,
              "rgb(250,234,220)"
             ]
            ],
            "type": "surface"
           }
          ],
          "table": [
           {
            "cells": {
             "fill": {
              "color": "rgb(231,231,240)"
             },
             "line": {
              "color": "white"
             }
            },
            "header": {
             "fill": {
              "color": "rgb(183,183,191)"
             },
             "line": {
              "color": "white"
             }
            },
            "type": "table"
           }
          ]
         },
         "layout": {
          "annotationdefaults": {
           "arrowcolor": "rgb(67,103,167)"
          },
          "coloraxis": {
           "colorbar": {
            "outlinewidth": 0,
            "tickcolor": "rgb(36,36,36)",
            "ticklen": 8,
            "ticks": "outside",
            "tickwidth": 2
           }
          },
          "colorscale": {
           "sequential": [
            [
             0,
             "rgb(2,4,25)"
            ],
            [
             0.06274509803921569,
             "rgb(24,15,41)"
            ],
            [
             0.12549019607843137,
             "rgb(47,23,57)"
            ],
            [
             0.18823529411764706,
             "rgb(71,28,72)"
            ],
            [
             0.25098039215686274,
             "rgb(97,30,82)"
            ],
            [
             0.3137254901960784,
             "rgb(123,30,89)"
            ],
            [
             0.3764705882352941,
             "rgb(150,27,91)"
            ],
            [
             0.4392156862745098,
             "rgb(177,22,88)"
            ],
            [
             0.5019607843137255,
             "rgb(203,26,79)"
            ],
            [
             0.5647058823529412,
             "rgb(223,47,67)"
            ],
            [
             0.6274509803921569,
             "rgb(236,76,61)"
            ],
            [
             0.6901960784313725,
             "rgb(242,107,73)"
            ],
            [
             0.7529411764705882,
             "rgb(244,135,95)"
            ],
            [
             0.8156862745098039,
             "rgb(245,162,122)"
            ],
            [
             0.8784313725490196,
             "rgb(246,188,153)"
            ],
            [
             0.9411764705882353,
             "rgb(247,212,187)"
            ],
            [
             1,
             "rgb(250,234,220)"
            ]
           ],
           "sequentialminus": [
            [
             0,
             "rgb(2,4,25)"
            ],
            [
             0.06274509803921569,
             "rgb(24,15,41)"
            ],
            [
             0.12549019607843137,
             "rgb(47,23,57)"
            ],
            [
             0.18823529411764706,
             "rgb(71,28,72)"
            ],
            [
             0.25098039215686274,
             "rgb(97,30,82)"
            ],
            [
             0.3137254901960784,
             "rgb(123,30,89)"
            ],
            [
             0.3764705882352941,
             "rgb(150,27,91)"
            ],
            [
             0.4392156862745098,
             "rgb(177,22,88)"
            ],
            [
             0.5019607843137255,
             "rgb(203,26,79)"
            ],
            [
             0.5647058823529412,
             "rgb(223,47,67)"
            ],
            [
             0.6274509803921569,
             "rgb(236,76,61)"
            ],
            [
             0.6901960784313725,
             "rgb(242,107,73)"
            ],
            [
             0.7529411764705882,
             "rgb(244,135,95)"
            ],
            [
             0.8156862745098039,
             "rgb(245,162,122)"
            ],
            [
             0.8784313725490196,
             "rgb(246,188,153)"
            ],
            [
             0.9411764705882353,
             "rgb(247,212,187)"
            ],
            [
             1,
             "rgb(250,234,220)"
            ]
           ]
          },
          "colorway": [
           "rgb(76,114,176)",
           "rgb(221,132,82)",
           "rgb(85,168,104)",
           "rgb(196,78,82)",
           "rgb(129,114,179)",
           "rgb(147,120,96)",
           "rgb(218,139,195)",
           "rgb(140,140,140)",
           "rgb(204,185,116)",
           "rgb(100,181,205)"
          ],
          "font": {
           "color": "rgb(36,36,36)"
          },
          "geo": {
           "bgcolor": "white",
           "lakecolor": "white",
           "landcolor": "rgb(234,234,242)",
           "showlakes": true,
           "showland": true,
           "subunitcolor": "white"
          },
          "hoverlabel": {
           "align": "left"
          },
          "hovermode": "closest",
          "paper_bgcolor": "white",
          "plot_bgcolor": "rgb(234,234,242)",
          "polar": {
           "angularaxis": {
            "gridcolor": "white",
            "linecolor": "white",
            "showgrid": true,
            "ticks": ""
           },
           "bgcolor": "rgb(234,234,242)",
           "radialaxis": {
            "gridcolor": "white",
            "linecolor": "white",
            "showgrid": true,
            "ticks": ""
           }
          },
          "scene": {
           "xaxis": {
            "backgroundcolor": "rgb(234,234,242)",
            "gridcolor": "white",
            "gridwidth": 2,
            "linecolor": "white",
            "showbackground": true,
            "showgrid": true,
            "ticks": "",
            "zerolinecolor": "white"
           },
           "yaxis": {
            "backgroundcolor": "rgb(234,234,242)",
            "gridcolor": "white",
            "gridwidth": 2,
            "linecolor": "white",
            "showbackground": true,
            "showgrid": true,
            "ticks": "",
            "zerolinecolor": "white"
           },
           "zaxis": {
            "backgroundcolor": "rgb(234,234,242)",
            "gridcolor": "white",
            "gridwidth": 2,
            "linecolor": "white",
            "showbackground": true,
            "showgrid": true,
            "ticks": "",
            "zerolinecolor": "white"
           }
          },
          "shapedefaults": {
           "fillcolor": "rgb(67,103,167)",
           "line": {
            "width": 0
           },
           "opacity": 0.5
          },
          "ternary": {
           "aaxis": {
            "gridcolor": "white",
            "linecolor": "white",
            "showgrid": true,
            "ticks": ""
           },
           "baxis": {
            "gridcolor": "white",
            "linecolor": "white",
            "showgrid": true,
            "ticks": ""
           },
           "bgcolor": "rgb(234,234,242)",
           "caxis": {
            "gridcolor": "white",
            "linecolor": "white",
            "showgrid": true,
            "ticks": ""
           }
          },
          "xaxis": {
           "automargin": true,
           "gridcolor": "white",
           "linecolor": "white",
           "showgrid": true,
           "ticks": "",
           "title": {
            "standoff": 15
           },
           "zerolinecolor": "white"
          },
          "yaxis": {
           "automargin": true,
           "gridcolor": "white",
           "linecolor": "white",
           "showgrid": true,
           "ticks": "",
           "title": {
            "standoff": 15
           },
           "zerolinecolor": "white"
          }
         }
        },
        "updatemenus": [
         {
          "active": 0,
          "buttons": [
           {
            "args": [
             null,
             {
              "frame": {
               "duration": 500,
               "redraw": false
              },
              "fromcurrent": true,
              "mode": "immediate",
              "transition": {
               "duration": 500,
               "easing": "linear"
              }
             }
            ],
            "label": "&#9654;",
            "method": "animate"
           },
           {
            "args": [
             [
              null
             ],
             {
              "frame": {
               "duration": 0,
               "redraw": false
              },
              "fromcurrent": true,
              "mode": "immediate",
              "transition": {
               "duration": 0,
               "easing": "linear"
              }
             }
            ],
            "label": "&#9724;",
            "method": "animate"
           }
          ],
          "direction": "left",
          "pad": {
           "r": 10,
           "t": 70
          },
          "showactive": false,
          "type": "buttons",
          "x": 0.1,
          "xanchor": "right",
          "y": 0,
          "yanchor": "top"
         }
        ],
        "xaxis": {
         "anchor": "y",
         "domain": [
          0,
          1
         ],
         "range": [
          1.8750612633916997,
          2
         ],
         "title": {
          "text": "Fastest Lap Time"
         },
         "type": "log"
        },
        "yaxis": {
         "anchor": "x",
         "domain": [
          0,
          1
         ],
         "range": [
          -5,
          15
         ],
         "title": {
          "text": "Position"
         },
         "type": "linear"
        }
       }
      },
      "image/png": "[encoded data removed]",
      "text/html": [
       "<div>                            <div id=\"a35e3cd4-47e1-4bca-9770-ea8f1a7d5dc3\" class=\"plotly-graph-div\" style=\"height:525px; width:100%;\"></div>            <script type=\"text/javascript\">                require([\"plotly\"], function(Plotly) {                    window.PLOTLYENV=window.PLOTLYENV || {};                                    if (document.getElementById(\"a35e3cd4-47e1-4bca-9770-ea8f1a7d5dc3\")) {                    Plotly.newPlot(                        \"a35e3cd4-47e1-4bca-9770-ea8f1a7d5dc3\",                        [{\"hovertemplate\": \"<b>%{hovertext}</b><br><br>Full Name=Lewis Hamilton<br>Points=10.0<br>Fastest Lap Time=%{marker.size}<br>Position=%{y}<extra></extra>\", \"hovertext\": [\"Lewis Hamilton\", \"Lewis Hamilton\", \"Lewis Hamilton\", \"Lewis Hamilton\", \"Lewis Hamilton\", \"Lewis Hamilton\", \"Lewis Hamilton\", \"Lewis Hamilton\", \"Lewis Hamilton\", \"Lewis Hamilton\", \"Lewis Hamilton\", \"Lewis Hamilton\", \"Lewis Hamilton\", \"Lewis Hamilton\", \"Lewis Hamilton\", \"Lewis Hamilton\", \"Lewis Hamilton\", \"Lewis Hamilton\", \"Lewis Hamilton\", \"Lewis Hamilton\", \"Lewis Hamilton\", \"Lewis Hamilton\", \"Lewis Hamilton\", \"Lewis Hamilton\", \"Lewis Hamilton\", \"Lewis Hamilton\"], \"ids\": [\"Lewis Hamilton\", \"Lewis Hamilton\", \"Lewis Hamilton\", \"Lewis Hamilton\", \"Lewis Hamilton\", \"Lewis Hamilton\", \"Lewis Hamilton\", \"Lewis Hamilton\", \"Lewis Hamilton\", \"Lewis Hamilton\", \"Lewis Hamilton\", \"Lewis Hamilton\", \"Lewis Hamilton\", \"Lewis Hamilton\", \"Lewis Hamilton\", \"Lewis Hamilton\", \"Lewis Hamilton\", \"Lewis Hamilton\", \"Lewis Hamilton\", \"Lewis Hamilton\", \"Lewis Hamilton\", \"Lewis Hamilton\", \"Lewis Hamilton\", \"Lewis Hamilton\", \"Lewis Hamilton\", \"Lewis Hamilton\"], \"legendgroup\": \"Lewis Hamilton\", \"marker\": {\"color\": \"rgb(76,114,176)\", \"size\": [87.45200000000001, 78.51, 92.817, 76.039, 96.325, 76.494, 73.222, 80.17099999999998, 88.193, 82.479, 108.345, 76.219, 95.182, 110.83200000000001, 97.645, 78.806, 97.76, 89.759, 98.204, 94.156, 109.916, 102.539, 106.822, 103.469, 74.18299999999998, 68.05], \"sizemode\": \"area\", \"sizeref\": 0.03596189349112426, \"symbol\": \"circle\"}, \"mode\": \"markers\", \"name\": \"Lewis Hamilton\", \"orientation\": \"h\", \"showlegend\": true, \"type\": \"scatter\", \"x\": [87.45200000000001, 78.51, 92.817, 76.039, 96.325, 76.494, 73.222, 80.17099999999998, 88.193, 82.479, 108.345, 76.219, 95.182, 110.83200000000001, 97.645, 78.806, 97.76, 89.759, 98.204, 94.156, 109.916, 102.539, 106.822, 103.469, 74.18299999999998, 68.05], \"xaxis\": \"x\", \"y\": [\"1\", \"1\", \"1\", \"1\", \"1\", \"1\", \"1\", \"1\", \"1\", \"1\", \"1\", \"5\", \"5\", \"5\", \"5\", \"5\", \"5\", \"5\", \"5\", \"5\", \"5\", \"5\", \"5\", \"5\", \"5\", \"5\"], \"yaxis\": \"y\"}, {\"hovertemplate\": \"<b>%{hovertext}</b><br><br>Full Name=Sergio P\\u00e9rez<br>Points=10.0<br>Fastest Lap Time=%{marker.size}<br>Position=%{y}<extra></extra>\", \"hovertext\": [\"Sergio P\\u00e9rez\", \"Sergio P\\u00e9rez\", \"Sergio P\\u00e9rez\", \"Sergio P\\u00e9rez\", \"Sergio P\\u00e9rez\", \"Sergio P\\u00e9rez\", \"Sergio P\\u00e9rez\", \"Sergio P\\u00e9rez\", \"Sergio P\\u00e9rez\", \"Sergio P\\u00e9rez\"], \"ids\": [\"Sergio P\\u00e9rez\", \"Sergio P\\u00e9rez\", \"Sergio P\\u00e9rez\", \"Sergio P\\u00e9rez\", \"Sergio P\\u00e9rez\", \"Sergio P\\u00e9rez\", \"Sergio P\\u00e9rez\", \"Sergio P\\u00e9rez\", \"Sergio P\\u00e9rez\", \"Sergio P\\u00e9rez\"], \"legendgroup\": \"Sergio P\\u00e9rez\", \"marker\": {\"color\": \"rgb(221,132,82)\", \"size\": [88.50299999999999, 114.796, 103.01, 105.89200000000001, 113.414, 76.367, 106.73100000000001, 108.08, 82.515, 80.632], \"sizemode\": \"area\", \"sizeref\": 0.03596189349112426, \"symbol\": \"circle\"}, \"mode\": \"markers\", \"name\": \"Sergio P\\u00e9rez\", \"orientation\": \"h\", \"showlegend\": true, \"type\": \"scatter\", \"x\": [88.50299999999999, 114.796, 103.01, 105.89200000000001, 113.414, 76.367, 106.73100000000001, 108.08, 82.515, 80.632], \"xaxis\": \"x\", \"y\": [\"5\", \"5\", \"5\", \"5\", \"5\", \"5\", \"5\", \"5\", \"5\", \"5\"], \"yaxis\": \"y\"}, {\"hovertemplate\": \"<b>%{hovertext}</b><br><br>Full Name=Daniel Ricciardo<br>Points=10.0<br>Fastest Lap Time=%{marker.size}<br>Position=%{y}<extra></extra>\", \"hovertext\": [\"Daniel Ricciardo\", \"Daniel Ricciardo\", \"Daniel Ricciardo\", \"Daniel Ricciardo\", \"Daniel Ricciardo\", \"Daniel Ricciardo\", \"Daniel Ricciardo\", \"Daniel Ricciardo\", \"Daniel Ricciardo\", \"Daniel Ricciardo\", \"Daniel Ricciardo\"], \"ids\": [\"Daniel Ricciardo\", \"Daniel Ricciardo\", \"Daniel Ricciardo\", \"Daniel Ricciardo\", \"Daniel Ricciardo\", \"Daniel Ricciardo\", \"Daniel Ricciardo\", \"Daniel Ricciardo\", \"Daniel Ricciardo\", \"Daniel Ricciardo\", \"Daniel Ricciardo\"], \"legendgroup\": \"Daniel Ricciardo\", \"marker\": {\"color\": \"rgb(85,168,104)\", \"size\": [88.588, 78.063, 81.625, 68.77, 85.919, 104.889, 93.495, 91.874, 78.441, 91.589, 97.88600000000001], \"sizemode\": \"area\", \"sizeref\": 0.03596189349112426, \"symbol\": \"circle\"}, \"mode\": \"markers\", \"name\": \"Daniel Ricciardo\", \"orientation\": \"h\", \"showlegend\": true, \"type\": \"scatter\", \"x\": [88.588, 78.063, 81.625, 68.77, 85.919, 104.889, 93.495, 91.874, 78.441, 91.589, 97.88600000000001], \"xaxis\": \"x\", \"y\": [\"5\", \"5\", \"5\", \"5\", \"5\", \"5\", \"5\", \"5\", \"5\", \"5\", \"5\"], \"yaxis\": \"y\"}, {\"hovertemplate\": \"<b>%{hovertext}</b><br><br>Full Name=Valtteri Bottas<br>Points=10.0<br>Fastest Lap Time=%{marker.size}<br>Position=%{y}<extra></extra>\", \"hovertext\": [\"Valtteri Bottas\", \"Valtteri Bottas\", \"Valtteri Bottas\", \"Valtteri Bottas\", \"Valtteri Bottas\", \"Valtteri Bottas\", \"Valtteri Bottas\", \"Valtteri Bottas\", \"Valtteri Bottas\", \"Valtteri Bottas\", \"Valtteri Bottas\", \"Valtteri Bottas\", \"Valtteri Bottas\", \"Valtteri Bottas\", \"Valtteri Bottas\", \"Valtteri Bottas\", \"Valtteri Bottas\", \"Valtteri Bottas\", \"Valtteri Bottas\", \"Valtteri Bottas\", \"Valtteri Bottas\", \"Valtteri Bottas\"], \"ids\": [\"Valtteri Bottas\", \"Valtteri Bottas\", \"Valtteri Bottas\", \"Valtteri Bottas\", \"Valtteri Bottas\", \"Valtteri Bottas\", \"Valtteri Bottas\", \"Valtteri Bottas\", \"Valtteri Bottas\", \"Valtteri Bottas\", \"Valtteri Bottas\", \"Valtteri Bottas\", \"Valtteri Bottas\", \"Valtteri Bottas\", \"Valtteri Bottas\", \"Valtteri Bottas\", \"Valtteri Bottas\", \"Valtteri Bottas\", \"Valtteri Bottas\", \"Valtteri Bottas\", \"Valtteri Bottas\", \"Valtteri Bottas\"], \"legendgroup\": \"Valtteri Bottas\", \"marker\": {\"color\": \"rgb(196,78,82)\", \"size\": [92.616, 90.42399999999999, 102.505, 104.088, 72.248, 97.51299999999999, 111.34200000000001, 98.241, 76.039, 89.081, 99.199, 107.721, 95.284, 97.76700000000001, 76.312, 81.736, 98.47, 78.741, 70.53999999999998, 100.95299999999999, 103.534, 83.961], \"sizemode\": \"area\", \"sizeref\": 0.03596189349112426, \"symbol\": \"circle\"}, \"mode\": \"markers\", \"name\": \"Valtteri Bottas\", \"orientation\": \"h\", \"showlegend\": true, \"type\": \"scatter\", \"x\": [92.616, 90.42399999999999, 102.505, 104.088, 72.248, 97.51299999999999, 111.34200000000001, 98.241, 76.039, 89.081, 99.199, 107.721, 95.284, 97.76700000000001, 76.312, 81.736, 98.47, 78.741, 70.53999999999998, 100.95299999999999, 103.534, 83.961], \"xaxis\": \"x\", \"y\": [\"5\", \"5\", \"5\", \"5\", \"5\", \"5\", \"5\", \"5\", \"5\", \"5\", \"5\", \"5\", \"5\", \"5\", \"5\", \"5\", \"5\", \"5\", \"5\", \"5\", \"5\", \"5\"], \"yaxis\": \"y\"}, {\"hovertemplate\": \"<b>%{hovertext}</b><br><br>Full Name=Carlos Sainz<br>Points=10.0<br>Fastest Lap Time=%{marker.size}<br>Position=%{y}<extra></extra>\", \"hovertext\": [\"Carlos Sainz\", \"Carlos Sainz\", \"Carlos Sainz\", \"Carlos Sainz\", \"Carlos Sainz\", \"Carlos Sainz\"], \"ids\": [\"Carlos Sainz\", \"Carlos Sainz\", \"Carlos Sainz\", \"Carlos Sainz\", \"Carlos Sainz\", \"Carlos Sainz\"], \"legendgroup\": \"Carlos Sainz\", \"marker\": {\"color\": \"rgb(129,114,179)\", \"size\": [106.85600000000001, 77.84100000000002, 81.002, 93.56299999999999, 67.97399999999999, 90.12899999999999], \"sizemode\": \"area\", \"sizeref\": 0.03596189349112426, \"symbol\": \"circle\"}, \"mode\": \"markers\", \"name\": \"Carlos Sainz\", \"orientation\": \"h\", \"showlegend\": true, \"type\": \"scatter\", \"x\": [106.85600000000001, 77.84100000000002, 81.002, 93.56299999999999, 67.97399999999999, 90.12899999999999], \"xaxis\": \"x\", \"y\": [\"5\", \"5\", \"5\", \"5\", \"5\", \"5\"], \"yaxis\": \"y\"}, {\"hovertemplate\": \"<b>%{hovertext}</b><br><br>Full Name=Max Verstappen<br>Points=10.0<br>Fastest Lap Time=%{marker.size}<br>Position=%{y}<extra></extra>\", \"hovertext\": [\"Max Verstappen\", \"Max Verstappen\", \"Max Verstappen\", \"Max Verstappen\", \"Max Verstappen\", \"Max Verstappen\", \"Max Verstappen\", \"Max Verstappen\", \"Max Verstappen\", \"Max Verstappen\", \"Max Verstappen\", \"Max Verstappen\"], \"ids\": [\"Max Verstappen\", \"Max Verstappen\", \"Max Verstappen\", \"Max Verstappen\", \"Max Verstappen\", \"Max Verstappen\", \"Max Verstappen\", \"Max Verstappen\", \"Max Verstappen\", \"Max Verstappen\", \"Max Verstappen\", \"Max Verstappen\"], \"legendgroup\": \"Max Verstappen\", \"marker\": {\"color\": \"rgb(147,120,96)\", \"size\": [84.68700000000001, 86.964, 98.429, 76.32900000000002, 80.49, 71.044, 102.028, 96.206, 83.60900000000002, 96.28299999999999, 74.767, 89.27199999999998], \"sizemode\": \"area\", \"sizeref\": 0.03596189349112426, \"symbol\": \"circle\"}, \"mode\": \"markers\", \"name\": \"Max Verstappen\", \"orientation\": \"h\", \"showlegend\": true, \"type\": \"scatter\", \"x\": [84.68700000000001, 86.964, 98.429, 76.32900000000002, 80.49, 71.044, 102.028, 96.206, 83.60900000000002, 96.28299999999999, 74.767, 89.27199999999998], \"xaxis\": \"x\", \"y\": [\"5\", \"5\", \"5\", \"5\", \"5\", \"5\", \"5\", \"5\", \"5\", \"5\", \"5\", \"5\"], \"yaxis\": \"y\"}, {\"hovertemplate\": \"<b>%{hovertext}</b><br><br>Full Name=Pierre Gasly<br>Points=10.0<br>Fastest Lap Time=%{marker.size}<br>Position=%{y}<extra></extra>\", \"hovertext\": [\"Pierre Gasly\"], \"ids\": [\"Pierre Gasly\"], \"legendgroup\": \"Pierre Gasly\", \"marker\": {\"color\": \"rgb(218,139,195)\", \"size\": [80.551], \"sizemode\": \"area\", \"sizeref\": 0.03596189349112426, \"symbol\": \"circle\"}, \"mode\": \"markers\", \"name\": \"Pierre Gasly\", \"orientation\": \"h\", \"showlegend\": true, \"type\": \"scatter\", \"x\": [80.551], \"xaxis\": \"x\", \"y\": [\"5\"], \"yaxis\": \"y\"}, {\"hovertemplate\": \"<b>%{hovertext}</b><br><br>Full Name=Charles Leclerc<br>Points=10.0<br>Fastest Lap Time=%{marker.size}<br>Position=%{y}<extra></extra>\", \"hovertext\": [\"Charles Leclerc\", \"Charles Leclerc\", \"Charles Leclerc\"], \"ids\": [\"Charles Leclerc\", \"Charles Leclerc\", \"Charles Leclerc\"], \"legendgroup\": \"Charles Leclerc\", \"marker\": {\"color\": \"rgb(140,140,140)\", \"size\": [86.926, 94.86, 80.002], \"sizemode\": \"area\", \"sizeref\": 0.03596189349112426, \"symbol\": \"circle\"}, \"mode\": \"markers\", \"name\": \"Charles Leclerc\", \"orientation\": \"h\", \"showlegend\": true, \"type\": \"scatter\", \"x\": [86.926, 94.86, 80.002], \"xaxis\": \"x\", \"y\": [\"5\", \"5\", \"5\"], \"yaxis\": \"y\"}, {\"hovertemplate\": \"<b>%{hovertext}</b><br><br>Full Name=Lando Norris<br>Points=10.0<br>Fastest Lap Time=%{marker.size}<br>Position=%{y}<extra></extra>\", \"hovertext\": [\"Lando Norris\", \"Lando Norris\"], \"ids\": [\"Lando Norris\", \"Lando Norris\"], \"legendgroup\": \"Lando Norris\", \"marker\": {\"color\": \"rgb(204,185,116)\", \"size\": [67.193, 90.05799999999998], \"sizemode\": \"area\", \"sizeref\": 0.03596189349112426, \"symbol\": \"circle\"}, \"mode\": \"markers\", \"name\": \"Lando Norris\", \"orientation\": \"h\", \"showlegend\": true, \"type\": \"scatter\", \"x\": [67.193, 90.05799999999998], \"xaxis\": \"x\", \"y\": [\"5\", \"5\"], \"yaxis\": \"y\"}, {\"hovertemplate\": \"<b>%{hovertext}</b><br><br>Full Name=Alexander Albon<br>Points=10.0<br>Fastest Lap Time=%{marker.size}<br>Position=%{y}<extra></extra>\", \"hovertext\": [\"Alexander Albon\", \"Alexander Albon\", \"Alexander Albon\", \"Alexander Albon\", \"Alexander Albon\", \"Alexander Albon\"], \"ids\": [\"Alexander Albon\", \"Alexander Albon\", \"Alexander Albon\", \"Alexander Albon\", \"Alexander Albon\", \"Alexander Albon\"], \"legendgroup\": \"Alexander Albon\", \"marker\": {\"color\": \"rgb(100,181,205)\", \"size\": [107.507, 96.762, 79.325, 98.029, 79.44, 89.477], \"sizemode\": \"area\", \"sizeref\": 0.03596189349112426, \"symbol\": \"circle\"}, \"mode\": \"markers\", \"name\": \"Alexander Albon\", \"orientation\": \"h\", \"showlegend\": true, \"type\": \"scatter\", \"x\": [107.507, 96.762, 79.325, 98.029, 79.44, 89.477], \"xaxis\": \"x\", \"y\": [\"5\", \"5\", \"5\", \"5\", \"5\", \"5\"], \"yaxis\": \"y\"}],                        {\"legend\": {\"itemsizing\": \"constant\", \"title\": {\"text\": \"Full Name\"}, \"tracegroupgap\": 0}, \"margin\": {\"t\": 60}, \"sliders\": [{\"active\": 0, \"currentvalue\": {\"prefix\": \"Points=\"}, \"len\": 0.9, \"pad\": {\"b\": 10, \"t\": 60}, \"steps\": [{\"args\": [[\"10.0\"], {\"frame\": {\"duration\": 0, \"redraw\": false}, \"fromcurrent\": true, \"mode\": \"immediate\", \"transition\": {\"duration\": 0, \"easing\": \"linear\"}}], \"label\": \"10.0\", \"method\": \"animate\"}, {\"args\": [[\"4.0\"], {\"frame\": {\"duration\": 0, \"redraw\": false}, \"fromcurrent\": true, \"mode\": \"immediate\", \"transition\": {\"duration\": 0, \"easing\": \"linear\"}}], \"label\": \"4.0\", \"method\": \"animate\"}, {\"args\": [[\"0.0\"], {\"frame\": {\"duration\": 0, \"redraw\": false}, \"fromcurrent\": true, \"mode\": \"immediate\", \"transition\": {\"duration\": 0, \"easing\": \"linear\"}}], \"label\": \"0.0\", \"method\": \"animate\"}, {\"args\": [[\"6.0\"], {\"frame\": {\"duration\": 0, \"redraw\": false}, \"fromcurrent\": true, \"mode\": \"immediate\", \"transition\": {\"duration\": 0, \"easing\": \"linear\"}}], \"label\": \"6.0\", \"method\": \"animate\"}, {\"args\": [[\"8.0\"], {\"frame\": {\"duration\": 0, \"redraw\": false}, \"fromcurrent\": true, \"mode\": \"immediate\", \"transition\": {\"duration\": 0, \"easing\": \"linear\"}}], \"label\": \"8.0\", \"method\": \"animate\"}, {\"args\": [[\"2.0\"], {\"frame\": {\"duration\": 0, \"redraw\": false}, \"fromcurrent\": true, \"mode\": \"immediate\", \"transition\": {\"duration\": 0, \"easing\": \"linear\"}}], \"label\": \"2.0\", \"method\": \"animate\"}, {\"args\": [[\"5.0\"], {\"frame\": {\"duration\": 0, \"redraw\": false}, \"fromcurrent\": true, \"mode\": \"immediate\", \"transition\": {\"duration\": 0, \"easing\": \"linear\"}}], \"label\": \"5.0\", \"method\": \"animate\"}, {\"args\": [[\"1.0\"], {\"frame\": {\"duration\": 0, \"redraw\": false}, \"fromcurrent\": true, \"mode\": \"immediate\", \"transition\": {\"duration\": 0, \"easing\": \"linear\"}}], \"label\": \"1.0\", \"method\": \"animate\"}, {\"args\": [[\"3.0\"], {\"frame\": {\"duration\": 0, \"redraw\": false}, \"fromcurrent\": true, \"mode\": \"immediate\", \"transition\": {\"duration\": 0, \"easing\": \"linear\"}}], \"label\": \"3.0\", \"method\": \"animate\"}, {\"args\": [[\"15.0\"], {\"frame\": {\"duration\": 0, \"redraw\": false}, \"fromcurrent\": true, \"mode\": \"immediate\", \"transition\": {\"duration\": 0, \"easing\": \"linear\"}}], \"label\": \"15.0\", \"method\": \"animate\"}, {\"args\": [[\"18.0\"], {\"frame\": {\"duration\": 0, \"redraw\": false}, \"fromcurrent\": true, \"mode\": \"immediate\", \"transition\": {\"duration\": 0, \"easing\": \"linear\"}}], \"label\": \"18.0\", \"method\": \"animate\"}, {\"args\": [[\"25.0\"], {\"frame\": {\"duration\": 0, \"redraw\": false}, \"fromcurrent\": true, \"mode\": \"immediate\", \"transition\": {\"duration\": 0, \"easing\": \"linear\"}}], \"label\": \"25.0\", \"method\": \"animate\"}, {\"args\": [[\"12.0\"], {\"frame\": {\"duration\": 0, \"redraw\": false}, \"fromcurrent\": true, \"mode\": \"immediate\", \"transition\": {\"duration\": 0, \"easing\": \"linear\"}}], \"label\": \"12.0\", \"method\": \"animate\"}, {\"args\": [[\"50.0\"], {\"frame\": {\"duration\": 0, \"redraw\": false}, \"fromcurrent\": true, \"mode\": \"immediate\", \"transition\": {\"duration\": 0, \"easing\": \"linear\"}}], \"label\": \"50.0\", \"method\": \"animate\"}, {\"args\": [[\"30.0\"], {\"frame\": {\"duration\": 0, \"redraw\": false}, \"fromcurrent\": true, \"mode\": \"immediate\", \"transition\": {\"duration\": 0, \"easing\": \"linear\"}}], \"label\": \"30.0\", \"method\": \"animate\"}, {\"args\": [[\"24.0\"], {\"frame\": {\"duration\": 0, \"redraw\": false}, \"fromcurrent\": true, \"mode\": \"immediate\", \"transition\": {\"duration\": 0, \"easing\": \"linear\"}}], \"label\": \"24.0\", \"method\": \"animate\"}, {\"args\": [[\"26.0\"], {\"frame\": {\"duration\": 0, \"redraw\": false}, \"fromcurrent\": true, \"mode\": \"immediate\", \"transition\": {\"duration\": 0, \"easing\": \"linear\"}}], \"label\": \"26.0\", \"method\": \"animate\"}, {\"args\": [[\"16.0\"], {\"frame\": {\"duration\": 0, \"redraw\": false}, \"fromcurrent\": true, \"mode\": \"immediate\", \"transition\": {\"duration\": 0, \"easing\": \"linear\"}}], \"label\": \"16.0\", \"method\": \"animate\"}, {\"args\": [[\"9.0\"], {\"frame\": {\"duration\": 0, \"redraw\": false}, \"fromcurrent\": true, \"mode\": \"immediate\", \"transition\": {\"duration\": 0, \"easing\": \"linear\"}}], \"label\": \"9.0\", \"method\": \"animate\"}, {\"args\": [[\"11.0\"], {\"frame\": {\"duration\": 0, \"redraw\": false}, \"fromcurrent\": true, \"mode\": \"immediate\", \"transition\": {\"duration\": 0, \"easing\": \"linear\"}}], \"label\": \"11.0\", \"method\": \"animate\"}, {\"args\": [[\"13.0\"], {\"frame\": {\"duration\": 0, \"redraw\": false}, \"fromcurrent\": true, \"mode\": \"immediate\", \"transition\": {\"duration\": 0, \"easing\": \"linear\"}}], \"label\": \"13.0\", \"method\": \"animate\"}, {\"args\": [[\"19.0\"], {\"frame\": {\"duration\": 0, \"redraw\": false}, \"fromcurrent\": true, \"mode\": \"immediate\", \"transition\": {\"duration\": 0, \"easing\": \"linear\"}}], \"label\": \"19.0\", \"method\": \"animate\"}, {\"args\": [[\"7.0\"], {\"frame\": {\"duration\": 0, \"redraw\": false}, \"fromcurrent\": true, \"mode\": \"immediate\", \"transition\": {\"duration\": 0, \"easing\": \"linear\"}}], \"label\": \"7.0\", \"method\": \"animate\"}], \"x\": 0.1, \"xanchor\": \"left\", \"y\": 0, \"yanchor\": \"top\"}], \"template\": {\"data\": {\"bar\": [{\"error_x\": {\"color\": \"rgb(36,36,36)\"}, \"error_y\": {\"color\": \"rgb(36,36,36)\"}, \"marker\": {\"line\": {\"color\": \"rgb(234,234,242)\", \"width\": 0.5}}, \"type\": \"bar\"}], \"barpolar\": [{\"marker\": {\"line\": {\"color\": \"rgb(234,234,242)\", \"width\": 0.5}}, \"type\": \"barpolar\"}], \"carpet\": [{\"aaxis\": {\"endlinecolor\": \"rgb(36,36,36)\", \"gridcolor\": \"white\", \"linecolor\": \"white\", \"minorgridcolor\": \"white\", \"startlinecolor\": \"rgb(36,36,36)\"}, \"baxis\": {\"endlinecolor\": \"rgb(36,36,36)\", \"gridcolor\": \"white\", \"linecolor\": \"white\", \"minorgridcolor\": \"white\", \"startlinecolor\": \"rgb(36,36,36)\"}, \"type\": \"carpet\"}], \"choropleth\": [{\"colorbar\": {\"outlinewidth\": 0, \"tickcolor\": \"rgb(36,36,36)\", \"ticklen\": 8, \"ticks\": \"outside\", \"tickwidth\": 2}, \"type\": \"choropleth\"}], \"contour\": [{\"colorbar\": {\"outlinewidth\": 0, \"tickcolor\": \"rgb(36,36,36)\", \"ticklen\": 8, \"ticks\": \"outside\", \"tickwidth\": 2}, \"colorscale\": [[0.0, \"rgb(2,4,25)\"], [0.06274509803921569, \"rgb(24,15,41)\"], [0.12549019607843137, \"rgb(47,23,57)\"], [0.18823529411764706, \"rgb(71,28,72)\"], [0.25098039215686274, \"rgb(97,30,82)\"], [0.3137254901960784, \"rgb(123,30,89)\"], [0.3764705882352941, \"rgb(150,27,91)\"], [0.4392156862745098, \"rgb(177,22,88)\"], [0.5019607843137255, \"rgb(203,26,79)\"], [0.5647058823529412, \"rgb(223,47,67)\"], [0.6274509803921569, \"rgb(236,76,61)\"], [0.6901960784313725, \"rgb(242,107,73)\"], [0.7529411764705882, \"rgb(244,135,95)\"], [0.8156862745098039, \"rgb(245,162,122)\"], [0.8784313725490196, \"rgb(246,188,153)\"], [0.9411764705882353, \"rgb(247,212,187)\"], [1.0, \"rgb(250,234,220)\"]], \"type\": \"contour\"}], \"contourcarpet\": [{\"colorbar\": {\"outlinewidth\": 0, \"tickcolor\": \"rgb(36,36,36)\", \"ticklen\": 8, \"ticks\": \"outside\", \"tickwidth\": 2}, \"type\": \"contourcarpet\"}], \"heatmap\": [{\"colorbar\": {\"outlinewidth\": 0, \"tickcolor\": \"rgb(36,36,36)\", \"ticklen\": 8, \"ticks\": \"outside\", \"tickwidth\": 2}, \"colorscale\": [[0.0, \"rgb(2,4,25)\"], [0.06274509803921569, \"rgb(24,15,41)\"], [0.12549019607843137, \"rgb(47,23,57)\"], [0.18823529411764706, \"rgb(71,28,72)\"], [0.25098039215686274, \"rgb(97,30,82)\"], [0.3137254901960784, \"rgb(123,30,89)\"], [0.3764705882352941, \"rgb(150,27,91)\"], [0.4392156862745098, \"rgb(177,22,88)\"], [0.5019607843137255, \"rgb(203,26,79)\"], [0.5647058823529412, \"rgb(223,47,67)\"], [0.6274509803921569, \"rgb(236,76,61)\"], [0.6901960784313725, \"rgb(242,107,73)\"], [0.7529411764705882, \"rgb(244,135,95)\"], [0.8156862745098039, \"rgb(245,162,122)\"], [0.8784313725490196, \"rgb(246,188,153)\"], [0.9411764705882353, \"rgb(247,212,187)\"], [1.0, \"rgb(250,234,220)\"]], \"type\": \"heatmap\"}], \"heatmapgl\": [{\"colorbar\": {\"outlinewidth\": 0, \"tickcolor\": \"rgb(36,36,36)\", \"ticklen\": 8, \"ticks\": \"outside\", \"tickwidth\": 2}, \"colorscale\": [[0.0, \"rgb(2,4,25)\"], [0.06274509803921569, \"rgb(24,15,41)\"], [0.12549019607843137, \"rgb(47,23,57)\"], [0.18823529411764706, \"rgb(71,28,72)\"], [0.25098039215686274, \"rgb(97,30,82)\"], [0.3137254901960784, \"rgb(123,30,89)\"], [0.3764705882352941, \"rgb(150,27,91)\"], [0.4392156862745098, \"rgb(177,22,88)\"], [0.5019607843137255, \"rgb(203,26,79)\"], [0.5647058823529412, \"rgb(223,47,67)\"], [0.6274509803921569, \"rgb(236,76,61)\"], [0.6901960784313725, \"rgb(242,107,73)\"], [0.7529411764705882, \"rgb(244,135,95)\"], [0.8156862745098039, \"rgb(245,162,122)\"], [0.8784313725490196, \"rgb(246,188,153)\"], [0.9411764705882353, \"rgb(247,212,187)\"], [1.0, \"rgb(250,234,220)\"]], \"type\": \"heatmapgl\"}], \"histogram\": [{\"marker\": {\"colorbar\": {\"outlinewidth\": 0, \"tickcolor\": \"rgb(36,36,36)\", \"ticklen\": 8, \"ticks\": \"outside\", \"tickwidth\": 2}}, \"type\": \"histogram\"}], \"histogram2d\": [{\"colorbar\": {\"outlinewidth\": 0, \"tickcolor\": \"rgb(36,36,36)\", \"ticklen\": 8, \"ticks\": \"outside\", \"tickwidth\": 2}, \"colorscale\": [[0.0, \"rgb(2,4,25)\"], [0.06274509803921569, \"rgb(24,15,41)\"], [0.12549019607843137, \"rgb(47,23,57)\"], [0.18823529411764706, \"rgb(71,28,72)\"], [0.25098039215686274, \"rgb(97,30,82)\"], [0.3137254901960784, \"rgb(123,30,89)\"], [0.3764705882352941, \"rgb(150,27,91)\"], [0.4392156862745098, \"rgb(177,22,88)\"], [0.5019607843137255, \"rgb(203,26,79)\"], [0.5647058823529412, \"rgb(223,47,67)\"], [0.6274509803921569, \"rgb(236,76,61)\"], [0.6901960784313725, \"rgb(242,107,73)\"], [0.7529411764705882, \"rgb(244,135,95)\"], [0.8156862745098039, \"rgb(245,162,122)\"], [0.8784313725490196, \"rgb(246,188,153)\"], [0.9411764705882353, \"rgb(247,212,187)\"], [1.0, \"rgb(250,234,220)\"]], \"type\": \"histogram2d\"}], \"histogram2dcontour\": [{\"colorbar\": {\"outlinewidth\": 0, \"tickcolor\": \"rgb(36,36,36)\", \"ticklen\": 8, \"ticks\": \"outside\", \"tickwidth\": 2}, \"colorscale\": [[0.0, \"rgb(2,4,25)\"], [0.06274509803921569, \"rgb(24,15,41)\"], [0.12549019607843137, \"rgb(47,23,57)\"], [0.18823529411764706, \"rgb(71,28,72)\"], [0.25098039215686274, \"rgb(97,30,82)\"], [0.3137254901960784, \"rgb(123,30,89)\"], [0.3764705882352941, \"rgb(150,27,91)\"], [0.4392156862745098, \"rgb(177,22,88)\"], [0.5019607843137255, \"rgb(203,26,79)\"], [0.5647058823529412, \"rgb(223,47,67)\"], [0.6274509803921569, \"rgb(236,76,61)\"], [0.6901960784313725, \"rgb(242,107,73)\"], [0.7529411764705882, \"rgb(244,135,95)\"], [0.8156862745098039, \"rgb(245,162,122)\"], [0.8784313725490196, \"rgb(246,188,153)\"], [0.9411764705882353, \"rgb(247,212,187)\"], [1.0, \"rgb(250,234,220)\"]], \"type\": \"histogram2dcontour\"}], \"mesh3d\": [{\"colorbar\": {\"outlinewidth\": 0, \"tickcolor\": \"rgb(36,36,36)\", \"ticklen\": 8, \"ticks\": \"outside\", \"tickwidth\": 2}, \"type\": \"mesh3d\"}], \"parcoords\": [{\"line\": {\"colorbar\": {\"outlinewidth\": 0, \"tickcolor\": \"rgb(36,36,36)\", \"ticklen\": 8, \"ticks\": \"outside\", \"tickwidth\": 2}}, \"type\": \"parcoords\"}], \"pie\": [{\"automargin\": true, \"type\": \"pie\"}], \"scatter\": [{\"marker\": {\"colorbar\": {\"outlinewidth\": 0, \"tickcolor\": \"rgb(36,36,36)\", \"ticklen\": 8, \"ticks\": \"outside\", \"tickwidth\": 2}}, \"type\": \"scatter\"}], \"scatter3d\": [{\"line\": {\"colorbar\": {\"outlinewidth\": 0, \"tickcolor\": \"rgb(36,36,36)\", \"ticklen\": 8, \"ticks\": \"outside\", \"tickwidth\": 2}}, \"marker\": {\"colorbar\": {\"outlinewidth\": 0, \"tickcolor\": \"rgb(36,36,36)\", \"ticklen\": 8, \"ticks\": \"outside\", \"tickwidth\": 2}}, \"type\": \"scatter3d\"}], \"scattercarpet\": [{\"marker\": {\"colorbar\": {\"outlinewidth\": 0, \"tickcolor\": \"rgb(36,36,36)\", \"ticklen\": 8, \"ticks\": \"outside\", \"tickwidth\": 2}}, \"type\": \"scattercarpet\"}], \"scattergeo\": [{\"marker\": {\"colorbar\": {\"outlinewidth\": 0, \"tickcolor\": \"rgb(36,36,36)\", \"ticklen\": 8, \"ticks\": \"outside\", \"tickwidth\": 2}}, \"type\": \"scattergeo\"}], \"scattergl\": [{\"marker\": {\"colorbar\": {\"outlinewidth\": 0, \"tickcolor\": \"rgb(36,36,36)\", \"ticklen\": 8, \"ticks\": \"outside\", \"tickwidth\": 2}}, \"type\": \"scattergl\"}], \"scattermapbox\": [{\"marker\": {\"colorbar\": {\"outlinewidth\": 0, \"tickcolor\": \"rgb(36,36,36)\", \"ticklen\": 8, \"ticks\": \"outside\", \"tickwidth\": 2}}, \"type\": \"scattermapbox\"}], \"scatterpolar\": [{\"marker\": {\"colorbar\": {\"outlinewidth\": 0, \"tickcolor\": \"rgb(36,36,36)\", \"ticklen\": 8, \"ticks\": \"outside\", \"tickwidth\": 2}}, \"type\": \"scatterpolar\"}], \"scatterpolargl\": [{\"marker\": {\"colorbar\": {\"outlinewidth\": 0, \"tickcolor\": \"rgb(36,36,36)\", \"ticklen\": 8, \"ticks\": \"outside\", \"tickwidth\": 2}}, \"type\": \"scatterpolargl\"}], \"scatterternary\": [{\"marker\": {\"colorbar\": {\"outlinewidth\": 0, \"tickcolor\": \"rgb(36,36,36)\", \"ticklen\": 8, \"ticks\": \"outside\", \"tickwidth\": 2}}, \"type\": \"scatterternary\"}], \"surface\": [{\"colorbar\": {\"outlinewidth\": 0, \"tickcolor\": \"rgb(36,36,36)\", \"ticklen\": 8, \"ticks\": \"outside\", \"tickwidth\": 2}, \"colorscale\": [[0.0, \"rgb(2,4,25)\"], [0.06274509803921569, \"rgb(24,15,41)\"], [0.12549019607843137, \"rgb(47,23,57)\"], [0.18823529411764706, \"rgb(71,28,72)\"], [0.25098039215686274, \"rgb(97,30,82)\"], [0.3137254901960784, \"rgb(123,30,89)\"], [0.3764705882352941, \"rgb(150,27,91)\"], [0.4392156862745098, \"rgb(177,22,88)\"], [0.5019607843137255, \"rgb(203,26,79)\"], [0.5647058823529412, \"rgb(223,47,67)\"], [0.6274509803921569, \"rgb(236,76,61)\"], [0.6901960784313725, \"rgb(242,107,73)\"], [0.7529411764705882, \"rgb(244,135,95)\"], [0.8156862745098039, \"rgb(245,162,122)\"], [0.8784313725490196, \"rgb(246,188,153)\"], [0.9411764705882353, \"rgb(247,212,187)\"], [1.0, \"rgb(250,234,220)\"]], \"type\": \"surface\"}], \"table\": [{\"cells\": {\"fill\": {\"color\": \"rgb(231,231,240)\"}, \"line\": {\"color\": \"white\"}}, \"header\": {\"fill\": {\"color\": \"rgb(183,183,191)\"}, \"line\": {\"color\": \"white\"}}, \"type\": \"table\"}]}, \"layout\": {\"annotationdefaults\": {\"arrowcolor\": \"rgb(67,103,167)\"}, \"coloraxis\": {\"colorbar\": {\"outlinewidth\": 0, \"tickcolor\": \"rgb(36,36,36)\", \"ticklen\": 8, \"ticks\": \"outside\", \"tickwidth\": 2}}, \"colorscale\": {\"sequential\": [[0.0, \"rgb(2,4,25)\"], [0.06274509803921569, \"rgb(24,15,41)\"], [0.12549019607843137, \"rgb(47,23,57)\"], [0.18823529411764706, \"rgb(71,28,72)\"], [0.25098039215686274, \"rgb(97,30,82)\"], [0.3137254901960784, \"rgb(123,30,89)\"], [0.3764705882352941, \"rgb(150,27,91)\"], [0.4392156862745098, \"rgb(177,22,88)\"], [0.5019607843137255, \"rgb(203,26,79)\"], [0.5647058823529412, \"rgb(223,47,67)\"], [0.6274509803921569, \"rgb(236,76,61)\"], [0.6901960784313725, \"rgb(242,107,73)\"], [0.7529411764705882, \"rgb(244,135,95)\"], [0.8156862745098039, \"rgb(245,162,122)\"], [0.8784313725490196, \"rgb(246,188,153)\"], [0.9411764705882353, \"rgb(247,212,187)\"], [1.0, \"rgb(250,234,220)\"]], \"sequentialminus\": [[0.0, \"rgb(2,4,25)\"], [0.06274509803921569, \"rgb(24,15,41)\"], [0.12549019607843137, \"rgb(47,23,57)\"], [0.18823529411764706, \"rgb(71,28,72)\"], [0.25098039215686274, \"rgb(97,30,82)\"], [0.3137254901960784, \"rgb(123,30,89)\"], [0.3764705882352941, \"rgb(150,27,91)\"], [0.4392156862745098, \"rgb(177,22,88)\"], [0.5019607843137255, \"rgb(203,26,79)\"], [0.5647058823529412, \"rgb(223,47,67)\"], [0.6274509803921569, \"rgb(236,76,61)\"], [0.6901960784313725, \"rgb(242,107,73)\"], [0.7529411764705882, \"rgb(244,135,95)\"], [0.8156862745098039, \"rgb(245,162,122)\"], [0.8784313725490196, \"rgb(246,188,153)\"], [0.9411764705882353, \"rgb(247,212,187)\"], [1.0, \"rgb(250,234,220)\"]]}, \"colorway\": [\"rgb(76,114,176)\", \"rgb(221,132,82)\", \"rgb(85,168,104)\", \"rgb(196,78,82)\", \"rgb(129,114,179)\", \"rgb(147,120,96)\", \"rgb(218,139,195)\", \"rgb(140,140,140)\", \"rgb(204,185,116)\", \"rgb(100,181,205)\"], \"font\": {\"color\": \"rgb(36,36,36)\"}, \"geo\": {\"bgcolor\": \"white\", \"lakecolor\": \"white\", \"landcolor\": \"rgb(234,234,242)\", \"showlakes\": true, \"showland\": true, \"subunitcolor\": \"white\"}, \"hoverlabel\": {\"align\": \"left\"}, \"hovermode\": \"closest\", \"paper_bgcolor\": \"white\", \"plot_bgcolor\": \"rgb(234,234,242)\", \"polar\": {\"angularaxis\": {\"gridcolor\": \"white\", \"linecolor\": \"white\", \"showgrid\": true, \"ticks\": \"\"}, \"bgcolor\": \"rgb(234,234,242)\", \"radialaxis\": {\"gridcolor\": \"white\", \"linecolor\": \"white\", \"showgrid\": true, \"ticks\": \"\"}}, \"scene\": {\"xaxis\": {\"backgroundcolor\": \"rgb(234,234,242)\", \"gridcolor\": \"white\", \"gridwidth\": 2, \"linecolor\": \"white\", \"showbackground\": true, \"showgrid\": true, \"ticks\": \"\", \"zerolinecolor\": \"white\"}, \"yaxis\": {\"backgroundcolor\": \"rgb(234,234,242)\", \"gridcolor\": \"white\", \"gridwidth\": 2, \"linecolor\": \"white\", \"showbackground\": true, \"showgrid\": true, \"ticks\": \"\", \"zerolinecolor\": \"white\"}, \"zaxis\": {\"backgroundcolor\": \"rgb(234,234,242)\", \"gridcolor\": \"white\", \"gridwidth\": 2, \"linecolor\": \"white\", \"showbackground\": true, \"showgrid\": true, \"ticks\": \"\", \"zerolinecolor\": \"white\"}}, \"shapedefaults\": {\"fillcolor\": \"rgb(67,103,167)\", \"line\": {\"width\": 0}, \"opacity\": 0.5}, \"ternary\": {\"aaxis\": {\"gridcolor\": \"white\", \"linecolor\": \"white\", \"showgrid\": true, \"ticks\": \"\"}, \"baxis\": {\"gridcolor\": \"white\", \"linecolor\": \"white\", \"showgrid\": true, \"ticks\": \"\"}, \"bgcolor\": \"rgb(234,234,242)\", \"caxis\": {\"gridcolor\": \"white\", \"linecolor\": \"white\", \"showgrid\": true, \"ticks\": \"\"}}, \"xaxis\": {\"automargin\": true, \"gridcolor\": \"white\", \"linecolor\": \"white\", \"showgrid\": true, \"ticks\": \"\", \"title\": {\"standoff\": 15}, \"zerolinecolor\": \"white\"}, \"yaxis\": {\"automargin\": true, \"gridcolor\": \"white\", \"linecolor\": \"white\", \"showgrid\": true, \"ticks\": \"\", \"title\": {\"standoff\": 15}, \"zerolinecolor\": \"white\"}}}, \"updatemenus\": [{\"buttons\": [{\"args\": [null, {\"frame\": {\"duration\": 500, \"redraw\": false}, \"fromcurrent\": true, \"mode\": \"immediate\", \"transition\": {\"duration\": 500, \"easing\": \"linear\"}}], \"label\": \"&#9654;\", \"method\": \"animate\"}, {\"args\": [[null], {\"frame\": {\"duration\": 0, \"redraw\": false}, \"fromcurrent\": true, \"mode\": \"immediate\", \"transition\": {\"duration\": 0, \"easing\": \"linear\"}}], \"label\": \"&#9724;\", \"method\": \"animate\"}], \"direction\": \"left\", \"pad\": {\"r\": 10, \"t\": 70}, \"showactive\": false, \"type\": \"buttons\", \"x\": 0.1, \"xanchor\": \"right\", \"y\": 0, \"yanchor\": \"top\"}], \"xaxis\": {\"anchor\": \"y\", \"domain\": [0.0, 1.0], \"range\": [1.8750612633916997, 2.0], \"title\": {\"text\": \"Fastest Lap Time\"}, \"type\": \"log\"}, \"yaxis\": {\"anchor\": \"x\", \"domain\": [0.0, 1.0], \"range\": [-5, 15], \"title\": {\"text\": \"Position\"}}},                        {\"responsive\": true}                    ).then(function(){\n",
       "                            Plotly.addFrames('a35e3cd4-47e1-4bca-9770-ea8f1a7d5dc3', [{\"data\": [{\"hovertemplate\": \"<b>%{hovertext}</b><br><br>Full Name=Lewis Hamilton<br>Points=10.0<br>Fastest Lap Time=%{marker.size}<br>Position=%{y}<extra></extra>\", \"hovertext\": [\"Lewis Hamilton\", \"Lewis Hamilton\", \"Lewis Hamilton\", \"Lewis Hamilton\", \"Lewis Hamilton\", \"Lewis Hamilton\", \"Lewis Hamilton\", \"Lewis Hamilton\", \"Lewis Hamilton\", \"Lewis Hamilton\", \"Lewis Hamilton\", \"Lewis Hamilton\", \"Lewis Hamilton\", \"Lewis Hamilton\", \"Lewis Hamilton\", \"Lewis Hamilton\", \"Lewis Hamilton\", \"Lewis Hamilton\", \"Lewis Hamilton\", \"Lewis Hamilton\", \"Lewis Hamilton\", \"Lewis Hamilton\", \"Lewis Hamilton\", \"Lewis Hamilton\", \"Lewis Hamilton\", \"Lewis Hamilton\"], \"ids\": [\"Lewis Hamilton\", \"Lewis Hamilton\", \"Lewis Hamilton\", \"Lewis Hamilton\", \"Lewis Hamilton\", \"Lewis Hamilton\", \"Lewis Hamilton\", \"Lewis Hamilton\", \"Lewis Hamilton\", \"Lewis Hamilton\", \"Lewis Hamilton\", \"Lewis Hamilton\", \"Lewis Hamilton\", \"Lewis Hamilton\", \"Lewis Hamilton\", \"Lewis Hamilton\", \"Lewis Hamilton\", \"Lewis Hamilton\", \"Lewis Hamilton\", \"Lewis Hamilton\", \"Lewis Hamilton\", \"Lewis Hamilton\", \"Lewis Hamilton\", \"Lewis Hamilton\", \"Lewis Hamilton\", \"Lewis Hamilton\"], \"legendgroup\": \"Lewis Hamilton\", \"marker\": {\"color\": \"rgb(76,114,176)\", \"size\": [87.45200000000001, 78.51, 92.817, 76.039, 96.325, 76.494, 73.222, 80.17099999999998, 88.193, 82.479, 108.345, 76.219, 95.182, 110.83200000000001, 97.645, 78.806, 97.76, 89.759, 98.204, 94.156, 109.916, 102.539, 106.822, 103.469, 74.18299999999998, 68.05], \"sizemode\": \"area\", \"sizeref\": 0.03596189349112426, \"symbol\": \"circle\"}, \"mode\": \"markers\", \"name\": \"Lewis Hamilton\", \"orientation\": \"h\", \"showlegend\": true, \"x\": [87.45200000000001, 78.51, 92.817, 76.039, 96.325, 76.494, 73.222, 80.17099999999998, 88.193, 82.479, 108.345, 76.219, 95.182, 110.83200000000001, 97.645, 78.806, 97.76, 89.759, 98.204, 94.156, 109.916, 102.539, 106.822, 103.469, 74.18299999999998, 68.05], \"xaxis\": \"x\", \"y\": [\"1\", \"1\", \"1\", \"1\", \"1\", \"1\", \"1\", \"1\", \"1\", \"1\", \"1\", \"5\", \"5\", \"5\", \"5\", \"5\", \"5\", \"5\", \"5\", \"5\", \"5\", \"5\", \"5\", \"5\", \"5\", \"5\"], \"yaxis\": \"y\", \"type\": \"scatter\"}, {\"hovertemplate\": \"<b>%{hovertext}</b><br><br>Full Name=Sergio P\\u00e9rez<br>Points=10.0<br>Fastest Lap Time=%{marker.size}<br>Position=%{y}<extra></extra>\", \"hovertext\": [\"Sergio P\\u00e9rez\", \"Sergio P\\u00e9rez\", \"Sergio P\\u00e9rez\", \"Sergio P\\u00e9rez\", \"Sergio P\\u00e9rez\", \"Sergio P\\u00e9rez\", \"Sergio P\\u00e9rez\", \"Sergio P\\u00e9rez\", \"Sergio P\\u00e9rez\", \"Sergio P\\u00e9rez\"], \"ids\": [\"Sergio P\\u00e9rez\", \"Sergio P\\u00e9rez\", \"Sergio P\\u00e9rez\", \"Sergio P\\u00e9rez\", \"Sergio P\\u00e9rez\", \"Sergio P\\u00e9rez\", \"Sergio P\\u00e9rez\", \"Sergio P\\u00e9rez\", \"Sergio P\\u00e9rez\", \"Sergio P\\u00e9rez\"], \"legendgroup\": \"Sergio P\\u00e9rez\", \"marker\": {\"color\": \"rgb(221,132,82)\", \"size\": [88.50299999999999, 114.796, 103.01, 105.89200000000001, 113.414, 76.367, 106.73100000000001, 108.08, 82.515, 80.632], \"sizemode\": \"area\", \"sizeref\": 0.03596189349112426, \"symbol\": \"circle\"}, \"mode\": \"markers\", \"name\": \"Sergio P\\u00e9rez\", \"orientation\": \"h\", \"showlegend\": true, \"x\": [88.50299999999999, 114.796, 103.01, 105.89200000000001, 113.414, 76.367, 106.73100000000001, 108.08, 82.515, 80.632], \"xaxis\": \"x\", \"y\": [\"5\", \"5\", \"5\", \"5\", \"5\", \"5\", \"5\", \"5\", \"5\", \"5\"], \"yaxis\": \"y\", \"type\": \"scatter\"}, {\"hovertemplate\": \"<b>%{hovertext}</b><br><br>Full Name=Daniel Ricciardo<br>Points=10.0<br>Fastest Lap Time=%{marker.size}<br>Position=%{y}<extra></extra>\", \"hovertext\": [\"Daniel Ricciardo\", \"Daniel Ricciardo\", \"Daniel Ricciardo\", \"Daniel Ricciardo\", \"Daniel Ricciardo\", \"Daniel Ricciardo\", \"Daniel Ricciardo\", \"Daniel Ricciardo\", \"Daniel Ricciardo\", \"Daniel Ricciardo\", \"Daniel Ricciardo\"], \"ids\": [\"Daniel Ricciardo\", \"Daniel Ricciardo\", \"Daniel Ricciardo\", \"Daniel Ricciardo\", \"Daniel Ricciardo\", \"Daniel Ricciardo\", \"Daniel Ricciardo\", \"Daniel Ricciardo\", \"Daniel Ricciardo\", \"Daniel Ricciardo\", \"Daniel Ricciardo\"], \"legendgroup\": \"Daniel Ricciardo\", \"marker\": {\"color\": \"rgb(85,168,104)\", \"size\": [88.588, 78.063, 81.625, 68.77, 85.919, 104.889, 93.495, 91.874, 78.441, 91.589, 97.88600000000001], \"sizemode\": \"area\", \"sizeref\": 0.03596189349112426, \"symbol\": \"circle\"}, \"mode\": \"markers\", \"name\": \"Daniel Ricciardo\", \"orientation\": \"h\", \"showlegend\": true, \"x\": [88.588, 78.063, 81.625, 68.77, 85.919, 104.889, 93.495, 91.874, 78.441, 91.589, 97.88600000000001], \"xaxis\": \"x\", \"y\": [\"5\", \"5\", \"5\", \"5\", \"5\", \"5\", \"5\", \"5\", \"5\", \"5\", \"5\"], \"yaxis\": \"y\", \"type\": \"scatter\"}, {\"hovertemplate\": \"<b>%{hovertext}</b><br><br>Full Name=Valtteri Bottas<br>Points=10.0<br>Fastest Lap Time=%{marker.size}<br>Position=%{y}<extra></extra>\", \"hovertext\": [\"Valtteri Bottas\", \"Valtteri Bottas\", \"Valtteri Bottas\", \"Valtteri Bottas\", \"Valtteri Bottas\", \"Valtteri Bottas\", \"Valtteri Bottas\", \"Valtteri Bottas\", \"Valtteri Bottas\", \"Valtteri Bottas\", \"Valtteri Bottas\", \"Valtteri Bottas\", \"Valtteri Bottas\", \"Valtteri Bottas\", \"Valtteri Bottas\", \"Valtteri Bottas\", \"Valtteri Bottas\", \"Valtteri Bottas\", \"Valtteri Bottas\", \"Valtteri Bottas\", \"Valtteri Bottas\", \"Valtteri Bottas\"], \"ids\": [\"Valtteri Bottas\", \"Valtteri Bottas\", \"Valtteri Bottas\", \"Valtteri Bottas\", \"Valtteri Bottas\", \"Valtteri Bottas\", \"Valtteri Bottas\", \"Valtteri Bottas\", \"Valtteri Bottas\", \"Valtteri Bottas\", \"Valtteri Bottas\", \"Valtteri Bottas\", \"Valtteri Bottas\", \"Valtteri Bottas\", \"Valtteri Bottas\", \"Valtteri Bottas\", \"Valtteri Bottas\", \"Valtteri Bottas\", \"Valtteri Bottas\", \"Valtteri Bottas\", \"Valtteri Bottas\", \"Valtteri Bottas\"], \"legendgroup\": \"Valtteri Bottas\", \"marker\": {\"color\": \"rgb(196,78,82)\", \"size\": [92.616, 90.42399999999999, 102.505, 104.088, 72.248, 97.51299999999999, 111.34200000000001, 98.241, 76.039, 89.081, 99.199, 107.721, 95.284, 97.76700000000001, 76.312, 81.736, 98.47, 78.741, 70.53999999999998, 100.95299999999999, 103.534, 83.961], \"sizemode\": \"area\", \"sizeref\": 0.03596189349112426, \"symbol\": \"circle\"}, \"mode\": \"markers\", \"name\": \"Valtteri Bottas\", \"orientation\": \"h\", \"showlegend\": true, \"x\": [92.616, 90.42399999999999, 102.505, 104.088, 72.248, 97.51299999999999, 111.34200000000001, 98.241, 76.039, 89.081, 99.199, 107.721, 95.284, 97.76700000000001, 76.312, 81.736, 98.47, 78.741, 70.53999999999998, 100.95299999999999, 103.534, 83.961], \"xaxis\": \"x\", \"y\": [\"5\", \"5\", \"5\", \"5\", \"5\", \"5\", \"5\", \"5\", \"5\", \"5\", \"5\", \"5\", \"5\", \"5\", \"5\", \"5\", \"5\", \"5\", \"5\", \"5\", \"5\", \"5\"], \"yaxis\": \"y\", \"type\": \"scatter\"}, {\"hovertemplate\": \"<b>%{hovertext}</b><br><br>Full Name=Carlos Sainz<br>Points=10.0<br>Fastest Lap Time=%{marker.size}<br>Position=%{y}<extra></extra>\", \"hovertext\": [\"Carlos Sainz\", \"Carlos Sainz\", \"Carlos Sainz\", \"Carlos Sainz\", \"Carlos Sainz\", \"Carlos Sainz\"], \"ids\": [\"Carlos Sainz\", \"Carlos Sainz\", \"Carlos Sainz\", \"Carlos Sainz\", \"Carlos Sainz\", \"Carlos Sainz\"], \"legendgroup\": \"Carlos Sainz\", \"marker\": {\"color\": \"rgb(129,114,179)\", \"size\": [106.85600000000001, 77.84100000000002, 81.002, 93.56299999999999, 67.97399999999999, 90.12899999999999], \"sizemode\": \"area\", \"sizeref\": 0.03596189349112426, \"symbol\": \"circle\"}, \"mode\": \"markers\", \"name\": \"Carlos Sainz\", \"orientation\": \"h\", \"showlegend\": true, \"x\": [106.85600000000001, 77.84100000000002, 81.002, 93.56299999999999, 67.97399999999999, 90.12899999999999], \"xaxis\": \"x\", \"y\": [\"5\", \"5\", \"5\", \"5\", \"5\", \"5\"], \"yaxis\": \"y\", \"type\": \"scatter\"}, {\"hovertemplate\": \"<b>%{hovertext}</b><br><br>Full Name=Max Verstappen<br>Points=10.0<br>Fastest Lap Time=%{marker.size}<br>Position=%{y}<extra></extra>\", \"hovertext\": [\"Max Verstappen\", \"Max Verstappen\", \"Max Verstappen\", \"Max Verstappen\", \"Max Verstappen\", \"Max Verstappen\", \"Max Verstappen\", \"Max Verstappen\", \"Max Verstappen\", \"Max Verstappen\", \"Max Verstappen\", \"Max Verstappen\"], \"ids\": [\"Max Verstappen\", \"Max Verstappen\", \"Max Verstappen\", \"Max Verstappen\", \"Max Verstappen\", \"Max Verstappen\", \"Max Verstappen\", \"Max Verstappen\", \"Max Verstappen\", \"Max Verstappen\", \"Max Verstappen\", \"Max Verstappen\"], \"legendgroup\": \"Max Verstappen\", \"marker\": {\"color\": \"rgb(147,120,96)\", \"size\": [84.68700000000001, 86.964, 98.429, 76.32900000000002, 80.49, 71.044, 102.028, 96.206, 83.60900000000002, 96.28299999999999, 74.767, 89.27199999999998], \"sizemode\": \"area\", \"sizeref\": 0.03596189349112426, \"symbol\": \"circle\"}, \"mode\": \"markers\", \"name\": \"Max Verstappen\", \"orientation\": \"h\", \"showlegend\": true, \"x\": [84.68700000000001, 86.964, 98.429, 76.32900000000002, 80.49, 71.044, 102.028, 96.206, 83.60900000000002, 96.28299999999999, 74.767, 89.27199999999998], \"xaxis\": \"x\", \"y\": [\"5\", \"5\", \"5\", \"5\", \"5\", \"5\", \"5\", \"5\", \"5\", \"5\", \"5\", \"5\"], \"yaxis\": \"y\", \"type\": \"scatter\"}, {\"hovertemplate\": \"<b>%{hovertext}</b><br><br>Full Name=Pierre Gasly<br>Points=10.0<br>Fastest Lap Time=%{marker.size}<br>Position=%{y}<extra></extra>\", \"hovertext\": [\"Pierre Gasly\"], \"ids\": [\"Pierre Gasly\"], \"legendgroup\": \"Pierre Gasly\", \"marker\": {\"color\": \"rgb(218,139,195)\", \"size\": [80.551], \"sizemode\": \"area\", \"sizeref\": 0.03596189349112426, \"symbol\": \"circle\"}, \"mode\": \"markers\", \"name\": \"Pierre Gasly\", \"orientation\": \"h\", \"showlegend\": true, \"x\": [80.551], \"xaxis\": \"x\", \"y\": [\"5\"], \"yaxis\": \"y\", \"type\": \"scatter\"}, {\"hovertemplate\": \"<b>%{hovertext}</b><br><br>Full Name=Charles Leclerc<br>Points=10.0<br>Fastest Lap Time=%{marker.size}<br>Position=%{y}<extra></extra>\", \"hovertext\": [\"Charles Leclerc\", \"Charles Leclerc\", \"Charles Leclerc\"], \"ids\": [\"Charles Leclerc\", \"Charles Leclerc\", \"Charles Leclerc\"], \"legendgroup\": \"Charles Leclerc\", \"marker\": {\"color\": \"rgb(140,140,140)\", \"size\": [86.926, 94.86, 80.002], \"sizemode\": \"area\", \"sizeref\": 0.03596189349112426, \"symbol\": \"circle\"}, \"mode\": \"markers\", \"name\": \"Charles Leclerc\", \"orientation\": \"h\", \"showlegend\": true, \"x\": [86.926, 94.86, 80.002], \"xaxis\": \"x\", \"y\": [\"5\", \"5\", \"5\"], \"yaxis\": \"y\", \"type\": \"scatter\"}, {\"hovertemplate\": \"<b>%{hovertext}</b><br><br>Full Name=Lando Norris<br>Points=10.0<br>Fastest Lap Time=%{marker.size}<br>Position=%{y}<extra></extra>\", \"hovertext\": [\"Lando Norris\", \"Lando Norris\"], \"ids\": [\"Lando Norris\", \"Lando Norris\"], \"legendgroup\": \"Lando Norris\", \"marker\": {\"color\": \"rgb(204,185,116)\", \"size\": [67.193, 90.05799999999998], \"sizemode\": \"area\", \"sizeref\": 0.03596189349112426, \"symbol\": \"circle\"}, \"mode\": \"markers\", \"name\": \"Lando Norris\", \"orientation\": \"h\", \"showlegend\": true, \"x\": [67.193, 90.05799999999998], \"xaxis\": \"x\", \"y\": [\"5\", \"5\"], \"yaxis\": \"y\", \"type\": \"scatter\"}, {\"hovertemplate\": \"<b>%{hovertext}</b><br><br>Full Name=Alexander Albon<br>Points=10.0<br>Fastest Lap Time=%{marker.size}<br>Position=%{y}<extra></extra>\", \"hovertext\": [\"Alexander Albon\", \"Alexander Albon\", \"Alexander Albon\", \"Alexander Albon\", \"Alexander Albon\", \"Alexander Albon\"], \"ids\": [\"Alexander Albon\", \"Alexander Albon\", \"Alexander Albon\", \"Alexander Albon\", \"Alexander Albon\", \"Alexander Albon\"], \"legendgroup\": \"Alexander Albon\", \"marker\": {\"color\": \"rgb(100,181,205)\", \"size\": [107.507, 96.762, 79.325, 98.029, 79.44, 89.477], \"sizemode\": \"area\", \"sizeref\": 0.03596189349112426, \"symbol\": \"circle\"}, \"mode\": \"markers\", \"name\": \"Alexander Albon\", \"orientation\": \"h\", \"showlegend\": true, \"x\": [107.507, 96.762, 79.325, 98.029, 79.44, 89.477], \"xaxis\": \"x\", \"y\": [\"5\", \"5\", \"5\", \"5\", \"5\", \"5\"], \"yaxis\": \"y\", \"type\": \"scatter\"}], \"name\": \"10.0\"}, {\"data\": [{\"hovertemplate\": \"<b>%{hovertext}</b><br><br>Full Name=Lewis Hamilton<br>Points=4.0<br>Fastest Lap Time=%{marker.size}<br>Position=%{y}<extra></extra>\", \"hovertext\": [\"Lewis Hamilton\", \"Lewis Hamilton\", \"Lewis Hamilton\", \"Lewis Hamilton\", \"Lewis Hamilton\", \"Lewis Hamilton\", \"Lewis Hamilton\", \"Lewis Hamilton\"], \"ids\": [\"Lewis Hamilton\", \"Lewis Hamilton\", \"Lewis Hamilton\", \"Lewis Hamilton\", \"Lewis Hamilton\", \"Lewis Hamilton\", \"Lewis Hamilton\", \"Lewis Hamilton\"], \"legendgroup\": \"Lewis Hamilton\", \"marker\": {\"color\": \"rgb(76,114,176)\", \"size\": [95.462, 81.493, 74.15899999999999, 87.963, 101.512, 97.73299999999999, 88.91799999999999, 96.17299999999999], \"sizemode\": \"area\", \"sizeref\": 0.03596189349112426, \"symbol\": \"circle\"}, \"mode\": \"markers\", \"name\": \"Lewis Hamilton\", \"orientation\": \"h\", \"showlegend\": true, \"x\": [95.462, 81.493, 74.15899999999999, 87.963, 101.512, 97.73299999999999, 88.91799999999999, 96.17299999999999], \"xaxis\": \"x\", \"y\": [\"5\", \"5\", \"5\", \"5\", \"8\", \"8\", \"8\", \"8\"], \"yaxis\": \"y\", \"type\": \"scatter\"}, {\"hovertemplate\": \"<b>%{hovertext}</b><br><br>Full Name=Sergio P\\u00e9rez<br>Points=4.0<br>Fastest Lap Time=%{marker.size}<br>Position=%{y}<extra></extra>\", \"hovertext\": [\"Sergio P\\u00e9rez\", \"Sergio P\\u00e9rez\", \"Sergio P\\u00e9rez\", \"Sergio P\\u00e9rez\", \"Sergio P\\u00e9rez\", \"Sergio P\\u00e9rez\", \"Sergio P\\u00e9rez\", \"Sergio P\\u00e9rez\", \"Sergio P\\u00e9rez\", \"Sergio P\\u00e9rez\", \"Sergio P\\u00e9rez\", \"Sergio P\\u00e9rez\", \"Sergio P\\u00e9rez\", \"Sergio P\\u00e9rez\", \"Sergio P\\u00e9rez\", \"Sergio P\\u00e9rez\", \"Sergio P\\u00e9rez\"], \"ids\": [\"Sergio P\\u00e9rez\", \"Sergio P\\u00e9rez\", \"Sergio P\\u00e9rez\", \"Sergio P\\u00e9rez\", \"Sergio P\\u00e9rez\", \"Sergio P\\u00e9rez\", \"Sergio P\\u00e9rez\", \"Sergio P\\u00e9rez\", \"Sergio P\\u00e9rez\", \"Sergio P\\u00e9rez\", \"Sergio P\\u00e9rez\", \"Sergio P\\u00e9rez\", \"Sergio P\\u00e9rez\", \"Sergio P\\u00e9rez\", \"Sergio P\\u00e9rez\", \"Sergio P\\u00e9rez\", \"Sergio P\\u00e9rez\"], \"legendgroup\": \"Sergio P\\u00e9rez\", \"marker\": {\"color\": \"rgb(221,132,82)\", \"size\": [96.569, 90.84299999999999, 96.134, 111.926, 114.53200000000001, 98.338, 82.757, 86.92, 111.51700000000001, 103.925, 105.249, 82.105, 100.851, 99.992, 102.816, 98.70200000000001, 92.621], \"sizemode\": \"area\", \"sizeref\": 0.03596189349112426, \"symbol\": \"circle\"}, \"mode\": \"markers\", \"name\": \"Sergio P\\u00e9rez\", \"orientation\": \"h\", \"showlegend\": true, \"x\": [96.569, 90.84299999999999, 96.134, 111.926, 114.53200000000001, 98.338, 82.757, 86.92, 111.51700000000001, 103.925, 105.249, 82.105, 100.851, 99.992, 102.816, 98.70200000000001, 92.621], \"xaxis\": \"x\", \"y\": [\"8\", \"8\", \"8\", \"8\", \"8\", \"8\", \"8\", \"8\", \"8\", \"8\", \"8\", \"8\", \"8\", \"8\", \"8\", \"8\", \"8\"], \"yaxis\": \"y\", \"type\": \"scatter\"}, {\"hovertemplate\": \"<b>%{hovertext}</b><br><br>Full Name=Daniel Ricciardo<br>Points=4.0<br>Fastest Lap Time=%{marker.size}<br>Position=%{y}<extra></extra>\", \"hovertext\": [\"Daniel Ricciardo\", \"Daniel Ricciardo\", \"Daniel Ricciardo\", \"Daniel Ricciardo\", \"Daniel Ricciardo\", \"Daniel Ricciardo\", \"Daniel Ricciardo\"], \"ids\": [\"Daniel Ricciardo\", \"Daniel Ricciardo\", \"Daniel Ricciardo\", \"Daniel Ricciardo\", \"Daniel Ricciardo\", \"Daniel Ricciardo\", \"Daniel Ricciardo\"], \"legendgroup\": \"Daniel Ricciardo\", \"marker\": {\"color\": \"rgb(85,168,104)\", \"size\": [95.927, 73.06, 88.065, 85.53200000000001, 80.146, 67.832, 79.532], \"sizemode\": \"area\", \"sizeref\": 0.03596189349112426, \"symbol\": \"circle\"}, \"mode\": \"markers\", \"name\": \"Daniel Ricciardo\", \"orientation\": \"h\", \"showlegend\": true, \"x\": [95.927, 73.06, 88.065, 85.53200000000001, 80.146, 67.832, 79.532], \"xaxis\": \"x\", \"y\": [\"8\", \"8\", \"8\", \"8\", \"8\", \"8\", \"8\"], \"yaxis\": \"y\", \"type\": \"scatter\"}, {\"hovertemplate\": \"<b>%{hovertext}</b><br><br>Full Name=Valtteri Bottas<br>Points=4.0<br>Fastest Lap Time=%{marker.size}<br>Position=%{y}<extra></extra>\", \"hovertext\": [\"Valtteri Bottas\", \"Valtteri Bottas\", \"Valtteri Bottas\", \"Valtteri Bottas\", \"Valtteri Bottas\", \"Valtteri Bottas\", \"Valtteri Bottas\", \"Valtteri Bottas\", \"Valtteri Bottas\"], \"ids\": [\"Valtteri Bottas\", \"Valtteri Bottas\", \"Valtteri Bottas\", \"Valtteri Bottas\", \"Valtteri Bottas\", \"Valtteri Bottas\", \"Valtteri Bottas\", \"Valtteri Bottas\", \"Valtteri Bottas\"], \"legendgroup\": \"Valtteri Bottas\", \"marker\": {\"color\": \"rgb(196,78,82)\", \"size\": [100.492, 105.475, 99.762, 86.85, 92.725, 114.12, 83.53999999999998, 87.01899999999999, 79.331], \"sizemode\": \"area\", \"sizeref\": 0.03596189349112426, \"symbol\": \"circle\"}, \"mode\": \"markers\", \"name\": \"Valtteri Bottas\", \"orientation\": \"h\", \"showlegend\": true, \"x\": [100.492, 105.475, 99.762, 86.85, 92.725, 114.12, 83.53999999999998, 87.01899999999999, 79.331], \"xaxis\": \"x\", \"y\": [\"8\", \"8\", \"8\", \"8\", \"8\", \"8\", \"8\", \"8\", \"8\"], \"yaxis\": \"y\", \"type\": \"scatter\"}, {\"hovertemplate\": \"<b>%{hovertext}</b><br><br>Full Name=Carlos Sainz<br>Points=4.0<br>Fastest Lap Time=%{marker.size}<br>Position=%{y}<extra></extra>\", \"hovertext\": [\"Carlos Sainz\", \"Carlos Sainz\", \"Carlos Sainz\", \"Carlos Sainz\", \"Carlos Sainz\", \"Carlos Sainz\", \"Carlos Sainz\", \"Carlos Sainz\", \"Carlos Sainz\", \"Carlos Sainz\", \"Carlos Sainz\", \"Carlos Sainz\", \"Carlos Sainz\", \"Carlos Sainz\"], \"ids\": [\"Carlos Sainz\", \"Carlos Sainz\", \"Carlos Sainz\", \"Carlos Sainz\", \"Carlos Sainz\", \"Carlos Sainz\", \"Carlos Sainz\", \"Carlos Sainz\", \"Carlos Sainz\", \"Carlos Sainz\", \"Carlos Sainz\", \"Carlos Sainz\", \"Carlos Sainz\", \"Carlos Sainz\"], \"legendgroup\": \"Carlos Sainz\", \"marker\": {\"color\": \"rgb(129,114,179)\", \"size\": [105.507, 78.51899999999999, 70.138, 97.401, 85.10300000000002, 87.67699999999998, 105.866, 75.666, 95.63799999999999, 83.529, 105.211, 80.85900000000002, 68.117, 100.844], \"sizemode\": \"area\", \"sizeref\": 0.03596189349112426, \"symbol\": \"circle\"}, \"mode\": \"markers\", \"name\": \"Carlos Sainz\", \"orientation\": \"h\", \"showlegend\": true, \"x\": [105.507, 78.51899999999999, 70.138, 97.401, 85.10300000000002, 87.67699999999998, 105.866, 75.666, 95.63799999999999, 83.529, 105.211, 80.85900000000002, 68.117, 100.844], \"xaxis\": \"x\", \"y\": [\"8\", \"8\", \"8\", \"8\", \"8\", \"8\", \"8\", \"8\", \"8\", \"9\", \"8\", \"8\", \"8\", \"8\"], \"yaxis\": \"y\", \"type\": \"scatter\"}, {\"hovertemplate\": \"<b>%{hovertext}</b><br><br>Full Name=Max Verstappen<br>Points=4.0<br>Fastest Lap Time=%{marker.size}<br>Position=%{y}<extra></extra>\", \"hovertext\": [\"Max Verstappen\", \"Max Verstappen\", \"Max Verstappen\", \"Max Verstappen\", \"Max Verstappen\", \"Max Verstappen\"], \"ids\": [\"Max Verstappen\", \"Max Verstappen\", \"Max Verstappen\", \"Max Verstappen\", \"Max Verstappen\", \"Max Verstappen\"], \"legendgroup\": \"Max Verstappen\", \"marker\": {\"color\": \"rgb(147,120,96)\", \"size\": [72.34899999999999, 113.276, 110.29799999999999, 100.399, 106.973, 83.14299999999999], \"sizemode\": \"area\", \"sizeref\": 0.03596189349112426, \"symbol\": \"circle\"}, \"mode\": \"markers\", \"name\": \"Max Verstappen\", \"orientation\": \"h\", \"showlegend\": true, \"x\": [72.34899999999999, 113.276, 110.29799999999999, 100.399, 106.973, 83.14299999999999], \"xaxis\": \"x\", \"y\": [\"8\", \"8\", \"8\", \"8\", \"8\", \"8\"], \"yaxis\": \"y\", \"type\": \"scatter\"}, {\"hovertemplate\": \"<b>%{hovertext}</b><br><br>Full Name=Pierre Gasly<br>Points=4.0<br>Fastest Lap Time=%{marker.size}<br>Position=%{y}<extra></extra>\", \"hovertext\": [\"Pierre Gasly\", \"Pierre Gasly\", \"Pierre Gasly\", \"Pierre Gasly\"], \"ids\": [\"Pierre Gasly\", \"Pierre Gasly\", \"Pierre Gasly\", \"Pierre Gasly\"], \"legendgroup\": \"Pierre Gasly\", \"marker\": {\"color\": \"rgb(218,139,195)\", \"size\": [95.291, 76.157, 105.76899999999999, 107.839], \"sizemode\": \"area\", \"sizeref\": 0.03596189349112426, \"symbol\": \"circle\"}, \"mode\": \"markers\", \"name\": \"Pierre Gasly\", \"orientation\": \"h\", \"showlegend\": true, \"x\": [95.291, 76.157, 105.76899999999999, 107.839], \"xaxis\": \"x\", \"y\": [\"8\", \"8\", \"8\", \"8\"], \"yaxis\": \"y\", \"type\": \"scatter\"}, {\"hovertemplate\": \"<b>%{hovertext}</b><br><br>Full Name=Charles Leclerc<br>Points=4.0<br>Fastest Lap Time=%{marker.size}<br>Position=%{y}<extra></extra>\", \"hovertext\": [\"Charles Leclerc\"], \"ids\": [\"Charles Leclerc\"], \"legendgroup\": \"Charles Leclerc\", \"marker\": {\"color\": \"rgb(140,140,140)\", \"size\": [81.229], \"sizemode\": \"area\", \"sizeref\": 0.03596189349112426, \"symbol\": \"circle\"}, \"mode\": \"markers\", \"name\": \"Charles Leclerc\", \"orientation\": \"h\", \"showlegend\": true, \"x\": [81.229], \"xaxis\": \"x\", \"y\": [\"8\"], \"yaxis\": \"y\", \"type\": \"scatter\"}, {\"hovertemplate\": \"<b>%{hovertext}</b><br><br>Full Name=Lando Norris<br>Points=4.0<br>Fastest Lap Time=%{marker.size}<br>Position=%{y}<extra></extra>\", \"hovertext\": [\"Lando Norris\", \"Lando Norris\", \"Lando Norris\", \"Lando Norris\"], \"ids\": [\"Lando Norris\", \"Lando Norris\", \"Lando Norris\", \"Lando Norris\"], \"legendgroup\": \"Lando Norris\", \"marker\": {\"color\": \"rgb(204,185,116)\", \"size\": [105.39399999999999, 98.301, 72.328, 103.026], \"sizemode\": \"area\", \"sizeref\": 0.03596189349112426, \"symbol\": \"circle\"}, \"mode\": \"markers\", \"name\": \"Lando Norris\", \"orientation\": \"h\", \"showlegend\": true, \"x\": [105.39399999999999, 98.301, 72.328, 103.026], \"xaxis\": \"x\", \"y\": [\"8\", \"8\", \"8\", \"8\"], \"yaxis\": \"y\", \"type\": \"scatter\"}, {\"hovertemplate\": \"<b>%{hovertext}</b><br><br>Full Name=Alexander Albon<br>Points=4.0<br>Fastest Lap Time=%{marker.size}<br>Position=%{y}<extra></extra>\", \"hovertext\": [\"Alexander Albon\", \"Alexander Albon\", \"Alexander Albon\"], \"ids\": [\"Alexander Albon\", \"Alexander Albon\", \"Alexander Albon\"], \"legendgroup\": \"Alexander Albon\", \"marker\": {\"color\": \"rgb(100,181,205)\", \"size\": [75.607, 88.689, 82.194], \"sizemode\": \"area\", \"sizeref\": 0.03596189349112426, \"symbol\": \"circle\"}, \"mode\": \"markers\", \"name\": \"Alexander Albon\", \"orientation\": \"h\", \"showlegend\": true, \"x\": [75.607, 88.689, 82.194], \"xaxis\": \"x\", \"y\": [\"8\", \"8\", \"8\"], \"yaxis\": \"y\", \"type\": \"scatter\"}], \"name\": \"4.0\"}, {\"data\": [{\"hovertemplate\": \"<b>%{hovertext}</b><br><br>Full Name=Lewis Hamilton<br>Points=0.0<br>Fastest Lap Time=%{marker.size}<br>Position=%{y}<extra></extra>\", \"hovertext\": [\"Lewis Hamilton\", \"Lewis Hamilton\", \"Lewis Hamilton\", \"Lewis Hamilton\", \"Lewis Hamilton\", \"Lewis Hamilton\", \"Lewis Hamilton\", \"Lewis Hamilton\", \"Lewis Hamilton\", \"Lewis Hamilton\", \"Lewis Hamilton\", \"Lewis Hamilton\", \"Lewis Hamilton\", \"Lewis Hamilton\", \"Lewis Hamilton\", \"Lewis Hamilton\", \"Lewis Hamilton\", \"Lewis Hamilton\", \"Lewis Hamilton\", \"Lewis Hamilton\", \"Lewis Hamilton\", \"Lewis Hamilton\", \"Lewis Hamilton\", \"Lewis Hamilton\", \"Lewis Hamilton\", \"Lewis Hamilton\", \"Lewis Hamilton\", \"Lewis Hamilton\", \"Lewis Hamilton\", \"Lewis Hamilton\", \"Lewis Hamilton\", \"Lewis Hamilton\", \"Lewis Hamilton\", \"Lewis Hamilton\", \"Lewis Hamilton\", \"Lewis Hamilton\", \"Lewis Hamilton\"], \"ids\": [\"Lewis Hamilton\", \"Lewis Hamilton\", \"Lewis Hamilton\", \"Lewis Hamilton\", \"Lewis Hamilton\", \"Lewis Hamilton\", \"Lewis Hamilton\", \"Lewis Hamilton\", \"Lewis Hamilton\", \"Lewis Hamilton\", \"Lewis Hamilton\", \"Lewis Hamilton\", \"Lewis Hamilton\", \"Lewis Hamilton\", \"Lewis Hamilton\", \"Lewis Hamilton\", \"Lewis Hamilton\", \"Lewis Hamilton\", \"Lewis Hamilton\", \"Lewis Hamilton\", \"Lewis Hamilton\", \"Lewis Hamilton\", \"Lewis Hamilton\", \"Lewis Hamilton\", \"Lewis Hamilton\", \"Lewis Hamilton\", \"Lewis Hamilton\", \"Lewis Hamilton\", \"Lewis Hamilton\", \"Lewis Hamilton\", \"Lewis Hamilton\", \"Lewis Hamilton\", \"Lewis Hamilton\", \"Lewis Hamilton\", \"Lewis Hamilton\", \"Lewis Hamilton\", \"Lewis Hamilton\"], \"legendgroup\": \"Lewis Hamilton\", \"marker\": {\"color\": \"rgb(76,114,176)\", \"size\": [95.52, 77.506, 77.453, 79.56, 93.401, 103.131, 89.02, 83.839, 75.706, 88.56200000000001, 82.57600000000001, 95.367, 0.0, 84.80199999999998, 100.367, 84.35700000000001, 86.258, 0.0, 110.75, 97.76100000000001, 115.647, 77.209, 104.007, 80.09100000000002, 0.0, 115.541, 107.266, 78.069, 87.895, 101.20200000000001, 109.947, 78.94200000000002, 113.70700000000001, 112.505, 0.0, 98.595, 67.241], \"sizemode\": \"area\", \"sizeref\": 0.03596189349112426, \"symbol\": \"circle\"}, \"mode\": \"markers\", \"name\": \"Lewis Hamilton\", \"orientation\": \"h\", \"showlegend\": true, \"x\": [95.52, 77.506, 77.453, 79.56, 93.401, 103.131, 89.02, 83.839, 75.706, 88.56200000000001, 82.57600000000001, 95.367, 0.0, 84.80199999999998, 100.367, 84.35700000000001, 86.258, 0.0, 110.75, 97.76100000000001, 115.647, 77.209, 104.007, 80.09100000000002, 0.0, 115.541, 107.266, 78.069, 87.895, 101.20200000000001, 109.947, 78.94200000000002, 113.70700000000001, 112.505, 0.0, 98.595, 67.241], \"xaxis\": \"x\", \"y\": [\"13\", 0, \"10\", \"12\", \"9\", 0, 0, \"9\", \"12\", \"13\", \"16\", \"18\", 0, \"12\", 0, \"14\", 0, 0, 0, 0, 0, 0, \"19\", 0, 0, 0, 0, 0, \"12\", 0, 0, 0, 0, 0, 0, 0, 0], \"yaxis\": \"y\", \"type\": \"scatter\"}, {\"hovertemplate\": \"<b>%{hovertext}</b><br><br>Full Name=Sergio P\\u00e9rez<br>Points=0.0<br>Fastest Lap Time=%{marker.size}<br>Position=%{y}<extra></extra>\", \"hovertext\": [\"Sergio P\\u00e9rez\", \"Sergio P\\u00e9rez\", \"Sergio P\\u00e9rez\", \"Sergio P\\u00e9rez\", \"Sergio P\\u00e9rez\", \"Sergio P\\u00e9rez\", \"Sergio P\\u00e9rez\", \"Sergio P\\u00e9rez\", \"Sergio P\\u00e9rez\", \"Sergio P\\u00e9rez\", \"Sergio P\\u00e9rez\", \"Sergio P\\u00e9rez\", \"Sergio P\\u00e9rez\", \"Sergio P\\u00e9rez\", \"Sergio P\\u00e9rez\", \"Sergio P\\u00e9rez\", \"Sergio P\\u00e9rez\", \"Sergio P\\u00e9rez\", \"Sergio P\\u00e9rez\", \"Sergio P\\u00e9rez\", \"Sergio P\\u00e9rez\", \"Sergio P\\u00e9rez\", \"Sergio P\\u00e9rez\", \"Sergio P\\u00e9rez\", \"Sergio P\\u00e9rez\", \"Sergio P\\u00e9rez\", \"Sergio P\\u00e9rez\", \"Sergio P\\u00e9rez\", \"Sergio P\\u00e9rez\", \"Sergio P\\u00e9rez\", \"Sergio P\\u00e9rez\", \"Sergio P\\u00e9rez\", \"Sergio P\\u00e9rez\", \"Sergio P\\u00e9rez\", \"Sergio P\\u00e9rez\", \"Sergio P\\u00e9rez\", \"Sergio P\\u00e9rez\", \"Sergio P\\u00e9rez\", \"Sergio P\\u00e9rez\", \"Sergio P\\u00e9rez\", \"Sergio P\\u00e9rez\", \"Sergio P\\u00e9rez\", \"Sergio P\\u00e9rez\", \"Sergio P\\u00e9rez\", \"Sergio P\\u00e9rez\", \"Sergio P\\u00e9rez\", \"Sergio P\\u00e9rez\", \"Sergio P\\u00e9rez\", \"Sergio P\\u00e9rez\", \"Sergio P\\u00e9rez\", \"Sergio P\\u00e9rez\", \"Sergio P\\u00e9rez\", \"Sergio P\\u00e9rez\", \"Sergio P\\u00e9rez\", \"Sergio P\\u00e9rez\", \"Sergio P\\u00e9rez\", \"Sergio P\\u00e9rez\", \"Sergio P\\u00e9rez\", \"Sergio P\\u00e9rez\", \"Sergio P\\u00e9rez\", \"Sergio P\\u00e9rez\", \"Sergio P\\u00e9rez\", \"Sergio P\\u00e9rez\", \"Sergio P\\u00e9rez\", \"Sergio P\\u00e9rez\", \"Sergio P\\u00e9rez\", \"Sergio P\\u00e9rez\", \"Sergio P\\u00e9rez\", \"Sergio P\\u00e9rez\", \"Sergio P\\u00e9rez\", \"Sergio P\\u00e9rez\", \"Sergio P\\u00e9rez\", \"Sergio P\\u00e9rez\", \"Sergio P\\u00e9rez\", \"Sergio P\\u00e9rez\"], \"ids\": [\"Sergio P\\u00e9rez\", \"Sergio P\\u00e9rez\", \"Sergio P\\u00e9rez\", \"Sergio P\\u00e9rez\", \"Sergio P\\u00e9rez\", \"Sergio P\\u00e9rez\", \"Sergio P\\u00e9rez\", \"Sergio P\\u00e9rez\", \"Sergio P\\u00e9rez\", \"Sergio P\\u00e9rez\", \"Sergio P\\u00e9rez\", \"Sergio P\\u00e9rez\", \"Sergio P\\u00e9rez\", \"Sergio P\\u00e9rez\", \"Sergio P\\u00e9rez\", \"Sergio P\\u00e9rez\", \"Sergio P\\u00e9rez\", \"Sergio P\\u00e9rez\", \"Sergio P\\u00e9rez\", \"Sergio P\\u00e9rez\", \"Sergio P\\u00e9rez\", \"Sergio P\\u00e9rez\", \"Sergio P\\u00e9rez\", \"Sergio P\\u00e9rez\", \"Sergio P\\u00e9rez\", \"Sergio P\\u00e9rez\", \"Sergio P\\u00e9rez\", \"Sergio P\\u00e9rez\", \"Sergio P\\u00e9rez\", \"Sergio P\\u00e9rez\", \"Sergio P\\u00e9rez\", \"Sergio P\\u00e9rez\", \"Sergio P\\u00e9rez\", \"Sergio P\\u00e9rez\", \"Sergio P\\u00e9rez\", \"Sergio P\\u00e9rez\", \"Sergio P\\u00e9rez\", \"Sergio P\\u00e9rez\", \"Sergio P\\u00e9rez\", \"Sergio P\\u00e9rez\", \"Sergio P\\u00e9rez\", \"Sergio P\\u00e9rez\", \"Sergio P\\u00e9rez\", \"Sergio P\\u00e9rez\", \"Sergio P\\u00e9rez\", \"Sergio P\\u00e9rez\", \"Sergio P\\u00e9rez\", \"Sergio P\\u00e9rez\", \"Sergio P\\u00e9rez\", \"Sergio P\\u00e9rez\", \"Sergio P\\u00e9rez\", \"Sergio P\\u00e9rez\", \"Sergio P\\u00e9rez\", \"Sergio P\\u00e9rez\", \"Sergio P\\u00e9rez\", \"Sergio P\\u00e9rez\", \"Sergio P\\u00e9rez\", \"Sergio P\\u00e9rez\", \"Sergio P\\u00e9rez\", \"Sergio P\\u00e9rez\", \"Sergio P\\u00e9rez\", \"Sergio P\\u00e9rez\", \"Sergio P\\u00e9rez\", \"Sergio P\\u00e9rez\", \"Sergio P\\u00e9rez\", \"Sergio P\\u00e9rez\", \"Sergio P\\u00e9rez\", \"Sergio P\\u00e9rez\", \"Sergio P\\u00e9rez\", \"Sergio P\\u00e9rez\", \"Sergio P\\u00e9rez\", \"Sergio P\\u00e9rez\", \"Sergio P\\u00e9rez\", \"Sergio P\\u00e9rez\", \"Sergio P\\u00e9rez\"], \"legendgroup\": \"Sergio P\\u00e9rez\", \"marker\": {\"color\": \"rgb(221,132,82)\", \"size\": [89.962, 103.29799999999999, 101.64299999999999, 90.79700000000001, 103.949, 97.03299999999999, 84.999, 114.244, 89.40299999999998, 102.425, 104.566, 77.78, 101.071, 98.146, 88.605, 77.29599999999998, 99.781, 85.21799999999999, 0.0, 98.98299999999999, 102.495, 92.208, 105.41, 100.70100000000001, 0.0, 89.926, 101.281, 79.53, 77.369, 96.131, 113.472, 87.60700000000001, 95.845, 0.0, 0.0, 79.491, 98.716, 90.28, 0.0, 74.55, 105.345, 103.512, 91.932, 78.889, 88.499, 98.591, 75.97, 92.78, 96.067, 101.846, 70.12, 85.021, 74.82, 105.588, 0.0, 108.3, 87.633, 95.266, 97.67299999999999, 77.54599999999998, 75.1, 98.319, 83.26299999999999, 105.389, 83.545, 88.485, 81.85900000000002, 76.613, 76.314, 95.014, 69.061, 89.456, 0.0, 81.73400000000002, 106.683], \"sizemode\": \"area\", \"sizeref\": 0.03596189349112426, \"symbol\": \"circle\"}, \"mode\": \"markers\", \"name\": \"Sergio P\\u00e9rez\", \"orientation\": \"h\", \"showlegend\": true, \"x\": [89.962, 103.29799999999999, 101.64299999999999, 90.79700000000001, 103.949, 97.03299999999999, 84.999, 114.244, 89.40299999999998, 102.425, 104.566, 77.78, 101.071, 98.146, 88.605, 77.29599999999998, 99.781, 85.21799999999999, 0.0, 98.98299999999999, 102.495, 92.208, 105.41, 100.70100000000001, 0.0, 89.926, 101.281, 79.53, 77.369, 96.131, 113.472, 87.60700000000001, 95.845, 0.0, 0.0, 79.491, 98.716, 90.28, 0.0, 74.55, 105.345, 103.512, 91.932, 78.889, 88.499, 98.591, 75.97, 92.78, 96.067, 101.846, 70.12, 85.021, 74.82, 105.588, 0.0, 108.3, 87.633, 95.266, 97.67299999999999, 77.54599999999998, 75.1, 98.319, 83.26299999999999, 105.389, 83.545, 88.485, 81.85900000000002, 76.613, 76.314, 95.014, 69.061, 89.456, 0.0, 81.73400000000002, 106.683], \"xaxis\": \"x\", \"y\": [0, 0, \"17\", \"14\", \"11\", \"11\", \"15\", 0, 0, \"16\", \"11\", \"13\", \"11\", \"11\", 0, \"11\", 0, \"14\", 0, 0, \"11\", 0, \"15\", \"11\", 0, \"11\", \"11\", \"16\", \"11\", \"20\", \"11\", \"12\", \"15\", 0, 0, \"11\", \"11\", 0, 0, \"15\", \"13\", \"11\", \"13\", \"11\", 0, \"12\", \"12\", \"13\", \"16\", \"11\", \"17\", \"11\", \"13\", 0, 0, \"17\", \"11\", \"16\", \"12\", \"12\", \"14\", 0, \"14\", \"16\", 0, \"13\", \"15\", \"13\", \"12\", \"12\", \"11\", \"17\", 0, \"11\", 0], \"yaxis\": \"y\", \"type\": \"scatter\"}, {\"hovertemplate\": \"<b>%{hovertext}</b><br><br>Full Name=Daniel Ricciardo<br>Points=0.0<br>Fastest Lap Time=%{marker.size}<br>Position=%{y}<extra></extra>\", \"hovertext\": [\"Daniel Ricciardo\", \"Daniel Ricciardo\", \"Daniel Ricciardo\", \"Daniel Ricciardo\", \"Daniel Ricciardo\", \"Daniel Ricciardo\", \"Daniel Ricciardo\", \"Daniel Ricciardo\", \"Daniel Ricciardo\", \"Daniel Ricciardo\", \"Daniel Ricciardo\", \"Daniel Ricciardo\", \"Daniel Ricciardo\", \"Daniel Ricciardo\", \"Daniel Ricciardo\", \"Daniel Ricciardo\", \"Daniel Ricciardo\", \"Daniel Ricciardo\", \"Daniel Ricciardo\", \"Daniel Ricciardo\", \"Daniel Ricciardo\", \"Daniel Ricciardo\", \"Daniel Ricciardo\", \"Daniel Ricciardo\", \"Daniel Ricciardo\", \"Daniel Ricciardo\", \"Daniel Ricciardo\", \"Daniel Ricciardo\", \"Daniel Ricciardo\", \"Daniel Ricciardo\", \"Daniel Ricciardo\", \"Daniel Ricciardo\", \"Daniel Ricciardo\", \"Daniel Ricciardo\", \"Daniel Ricciardo\", \"Daniel Ricciardo\", \"Daniel Ricciardo\", \"Daniel Ricciardo\", \"Daniel Ricciardo\", \"Daniel Ricciardo\", \"Daniel Ricciardo\", \"Daniel Ricciardo\", \"Daniel Ricciardo\", \"Daniel Ricciardo\", \"Daniel Ricciardo\", \"Daniel Ricciardo\", \"Daniel Ricciardo\", \"Daniel Ricciardo\", \"Daniel Ricciardo\", \"Daniel Ricciardo\", \"Daniel Ricciardo\", \"Daniel Ricciardo\", \"Daniel Ricciardo\", \"Daniel Ricciardo\", \"Daniel Ricciardo\", \"Daniel Ricciardo\", \"Daniel Ricciardo\", \"Daniel Ricciardo\", \"Daniel Ricciardo\", \"Daniel Ricciardo\", \"Daniel Ricciardo\", \"Daniel Ricciardo\", \"Daniel Ricciardo\", \"Daniel Ricciardo\", \"Daniel Ricciardo\", \"Daniel Ricciardo\", \"Daniel Ricciardo\", \"Daniel Ricciardo\", \"Daniel Ricciardo\", \"Daniel Ricciardo\", \"Daniel Ricciardo\", \"Daniel Ricciardo\", \"Daniel Ricciardo\", \"Daniel Ricciardo\", \"Daniel Ricciardo\", \"Daniel Ricciardo\", \"Daniel Ricciardo\"], \"ids\": [\"Daniel Ricciardo\", \"Daniel Ricciardo\", \"Daniel Ricciardo\", \"Daniel Ricciardo\", \"Daniel Ricciardo\", \"Daniel Ricciardo\", \"Daniel Ricciardo\", \"Daniel Ricciardo\", \"Daniel Ricciardo\", \"Daniel Ricciardo\", \"Daniel Ricciardo\", \"Daniel Ricciardo\", \"Daniel Ricciardo\", \"Daniel Ricciardo\", \"Daniel Ricciardo\", \"Daniel Ricciardo\", \"Daniel Ricciardo\", \"Daniel Ricciardo\", \"Daniel Ricciardo\", \"Daniel Ricciardo\", \"Daniel Ricciardo\", \"Daniel Ricciardo\", \"Daniel Ricciardo\", \"Daniel Ricciardo\", \"Daniel Ricciardo\", \"Daniel Ricciardo\", \"Daniel Ricciardo\", \"Daniel Ricciardo\", \"Daniel Ricciardo\", \"Daniel Ricciardo\", \"Daniel Ricciardo\", \"Daniel Ricciardo\", \"Daniel Ricciardo\", \"Daniel Ricciardo\", \"Daniel Ricciardo\", \"Daniel Ricciardo\", \"Daniel Ricciardo\", \"Daniel Ricciardo\", \"Daniel Ricciardo\", \"Daniel Ricciardo\", \"Daniel Ricciardo\", \"Daniel Ricciardo\", \"Daniel Ricciardo\", \"Daniel Ricciardo\", \"Daniel Ricciardo\", \"Daniel Ricciardo\", \"Daniel Ricciardo\", \"Daniel Ricciardo\", \"Daniel Ricciardo\", \"Daniel Ricciardo\", \"Daniel Ricciardo\", \"Daniel Ricciardo\", \"Daniel Ricciardo\", \"Daniel Ricciardo\", \"Daniel Ricciardo\", \"Daniel Ricciardo\", \"Daniel Ricciardo\", \"Daniel Ricciardo\", \"Daniel Ricciardo\", \"Daniel Ricciardo\", \"Daniel Ricciardo\", \"Daniel Ricciardo\", \"Daniel Ricciardo\", \"Daniel Ricciardo\", \"Daniel Ricciardo\", \"Daniel Ricciardo\", \"Daniel Ricciardo\", \"Daniel Ricciardo\", \"Daniel Ricciardo\", \"Daniel Ricciardo\", \"Daniel Ricciardo\", \"Daniel Ricciardo\", \"Daniel Ricciardo\", \"Daniel Ricciardo\", \"Daniel Ricciardo\", \"Daniel Ricciardo\", \"Daniel Ricciardo\"], \"legendgroup\": \"Daniel Ricciardo\", \"marker\": {\"color\": \"rgb(85,168,104)\", \"size\": [100.91, 100.48899999999999, 88.876, 119.831, 92.01299999999999, 119.064, 101.43700000000001, 104.87, 91.67399999999999, 108.274, 79.649, 101.756, 101.251, 97.903, 88.587, 79.752, 76.60900000000002, 103.67399999999999, 95.448, 80.066, 86.508, 88.62100000000001, 89.44, 100.772, 79.30799999999998, 90.881, 102.581, 99.579, 79.426, 78.257, 95.98200000000001, 86.863, 113.052, 102.947, 95.02, 106.042, 102.119, 0.0, 104.675, 75.387, 79.06, 99.94, 116.26299999999999, 98.898, 101.88799999999999, 76.313, 101.179, 89.447, 102.285, 0.0, 100.102, 82.789, 102.757, 0.0, 105.419, 67.59100000000001, 78.262, 109.242, 85.69200000000002, 100.433, 79.462, 89.848, 96.697, 106.76700000000001, 80.615, 95.15, 68.01899999999999, 92.654, 80.839, 110.45100000000001, 105.915, 101.284, 93.48100000000001, 101.19, 70.61, 91.16799999999999, 82.464], \"sizemode\": \"area\", \"sizeref\": 0.03596189349112426, \"symbol\": \"circle\"}, \"mode\": \"markers\", \"name\": \"Daniel Ricciardo\", \"orientation\": \"h\", \"showlegend\": true, \"x\": [100.91, 100.48899999999999, 88.876, 119.831, 92.01299999999999, 119.064, 101.43700000000001, 104.87, 91.67399999999999, 108.274, 79.649, 101.756, 101.251, 97.903, 88.587, 79.752, 76.60900000000002, 103.67399999999999, 95.448, 80.066, 86.508, 88.62100000000001, 89.44, 100.772, 79.30799999999998, 90.881, 102.581, 99.579, 79.426, 78.257, 95.98200000000001, 86.863, 113.052, 102.947, 95.02, 106.042, 102.119, 0.0, 104.675, 75.387, 79.06, 99.94, 116.26299999999999, 98.898, 101.88799999999999, 76.313, 101.179, 89.447, 102.285, 0.0, 100.102, 82.789, 102.757, 0.0, 105.419, 67.59100000000001, 78.262, 109.242, 85.69200000000002, 100.433, 79.462, 89.848, 96.697, 106.76700000000001, 80.615, 95.15, 68.01899999999999, 92.654, 80.839, 110.45100000000001, 105.915, 101.284, 93.48100000000001, 101.19, 70.61, 91.16799999999999, 82.464], \"xaxis\": \"x\", \"y\": [\"19\", \"19\", \"18\", 0, 0, \"19\", \"22\", \"19\", \"18\", 0, \"20\", \"12\", \"17\", \"15\", \"13\", 0, \"14\", \"11\", \"13\", \"13\", \"15\", \"12\", \"13\", \"12\", \"13\", 0, \"18\", \"16\", 0, \"15\", \"12\", \"13\", 0, \"19\", \"13\", \"16\", \"11\", 0, 0, 0, \"13\", 0, 0, \"15\", \"15\", \"11\", \"11\", 0, 0, 0, 0, 0, 0, 0, 0, 0, 0, 0, 0, 0, 0, 0, 0, 0, \"12\", \"11\", \"12\", 0, \"14\", \"14\", \"14\", 0, 0, \"11\", 0, \"14\", \"11\"], \"yaxis\": \"y\", \"type\": \"scatter\"}, {\"hovertemplate\": \"<b>%{hovertext}</b><br><br>Full Name=Valtteri Bottas<br>Points=0.0<br>Fastest Lap Time=%{marker.size}<br>Position=%{y}<extra></extra>\", \"hovertext\": [\"Valtteri Bottas\", \"Valtteri Bottas\", \"Valtteri Bottas\", \"Valtteri Bottas\", \"Valtteri Bottas\", \"Valtteri Bottas\", \"Valtteri Bottas\", \"Valtteri Bottas\", \"Valtteri Bottas\", \"Valtteri Bottas\", \"Valtteri Bottas\", \"Valtteri Bottas\", \"Valtteri Bottas\", \"Valtteri Bottas\", \"Valtteri Bottas\", \"Valtteri Bottas\", \"Valtteri Bottas\", \"Valtteri Bottas\", \"Valtteri Bottas\", \"Valtteri Bottas\", \"Valtteri Bottas\", \"Valtteri Bottas\", \"Valtteri Bottas\", \"Valtteri Bottas\", \"Valtteri Bottas\", \"Valtteri Bottas\", \"Valtteri Bottas\", \"Valtteri Bottas\", \"Valtteri Bottas\", \"Valtteri Bottas\", \"Valtteri Bottas\", \"Valtteri Bottas\", \"Valtteri Bottas\", \"Valtteri Bottas\", \"Valtteri Bottas\", \"Valtteri Bottas\", \"Valtteri Bottas\", \"Valtteri Bottas\", \"Valtteri Bottas\"], \"ids\": [\"Valtteri Bottas\", \"Valtteri Bottas\", \"Valtteri Bottas\", \"Valtteri Bottas\", \"Valtteri Bottas\", \"Valtteri Bottas\", \"Valtteri Bottas\", \"Valtteri Bottas\", \"Valtteri Bottas\", \"Valtteri Bottas\", \"Valtteri Bottas\", \"Valtteri Bottas\", \"Valtteri Bottas\", \"Valtteri Bottas\", \"Valtteri Bottas\", \"Valtteri Bottas\", \"Valtteri Bottas\", \"Valtteri Bottas\", \"Valtteri Bottas\", \"Valtteri Bottas\", \"Valtteri Bottas\", \"Valtteri Bottas\", \"Valtteri Bottas\", \"Valtteri Bottas\", \"Valtteri Bottas\", \"Valtteri Bottas\", \"Valtteri Bottas\", \"Valtteri Bottas\", \"Valtteri Bottas\", \"Valtteri Bottas\", \"Valtteri Bottas\", \"Valtteri Bottas\", \"Valtteri Bottas\", \"Valtteri Bottas\", \"Valtteri Bottas\", \"Valtteri Bottas\", \"Valtteri Bottas\", \"Valtteri Bottas\", \"Valtteri Bottas\"], \"legendgroup\": \"Valtteri Bottas\", \"marker\": {\"color\": \"rgb(196,78,82)\", \"size\": [90.652, 101.373, 98.2, 98.192, 89.74700000000001, 80.92099999999998, 78.00399999999999, 96.31200000000001, 93.972, 87.12700000000001, 112.68799999999999, 87.166, 111.706, 103.869, 97.85600000000001, 88.928, 104.351, 76.84, 81.105, 112.515, 0.0, 78.944, 87.05799999999998, 101.134, 151.939, 106.464, 79.223, 97.383, 111.368, 104.977, 86.06200000000001, 107.837, 84.696, 105.149, 69.044, 78.27199999999998, 70.69800000000002, 89.265, 91.884], \"sizemode\": \"area\", \"sizeref\": 0.03596189349112426, \"symbol\": \"circle\"}, \"mode\": \"markers\", \"name\": \"Valtteri Bottas\", \"orientation\": \"h\", \"showlegend\": true, \"x\": [90.652, 101.373, 98.2, 98.192, 89.74700000000001, 80.92099999999998, 78.00399999999999, 96.31200000000001, 93.972, 87.12700000000001, 112.68799999999999, 87.166, 111.706, 103.869, 97.85600000000001, 88.928, 104.351, 76.84, 81.105, 112.515, 0.0, 78.944, 87.05799999999998, 101.134, 151.939, 106.464, 79.223, 97.383, 111.368, 104.977, 86.06200000000001, 107.837, 84.696, 105.149, 69.044, 78.27199999999998, 70.69800000000002, 89.265, 91.884], \"xaxis\": \"x\", \"y\": [\"14\", \"11\", \"13\", \"14\", \"16\", \"12\", \"14\", \"12\", \"16\", 0, \"15\", \"15\", \"13\", \"12\", \"17\", \"16\", \"15\", 0, 0, \"11\", 0, \"14\", \"13\", \"12\", 0, \"13\", \"12\", \"14\", 0, \"16\", \"11\", 0, 0, 0, 0, 0, 0, \"11\", 0], \"yaxis\": \"y\", \"type\": \"scatter\"}, {\"hovertemplate\": \"<b>%{hovertext}</b><br><br>Full Name=Carlos Sainz<br>Points=0.0<br>Fastest Lap Time=%{marker.size}<br>Position=%{y}<extra></extra>\", \"hovertext\": [\"Carlos Sainz\", \"Carlos Sainz\", \"Carlos Sainz\", \"Carlos Sainz\", \"Carlos Sainz\", \"Carlos Sainz\", \"Carlos Sainz\", \"Carlos Sainz\", \"Carlos Sainz\", \"Carlos Sainz\", \"Carlos Sainz\", \"Carlos Sainz\", \"Carlos Sainz\", \"Carlos Sainz\", \"Carlos Sainz\", \"Carlos Sainz\", \"Carlos Sainz\", \"Carlos Sainz\", \"Carlos Sainz\", \"Carlos Sainz\", \"Carlos Sainz\", \"Carlos Sainz\", \"Carlos Sainz\", \"Carlos Sainz\", \"Carlos Sainz\", \"Carlos Sainz\", \"Carlos Sainz\", \"Carlos Sainz\", \"Carlos Sainz\", \"Carlos Sainz\", \"Carlos Sainz\", \"Carlos Sainz\", \"Carlos Sainz\", \"Carlos Sainz\", \"Carlos Sainz\", \"Carlos Sainz\", \"Carlos Sainz\", \"Carlos Sainz\", \"Carlos Sainz\", \"Carlos Sainz\", \"Carlos Sainz\", \"Carlos Sainz\", \"Carlos Sainz\", \"Carlos Sainz\", \"Carlos Sainz\", \"Carlos Sainz\", \"Carlos Sainz\", \"Carlos Sainz\", \"Carlos Sainz\", \"Carlos Sainz\", \"Carlos Sainz\", \"Carlos Sainz\", \"Carlos Sainz\", \"Carlos Sainz\"], \"ids\": [\"Carlos Sainz\", \"Carlos Sainz\", \"Carlos Sainz\", \"Carlos Sainz\", \"Carlos Sainz\", \"Carlos Sainz\", \"Carlos Sainz\", \"Carlos Sainz\", \"Carlos Sainz\", \"Carlos Sainz\", \"Carlos Sainz\", \"Carlos Sainz\", \"Carlos Sainz\", \"Carlos Sainz\", \"Carlos Sainz\", \"Carlos Sainz\", \"Carlos Sainz\", \"Carlos Sainz\", \"Carlos Sainz\", \"Carlos Sainz\", \"Carlos Sainz\", \"Carlos Sainz\", \"Carlos Sainz\", \"Carlos Sainz\", \"Carlos Sainz\", \"Carlos Sainz\", \"Carlos Sainz\", \"Carlos Sainz\", \"Carlos Sainz\", \"Carlos Sainz\", \"Carlos Sainz\", \"Carlos Sainz\", \"Carlos Sainz\", \"Carlos Sainz\", \"Carlos Sainz\", \"Carlos Sainz\", \"Carlos Sainz\", \"Carlos Sainz\", \"Carlos Sainz\", \"Carlos Sainz\", \"Carlos Sainz\", \"Carlos Sainz\", \"Carlos Sainz\", \"Carlos Sainz\", \"Carlos Sainz\", \"Carlos Sainz\", \"Carlos Sainz\", \"Carlos Sainz\", \"Carlos Sainz\", \"Carlos Sainz\", \"Carlos Sainz\", \"Carlos Sainz\", \"Carlos Sainz\", \"Carlos Sainz\"], \"legendgroup\": \"Carlos Sainz\", \"marker\": {\"color\": \"rgb(129,114,179)\", \"size\": [102.652, 100.651, 78.811, 73.234, 98.697, 88.611, 114.68, 87.51, 102.258, 82.17200000000001, 0.0, 106.998, 98.40799999999999, 102.205, 108.804, 79.957, 0.0, 86.751, 110.53200000000001, 99.243, 97.723, 84.46700000000001, 106.591, 98.026, 0.0, 69.15, 0.0, 86.21000000000002, 98.123, 0.0, 81.36, 73.625, 103.37799999999999, 95.535, 68.766, 94.602, 77.43, 108.67, 99.73100000000001, 82.38600000000001, 72.169, 90.899, 95.586, 97.502, 76.471, 0.0, 85.637, 105.969, 80.311, 89.94800000000002, 90.556, 0.0, 134.10299999999998, 0.0], \"sizemode\": \"area\", \"sizeref\": 0.03596189349112426, \"symbol\": \"circle\"}, \"mode\": \"markers\", \"name\": \"Carlos Sainz\", \"orientation\": \"h\", \"showlegend\": true, \"x\": [102.652, 100.651, 78.811, 73.234, 98.697, 88.611, 114.68, 87.51, 102.258, 82.17200000000001, 0.0, 106.998, 98.40799999999999, 102.205, 108.804, 79.957, 0.0, 86.751, 110.53200000000001, 99.243, 97.723, 84.46700000000001, 106.591, 98.026, 0.0, 69.15, 0.0, 86.21000000000002, 98.123, 0.0, 81.36, 73.625, 103.37799999999999, 95.535, 68.766, 94.602, 77.43, 108.67, 99.73100000000001, 82.38600000000001, 72.169, 90.899, 95.586, 97.502, 76.471, 0.0, 85.637, 105.969, 80.311, 89.94800000000002, 90.556, 0.0, 134.10299999999998, 0.0], \"xaxis\": \"x\", \"y\": [\"13\", 0, \"12\", 0, 0, 0, 0, \"11\", 0, \"13\", 0, \"11\", 0, \"12\", 0, \"14\", 0, \"15\", \"14\", \"11\", \"17\", \"16\", 0, 0, 0, 0, 0, \"14\", 0, 0, 0, \"11\", 0, \"11\", \"12\", 0, \"12\", \"11\", \"17\", 0, \"12\", 0, 0, \"14\", \"11\", 0, 0, \"12\", \"13\", \"13\", \"13\", 0, 0, 0], \"yaxis\": \"y\", \"type\": \"scatter\"}, {\"hovertemplate\": \"<b>%{hovertext}</b><br><br>Full Name=Max Verstappen<br>Points=0.0<br>Fastest Lap Time=%{marker.size}<br>Position=%{y}<extra></extra>\", \"hovertext\": [\"Max Verstappen\", \"Max Verstappen\", \"Max Verstappen\", \"Max Verstappen\", \"Max Verstappen\", \"Max Verstappen\", \"Max Verstappen\", \"Max Verstappen\", \"Max Verstappen\", \"Max Verstappen\", \"Max Verstappen\", \"Max Verstappen\", \"Max Verstappen\", \"Max Verstappen\", \"Max Verstappen\", \"Max Verstappen\", \"Max Verstappen\", \"Max Verstappen\", \"Max Verstappen\", \"Max Verstappen\", \"Max Verstappen\", \"Max Verstappen\", \"Max Verstappen\", \"Max Verstappen\", \"Max Verstappen\", \"Max Verstappen\", \"Max Verstappen\", \"Max Verstappen\", \"Max Verstappen\"], \"ids\": [\"Max Verstappen\", \"Max Verstappen\", \"Max Verstappen\", \"Max Verstappen\", \"Max Verstappen\", \"Max Verstappen\", \"Max Verstappen\", \"Max Verstappen\", \"Max Verstappen\", \"Max Verstappen\", \"Max Verstappen\", \"Max Verstappen\", \"Max Verstappen\", \"Max Verstappen\", \"Max Verstappen\", \"Max Verstappen\", \"Max Verstappen\", \"Max Verstappen\", \"Max Verstappen\", \"Max Verstappen\", \"Max Verstappen\", \"Max Verstappen\", \"Max Verstappen\", \"Max Verstappen\", \"Max Verstappen\", \"Max Verstappen\", \"Max Verstappen\", \"Max Verstappen\", \"Max Verstappen\"], \"legendgroup\": \"Max Verstappen\", \"marker\": {\"color\": \"rgb(147,120,96)\", \"size\": [94.295, 103.88, 99.60700000000001, 91.896, 78.873, 78.616, 140.776, 87.39, 105.746, 102.029, 86.56299999999999, 113.281, 102.42399999999999, 96.681, 0.0, 77.187, 106.398, 0.0, 111.022, 0.0, 0.0, 105.771, 92.007, 83.985, 0.0, 97.249, 69.351, 85.539, 0.0], \"sizemode\": \"area\", \"sizeref\": 0.03596189349112426, \"symbol\": \"circle\"}, \"mode\": \"markers\", \"name\": \"Max Verstappen\", \"orientation\": \"h\", \"showlegend\": true, \"x\": [94.295, 103.88, 99.60700000000001, 91.896, 78.873, 78.616, 140.776, 87.39, 105.746, 102.029, 86.56299999999999, 113.281, 102.42399999999999, 96.681, 0.0, 77.187, 106.398, 0.0, 111.022, 0.0, 0.0, 105.771, 92.007, 83.985, 0.0, 97.249, 69.351, 85.539, 0.0], \"xaxis\": \"x\", \"y\": [0, \"17\", 0, \"11\", 0, \"15\", 0, \"12\", \"16\", 0, 0, \"11\", 0, 0, 0, 0, 0, 0, 0, 0, 0, 0, 0, 0, 0, 0, 0, 0, 0], \"yaxis\": \"y\", \"type\": \"scatter\"}, {\"hovertemplate\": \"<b>%{hovertext}</b><br><br>Full Name=Pierre Gasly<br>Points=0.0<br>Fastest Lap Time=%{marker.size}<br>Position=%{y}<extra></extra>\", \"hovertext\": [\"Pierre Gasly\", \"Pierre Gasly\", \"Pierre Gasly\", \"Pierre Gasly\", \"Pierre Gasly\", \"Pierre Gasly\", \"Pierre Gasly\", \"Pierre Gasly\", \"Pierre Gasly\", \"Pierre Gasly\", \"Pierre Gasly\", \"Pierre Gasly\", \"Pierre Gasly\", \"Pierre Gasly\", \"Pierre Gasly\", \"Pierre Gasly\", \"Pierre Gasly\", \"Pierre Gasly\", \"Pierre Gasly\", \"Pierre Gasly\", \"Pierre Gasly\", \"Pierre Gasly\", \"Pierre Gasly\", \"Pierre Gasly\", \"Pierre Gasly\", \"Pierre Gasly\", \"Pierre Gasly\", \"Pierre Gasly\", \"Pierre Gasly\", \"Pierre Gasly\", \"Pierre Gasly\", \"Pierre Gasly\"], \"ids\": [\"Pierre Gasly\", \"Pierre Gasly\", \"Pierre Gasly\", \"Pierre Gasly\", \"Pierre Gasly\", \"Pierre Gasly\", \"Pierre Gasly\", \"Pierre Gasly\", \"Pierre Gasly\", \"Pierre Gasly\", \"Pierre Gasly\", \"Pierre Gasly\", \"Pierre Gasly\", \"Pierre Gasly\", \"Pierre Gasly\", \"Pierre Gasly\", \"Pierre Gasly\", \"Pierre Gasly\", \"Pierre Gasly\", \"Pierre Gasly\", \"Pierre Gasly\", \"Pierre Gasly\", \"Pierre Gasly\", \"Pierre Gasly\", \"Pierre Gasly\", \"Pierre Gasly\", \"Pierre Gasly\", \"Pierre Gasly\", \"Pierre Gasly\", \"Pierre Gasly\", \"Pierre Gasly\", \"Pierre Gasly\"], \"legendgroup\": \"Pierre Gasly\", \"marker\": {\"color\": \"rgb(218,139,195)\", \"size\": [97.17, 94.53299999999999, 80.85900000000002, 73.32300000000002, 103.844, 90.649, 98.367, 108.035, 0.0, 75.699, 0.0, 69.295, 93.465, 77.762, 84.059, 106.06299999999999, 104.071, 94.133, 100.098, 73.822, 103.988, 87.229, 105.712, 77.495, 83.885, 98.60600000000001, 100.85, 102.414, 67.827, 83.939, 90.09200000000001, 0.0], \"sizemode\": \"area\", \"sizeref\": 0.03596189349112426, \"symbol\": \"circle\"}, \"mode\": \"markers\", \"name\": \"Pierre Gasly\", \"orientation\": \"h\", \"showlegend\": true, \"x\": [97.17, 94.53299999999999, 80.85900000000002, 73.32300000000002, 103.844, 90.649, 98.367, 108.035, 0.0, 75.699, 0.0, 69.295, 93.465, 77.762, 84.059, 106.06299999999999, 104.071, 94.133, 100.098, 73.822, 103.988, 87.229, 105.712, 77.495, 83.885, 98.60600000000001, 100.85, 102.414, 67.827, 83.939, 90.09200000000001, 0.0], \"xaxis\": \"x\", \"y\": [\"14\", \"13\", \"13\", \"12\", \"16\", 0, \"18\", \"12\", 0, \"11\", 0, \"11\", \"13\", \"14\", \"15\", \"13\", 0, \"11\", \"12\", \"13\", 0, \"11\", 0, \"14\", \"11\", \"14\", \"16\", \"18\", \"15\", 0, \"11\", 0], \"yaxis\": \"y\", \"type\": \"scatter\"}, {\"hovertemplate\": \"<b>%{hovertext}</b><br><br>Full Name=Charles Leclerc<br>Points=0.0<br>Fastest Lap Time=%{marker.size}<br>Position=%{y}<extra></extra>\", \"hovertext\": [\"Charles Leclerc\", \"Charles Leclerc\", \"Charles Leclerc\", \"Charles Leclerc\", \"Charles Leclerc\", \"Charles Leclerc\", \"Charles Leclerc\", \"Charles Leclerc\", \"Charles Leclerc\", \"Charles Leclerc\", \"Charles Leclerc\", \"Charles Leclerc\", \"Charles Leclerc\", \"Charles Leclerc\", \"Charles Leclerc\", \"Charles Leclerc\", \"Charles Leclerc\", \"Charles Leclerc\", \"Charles Leclerc\"], \"ids\": [\"Charles Leclerc\", \"Charles Leclerc\", \"Charles Leclerc\", \"Charles Leclerc\", \"Charles Leclerc\", \"Charles Leclerc\", \"Charles Leclerc\", \"Charles Leclerc\", \"Charles Leclerc\", \"Charles Leclerc\", \"Charles Leclerc\", \"Charles Leclerc\", \"Charles Leclerc\", \"Charles Leclerc\", \"Charles Leclerc\", \"Charles Leclerc\", \"Charles Leclerc\", \"Charles Leclerc\", \"Charles Leclerc\"], \"legendgroup\": \"Charles Leclerc\", \"marker\": {\"color\": \"rgb(140,140,140)\", \"size\": [88.759, 95.075, 98.808, 77.71000000000002, 95.209, 77.852, 0.0, 0.0, 83.76799999999999, 94.515, 100.522, 79.15100000000001, 87.697, 71.423, 95.379, 80.821, 83.96799999999999, 107.84, 86.02600000000001], \"sizemode\": \"area\", \"sizeref\": 0.03596189349112426, \"symbol\": \"circle\"}, \"mode\": \"markers\", \"name\": \"Charles Leclerc\", \"orientation\": \"h\", \"showlegend\": true, \"x\": [88.759, 95.075, 98.808, 77.71000000000002, 95.209, 77.852, 0.0, 0.0, 83.76799999999999, 94.515, 100.522, 79.15100000000001, 87.697, 71.423, 95.379, 80.821, 83.96799999999999, 107.84, 86.02600000000001], \"xaxis\": \"x\", \"y\": [\"13\", \"12\", \"19\", 0, 0, \"15\", 0, 0, \"12\", 0, 0, 0, 0, \"18\", 0, \"11\", 0, \"14\", 0], \"yaxis\": \"y\", \"type\": \"scatter\"}, {\"hovertemplate\": \"<b>%{hovertext}</b><br><br>Full Name=Lando Norris<br>Points=0.0<br>Fastest Lap Time=%{marker.size}<br>Position=%{y}<extra></extra>\", \"hovertext\": [\"Lando Norris\", \"Lando Norris\", \"Lando Norris\", \"Lando Norris\", \"Lando Norris\", \"Lando Norris\", \"Lando Norris\", \"Lando Norris\", \"Lando Norris\", \"Lando Norris\", \"Lando Norris\", \"Lando Norris\", \"Lando Norris\", \"Lando Norris\"], \"ids\": [\"Lando Norris\", \"Lando Norris\", \"Lando Norris\", \"Lando Norris\", \"Lando Norris\", \"Lando Norris\", \"Lando Norris\", \"Lando Norris\", \"Lando Norris\", \"Lando Norris\", \"Lando Norris\", \"Lando Norris\", \"Lando Norris\", \"Lando Norris\"], \"legendgroup\": \"Lando Norris\", \"marker\": {\"color\": \"rgb(204,185,116)\", \"size\": [88.555, 98.346, 82.561, 76.413, 78.023, 89.63600000000001, 91.081, 108.321, 94.116, 81.643, 79.945, 97.377, 92.32799999999999, 79.36], \"sizemode\": \"area\", \"sizeref\": 0.03596189349112426, \"symbol\": \"circle\"}, \"mode\": \"markers\", \"name\": \"Lando Norris\", \"orientation\": \"h\", \"showlegend\": true, \"x\": [88.555, 98.346, 82.561, 76.413, 78.023, 89.63600000000001, 91.081, 108.321, 94.116, 81.643, 79.945, 97.377, 92.32799999999999, 79.36], \"xaxis\": \"x\", \"y\": [\"12\", \"18\", 0, \"11\", 0, \"11\", 0, \"11\", \"11\", 0, \"13\", \"15\", 0, \"13\"], \"yaxis\": \"y\", \"type\": \"scatter\"}, {\"hovertemplate\": \"<b>%{hovertext}</b><br><br>Full Name=Alexander Albon<br>Points=0.0<br>Fastest Lap Time=%{marker.size}<br>Position=%{y}<extra></extra>\", \"hovertext\": [\"Alexander Albon\", \"Alexander Albon\", \"Alexander Albon\", \"Alexander Albon\", \"Alexander Albon\", \"Alexander Albon\", \"Alexander Albon\", \"Alexander Albon\", \"Alexander Albon\", \"Alexander Albon\", \"Alexander Albon\", \"Alexander Albon\"], \"ids\": [\"Alexander Albon\", \"Alexander Albon\", \"Alexander Albon\", \"Alexander Albon\", \"Alexander Albon\", \"Alexander Albon\", \"Alexander Albon\", \"Alexander Albon\", \"Alexander Albon\", \"Alexander Albon\", \"Alexander Albon\", \"Alexander Albon\"], \"legendgroup\": \"Alexander Albon\", \"marker\": {\"color\": \"rgb(100,181,205)\", \"size\": [88.18799999999999, 105.754, 81.02799999999998, 77.15100000000001, 95.029, 68.946, 90.87200000000001, 71.087, 68.432, 84.926, 92.33, 79.89], \"sizemode\": \"area\", \"sizeref\": 0.03596189349112426, \"symbol\": \"circle\"}, \"mode\": \"markers\", \"name\": \"Alexander Albon\", \"orientation\": \"h\", \"showlegend\": true, \"x\": [88.18799999999999, 105.754, 81.02799999999998, 77.15100000000001, 95.029, 68.946, 90.87200000000001, 71.087, 68.432, 84.926, 92.33, 79.89], \"xaxis\": \"x\", \"y\": [\"14\", \"11\", \"11\", 0, \"15\", \"15\", \"12\", \"14\", \"13\", \"15\", 0, \"12\"], \"yaxis\": \"y\", \"type\": \"scatter\"}], \"name\": \"0.0\"}, {\"data\": [{\"hovertemplate\": \"<b>%{hovertext}</b><br><br>Full Name=Lewis Hamilton<br>Points=6.0<br>Fastest Lap Time=%{marker.size}<br>Position=%{y}<extra></extra>\", \"hovertext\": [\"Lewis Hamilton\", \"Lewis Hamilton\", \"Lewis Hamilton\", \"Lewis Hamilton\", \"Lewis Hamilton\", \"Lewis Hamilton\", \"Lewis Hamilton\", \"Lewis Hamilton\", \"Lewis Hamilton\", \"Lewis Hamilton\", \"Lewis Hamilton\", \"Lewis Hamilton\", \"Lewis Hamilton\"], \"ids\": [\"Lewis Hamilton\", \"Lewis Hamilton\", \"Lewis Hamilton\", \"Lewis Hamilton\", \"Lewis Hamilton\", \"Lewis Hamilton\", \"Lewis Hamilton\", \"Lewis Hamilton\", \"Lewis Hamilton\", \"Lewis Hamilton\", \"Lewis Hamilton\", \"Lewis Hamilton\", \"Lewis Hamilton\"], \"legendgroup\": \"Lewis Hamilton\", \"marker\": {\"color\": \"rgb(76,114,176)\", \"size\": [82.01700000000001, 108.135, 106.072, 86.351, 76.587, 81.675, 93.259, 74.345, 88.721, 105.463, 100.662, 75.825, 71.082], \"sizemode\": \"area\", \"sizeref\": 0.03596189349112426, \"symbol\": \"circle\"}, \"mode\": \"markers\", \"name\": \"Lewis Hamilton\", \"orientation\": \"h\", \"showlegend\": true, \"x\": [82.01700000000001, 108.135, 106.072, 86.351, 76.587, 81.675, 93.259, 74.345, 88.721, 105.463, 100.662, 75.825, 71.082], \"xaxis\": \"x\", \"y\": [\"3\", \"3\", \"3\", \"3\", \"3\", \"3\", \"3\", \"3\", \"7\", \"7\", \"7\", \"7\", \"7\"], \"yaxis\": \"y\", \"type\": \"scatter\"}, {\"hovertemplate\": \"<b>%{hovertext}</b><br><br>Full Name=Sergio P\\u00e9rez<br>Points=6.0<br>Fastest Lap Time=%{marker.size}<br>Position=%{y}<extra></extra>\", \"hovertext\": [\"Sergio P\\u00e9rez\", \"Sergio P\\u00e9rez\", \"Sergio P\\u00e9rez\", \"Sergio P\\u00e9rez\", \"Sergio P\\u00e9rez\", \"Sergio P\\u00e9rez\", \"Sergio P\\u00e9rez\", \"Sergio P\\u00e9rez\", \"Sergio P\\u00e9rez\", \"Sergio P\\u00e9rez\", \"Sergio P\\u00e9rez\", \"Sergio P\\u00e9rez\", \"Sergio P\\u00e9rez\", \"Sergio P\\u00e9rez\", \"Sergio P\\u00e9rez\", \"Sergio P\\u00e9rez\", \"Sergio P\\u00e9rez\", \"Sergio P\\u00e9rez\", \"Sergio P\\u00e9rez\", \"Sergio P\\u00e9rez\", \"Sergio P\\u00e9rez\", \"Sergio P\\u00e9rez\", \"Sergio P\\u00e9rez\", \"Sergio P\\u00e9rez\"], \"ids\": [\"Sergio P\\u00e9rez\", \"Sergio P\\u00e9rez\", \"Sergio P\\u00e9rez\", \"Sergio P\\u00e9rez\", \"Sergio P\\u00e9rez\", \"Sergio P\\u00e9rez\", \"Sergio P\\u00e9rez\", \"Sergio P\\u00e9rez\", \"Sergio P\\u00e9rez\", \"Sergio P\\u00e9rez\", \"Sergio P\\u00e9rez\", \"Sergio P\\u00e9rez\", \"Sergio P\\u00e9rez\", \"Sergio P\\u00e9rez\", \"Sergio P\\u00e9rez\", \"Sergio P\\u00e9rez\", \"Sergio P\\u00e9rez\", \"Sergio P\\u00e9rez\", \"Sergio P\\u00e9rez\", \"Sergio P\\u00e9rez\", \"Sergio P\\u00e9rez\", \"Sergio P\\u00e9rez\", \"Sergio P\\u00e9rez\", \"Sergio P\\u00e9rez\"], \"legendgroup\": \"Sergio P\\u00e9rez\", \"marker\": {\"color\": \"rgb(221,132,82)\", \"size\": [96.656, 101.83, 89.10700000000001, 112.007, 79.657, 111.97, 89.801, 96.756, 88.336, 94.609, 68.47, 94.744, 79.929, 102.689, 68.50399999999999, 77.867, 84.179, 94.073, 83.77, 98.04299999999999, 80.485, 102.639, 80.09, 80.80199999999998], \"sizemode\": \"area\", \"sizeref\": 0.03596189349112426, \"symbol\": \"circle\"}, \"mode\": \"markers\", \"name\": \"Sergio P\\u00e9rez\", \"orientation\": \"h\", \"showlegend\": true, \"x\": [96.656, 101.83, 89.10700000000001, 112.007, 79.657, 111.97, 89.801, 96.756, 88.336, 94.609, 68.47, 94.744, 79.929, 102.689, 68.50399999999999, 77.867, 84.179, 94.073, 83.77, 98.04299999999999, 80.485, 102.639, 80.09, 80.80199999999998], \"xaxis\": \"x\", \"y\": [\"7\", \"7\", \"7\", \"7\", \"7\", \"7\", \"7\", \"7\", \"7\", \"7\", \"7\", \"7\", \"7\", \"7\", \"7\", \"7\", \"8\", \"7\", \"7\", \"7\", \"7\", \"7\", \"7\", \"7\"], \"yaxis\": \"y\", \"type\": \"scatter\"}, {\"hovertemplate\": \"<b>%{hovertext}</b><br><br>Full Name=Daniel Ricciardo<br>Points=6.0<br>Fastest Lap Time=%{marker.size}<br>Position=%{y}<extra></extra>\", \"hovertext\": [\"Daniel Ricciardo\", \"Daniel Ricciardo\", \"Daniel Ricciardo\", \"Daniel Ricciardo\", \"Daniel Ricciardo\", \"Daniel Ricciardo\", \"Daniel Ricciardo\", \"Daniel Ricciardo\"], \"ids\": [\"Daniel Ricciardo\", \"Daniel Ricciardo\", \"Daniel Ricciardo\", \"Daniel Ricciardo\", \"Daniel Ricciardo\", \"Daniel Ricciardo\", \"Daniel Ricciardo\", \"Daniel Ricciardo\"], \"legendgroup\": \"Daniel Ricciardo\", \"marker\": {\"color\": \"rgb(85,168,104)\", \"size\": [100.24, 87.294, 103.05, 91.124, 76.506, 107.736, 98.632, 89.624], \"sizemode\": \"area\", \"sizeref\": 0.03596189349112426, \"symbol\": \"circle\"}, \"mode\": \"markers\", \"name\": \"Daniel Ricciardo\", \"orientation\": \"h\", \"showlegend\": true, \"x\": [100.24, 87.294, 103.05, 91.124, 76.506, 107.736, 98.632, 89.624], \"xaxis\": \"x\", \"y\": [\"7\", \"7\", \"7\", \"7\", \"7\", \"7\", \"7\", \"7\"], \"yaxis\": \"y\", \"type\": \"scatter\"}, {\"hovertemplate\": \"<b>%{hovertext}</b><br><br>Full Name=Valtteri Bottas<br>Points=6.0<br>Fastest Lap Time=%{marker.size}<br>Position=%{y}<extra></extra>\", \"hovertext\": [\"Valtteri Bottas\", \"Valtteri Bottas\", \"Valtteri Bottas\"], \"ids\": [\"Valtteri Bottas\", \"Valtteri Bottas\", \"Valtteri Bottas\"], \"legendgroup\": \"Valtteri Bottas\", \"marker\": {\"color\": \"rgb(196,78,82)\", \"size\": [102.66, 79.321, 94.225], \"sizemode\": \"area\", \"sizeref\": 0.03596189349112426, \"symbol\": \"circle\"}, \"mode\": \"markers\", \"name\": \"Valtteri Bottas\", \"orientation\": \"h\", \"showlegend\": true, \"x\": [102.66, 79.321, 94.225], \"xaxis\": \"x\", \"y\": [\"7\", \"7\", \"7\"], \"yaxis\": \"y\", \"type\": \"scatter\"}, {\"hovertemplate\": \"<b>%{hovertext}</b><br><br>Full Name=Carlos Sainz<br>Points=6.0<br>Fastest Lap Time=%{marker.size}<br>Position=%{y}<extra></extra>\", \"hovertext\": [\"Carlos Sainz\", \"Carlos Sainz\", \"Carlos Sainz\", \"Carlos Sainz\", \"Carlos Sainz\", \"Carlos Sainz\", \"Carlos Sainz\", \"Carlos Sainz\"], \"ids\": [\"Carlos Sainz\", \"Carlos Sainz\", \"Carlos Sainz\", \"Carlos Sainz\", \"Carlos Sainz\", \"Carlos Sainz\", \"Carlos Sainz\", \"Carlos Sainz\"], \"legendgroup\": \"Carlos Sainz\", \"marker\": {\"color\": \"rgb(129,114,179)\", \"size\": [102.66, 97.398, 86.186, 81.87100000000001, 100.462, 81.324, 99.85799999999999, 105.807], \"sizemode\": \"area\", \"sizeref\": 0.03596189349112426, \"symbol\": \"circle\"}, \"mode\": \"markers\", \"name\": \"Carlos Sainz\", \"orientation\": \"h\", \"showlegend\": true, \"x\": [102.66, 97.398, 86.186, 81.87100000000001, 100.462, 81.324, 99.85799999999999, 105.807], \"xaxis\": \"x\", \"y\": [\"7\", \"7\", \"7\", \"7\", \"7\", \"7\", \"7\", \"7\"], \"yaxis\": \"y\", \"type\": \"scatter\"}, {\"hovertemplate\": \"<b>%{hovertext}</b><br><br>Full Name=Max Verstappen<br>Points=6.0<br>Fastest Lap Time=%{marker.size}<br>Position=%{y}<extra></extra>\", \"hovertext\": [\"Max Verstappen\", \"Max Verstappen\"], \"ids\": [\"Max Verstappen\", \"Max Verstappen\"], \"legendgroup\": \"Max Verstappen\", \"marker\": {\"color\": \"rgb(147,120,96)\", \"size\": [104.579, 86.405], \"sizemode\": \"area\", \"sizeref\": 0.03596189349112426, \"symbol\": \"circle\"}, \"mode\": \"markers\", \"name\": \"Max Verstappen\", \"orientation\": \"h\", \"showlegend\": true, \"x\": [104.579, 86.405], \"xaxis\": \"x\", \"y\": [\"7\", \"7\"], \"yaxis\": \"y\", \"type\": \"scatter\"}, {\"hovertemplate\": \"<b>%{hovertext}</b><br><br>Full Name=Pierre Gasly<br>Points=6.0<br>Fastest Lap Time=%{marker.size}<br>Position=%{y}<extra></extra>\", \"hovertext\": [\"Pierre Gasly\", \"Pierre Gasly\", \"Pierre Gasly\", \"Pierre Gasly\", \"Pierre Gasly\"], \"ids\": [\"Pierre Gasly\", \"Pierre Gasly\", \"Pierre Gasly\", \"Pierre Gasly\", \"Pierre Gasly\"], \"legendgroup\": \"Pierre Gasly\", \"marker\": {\"color\": \"rgb(218,139,195)\", \"size\": [77.09899999999999, 68.78999999999999, 95.321, 69.025, 89.60300000000002], \"sizemode\": \"area\", \"sizeref\": 0.03596189349112426, \"symbol\": \"circle\"}, \"mode\": \"markers\", \"name\": \"Pierre Gasly\", \"orientation\": \"h\", \"showlegend\": true, \"x\": [77.09899999999999, 68.78999999999999, 95.321, 69.025, 89.60300000000002], \"xaxis\": \"x\", \"y\": [\"7\", \"7\", \"7\", \"7\", \"7\"], \"yaxis\": \"y\", \"type\": \"scatter\"}, {\"hovertemplate\": \"<b>%{hovertext}</b><br><br>Full Name=Charles Leclerc<br>Points=6.0<br>Fastest Lap Time=%{marker.size}<br>Position=%{y}<extra></extra>\", \"hovertext\": [\"Charles Leclerc\", \"Charles Leclerc\", \"Charles Leclerc\", \"Charles Leclerc\", \"Charles Leclerc\"], \"ids\": [\"Charles Leclerc\", \"Charles Leclerc\", \"Charles Leclerc\", \"Charles Leclerc\", \"Charles Leclerc\"], \"legendgroup\": \"Charles Leclerc\", \"marker\": {\"color\": \"rgb(140,140,140)\", \"size\": [98.10700000000001, 80.53699999999999, 72.082, 102.876, 90.712], \"sizemode\": \"area\", \"sizeref\": 0.03596189349112426, \"symbol\": \"circle\"}, \"mode\": \"markers\", \"name\": \"Charles Leclerc\", \"orientation\": \"h\", \"showlegend\": true, \"x\": [98.10700000000001, 80.53699999999999, 72.082, 102.876, 90.712], \"xaxis\": \"x\", \"y\": [\"7\", \"7\", \"7\", \"7\", \"7\"], \"yaxis\": \"y\", \"type\": \"scatter\"}, {\"hovertemplate\": \"<b>%{hovertext}</b><br><br>Full Name=Lando Norris<br>Points=6.0<br>Fastest Lap Time=%{marker.size}<br>Position=%{y}<extra></extra>\", \"hovertext\": [\"Lando Norris\", \"Lando Norris\", \"Lando Norris\"], \"ids\": [\"Lando Norris\", \"Lando Norris\", \"Lando Norris\"], \"legendgroup\": \"Lando Norris\", \"marker\": {\"color\": \"rgb(204,185,116)\", \"size\": [105.716, 98.074, 108.552], \"sizemode\": \"area\", \"sizeref\": 0.03596189349112426, \"symbol\": \"circle\"}, \"mode\": \"markers\", \"name\": \"Lando Norris\", \"orientation\": \"h\", \"showlegend\": true, \"x\": [105.716, 98.074, 108.552], \"xaxis\": \"x\", \"y\": [\"7\", \"7\", \"7\"], \"yaxis\": \"y\", \"type\": \"scatter\"}], \"name\": \"6.0\"}, {\"data\": [{\"hovertemplate\": \"<b>%{hovertext}</b><br><br>Full Name=Lewis Hamilton<br>Points=8.0<br>Fastest Lap Time=%{marker.size}<br>Position=%{y}<extra></extra>\", \"hovertext\": [\"Lewis Hamilton\", \"Lewis Hamilton\", \"Lewis Hamilton\", \"Lewis Hamilton\", \"Lewis Hamilton\", \"Lewis Hamilton\", \"Lewis Hamilton\", \"Lewis Hamilton\", \"Lewis Hamilton\", \"Lewis Hamilton\", \"Lewis Hamilton\", \"Lewis Hamilton\", \"Lewis Hamilton\"], \"ids\": [\"Lewis Hamilton\", \"Lewis Hamilton\", \"Lewis Hamilton\", \"Lewis Hamilton\", \"Lewis Hamilton\", \"Lewis Hamilton\", \"Lewis Hamilton\", \"Lewis Hamilton\", \"Lewis Hamilton\", \"Lewis Hamilton\", \"Lewis Hamilton\", \"Lewis Hamilton\", \"Lewis Hamilton\"], \"legendgroup\": \"Lewis Hamilton\", \"marker\": {\"color\": \"rgb(76,114,176)\", \"size\": [86.529, 98.884, 96.70100000000001, 94.27, 82.876, 75.372, 82.936, 99.056, 88.506, 97.745, 77.84700000000002, 89.05199999999998, 85.727], \"sizemode\": \"area\", \"sizeref\": 0.03596189349112426, \"symbol\": \"circle\"}, \"mode\": \"markers\", \"name\": \"Lewis Hamilton\", \"orientation\": \"h\", \"showlegend\": true, \"x\": [86.529, 98.884, 96.70100000000001, 94.27, 82.876, 75.372, 82.936, 99.056, 88.506, 97.745, 77.84700000000002, 89.05199999999998, 85.727], \"xaxis\": \"x\", \"y\": [\"2\", \"2\", \"2\", \"2\", \"2\", \"2\", \"2\", \"2\", \"6\", \"6\", \"6\", \"6\", \"6\"], \"yaxis\": \"y\", \"type\": \"scatter\"}, {\"hovertemplate\": \"<b>%{hovertext}</b><br><br>Full Name=Sergio P\\u00e9rez<br>Points=8.0<br>Fastest Lap Time=%{marker.size}<br>Position=%{y}<extra></extra>\", \"hovertext\": [\"Sergio P\\u00e9rez\", \"Sergio P\\u00e9rez\", \"Sergio P\\u00e9rez\", \"Sergio P\\u00e9rez\", \"Sergio P\\u00e9rez\", \"Sergio P\\u00e9rez\", \"Sergio P\\u00e9rez\", \"Sergio P\\u00e9rez\", \"Sergio P\\u00e9rez\", \"Sergio P\\u00e9rez\", \"Sergio P\\u00e9rez\", \"Sergio P\\u00e9rez\", \"Sergio P\\u00e9rez\"], \"ids\": [\"Sergio P\\u00e9rez\", \"Sergio P\\u00e9rez\", \"Sergio P\\u00e9rez\", \"Sergio P\\u00e9rez\", \"Sergio P\\u00e9rez\", \"Sergio P\\u00e9rez\", \"Sergio P\\u00e9rez\", \"Sergio P\\u00e9rez\", \"Sergio P\\u00e9rez\", \"Sergio P\\u00e9rez\", \"Sergio P\\u00e9rez\", \"Sergio P\\u00e9rez\", \"Sergio P\\u00e9rez\"], \"legendgroup\": \"Sergio P\\u00e9rez\", \"marker\": {\"color\": \"rgb(221,132,82)\", \"size\": [79.27, 97.913, 76.24600000000001, 72.142, 88.14, 97.9, 99.32799999999999, 98.661, 95.591, 105.524, 108.781, 68.305, 67.188], \"sizemode\": \"area\", \"sizeref\": 0.03596189349112426, \"symbol\": \"circle\"}, \"mode\": \"markers\", \"name\": \"Sergio P\\u00e9rez\", \"orientation\": \"h\", \"showlegend\": true, \"x\": [79.27, 97.913, 76.24600000000001, 72.142, 88.14, 97.9, 99.32799999999999, 98.661, 95.591, 105.524, 108.781, 68.305, 67.188], \"xaxis\": \"x\", \"y\": [\"6\", \"6\", \"6\", \"6\", \"6\", \"6\", \"6\", \"6\", \"6\", \"6\", \"6\", \"6\", \"6\"], \"yaxis\": \"y\", \"type\": \"scatter\"}, {\"hovertemplate\": \"<b>%{hovertext}</b><br><br>Full Name=Daniel Ricciardo<br>Points=8.0<br>Fastest Lap Time=%{marker.size}<br>Position=%{y}<extra></extra>\", \"hovertext\": [\"Daniel Ricciardo\", \"Daniel Ricciardo\", \"Daniel Ricciardo\", \"Daniel Ricciardo\", \"Daniel Ricciardo\", \"Daniel Ricciardo\", \"Daniel Ricciardo\", \"Daniel Ricciardo\", \"Daniel Ricciardo\", \"Daniel Ricciardo\", \"Daniel Ricciardo\", \"Daniel Ricciardo\"], \"ids\": [\"Daniel Ricciardo\", \"Daniel Ricciardo\", \"Daniel Ricciardo\", \"Daniel Ricciardo\", \"Daniel Ricciardo\", \"Daniel Ricciardo\", \"Daniel Ricciardo\", \"Daniel Ricciardo\", \"Daniel Ricciardo\", \"Daniel Ricciardo\", \"Daniel Ricciardo\", \"Daniel Ricciardo\"], \"legendgroup\": \"Daniel Ricciardo\", \"marker\": {\"color\": \"rgb(85,168,104)\", \"size\": [80.846, 92.79700000000001, 98.948, 106.305, 95.51100000000001, 72.029, 103.12, 96.345, 76.075, 100.564, 72.733, 83.898], \"sizemode\": \"area\", \"sizeref\": 0.03596189349112426, \"symbol\": \"circle\"}, \"mode\": \"markers\", \"name\": \"Daniel Ricciardo\", \"orientation\": \"h\", \"showlegend\": true, \"x\": [80.846, 92.79700000000001, 98.948, 106.305, 95.51100000000001, 72.029, 103.12, 96.345, 76.075, 100.564, 72.733, 83.898], \"xaxis\": \"x\", \"y\": [\"6\", \"6\", \"6\", \"6\", \"6\", \"6\", \"6\", \"6\", \"6\", \"6\", \"6\", \"6\"], \"yaxis\": \"y\", \"type\": \"scatter\"}, {\"hovertemplate\": \"<b>%{hovertext}</b><br><br>Full Name=Valtteri Bottas<br>Points=8.0<br>Fastest Lap Time=%{marker.size}<br>Position=%{y}<extra></extra>\", \"hovertext\": [\"Valtteri Bottas\", \"Valtteri Bottas\", \"Valtteri Bottas\", \"Valtteri Bottas\", \"Valtteri Bottas\"], \"ids\": [\"Valtteri Bottas\", \"Valtteri Bottas\", \"Valtteri Bottas\", \"Valtteri Bottas\", \"Valtteri Bottas\"], \"legendgroup\": \"Valtteri Bottas\", \"marker\": {\"color\": \"rgb(196,78,82)\", \"size\": [114.103, 103.051, 107.604, 86.708, 95.849], \"sizemode\": \"area\", \"sizeref\": 0.03596189349112426, \"symbol\": \"circle\"}, \"mode\": \"markers\", \"name\": \"Valtteri Bottas\", \"orientation\": \"h\", \"showlegend\": true, \"x\": [114.103, 103.051, 107.604, 86.708, 95.849], \"xaxis\": \"x\", \"y\": [\"6\", \"6\", \"6\", \"6\", \"6\"], \"yaxis\": \"y\", \"type\": \"scatter\"}, {\"hovertemplate\": \"<b>%{hovertext}</b><br><br>Full Name=Carlos Sainz<br>Points=8.0<br>Fastest Lap Time=%{marker.size}<br>Position=%{y}<extra></extra>\", \"hovertext\": [\"Carlos Sainz\", \"Carlos Sainz\", \"Carlos Sainz\", \"Carlos Sainz\", \"Carlos Sainz\", \"Carlos Sainz\", \"Carlos Sainz\", \"Carlos Sainz\", \"Carlos Sainz\", \"Carlos Sainz\", \"Carlos Sainz\"], \"ids\": [\"Carlos Sainz\", \"Carlos Sainz\", \"Carlos Sainz\", \"Carlos Sainz\", \"Carlos Sainz\", \"Carlos Sainz\", \"Carlos Sainz\", \"Carlos Sainz\", \"Carlos Sainz\", \"Carlos Sainz\", \"Carlos Sainz\"], \"legendgroup\": \"Carlos Sainz\", \"marker\": {\"color\": \"rgb(129,114,179)\", \"size\": [89.663, 102.83200000000001, 87.15299999999998, 76.649, 101.351, 75.891, 94.561, 89.757, 98.02, 81.771, 80.268], \"sizemode\": \"area\", \"sizeref\": 0.03596189349112426, \"symbol\": \"circle\"}, \"mode\": \"markers\", \"name\": \"Carlos Sainz\", \"orientation\": \"h\", \"showlegend\": true, \"x\": [89.663, 102.83200000000001, 87.15299999999998, 76.649, 101.351, 75.891, 94.561, 89.757, 98.02, 81.771, 80.268], \"xaxis\": \"x\", \"y\": [\"6\", \"6\", \"6\", \"6\", \"6\", \"6\", \"6\", \"6\", \"6\", \"6\", \"6\"], \"yaxis\": \"y\", \"type\": \"scatter\"}, {\"hovertemplate\": \"<b>%{hovertext}</b><br><br>Full Name=Max Verstappen<br>Points=8.0<br>Fastest Lap Time=%{marker.size}<br>Position=%{y}<extra></extra>\", \"hovertext\": [\"Max Verstappen\", \"Max Verstappen\", \"Max Verstappen\", \"Max Verstappen\"], \"ids\": [\"Max Verstappen\", \"Max Verstappen\", \"Max Verstappen\", \"Max Verstappen\"], \"legendgroup\": \"Max Verstappen\", \"marker\": {\"color\": \"rgb(147,120,96)\", \"size\": [95.504, 109.05, 86.88, 80.406], \"sizemode\": \"area\", \"sizeref\": 0.03596189349112426, \"symbol\": \"circle\"}, \"mode\": \"markers\", \"name\": \"Max Verstappen\", \"orientation\": \"h\", \"showlegend\": true, \"x\": [95.504, 109.05, 86.88, 80.406], \"xaxis\": \"x\", \"y\": [\"6\", \"6\", \"6\", \"6\"], \"yaxis\": \"y\", \"type\": \"scatter\"}, {\"hovertemplate\": \"<b>%{hovertext}</b><br><br>Full Name=Pierre Gasly<br>Points=8.0<br>Fastest Lap Time=%{marker.size}<br>Position=%{y}<extra></extra>\", \"hovertext\": [\"Pierre Gasly\", \"Pierre Gasly\", \"Pierre Gasly\", \"Pierre Gasly\"], \"ids\": [\"Pierre Gasly\", \"Pierre Gasly\", \"Pierre Gasly\", \"Pierre Gasly\"], \"legendgroup\": \"Pierre Gasly\", \"marker\": {\"color\": \"rgb(218,139,195)\", \"size\": [81.685, 80.536, 81.045, 90.11], \"sizemode\": \"area\", \"sizeref\": 0.03596189349112426, \"symbol\": \"circle\"}, \"mode\": \"markers\", \"name\": \"Pierre Gasly\", \"orientation\": \"h\", \"showlegend\": true, \"x\": [81.685, 80.536, 81.045, 90.11], \"xaxis\": \"x\", \"y\": [\"6\", \"6\", \"6\", \"6\"], \"yaxis\": \"y\", \"type\": \"scatter\"}, {\"hovertemplate\": \"<b>%{hovertext}</b><br><br>Full Name=Charles Leclerc<br>Points=8.0<br>Fastest Lap Time=%{marker.size}<br>Position=%{y}<extra></extra>\", \"hovertext\": [\"Charles Leclerc\", \"Charles Leclerc\", \"Charles Leclerc\"], \"ids\": [\"Charles Leclerc\", \"Charles Leclerc\", \"Charles Leclerc\"], \"legendgroup\": \"Charles Leclerc\", \"marker\": {\"color\": \"rgb(140,140,140)\", \"size\": [107.403, 91.611, 99.053], \"sizemode\": \"area\", \"sizeref\": 0.03596189349112426, \"symbol\": \"circle\"}, \"mode\": \"markers\", \"name\": \"Charles Leclerc\", \"orientation\": \"h\", \"showlegend\": true, \"x\": [107.403, 91.611, 99.053], \"xaxis\": \"x\", \"y\": [\"6\", \"6\", \"6\"], \"yaxis\": \"y\", \"type\": \"scatter\"}, {\"hovertemplate\": \"<b>%{hovertext}</b><br><br>Full Name=Lando Norris<br>Points=8.0<br>Fastest Lap Time=%{marker.size}<br>Position=%{y}<extra></extra>\", \"hovertext\": [\"Lando Norris\", \"Lando Norris\", \"Lando Norris\"], \"ids\": [\"Lando Norris\", \"Lando Norris\", \"Lando Norris\"], \"legendgroup\": \"Lando Norris\", \"marker\": {\"color\": \"rgb(204,185,116)\", \"size\": [95.777, 68.699, 81.19800000000002], \"sizemode\": \"area\", \"sizeref\": 0.03596189349112426, \"symbol\": \"circle\"}, \"mode\": \"markers\", \"name\": \"Lando Norris\", \"orientation\": \"h\", \"showlegend\": true, \"x\": [95.777, 68.699, 81.19800000000002], \"xaxis\": \"x\", \"y\": [\"6\", \"6\", \"6\"], \"yaxis\": \"y\", \"type\": \"scatter\"}, {\"hovertemplate\": \"<b>%{hovertext}</b><br><br>Full Name=Alexander Albon<br>Points=8.0<br>Fastest Lap Time=%{marker.size}<br>Position=%{y}<extra></extra>\", \"hovertext\": [\"Alexander Albon\", \"Alexander Albon\", \"Alexander Albon\", \"Alexander Albon\", \"Alexander Albon\"], \"ids\": [\"Alexander Albon\", \"Alexander Albon\", \"Alexander Albon\", \"Alexander Albon\", \"Alexander Albon\"], \"legendgroup\": \"Alexander Albon\", \"marker\": {\"color\": \"rgb(100,181,205)\", \"size\": [77.85, 83.36399999999999, 105.26, 102.219, 108.736], \"sizemode\": \"area\", \"sizeref\": 0.03596189349112426, \"symbol\": \"circle\"}, \"mode\": \"markers\", \"name\": \"Alexander Albon\", \"orientation\": \"h\", \"showlegend\": true, \"x\": [77.85, 83.36399999999999, 105.26, 102.219, 108.736], \"xaxis\": \"x\", \"y\": [\"6\", \"6\", \"6\", \"6\", \"6\"], \"yaxis\": \"y\", \"type\": \"scatter\"}], \"name\": \"8.0\"}, {\"data\": [{\"hovertemplate\": \"<b>%{hovertext}</b><br><br>Full Name=Lewis Hamilton<br>Points=2.0<br>Fastest Lap Time=%{marker.size}<br>Position=%{y}<extra></extra>\", \"hovertext\": [\"Lewis Hamilton\", \"Lewis Hamilton\", \"Lewis Hamilton\", \"Lewis Hamilton\", \"Lewis Hamilton\", \"Lewis Hamilton\"], \"ids\": [\"Lewis Hamilton\", \"Lewis Hamilton\", \"Lewis Hamilton\", \"Lewis Hamilton\", \"Lewis Hamilton\", \"Lewis Hamilton\"], \"legendgroup\": \"Lewis Hamilton\", \"marker\": {\"color\": \"rgb(76,114,176)\", \"size\": [89.721, 72.506, 85.84899999999999, 76.69200000000002, 79.945, 78.811], \"sizemode\": \"area\", \"sizeref\": 0.03596189349112426, \"symbol\": \"circle\"}, \"mode\": \"markers\", \"name\": \"Lewis Hamilton\", \"orientation\": \"h\", \"showlegend\": true, \"x\": [89.721, 72.506, 85.84899999999999, 76.69200000000002, 79.945, 78.811], \"xaxis\": \"x\", \"y\": [\"7\", \"7\", \"9\", \"9\", \"9\", \"9\"], \"yaxis\": \"y\", \"type\": \"scatter\"}, {\"hovertemplate\": \"<b>%{hovertext}</b><br><br>Full Name=Sergio P\\u00e9rez<br>Points=2.0<br>Fastest Lap Time=%{marker.size}<br>Position=%{y}<extra></extra>\", \"hovertext\": [\"Sergio P\\u00e9rez\", \"Sergio P\\u00e9rez\", \"Sergio P\\u00e9rez\", \"Sergio P\\u00e9rez\", \"Sergio P\\u00e9rez\", \"Sergio P\\u00e9rez\", \"Sergio P\\u00e9rez\", \"Sergio P\\u00e9rez\", \"Sergio P\\u00e9rez\", \"Sergio P\\u00e9rez\", \"Sergio P\\u00e9rez\", \"Sergio P\\u00e9rez\", \"Sergio P\\u00e9rez\", \"Sergio P\\u00e9rez\", \"Sergio P\\u00e9rez\", \"Sergio P\\u00e9rez\", \"Sergio P\\u00e9rez\"], \"ids\": [\"Sergio P\\u00e9rez\", \"Sergio P\\u00e9rez\", \"Sergio P\\u00e9rez\", \"Sergio P\\u00e9rez\", \"Sergio P\\u00e9rez\", \"Sergio P\\u00e9rez\", \"Sergio P\\u00e9rez\", \"Sergio P\\u00e9rez\", \"Sergio P\\u00e9rez\", \"Sergio P\\u00e9rez\", \"Sergio P\\u00e9rez\", \"Sergio P\\u00e9rez\", \"Sergio P\\u00e9rez\", \"Sergio P\\u00e9rez\", \"Sergio P\\u00e9rez\", \"Sergio P\\u00e9rez\", \"Sergio P\\u00e9rez\"], \"legendgroup\": \"Sergio P\\u00e9rez\", \"marker\": {\"color\": \"rgb(221,132,82)\", \"size\": [87.24700000000001, 103.526, 99.199, 87.251, 86.14299999999999, 105.435, 102.228, 90.756, 72.377, 98.466, 101.897, 96.531, 93.504, 84.96799999999999, 73.05199999999998, 81.128, 72.84], \"sizemode\": \"area\", \"sizeref\": 0.03596189349112426, \"symbol\": \"circle\"}, \"mode\": \"markers\", \"name\": \"Sergio P\\u00e9rez\", \"orientation\": \"h\", \"showlegend\": true, \"x\": [87.24700000000001, 103.526, 99.199, 87.251, 86.14299999999999, 105.435, 102.228, 90.756, 72.377, 98.466, 101.897, 96.531, 93.504, 84.96799999999999, 73.05199999999998, 81.128, 72.84], \"xaxis\": \"x\", \"y\": [\"9\", \"9\", \"9\", \"9\", \"9\", \"9\", \"9\", \"9\", \"9\", \"9\", \"9\", \"9\", \"9\", \"9\", \"9\", \"9\", \"9\"], \"yaxis\": \"y\", \"type\": \"scatter\"}, {\"hovertemplate\": \"<b>%{hovertext}</b><br><br>Full Name=Daniel Ricciardo<br>Points=2.0<br>Fastest Lap Time=%{marker.size}<br>Position=%{y}<extra></extra>\", \"hovertext\": [\"Daniel Ricciardo\", \"Daniel Ricciardo\", \"Daniel Ricciardo\", \"Daniel Ricciardo\", \"Daniel Ricciardo\", \"Daniel Ricciardo\", \"Daniel Ricciardo\"], \"ids\": [\"Daniel Ricciardo\", \"Daniel Ricciardo\", \"Daniel Ricciardo\", \"Daniel Ricciardo\", \"Daniel Ricciardo\", \"Daniel Ricciardo\", \"Daniel Ricciardo\"], \"legendgroup\": \"Daniel Ricciardo\", \"marker\": {\"color\": \"rgb(85,168,104)\", \"size\": [90.59200000000001, 114.605, 114.26700000000001, 103.148, 103.245, 75.697, 80.906], \"sizemode\": \"area\", \"sizeref\": 0.03596189349112426, \"symbol\": \"circle\"}, \"mode\": \"markers\", \"name\": \"Daniel Ricciardo\", \"orientation\": \"h\", \"showlegend\": true, \"x\": [90.59200000000001, 114.605, 114.26700000000001, 103.148, 103.245, 75.697, 80.906], \"xaxis\": \"x\", \"y\": [\"9\", \"9\", \"9\", \"9\", \"9\", \"9\", \"9\"], \"yaxis\": \"y\", \"type\": \"scatter\"}, {\"hovertemplate\": \"<b>%{hovertext}</b><br><br>Full Name=Valtteri Bottas<br>Points=2.0<br>Fastest Lap Time=%{marker.size}<br>Position=%{y}<extra></extra>\", \"hovertext\": [\"Valtteri Bottas\", \"Valtteri Bottas\", \"Valtteri Bottas\", \"Valtteri Bottas\", \"Valtteri Bottas\"], \"ids\": [\"Valtteri Bottas\", \"Valtteri Bottas\", \"Valtteri Bottas\", \"Valtteri Bottas\", \"Valtteri Bottas\"], \"legendgroup\": \"Valtteri Bottas\", \"marker\": {\"color\": \"rgb(196,78,82)\", \"size\": [114.646, 97.07700000000001, 70.21000000000001, 85.273, 80.44200000000002], \"sizemode\": \"area\", \"sizeref\": 0.03596189349112426, \"symbol\": \"circle\"}, \"mode\": \"markers\", \"name\": \"Valtteri Bottas\", \"orientation\": \"h\", \"showlegend\": true, \"x\": [114.646, 97.07700000000001, 70.21000000000001, 85.273, 80.44200000000002], \"xaxis\": \"x\", \"y\": [\"9\", \"9\", \"9\", \"9\", \"9\"], \"yaxis\": \"y\", \"type\": \"scatter\"}, {\"hovertemplate\": \"<b>%{hovertext}</b><br><br>Full Name=Carlos Sainz<br>Points=2.0<br>Fastest Lap Time=%{marker.size}<br>Position=%{y}<extra></extra>\", \"hovertext\": [\"Carlos Sainz\", \"Carlos Sainz\", \"Carlos Sainz\", \"Carlos Sainz\", \"Carlos Sainz\", \"Carlos Sainz\", \"Carlos Sainz\", \"Carlos Sainz\", \"Carlos Sainz\"], \"ids\": [\"Carlos Sainz\", \"Carlos Sainz\", \"Carlos Sainz\", \"Carlos Sainz\", \"Carlos Sainz\", \"Carlos Sainz\", \"Carlos Sainz\", \"Carlos Sainz\", \"Carlos Sainz\"], \"legendgroup\": \"Carlos Sainz\", \"marker\": {\"color\": \"rgb(129,114,179)\", \"size\": [92.87200000000001, 91.156, 110.401, 91.671, 101.485, 76.578, 97.754, 82.774, 80.477], \"sizemode\": \"area\", \"sizeref\": 0.03596189349112426, \"symbol\": \"circle\"}, \"mode\": \"markers\", \"name\": \"Carlos Sainz\", \"orientation\": \"h\", \"showlegend\": true, \"x\": [92.87200000000001, 91.156, 110.401, 91.671, 101.485, 76.578, 97.754, 82.774, 80.477], \"xaxis\": \"x\", \"y\": [\"9\", \"9\", \"9\", \"9\", \"9\", \"9\", \"9\", \"9\", \"9\"], \"yaxis\": \"y\", \"type\": \"scatter\"}, {\"hovertemplate\": \"<b>%{hovertext}</b><br><br>Full Name=Max Verstappen<br>Points=2.0<br>Fastest Lap Time=%{marker.size}<br>Position=%{y}<extra></extra>\", \"hovertext\": [\"Max Verstappen\", \"Max Verstappen\", \"Max Verstappen\", \"Max Verstappen\"], \"ids\": [\"Max Verstappen\", \"Max Verstappen\", \"Max Verstappen\", \"Max Verstappen\"], \"legendgroup\": \"Max Verstappen\", \"marker\": {\"color\": \"rgb(147,120,96)\", \"size\": [98.23700000000001, 82.60300000000002, 75.972, 74.26], \"sizemode\": \"area\", \"sizeref\": 0.03596189349112426, \"symbol\": \"circle\"}, \"mode\": \"markers\", \"name\": \"Max Verstappen\", \"orientation\": \"h\", \"showlegend\": true, \"x\": [98.23700000000001, 82.60300000000002, 75.972, 74.26], \"xaxis\": \"x\", \"y\": [\"9\", \"9\", \"9\", \"9\"], \"yaxis\": \"y\", \"type\": \"scatter\"}, {\"hovertemplate\": \"<b>%{hovertext}</b><br><br>Full Name=Pierre Gasly<br>Points=2.0<br>Fastest Lap Time=%{marker.size}<br>Position=%{y}<extra></extra>\", \"hovertext\": [\"Pierre Gasly\", \"Pierre Gasly\", \"Pierre Gasly\", \"Pierre Gasly\", \"Pierre Gasly\"], \"ids\": [\"Pierre Gasly\", \"Pierre Gasly\", \"Pierre Gasly\", \"Pierre Gasly\", \"Pierre Gasly\"], \"legendgroup\": \"Pierre Gasly\", \"marker\": {\"color\": \"rgb(218,139,195)\", \"size\": [108.588, 109.7, 79.53, 82.54299999999999, 97.23100000000001], \"sizemode\": \"area\", \"sizeref\": 0.03596189349112426, \"symbol\": \"circle\"}, \"mode\": \"markers\", \"name\": \"Pierre Gasly\", \"orientation\": \"h\", \"showlegend\": true, \"x\": [108.588, 109.7, 79.53, 82.54299999999999, 97.23100000000001], \"xaxis\": \"x\", \"y\": [\"9\", \"9\", \"9\", \"9\", \"9\"], \"yaxis\": \"y\", \"type\": \"scatter\"}, {\"hovertemplate\": \"<b>%{hovertext}</b><br><br>Full Name=Charles Leclerc<br>Points=2.0<br>Fastest Lap Time=%{marker.size}<br>Position=%{y}<extra></extra>\", \"hovertext\": [\"Charles Leclerc\", \"Charles Leclerc\"], \"ids\": [\"Charles Leclerc\", \"Charles Leclerc\"], \"legendgroup\": \"Charles Leclerc\", \"marker\": {\"color\": \"rgb(140,140,140)\", \"size\": [69.006, 105.20299999999999], \"sizemode\": \"area\", \"sizeref\": 0.03596189349112426, \"symbol\": \"circle\"}, \"mode\": \"markers\", \"name\": \"Charles Leclerc\", \"orientation\": \"h\", \"showlegend\": true, \"x\": [69.006, 105.20299999999999], \"xaxis\": \"x\", \"y\": [\"9\", \"9\"], \"yaxis\": \"y\", \"type\": \"scatter\"}, {\"hovertemplate\": \"<b>%{hovertext}</b><br><br>Full Name=Lando Norris<br>Points=2.0<br>Fastest Lap Time=%{marker.size}<br>Position=%{y}<extra></extra>\", \"hovertext\": [\"Lando Norris\", \"Lando Norris\", \"Lando Norris\"], \"ids\": [\"Lando Norris\", \"Lando Norris\", \"Lando Norris\"], \"legendgroup\": \"Lando Norris\", \"marker\": {\"color\": \"rgb(204,185,116)\", \"size\": [94.754, 81.188, 90.698], \"sizemode\": \"area\", \"sizeref\": 0.03596189349112426, \"symbol\": \"circle\"}, \"mode\": \"markers\", \"name\": \"Lando Norris\", \"orientation\": \"h\", \"showlegend\": true, \"x\": [94.754, 81.188, 90.698], \"xaxis\": \"x\", \"y\": [\"9\", \"9\", \"9\"], \"yaxis\": \"y\", \"type\": \"scatter\"}, {\"hovertemplate\": \"<b>%{hovertext}</b><br><br>Full Name=Alexander Albon<br>Points=2.0<br>Fastest Lap Time=%{marker.size}<br>Position=%{y}<extra></extra>\", \"hovertext\": [\"Alexander Albon\"], \"ids\": [\"Alexander Albon\"], \"legendgroup\": \"Alexander Albon\", \"marker\": {\"color\": \"rgb(100,181,205)\", \"size\": [96.752], \"sizemode\": \"area\", \"sizeref\": 0.03596189349112426, \"symbol\": \"circle\"}, \"mode\": \"markers\", \"name\": \"Alexander Albon\", \"orientation\": \"h\", \"showlegend\": true, \"x\": [96.752], \"xaxis\": \"x\", \"y\": [\"9\"], \"yaxis\": \"y\", \"type\": \"scatter\"}], \"name\": \"2.0\"}, {\"data\": [{\"hovertemplate\": \"<b>%{hovertext}</b><br><br>Full Name=Lewis Hamilton<br>Points=5.0<br>Fastest Lap Time=%{marker.size}<br>Position=%{y}<extra></extra>\", \"hovertext\": [\"Lewis Hamilton\", \"Lewis Hamilton\"], \"ids\": [\"Lewis Hamilton\", \"Lewis Hamilton\"], \"legendgroup\": \"Lewis Hamilton\", \"marker\": {\"color\": \"rgb(76,114,176)\", \"size\": [108.215, 94.915], \"sizemode\": \"area\", \"sizeref\": 0.03596189349112426, \"symbol\": \"circle\"}, \"mode\": \"markers\", \"name\": \"Lewis Hamilton\", \"orientation\": \"h\", \"showlegend\": true, \"x\": [108.215, 94.915], \"xaxis\": \"x\", \"y\": [\"4\", \"4\"], \"yaxis\": \"y\", \"type\": \"scatter\"}], \"name\": \"5.0\"}, {\"data\": [{\"hovertemplate\": \"<b>%{hovertext}</b><br><br>Full Name=Lewis Hamilton<br>Points=1.0<br>Fastest Lap Time=%{marker.size}<br>Position=%{y}<extra></extra>\", \"hovertext\": [\"Lewis Hamilton\", \"Lewis Hamilton\"], \"ids\": [\"Lewis Hamilton\", \"Lewis Hamilton\"], \"legendgroup\": \"Lewis Hamilton\", \"marker\": {\"color\": \"rgb(76,114,176)\", \"size\": [99.141, 102.721], \"sizemode\": \"area\", \"sizeref\": 0.03596189349112426, \"symbol\": \"circle\"}, \"mode\": \"markers\", \"name\": \"Lewis Hamilton\", \"orientation\": \"h\", \"showlegend\": true, \"x\": [99.141, 102.721], \"xaxis\": \"x\", \"y\": [\"7\", \"10\"], \"yaxis\": \"y\", \"type\": \"scatter\"}, {\"hovertemplate\": \"<b>%{hovertext}</b><br><br>Full Name=Sergio P\\u00e9rez<br>Points=1.0<br>Fastest Lap Time=%{marker.size}<br>Position=%{y}<extra></extra>\", \"hovertext\": [\"Sergio P\\u00e9rez\", \"Sergio P\\u00e9rez\", \"Sergio P\\u00e9rez\", \"Sergio P\\u00e9rez\", \"Sergio P\\u00e9rez\", \"Sergio P\\u00e9rez\", \"Sergio P\\u00e9rez\", \"Sergio P\\u00e9rez\", \"Sergio P\\u00e9rez\", \"Sergio P\\u00e9rez\", \"Sergio P\\u00e9rez\", \"Sergio P\\u00e9rez\", \"Sergio P\\u00e9rez\", \"Sergio P\\u00e9rez\", \"Sergio P\\u00e9rez\", \"Sergio P\\u00e9rez\", \"Sergio P\\u00e9rez\", \"Sergio P\\u00e9rez\", \"Sergio P\\u00e9rez\"], \"ids\": [\"Sergio P\\u00e9rez\", \"Sergio P\\u00e9rez\", \"Sergio P\\u00e9rez\", \"Sergio P\\u00e9rez\", \"Sergio P\\u00e9rez\", \"Sergio P\\u00e9rez\", \"Sergio P\\u00e9rez\", \"Sergio P\\u00e9rez\", \"Sergio P\\u00e9rez\", \"Sergio P\\u00e9rez\", \"Sergio P\\u00e9rez\", \"Sergio P\\u00e9rez\", \"Sergio P\\u00e9rez\", \"Sergio P\\u00e9rez\", \"Sergio P\\u00e9rez\", \"Sergio P\\u00e9rez\", \"Sergio P\\u00e9rez\", \"Sergio P\\u00e9rez\", \"Sergio P\\u00e9rez\"], \"legendgroup\": \"Sergio P\\u00e9rez\", \"marker\": {\"color\": \"rgb(221,132,82)\", \"size\": [114.615, 89.345, 112.778, 102.973, 92.634, 80.752, 113.556, 102.92399999999999, 91.959, 76.559, 79.60600000000001, 83.60700000000001, 93.472, 98.3, 72.472, 96.33, 100.165, 108.389, 84.336], \"sizemode\": \"area\", \"sizeref\": 0.03596189349112426, \"symbol\": \"circle\"}, \"mode\": \"markers\", \"name\": \"Sergio P\\u00e9rez\", \"orientation\": \"h\", \"showlegend\": true, \"x\": [114.615, 89.345, 112.778, 102.973, 92.634, 80.752, 113.556, 102.92399999999999, 91.959, 76.559, 79.60600000000001, 83.60700000000001, 93.472, 98.3, 72.472, 96.33, 100.165, 108.389, 84.336], \"xaxis\": \"x\", \"y\": [\"10\", \"10\", \"10\", \"10\", \"10\", \"10\", \"10\", \"10\", \"10\", \"10\", \"10\", \"10\", \"10\", \"10\", \"10\", \"10\", \"10\", \"10\", \"10\"], \"yaxis\": \"y\", \"type\": \"scatter\"}, {\"hovertemplate\": \"<b>%{hovertext}</b><br><br>Full Name=Daniel Ricciardo<br>Points=1.0<br>Fastest Lap Time=%{marker.size}<br>Position=%{y}<extra></extra>\", \"hovertext\": [\"Daniel Ricciardo\", \"Daniel Ricciardo\", \"Daniel Ricciardo\", \"Daniel Ricciardo\", \"Daniel Ricciardo\", \"Daniel Ricciardo\", \"Daniel Ricciardo\", \"Daniel Ricciardo\", \"Daniel Ricciardo\"], \"ids\": [\"Daniel Ricciardo\", \"Daniel Ricciardo\", \"Daniel Ricciardo\", \"Daniel Ricciardo\", \"Daniel Ricciardo\", \"Daniel Ricciardo\", \"Daniel Ricciardo\", \"Daniel Ricciardo\", \"Daniel Ricciardo\"], \"legendgroup\": \"Daniel Ricciardo\", \"marker\": {\"color\": \"rgb(85,168,104)\", \"size\": [97.455, 105.903, 88.083, 110.96700000000001, 88.831, 76.97399999999999, 105.31200000000001, 71.689, 101.98], \"sizemode\": \"area\", \"sizeref\": 0.03596189349112426, \"symbol\": \"circle\"}, \"mode\": \"markers\", \"name\": \"Daniel Ricciardo\", \"orientation\": \"h\", \"showlegend\": true, \"x\": [97.455, 105.903, 88.083, 110.96700000000001, 88.831, 76.97399999999999, 105.31200000000001, 71.689, 101.98], \"xaxis\": \"x\", \"y\": [\"10\", \"10\", \"10\", \"10\", \"10\", \"10\", \"10\", \"10\", \"10\"], \"yaxis\": \"y\", \"type\": \"scatter\"}, {\"hovertemplate\": \"<b>%{hovertext}</b><br><br>Full Name=Valtteri Bottas<br>Points=1.0<br>Fastest Lap Time=%{marker.size}<br>Position=%{y}<extra></extra>\", \"hovertext\": [\"Valtteri Bottas\", \"Valtteri Bottas\", \"Valtteri Bottas\"], \"ids\": [\"Valtteri Bottas\", \"Valtteri Bottas\", \"Valtteri Bottas\"], \"legendgroup\": \"Valtteri Bottas\", \"marker\": {\"color\": \"rgb(196,78,82)\", \"size\": [74.229, 101.558, 97.844], \"sizemode\": \"area\", \"sizeref\": 0.03596189349112426, \"symbol\": \"circle\"}, \"mode\": \"markers\", \"name\": \"Valtteri Bottas\", \"orientation\": \"h\", \"showlegend\": true, \"x\": [74.229, 101.558, 97.844], \"xaxis\": \"x\", \"y\": [\"10\", \"10\", \"10\"], \"yaxis\": \"y\", \"type\": \"scatter\"}, {\"hovertemplate\": \"<b>%{hovertext}</b><br><br>Full Name=Carlos Sainz<br>Points=1.0<br>Fastest Lap Time=%{marker.size}<br>Position=%{y}<extra></extra>\", \"hovertext\": [\"Carlos Sainz\", \"Carlos Sainz\", \"Carlos Sainz\", \"Carlos Sainz\", \"Carlos Sainz\", \"Carlos Sainz\", \"Carlos Sainz\", \"Carlos Sainz\"], \"ids\": [\"Carlos Sainz\", \"Carlos Sainz\", \"Carlos Sainz\", \"Carlos Sainz\", \"Carlos Sainz\", \"Carlos Sainz\", \"Carlos Sainz\", \"Carlos Sainz\"], \"legendgroup\": \"Carlos Sainz\", \"marker\": {\"color\": \"rgb(129,114,179)\", \"size\": [79.816, 98.686, 98.85799999999999, 109.709, 87.944, 77.491, 94.197, 101.294], \"sizemode\": \"area\", \"sizeref\": 0.03596189349112426, \"symbol\": \"circle\"}, \"mode\": \"markers\", \"name\": \"Carlos Sainz\", \"orientation\": \"h\", \"showlegend\": true, \"x\": [79.816, 98.686, 98.85799999999999, 109.709, 87.944, 77.491, 94.197, 101.294], \"xaxis\": \"x\", \"y\": [\"10\", \"10\", \"10\", \"10\", \"10\", \"10\", \"10\", \"10\"], \"yaxis\": \"y\", \"type\": \"scatter\"}, {\"hovertemplate\": \"<b>%{hovertext}</b><br><br>Full Name=Max Verstappen<br>Points=1.0<br>Fastest Lap Time=%{marker.size}<br>Position=%{y}<extra></extra>\", \"hovertext\": [\"Max Verstappen\", \"Max Verstappen\", \"Max Verstappen\"], \"ids\": [\"Max Verstappen\", \"Max Verstappen\", \"Max Verstappen\"], \"legendgroup\": \"Max Verstappen\", \"marker\": {\"color\": \"rgb(147,120,96)\", \"size\": [103.265, 91.516, 84.351], \"sizemode\": \"area\", \"sizeref\": 0.03596189349112426, \"symbol\": \"circle\"}, \"mode\": \"markers\", \"name\": \"Max Verstappen\", \"orientation\": \"h\", \"showlegend\": true, \"x\": [103.265, 91.516, 84.351], \"xaxis\": \"x\", \"y\": [\"10\", \"10\", \"10\"], \"yaxis\": \"y\", \"type\": \"scatter\"}, {\"hovertemplate\": \"<b>%{hovertext}</b><br><br>Full Name=Pierre Gasly<br>Points=1.0<br>Fastest Lap Time=%{marker.size}<br>Position=%{y}<extra></extra>\", \"hovertext\": [\"Pierre Gasly\", \"Pierre Gasly\"], \"ids\": [\"Pierre Gasly\", \"Pierre Gasly\"], \"legendgroup\": \"Pierre Gasly\", \"marker\": {\"color\": \"rgb(218,139,195)\", \"size\": [82.755, 95.197], \"sizemode\": \"area\", \"sizeref\": 0.03596189349112426, \"symbol\": \"circle\"}, \"mode\": \"markers\", \"name\": \"Pierre Gasly\", \"orientation\": \"h\", \"showlegend\": true, \"x\": [82.755, 95.197], \"xaxis\": \"x\", \"y\": [\"10\", \"10\"], \"yaxis\": \"y\", \"type\": \"scatter\"}, {\"hovertemplate\": \"<b>%{hovertext}</b><br><br>Full Name=Charles Leclerc<br>Points=1.0<br>Fastest Lap Time=%{marker.size}<br>Position=%{y}<extra></extra>\", \"hovertext\": [\"Charles Leclerc\", \"Charles Leclerc\", \"Charles Leclerc\"], \"ids\": [\"Charles Leclerc\", \"Charles Leclerc\", \"Charles Leclerc\"], \"legendgroup\": \"Charles Leclerc\", \"marker\": {\"color\": \"rgb(140,140,140)\", \"size\": [82.12200000000001, 75.48, 95.977], \"sizemode\": \"area\", \"sizeref\": 0.03596189349112426, \"symbol\": \"circle\"}, \"mode\": \"markers\", \"name\": \"Charles Leclerc\", \"orientation\": \"h\", \"showlegend\": true, \"x\": [82.12200000000001, 75.48, 95.977], \"xaxis\": \"x\", \"y\": [\"10\", \"10\", \"10\"], \"yaxis\": \"y\", \"type\": \"scatter\"}, {\"hovertemplate\": \"<b>%{hovertext}</b><br><br>Full Name=Lando Norris<br>Points=1.0<br>Fastest Lap Time=%{marker.size}<br>Position=%{y}<extra></extra>\", \"hovertext\": [\"Lando Norris\", \"Lando Norris\"], \"ids\": [\"Lando Norris\", \"Lando Norris\"], \"legendgroup\": \"Lando Norris\", \"marker\": {\"color\": \"rgb(204,185,116)\", \"size\": [84.044, 82.39200000000001], \"sizemode\": \"area\", \"sizeref\": 0.03596189349112426, \"symbol\": \"circle\"}, \"mode\": \"markers\", \"name\": \"Lando Norris\", \"orientation\": \"h\", \"showlegend\": true, \"x\": [84.044, 82.39200000000001], \"xaxis\": \"x\", \"y\": [\"10\", \"10\"], \"yaxis\": \"y\", \"type\": \"scatter\"}, {\"hovertemplate\": \"<b>%{hovertext}</b><br><br>Full Name=Alexander Albon<br>Points=1.0<br>Fastest Lap Time=%{marker.size}<br>Position=%{y}<extra></extra>\", \"hovertext\": [\"Alexander Albon\", \"Alexander Albon\", \"Alexander Albon\"], \"ids\": [\"Alexander Albon\", \"Alexander Albon\", \"Alexander Albon\"], \"legendgroup\": \"Alexander Albon\", \"marker\": {\"color\": \"rgb(100,181,205)\", \"size\": [98.901, 80.62100000000001, 98.377], \"sizemode\": \"area\", \"sizeref\": 0.03596189349112426, \"symbol\": \"circle\"}, \"mode\": \"markers\", \"name\": \"Alexander Albon\", \"orientation\": \"h\", \"showlegend\": true, \"x\": [98.901, 80.62100000000001, 98.377], \"xaxis\": \"x\", \"y\": [\"10\", \"10\", \"10\"], \"yaxis\": \"y\", \"type\": \"scatter\"}], \"name\": \"1.0\"}, {\"data\": [{\"hovertemplate\": \"<b>%{hovertext}</b><br><br>Full Name=Lewis Hamilton<br>Points=3.0<br>Fastest Lap Time=%{marker.size}<br>Position=%{y}<extra></extra>\", \"hovertext\": [\"Lewis Hamilton\"], \"ids\": [\"Lewis Hamilton\"], \"legendgroup\": \"Lewis Hamilton\", \"marker\": {\"color\": \"rgb(76,114,176)\", \"size\": [114.665], \"sizemode\": \"area\", \"sizeref\": 0.03596189349112426, \"symbol\": \"circle\"}, \"mode\": \"markers\", \"name\": \"Lewis Hamilton\", \"orientation\": \"h\", \"showlegend\": true, \"x\": [114.665], \"xaxis\": \"x\", \"y\": [\"6\"], \"yaxis\": \"y\", \"type\": \"scatter\"}, {\"hovertemplate\": \"<b>%{hovertext}</b><br><br>Full Name=Carlos Sainz<br>Points=3.0<br>Fastest Lap Time=%{marker.size}<br>Position=%{y}<extra></extra>\", \"hovertext\": [\"Carlos Sainz\"], \"ids\": [\"Carlos Sainz\"], \"legendgroup\": \"Carlos Sainz\", \"marker\": {\"color\": \"rgb(129,114,179)\", \"size\": [65.619], \"sizemode\": \"area\", \"sizeref\": 0.03596189349112426, \"symbol\": \"circle\"}, \"mode\": \"markers\", \"name\": \"Carlos Sainz\", \"orientation\": \"h\", \"showlegend\": true, \"x\": [65.619], \"xaxis\": \"x\", \"y\": [\"9\"], \"yaxis\": \"y\", \"type\": \"scatter\"}], \"name\": \"3.0\"}, {\"data\": [{\"hovertemplate\": \"<b>%{hovertext}</b><br><br>Full Name=Lewis Hamilton<br>Points=15.0<br>Fastest Lap Time=%{marker.size}<br>Position=%{y}<extra></extra>\", \"hovertext\": [\"Lewis Hamilton\", \"Lewis Hamilton\", \"Lewis Hamilton\", \"Lewis Hamilton\", \"Lewis Hamilton\", \"Lewis Hamilton\", \"Lewis Hamilton\", \"Lewis Hamilton\", \"Lewis Hamilton\", \"Lewis Hamilton\", \"Lewis Hamilton\", \"Lewis Hamilton\", \"Lewis Hamilton\", \"Lewis Hamilton\", \"Lewis Hamilton\", \"Lewis Hamilton\", \"Lewis Hamilton\", \"Lewis Hamilton\", \"Lewis Hamilton\"], \"ids\": [\"Lewis Hamilton\", \"Lewis Hamilton\", \"Lewis Hamilton\", \"Lewis Hamilton\", \"Lewis Hamilton\", \"Lewis Hamilton\", \"Lewis Hamilton\", \"Lewis Hamilton\", \"Lewis Hamilton\", \"Lewis Hamilton\", \"Lewis Hamilton\", \"Lewis Hamilton\", \"Lewis Hamilton\", \"Lewis Hamilton\", \"Lewis Hamilton\", \"Lewis Hamilton\", \"Lewis Hamilton\", \"Lewis Hamilton\", \"Lewis Hamilton\"], \"legendgroup\": \"Lewis Hamilton\", \"marker\": {\"color\": \"rgb(76,114,176)\", \"size\": [119.56, 89.538, 101.539, 100.53, 101.001, 99.98100000000001, 76.354, 111.596, 79.908, 87.38, 78.676, 94.677, 111.583, 107.752, 95.152, 93.95299999999999, 76.27, 97.39200000000001, 98.075], \"sizemode\": \"area\", \"sizeref\": 0.03596189349112426, \"symbol\": \"circle\"}, \"mode\": \"markers\", \"name\": \"Lewis Hamilton\", \"orientation\": \"h\", \"showlegend\": true, \"x\": [119.56, 89.538, 101.539, 100.53, 101.001, 99.98100000000001, 76.354, 111.596, 79.908, 87.38, 78.676, 94.677, 111.583, 107.752, 95.152, 93.95299999999999, 76.27, 97.39200000000001, 98.075], \"xaxis\": \"x\", \"y\": [\"3\", \"3\", \"3\", \"3\", \"3\", \"3\", \"3\", \"3\", \"3\", \"3\", \"3\", \"3\", \"3\", \"3\", \"3\", \"3\", \"3\", \"3\", \"3\"], \"yaxis\": \"y\", \"type\": \"scatter\"}, {\"hovertemplate\": \"<b>%{hovertext}</b><br><br>Full Name=Sergio P\\u00e9rez<br>Points=15.0<br>Fastest Lap Time=%{marker.size}<br>Position=%{y}<extra></extra>\", \"hovertext\": [\"Sergio P\\u00e9rez\", \"Sergio P\\u00e9rez\", \"Sergio P\\u00e9rez\", \"Sergio P\\u00e9rez\", \"Sergio P\\u00e9rez\", \"Sergio P\\u00e9rez\"], \"ids\": [\"Sergio P\\u00e9rez\", \"Sergio P\\u00e9rez\", \"Sergio P\\u00e9rez\", \"Sergio P\\u00e9rez\", \"Sergio P\\u00e9rez\", \"Sergio P\\u00e9rez\"], \"legendgroup\": \"Sergio P\\u00e9rez\", \"marker\": {\"color\": \"rgb(221,132,82)\", \"size\": [76.414, 99.32, 101.772, 78.446, 106.99, 106.206], \"sizemode\": \"area\", \"sizeref\": 0.03596189349112426, \"symbol\": \"circle\"}, \"mode\": \"markers\", \"name\": \"Sergio P\\u00e9rez\", \"orientation\": \"h\", \"showlegend\": true, \"x\": [76.414, 99.32, 101.772, 78.446, 106.99, 106.206], \"xaxis\": \"x\", \"y\": [\"3\", \"3\", \"3\", \"3\", \"3\", \"3\"], \"yaxis\": \"y\", \"type\": \"scatter\"}, {\"hovertemplate\": \"<b>%{hovertext}</b><br><br>Full Name=Daniel Ricciardo<br>Points=15.0<br>Fastest Lap Time=%{marker.size}<br>Position=%{y}<extra></extra>\", \"hovertext\": [\"Daniel Ricciardo\", \"Daniel Ricciardo\", \"Daniel Ricciardo\", \"Daniel Ricciardo\", \"Daniel Ricciardo\", \"Daniel Ricciardo\", \"Daniel Ricciardo\", \"Daniel Ricciardo\", \"Daniel Ricciardo\", \"Daniel Ricciardo\", \"Daniel Ricciardo\", \"Daniel Ricciardo\", \"Daniel Ricciardo\", \"Daniel Ricciardo\", \"Daniel Ricciardo\", \"Daniel Ricciardo\", \"Daniel Ricciardo\"], \"ids\": [\"Daniel Ricciardo\", \"Daniel Ricciardo\", \"Daniel Ricciardo\", \"Daniel Ricciardo\", \"Daniel Ricciardo\", \"Daniel Ricciardo\", \"Daniel Ricciardo\", \"Daniel Ricciardo\", \"Daniel Ricciardo\", \"Daniel Ricciardo\", \"Daniel Ricciardo\", \"Daniel Ricciardo\", \"Daniel Ricciardo\", \"Daniel Ricciardo\", \"Daniel Ricciardo\", \"Daniel Ricciardo\", \"Daniel Ricciardo\"], \"legendgroup\": \"Daniel Ricciardo\", \"marker\": {\"color\": \"rgb(85,168,104)\", \"size\": [90.012, 79.252, 98.459, 112.569, 102.831, 84.821, 84.60799999999999, 102.555, 81.134, 83.686, 75.756, 76.16499999999998, 67.44200000000001, 107.54899999999999, 94.77, 93.694, 89.584], \"sizemode\": \"area\", \"sizeref\": 0.03596189349112426, \"symbol\": \"circle\"}, \"mode\": \"markers\", \"name\": \"Daniel Ricciardo\", \"orientation\": \"h\", \"showlegend\": true, \"x\": [90.012, 79.252, 98.459, 112.569, 102.831, 84.821, 84.60799999999999, 102.555, 81.134, 83.686, 75.756, 76.16499999999998, 67.44200000000001, 107.54899999999999, 94.77, 93.694, 89.584], \"xaxis\": \"x\", \"y\": [\"3\", \"3\", \"3\", \"3\", \"3\", \"3\", \"3\", \"3\", \"3\", \"3\", \"3\", \"3\", \"3\", \"3\", \"3\", \"3\", \"3\"], \"yaxis\": \"y\", \"type\": \"scatter\"}, {\"hovertemplate\": \"<b>%{hovertext}</b><br><br>Full Name=Valtteri Bottas<br>Points=15.0<br>Fastest Lap Time=%{marker.size}<br>Position=%{y}<extra></extra>\", \"hovertext\": [\"Valtteri Bottas\", \"Valtteri Bottas\", \"Valtteri Bottas\", \"Valtteri Bottas\", \"Valtteri Bottas\", \"Valtteri Bottas\", \"Valtteri Bottas\", \"Valtteri Bottas\", \"Valtteri Bottas\", \"Valtteri Bottas\", \"Valtteri Bottas\", \"Valtteri Bottas\", \"Valtteri Bottas\", \"Valtteri Bottas\", \"Valtteri Bottas\", \"Valtteri Bottas\", \"Valtteri Bottas\"], \"ids\": [\"Valtteri Bottas\", \"Valtteri Bottas\", \"Valtteri Bottas\", \"Valtteri Bottas\", \"Valtteri Bottas\", \"Valtteri Bottas\", \"Valtteri Bottas\", \"Valtteri Bottas\", \"Valtteri Bottas\", \"Valtteri Bottas\", \"Valtteri Bottas\", \"Valtteri Bottas\", \"Valtteri Bottas\", \"Valtteri Bottas\", \"Valtteri Bottas\", \"Valtteri Bottas\", \"Valtteri Bottas\"], \"legendgroup\": \"Valtteri Bottas\", \"marker\": {\"color\": \"rgb(196,78,82)\", \"size\": [72.581, 112.716, 100.896, 77.922, 81.58500000000002, 76.938, 86.59299999999999, 94.087, 81.214, 105.405, 82.90700000000001, 75.163, 68.565, 106.465, 79.494, 77.66499999999998, 89.765], \"sizemode\": \"area\", \"sizeref\": 0.03596189349112426, \"symbol\": \"circle\"}, \"mode\": \"markers\", \"name\": \"Valtteri Bottas\", \"orientation\": \"h\", \"showlegend\": true, \"x\": [72.581, 112.716, 100.896, 77.922, 81.58500000000002, 76.938, 86.59299999999999, 94.087, 81.214, 105.405, 82.90700000000001, 75.163, 68.565, 106.465, 79.494, 77.66499999999998, 89.765], \"xaxis\": \"x\", \"y\": [\"3\", \"3\", \"3\", \"3\", \"3\", \"3\", \"3\", \"3\", \"3\", \"3\", \"3\", \"3\", \"3\", \"3\", \"3\", \"3\", \"3\"], \"yaxis\": \"y\", \"type\": \"scatter\"}, {\"hovertemplate\": \"<b>%{hovertext}</b><br><br>Full Name=Carlos Sainz<br>Points=15.0<br>Fastest Lap Time=%{marker.size}<br>Position=%{y}<extra></extra>\", \"hovertext\": [\"Carlos Sainz\"], \"ids\": [\"Carlos Sainz\"], \"legendgroup\": \"Carlos Sainz\", \"marker\": {\"color\": \"rgb(129,114,179)\", \"size\": [73.158], \"sizemode\": \"area\", \"sizeref\": 0.03596189349112426, \"symbol\": \"circle\"}, \"mode\": \"markers\", \"name\": \"Carlos Sainz\", \"orientation\": \"h\", \"showlegend\": true, \"x\": [73.158], \"xaxis\": \"x\", \"y\": [\"3\"], \"yaxis\": \"y\", \"type\": \"scatter\"}, {\"hovertemplate\": \"<b>%{hovertext}</b><br><br>Full Name=Max Verstappen<br>Points=15.0<br>Fastest Lap Time=%{marker.size}<br>Position=%{y}<extra></extra>\", \"hovertext\": [\"Max Verstappen\", \"Max Verstappen\", \"Max Verstappen\", \"Max Verstappen\", \"Max Verstappen\", \"Max Verstappen\", \"Max Verstappen\", \"Max Verstappen\", \"Max Verstappen\", \"Max Verstappen\", \"Max Verstappen\", \"Max Verstappen\", \"Max Verstappen\", \"Max Verstappen\", \"Max Verstappen\"], \"ids\": [\"Max Verstappen\", \"Max Verstappen\", \"Max Verstappen\", \"Max Verstappen\", \"Max Verstappen\", \"Max Verstappen\", \"Max Verstappen\", \"Max Verstappen\", \"Max Verstappen\", \"Max Verstappen\", \"Max Verstappen\", \"Max Verstappen\", \"Max Verstappen\", \"Max Verstappen\", \"Max Verstappen\"], \"legendgroup\": \"Max Verstappen\", \"marker\": {\"color\": \"rgb(147,120,96)\", \"size\": [78.91, 85.305, 96.722, 79.422, 73.86399999999999, 106.946, 93.367, 101.909, 86.256, 79.76899999999999, 105.176, 98.214, 66.145, 108.305, 79.854], \"sizemode\": \"area\", \"sizeref\": 0.03596189349112426, \"symbol\": \"circle\"}, \"mode\": \"markers\", \"name\": \"Max Verstappen\", \"orientation\": \"h\", \"showlegend\": true, \"x\": [78.91, 85.305, 96.722, 79.422, 73.86399999999999, 106.946, 93.367, 101.909, 86.256, 79.76899999999999, 105.176, 98.214, 66.145, 108.305, 79.854], \"xaxis\": \"x\", \"y\": [\"3\", \"3\", \"3\", \"3\", \"3\", \"3\", \"3\", \"3\", \"3\", \"3\", \"3\", \"3\", \"3\", \"3\", \"3\"], \"yaxis\": \"y\", \"type\": \"scatter\"}, {\"hovertemplate\": \"<b>%{hovertext}</b><br><br>Full Name=Charles Leclerc<br>Points=15.0<br>Fastest Lap Time=%{marker.size}<br>Position=%{y}<extra></extra>\", \"hovertext\": [\"Charles Leclerc\", \"Charles Leclerc\", \"Charles Leclerc\", \"Charles Leclerc\", \"Charles Leclerc\", \"Charles Leclerc\"], \"ids\": [\"Charles Leclerc\", \"Charles Leclerc\", \"Charles Leclerc\", \"Charles Leclerc\", \"Charles Leclerc\", \"Charles Leclerc\"], \"legendgroup\": \"Charles Leclerc\", \"marker\": {\"color\": \"rgb(140,140,140)\", \"size\": [74.35600000000001, 93.82799999999999, 89.31299999999999, 96.193, 100.442, 89.81299999999999], \"sizemode\": \"area\", \"sizeref\": 0.03596189349112426, \"symbol\": \"circle\"}, \"mode\": \"markers\", \"name\": \"Charles Leclerc\", \"orientation\": \"h\", \"showlegend\": true, \"x\": [74.35600000000001, 93.82799999999999, 89.31299999999999, 96.193, 100.442, 89.81299999999999], \"xaxis\": \"x\", \"y\": [\"3\", \"3\", \"3\", \"3\", \"3\", \"3\"], \"yaxis\": \"y\", \"type\": \"scatter\"}, {\"hovertemplate\": \"<b>%{hovertext}</b><br><br>Full Name=Alexander Albon<br>Points=15.0<br>Fastest Lap Time=%{marker.size}<br>Position=%{y}<extra></extra>\", \"hovertext\": [\"Alexander Albon\"], \"ids\": [\"Alexander Albon\"], \"legendgroup\": \"Alexander Albon\", \"marker\": {\"color\": \"rgb(100,181,205)\", \"size\": [80.039], \"sizemode\": \"area\", \"sizeref\": 0.03596189349112426, \"symbol\": \"circle\"}, \"mode\": \"markers\", \"name\": \"Alexander Albon\", \"orientation\": \"h\", \"showlegend\": true, \"x\": [80.039], \"xaxis\": \"x\", \"y\": [\"3\"], \"yaxis\": \"y\", \"type\": \"scatter\"}], \"name\": \"15.0\"}, {\"data\": [{\"hovertemplate\": \"<b>%{hovertext}</b><br><br>Full Name=Lewis Hamilton<br>Points=18.0<br>Fastest Lap Time=%{marker.size}<br>Position=%{y}<extra></extra>\", \"hovertext\": [\"Lewis Hamilton\", \"Lewis Hamilton\", \"Lewis Hamilton\", \"Lewis Hamilton\", \"Lewis Hamilton\", \"Lewis Hamilton\", \"Lewis Hamilton\", \"Lewis Hamilton\", \"Lewis Hamilton\", \"Lewis Hamilton\", \"Lewis Hamilton\", \"Lewis Hamilton\", \"Lewis Hamilton\", \"Lewis Hamilton\", \"Lewis Hamilton\", \"Lewis Hamilton\", \"Lewis Hamilton\", \"Lewis Hamilton\", \"Lewis Hamilton\", \"Lewis Hamilton\", \"Lewis Hamilton\", \"Lewis Hamilton\", \"Lewis Hamilton\", \"Lewis Hamilton\", \"Lewis Hamilton\", \"Lewis Hamilton\", \"Lewis Hamilton\", \"Lewis Hamilton\", \"Lewis Hamilton\", \"Lewis Hamilton\", \"Lewis Hamilton\"], \"ids\": [\"Lewis Hamilton\", \"Lewis Hamilton\", \"Lewis Hamilton\", \"Lewis Hamilton\", \"Lewis Hamilton\", \"Lewis Hamilton\", \"Lewis Hamilton\", \"Lewis Hamilton\", \"Lewis Hamilton\", \"Lewis Hamilton\", \"Lewis Hamilton\", \"Lewis Hamilton\", \"Lewis Hamilton\", \"Lewis Hamilton\", \"Lewis Hamilton\", \"Lewis Hamilton\", \"Lewis Hamilton\", \"Lewis Hamilton\", \"Lewis Hamilton\", \"Lewis Hamilton\", \"Lewis Hamilton\", \"Lewis Hamilton\", \"Lewis Hamilton\", \"Lewis Hamilton\", \"Lewis Hamilton\", \"Lewis Hamilton\", \"Lewis Hamilton\", \"Lewis Hamilton\", \"Lewis Hamilton\", \"Lewis Hamilton\", \"Lewis Hamilton\"], \"legendgroup\": \"Lewis Hamilton\", \"marker\": {\"color\": \"rgb(76,114,176)\", \"size\": [102.061, 99.156, 92.758, 110.43, 101.274, 90.314, 86.727, 100.459, 79.361, 72.217, 73.555, 103.125, 88.27, 71.475, 80.723, 74.832, 104.51700000000001, 90.646, 100.266, 86.303, 87.03299999999999, 92.79799999999999, 94.45200000000001, 101.473, 86.444, 91.245, 106.721, 86.057, 104.166, 106.58, 98.446], \"sizemode\": \"area\", \"sizeref\": 0.03596189349112426, \"symbol\": \"circle\"}, \"mode\": \"markers\", \"name\": \"Lewis Hamilton\", \"orientation\": \"h\", \"showlegend\": true, \"x\": [102.061, 99.156, 92.758, 110.43, 101.274, 90.314, 86.727, 100.459, 79.361, 72.217, 73.555, 103.125, 88.27, 71.475, 80.723, 74.832, 104.51700000000001, 90.646, 100.266, 86.303, 87.03299999999999, 92.79799999999999, 94.45200000000001, 101.473, 86.444, 91.245, 106.721, 86.057, 104.166, 106.58, 98.446], \"xaxis\": \"x\", \"y\": [\"2\", \"2\", \"2\", \"2\", \"2\", \"2\", \"2\", \"2\", \"2\", \"2\", \"2\", \"2\", \"2\", \"2\", \"2\", \"2\", \"2\", \"2\", \"2\", \"2\", \"2\", \"2\", \"2\", \"2\", \"2\", \"2\", \"2\", \"2\", \"2\", \"2\", \"2\"], \"yaxis\": \"y\", \"type\": \"scatter\"}, {\"hovertemplate\": \"<b>%{hovertext}</b><br><br>Full Name=Sergio P\\u00e9rez<br>Points=18.0<br>Fastest Lap Time=%{marker.size}<br>Position=%{y}<extra></extra>\", \"hovertext\": [\"Sergio P\\u00e9rez\", \"Sergio P\\u00e9rez\"], \"ids\": [\"Sergio P\\u00e9rez\", \"Sergio P\\u00e9rez\"], \"legendgroup\": \"Sergio P\\u00e9rez\", \"marker\": {\"color\": \"rgb(221,132,82)\", \"size\": [101.021, 87.56200000000001], \"sizemode\": \"area\", \"sizeref\": 0.03596189349112426, \"symbol\": \"circle\"}, \"mode\": \"markers\", \"name\": \"Sergio P\\u00e9rez\", \"orientation\": \"h\", \"showlegend\": true, \"x\": [101.021, 87.56200000000001], \"xaxis\": \"x\", \"y\": [\"2\", \"2\"], \"yaxis\": \"y\", \"type\": \"scatter\"}, {\"hovertemplate\": \"<b>%{hovertext}</b><br><br>Full Name=Daniel Ricciardo<br>Points=18.0<br>Fastest Lap Time=%{marker.size}<br>Position=%{y}<extra></extra>\", \"hovertext\": [\"Daniel Ricciardo\", \"Daniel Ricciardo\", \"Daniel Ricciardo\", \"Daniel Ricciardo\", \"Daniel Ricciardo\", \"Daniel Ricciardo\"], \"ids\": [\"Daniel Ricciardo\", \"Daniel Ricciardo\", \"Daniel Ricciardo\", \"Daniel Ricciardo\", \"Daniel Ricciardo\", \"Daniel Ricciardo\"], \"legendgroup\": \"Daniel Ricciardo\", \"marker\": {\"color\": \"rgb(85,168,104)\", \"size\": [110.041, 78.294, 78.44200000000002, 112.461, 107.18700000000001, 105.301], \"sizemode\": \"area\", \"sizeref\": 0.03596189349112426, \"symbol\": \"circle\"}, \"mode\": \"markers\", \"name\": \"Daniel Ricciardo\", \"orientation\": \"h\", \"showlegend\": true, \"x\": [110.041, 78.294, 78.44200000000002, 112.461, 107.18700000000001, 105.301], \"xaxis\": \"x\", \"y\": [\"2\", \"2\", \"2\", \"2\", \"2\", \"2\"], \"yaxis\": \"y\", \"type\": \"scatter\"}, {\"hovertemplate\": \"<b>%{hovertext}</b><br><br>Full Name=Valtteri Bottas<br>Points=18.0<br>Fastest Lap Time=%{marker.size}<br>Position=%{y}<extra></extra>\", \"hovertext\": [\"Valtteri Bottas\", \"Valtteri Bottas\", \"Valtteri Bottas\", \"Valtteri Bottas\", \"Valtteri Bottas\", \"Valtteri Bottas\", \"Valtteri Bottas\", \"Valtteri Bottas\", \"Valtteri Bottas\", \"Valtteri Bottas\", \"Valtteri Bottas\", \"Valtteri Bottas\", \"Valtteri Bottas\", \"Valtteri Bottas\", \"Valtteri Bottas\", \"Valtteri Bottas\", \"Valtteri Bottas\", \"Valtteri Bottas\", \"Valtteri Bottas\", \"Valtteri Bottas\", \"Valtteri Bottas\", \"Valtteri Bottas\", \"Valtteri Bottas\", \"Valtteri Bottas\", \"Valtteri Bottas\", \"Valtteri Bottas\"], \"ids\": [\"Valtteri Bottas\", \"Valtteri Bottas\", \"Valtteri Bottas\", \"Valtteri Bottas\", \"Valtteri Bottas\", \"Valtteri Bottas\", \"Valtteri Bottas\", \"Valtteri Bottas\", \"Valtteri Bottas\", \"Valtteri Bottas\", \"Valtteri Bottas\", \"Valtteri Bottas\", \"Valtteri Bottas\", \"Valtteri Bottas\", \"Valtteri Bottas\", \"Valtteri Bottas\", \"Valtteri Bottas\", \"Valtteri Bottas\", \"Valtteri Bottas\", \"Valtteri Bottas\", \"Valtteri Bottas\", \"Valtteri Bottas\", \"Valtteri Bottas\", \"Valtteri Bottas\", \"Valtteri Bottas\", \"Valtteri Bottas\"], \"legendgroup\": \"Valtteri Bottas\", \"marker\": {\"color\": \"rgb(196,78,82)\", \"size\": [98.264, 81.494, 75.89399999999999, 103.925, 90.905, 83.488, 79.374, 72.46600000000001, 93.74, 96.98700000000001, 79.47800000000002, 73.992, 75.721, 95.861, 93.11, 94.209, 94.87200000000001, 78.737, 93.586, 87.406, 82.85900000000002, 96.316, 67.53399999999999, 107.98299999999999, 79.432, 79.345], \"sizemode\": \"area\", \"sizeref\": 0.03596189349112426, \"symbol\": \"circle\"}, \"mode\": \"markers\", \"name\": \"Valtteri Bottas\", \"orientation\": \"h\", \"showlegend\": true, \"x\": [98.264, 81.494, 75.89399999999999, 103.925, 90.905, 83.488, 79.374, 72.46600000000001, 93.74, 96.98700000000001, 79.47800000000002, 73.992, 75.721, 95.861, 93.11, 94.209, 94.87200000000001, 78.737, 93.586, 87.406, 82.85900000000002, 96.316, 67.53399999999999, 107.98299999999999, 79.432, 79.345], \"xaxis\": \"x\", \"y\": [\"2\", \"2\", \"2\", \"2\", \"2\", \"2\", \"2\", \"2\", \"2\", \"2\", \"2\", \"2\", \"2\", \"2\", \"2\", \"2\", \"2\", \"2\", \"2\", \"2\", \"2\", \"2\", \"2\", \"2\", \"2\", \"2\"], \"yaxis\": \"y\", \"type\": \"scatter\"}, {\"hovertemplate\": \"<b>%{hovertext}</b><br><br>Full Name=Carlos Sainz<br>Points=18.0<br>Fastest Lap Time=%{marker.size}<br>Position=%{y}<extra></extra>\", \"hovertext\": [\"Carlos Sainz\"], \"ids\": [\"Carlos Sainz\"], \"legendgroup\": \"Carlos Sainz\", \"marker\": {\"color\": \"rgb(129,114,179)\", \"size\": [83.882], \"sizemode\": \"area\", \"sizeref\": 0.03596189349112426, \"symbol\": \"circle\"}, \"mode\": \"markers\", \"name\": \"Carlos Sainz\", \"orientation\": \"h\", \"showlegend\": true, \"x\": [83.882], \"xaxis\": \"x\", \"y\": [\"2\"], \"yaxis\": \"y\", \"type\": \"scatter\"}, {\"hovertemplate\": \"<b>%{hovertext}</b><br><br>Full Name=Max Verstappen<br>Points=18.0<br>Fastest Lap Time=%{marker.size}<br>Position=%{y}<extra></extra>\", \"hovertext\": [\"Max Verstappen\", \"Max Verstappen\", \"Max Verstappen\", \"Max Verstappen\", \"Max Verstappen\", \"Max Verstappen\", \"Max Verstappen\", \"Max Verstappen\", \"Max Verstappen\", \"Max Verstappen\", \"Max Verstappen\", \"Max Verstappen\", \"Max Verstappen\"], \"ids\": [\"Max Verstappen\", \"Max Verstappen\", \"Max Verstappen\", \"Max Verstappen\", \"Max Verstappen\", \"Max Verstappen\", \"Max Verstappen\", \"Max Verstappen\", \"Max Verstappen\", \"Max Verstappen\", \"Max Verstappen\", \"Max Verstappen\", \"Max Verstappen\"], \"legendgroup\": \"Max Verstappen\", \"marker\": {\"color\": \"rgb(147,120,96)\", \"size\": [69.618, 96.40700000000001, 97.376, 96.38600000000001, 93.73, 94.275, 103.345, 98.246, 71.578, 101.119, 79.184, 81.477, 97.33200000000001], \"sizemode\": \"area\", \"sizeref\": 0.03596189349112426, \"symbol\": \"circle\"}, \"mode\": \"markers\", \"name\": \"Max Verstappen\", \"orientation\": \"h\", \"showlegend\": true, \"x\": [69.618, 96.40700000000001, 97.376, 96.38600000000001, 93.73, 94.275, 103.345, 98.246, 71.578, 101.119, 79.184, 81.477, 97.33200000000001], \"xaxis\": \"x\", \"y\": [\"2\", \"2\", \"2\", \"2\", \"2\", \"2\", \"2\", \"2\", \"2\", \"2\", \"2\", \"2\", \"2\"], \"yaxis\": \"y\", \"type\": \"scatter\"}, {\"hovertemplate\": \"<b>%{hovertext}</b><br><br>Full Name=Pierre Gasly<br>Points=18.0<br>Fastest Lap Time=%{marker.size}<br>Position=%{y}<extra></extra>\", \"hovertext\": [\"Pierre Gasly\"], \"ids\": [\"Pierre Gasly\"], \"legendgroup\": \"Pierre Gasly\", \"marker\": {\"color\": \"rgb(218,139,195)\", \"size\": [72.425], \"sizemode\": \"area\", \"sizeref\": 0.03596189349112426, \"symbol\": \"circle\"}, \"mode\": \"markers\", \"name\": \"Pierre Gasly\", \"orientation\": \"h\", \"showlegend\": true, \"x\": [72.425], \"xaxis\": \"x\", \"y\": [\"2\"], \"yaxis\": \"y\", \"type\": \"scatter\"}, {\"hovertemplate\": \"<b>%{hovertext}</b><br><br>Full Name=Charles Leclerc<br>Points=18.0<br>Fastest Lap Time=%{marker.size}<br>Position=%{y}<extra></extra>\", \"hovertext\": [\"Charles Leclerc\", \"Charles Leclerc\", \"Charles Leclerc\"], \"ids\": [\"Charles Leclerc\", \"Charles Leclerc\", \"Charles Leclerc\"], \"legendgroup\": \"Charles Leclerc\", \"marker\": {\"color\": \"rgb(140,140,140)\", \"size\": [67.994, 104.723, 67.90100000000001], \"sizemode\": \"area\", \"sizeref\": 0.03596189349112426, \"symbol\": \"circle\"}, \"mode\": \"markers\", \"name\": \"Charles Leclerc\", \"orientation\": \"h\", \"showlegend\": true, \"x\": [67.994, 104.723, 67.90100000000001], \"xaxis\": \"x\", \"y\": [\"2\", \"2\", \"2\"], \"yaxis\": \"y\", \"type\": \"scatter\"}], \"name\": \"18.0\"}, {\"data\": [{\"hovertemplate\": \"<b>%{hovertext}</b><br><br>Full Name=Lewis Hamilton<br>Points=25.0<br>Fastest Lap Time=%{marker.size}<br>Position=%{y}<extra></extra>\", \"hovertext\": [\"Lewis Hamilton\", \"Lewis Hamilton\", \"Lewis Hamilton\", \"Lewis Hamilton\", \"Lewis Hamilton\", \"Lewis Hamilton\", \"Lewis Hamilton\", \"Lewis Hamilton\", \"Lewis Hamilton\", \"Lewis Hamilton\", \"Lewis Hamilton\", \"Lewis Hamilton\", \"Lewis Hamilton\", \"Lewis Hamilton\", \"Lewis Hamilton\", \"Lewis Hamilton\", \"Lewis Hamilton\", \"Lewis Hamilton\", \"Lewis Hamilton\", \"Lewis Hamilton\", \"Lewis Hamilton\", \"Lewis Hamilton\", \"Lewis Hamilton\", \"Lewis Hamilton\", \"Lewis Hamilton\", \"Lewis Hamilton\", \"Lewis Hamilton\", \"Lewis Hamilton\", \"Lewis Hamilton\", \"Lewis Hamilton\", \"Lewis Hamilton\", \"Lewis Hamilton\", \"Lewis Hamilton\", \"Lewis Hamilton\", \"Lewis Hamilton\", \"Lewis Hamilton\", \"Lewis Hamilton\", \"Lewis Hamilton\", \"Lewis Hamilton\", \"Lewis Hamilton\", \"Lewis Hamilton\", \"Lewis Hamilton\", \"Lewis Hamilton\", \"Lewis Hamilton\", \"Lewis Hamilton\", \"Lewis Hamilton\", \"Lewis Hamilton\", \"Lewis Hamilton\", \"Lewis Hamilton\", \"Lewis Hamilton\", \"Lewis Hamilton\", \"Lewis Hamilton\", \"Lewis Hamilton\", \"Lewis Hamilton\", \"Lewis Hamilton\", \"Lewis Hamilton\", \"Lewis Hamilton\", \"Lewis Hamilton\", \"Lewis Hamilton\", \"Lewis Hamilton\", \"Lewis Hamilton\", \"Lewis Hamilton\", \"Lewis Hamilton\", \"Lewis Hamilton\", \"Lewis Hamilton\", \"Lewis Hamilton\", \"Lewis Hamilton\", \"Lewis Hamilton\", \"Lewis Hamilton\", \"Lewis Hamilton\", \"Lewis Hamilton\", \"Lewis Hamilton\", \"Lewis Hamilton\"], \"ids\": [\"Lewis Hamilton\", \"Lewis Hamilton\", \"Lewis Hamilton\", \"Lewis Hamilton\", \"Lewis Hamilton\", \"Lewis Hamilton\", \"Lewis Hamilton\", \"Lewis Hamilton\", \"Lewis Hamilton\", \"Lewis Hamilton\", \"Lewis Hamilton\", \"Lewis Hamilton\", \"Lewis Hamilton\", \"Lewis Hamilton\", \"Lewis Hamilton\", \"Lewis Hamilton\", \"Lewis Hamilton\", \"Lewis Hamilton\", \"Lewis Hamilton\", \"Lewis Hamilton\", \"Lewis Hamilton\", \"Lewis Hamilton\", \"Lewis Hamilton\", \"Lewis Hamilton\", \"Lewis Hamilton\", \"Lewis Hamilton\", \"Lewis Hamilton\", \"Lewis Hamilton\", \"Lewis Hamilton\", \"Lewis Hamilton\", \"Lewis Hamilton\", \"Lewis Hamilton\", \"Lewis Hamilton\", \"Lewis Hamilton\", \"Lewis Hamilton\", \"Lewis Hamilton\", \"Lewis Hamilton\", \"Lewis Hamilton\", \"Lewis Hamilton\", \"Lewis Hamilton\", \"Lewis Hamilton\", \"Lewis Hamilton\", \"Lewis Hamilton\", \"Lewis Hamilton\", \"Lewis Hamilton\", \"Lewis Hamilton\", \"Lewis Hamilton\", \"Lewis Hamilton\", \"Lewis Hamilton\", \"Lewis Hamilton\", \"Lewis Hamilton\", \"Lewis Hamilton\", \"Lewis Hamilton\", \"Lewis Hamilton\", \"Lewis Hamilton\", \"Lewis Hamilton\", \"Lewis Hamilton\", \"Lewis Hamilton\", \"Lewis Hamilton\", \"Lewis Hamilton\", \"Lewis Hamilton\", \"Lewis Hamilton\", \"Lewis Hamilton\", \"Lewis Hamilton\", \"Lewis Hamilton\", \"Lewis Hamilton\", \"Lewis Hamilton\", \"Lewis Hamilton\", \"Lewis Hamilton\", \"Lewis Hamilton\", \"Lewis Hamilton\", \"Lewis Hamilton\", \"Lewis Hamilton\"], \"legendgroup\": \"Lewis Hamilton\", \"marker\": {\"color\": \"rgb(76,114,176)\", \"size\": [90.075, 77.806, 109.069, 100.415, 94.302, 103.461, 77.02, 85.67699999999998, 88.42699999999998, 99.709, 84.64699999999998, 103.066, 97.10799999999999, 101.196, 89.48299999999999, 97.176, 88.00399999999999, 110.417, 111.6, 101.60600000000001, 101.929, 90.945, 102.208, 97.85700000000001, 77.47200000000002, 97.09299999999999, 112.504, 86.67200000000001, 96.145, 100.573, 100.738, 77.939, 75.98100000000001, 68.411, 95.771, 83.84899999999999, 78.74600000000001, 102.38600000000001, 82.596, 85.639, 105.137, 95.37799999999999, 83.59299999999999, 74.551, 90.62100000000001, 106.603, 83.488, 105.008, 93.78, 98.776, 105.412, 79.133, 94.509, 75.545, 81.107, 82.49700000000001, 102.913, 95.916, 92.785, 71.795, 101.35700000000001, 93.528, 95.89200000000001, 76.167, 74.813, 92.764, 78.52799999999998, 79.461, 66.719, 89.238, 79.822, 107.758, 88.145], \"sizemode\": \"area\", \"sizeref\": 0.03596189349112426, \"symbol\": \"circle\"}, \"mode\": \"markers\", \"name\": \"Lewis Hamilton\", \"orientation\": \"h\", \"showlegend\": true, \"x\": [90.075, 77.806, 109.069, 100.415, 94.302, 103.461, 77.02, 85.67699999999998, 88.42699999999998, 99.709, 84.64699999999998, 103.066, 97.10799999999999, 101.196, 89.48299999999999, 97.176, 88.00399999999999, 110.417, 111.6, 101.60600000000001, 101.929, 90.945, 102.208, 97.85700000000001, 77.47200000000002, 97.09299999999999, 112.504, 86.67200000000001, 96.145, 100.573, 100.738, 77.939, 75.98100000000001, 68.411, 95.771, 83.84899999999999, 78.74600000000001, 102.38600000000001, 82.596, 85.639, 105.137, 95.37799999999999, 83.59299999999999, 74.551, 90.62100000000001, 106.603, 83.488, 105.008, 93.78, 98.776, 105.412, 79.133, 94.509, 75.545, 81.107, 82.49700000000001, 102.913, 95.916, 92.785, 71.795, 101.35700000000001, 93.528, 95.89200000000001, 76.167, 74.813, 92.764, 78.52799999999998, 79.461, 66.719, 89.238, 79.822, 107.758, 88.145], \"xaxis\": \"x\", \"y\": [\"1\", \"1\", \"1\", \"1\", \"1\", \"1\", \"1\", \"1\", \"1\", \"1\", \"1\", \"1\", \"1\", \"1\", \"1\", \"1\", \"1\", \"1\", \"1\", \"1\", \"1\", \"1\", \"1\", \"1\", \"1\", \"1\", \"1\", \"1\", \"1\", \"1\", \"1\", \"1\", \"1\", \"1\", \"1\", \"1\", \"1\", \"1\", \"1\", \"1\", \"1\", \"1\", \"1\", \"1\", \"1\", \"1\", \"1\", \"1\", \"1\", \"1\", \"1\", \"1\", \"1\", \"1\", \"1\", \"1\", \"1\", \"1\", \"1\", \"1\", \"1\", \"1\", \"1\", \"1\", \"1\", \"1\", \"1\", \"1\", \"1\", \"1\", \"1\", \"1\", \"1\"], \"yaxis\": \"y\", \"type\": \"scatter\"}, {\"hovertemplate\": \"<b>%{hovertext}</b><br><br>Full Name=Daniel Ricciardo<br>Points=25.0<br>Fastest Lap Time=%{marker.size}<br>Position=%{y}<extra></extra>\", \"hovertext\": [\"Daniel Ricciardo\", \"Daniel Ricciardo\", \"Daniel Ricciardo\", \"Daniel Ricciardo\", \"Daniel Ricciardo\", \"Daniel Ricciardo\", \"Daniel Ricciardo\"], \"ids\": [\"Daniel Ricciardo\", \"Daniel Ricciardo\", \"Daniel Ricciardo\", \"Daniel Ricciardo\", \"Daniel Ricciardo\", \"Daniel Ricciardo\", \"Daniel Ricciardo\"], \"legendgroup\": \"Daniel Ricciardo\", \"marker\": {\"color\": \"rgb(85,168,104)\", \"size\": [78.64, 86.60799999999999, 112.974, 97.449, 104.882, 95.785, 75.562], \"sizemode\": \"area\", \"sizeref\": 0.03596189349112426, \"symbol\": \"circle\"}, \"mode\": \"markers\", \"name\": \"Daniel Ricciardo\", \"orientation\": \"h\", \"showlegend\": true, \"x\": [78.64, 86.60799999999999, 112.974, 97.449, 104.882, 95.785, 75.562], \"xaxis\": \"x\", \"y\": [\"1\", \"1\", \"1\", \"1\", \"1\", \"1\", \"1\"], \"yaxis\": \"y\", \"type\": \"scatter\"}, {\"hovertemplate\": \"<b>%{hovertext}</b><br><br>Full Name=Valtteri Bottas<br>Points=25.0<br>Fastest Lap Time=%{marker.size}<br>Position=%{y}<extra></extra>\", \"hovertext\": [\"Valtteri Bottas\", \"Valtteri Bottas\", \"Valtteri Bottas\", \"Valtteri Bottas\", \"Valtteri Bottas\", \"Valtteri Bottas\", \"Valtteri Bottas\"], \"ids\": [\"Valtteri Bottas\", \"Valtteri Bottas\", \"Valtteri Bottas\", \"Valtteri Bottas\", \"Valtteri Bottas\", \"Valtteri Bottas\", \"Valtteri Bottas\"], \"legendgroup\": \"Valtteri Bottas\", \"marker\": {\"color\": \"rgb(196,78,82)\", \"size\": [97.367, 67.847, 100.65, 104.024, 91.86200000000001, 67.657, 96.95700000000001], \"sizemode\": \"area\", \"sizeref\": 0.03596189349112426, \"symbol\": \"circle\"}, \"mode\": \"markers\", \"name\": \"Valtteri Bottas\", \"orientation\": \"h\", \"showlegend\": true, \"x\": [97.367, 67.847, 100.65, 104.024, 91.86200000000001, 67.657, 96.95700000000001], \"xaxis\": \"x\", \"y\": [\"1\", \"1\", \"1\", \"1\", \"1\", \"1\", \"1\"], \"yaxis\": \"y\", \"type\": \"scatter\"}, {\"hovertemplate\": \"<b>%{hovertext}</b><br><br>Full Name=Max Verstappen<br>Points=25.0<br>Fastest Lap Time=%{marker.size}<br>Position=%{y}<extra></extra>\", \"hovertext\": [\"Max Verstappen\", \"Max Verstappen\", \"Max Verstappen\", \"Max Verstappen\", \"Max Verstappen\", \"Max Verstappen\", \"Max Verstappen\"], \"ids\": [\"Max Verstappen\", \"Max Verstappen\", \"Max Verstappen\", \"Max Verstappen\", \"Max Verstappen\", \"Max Verstappen\", \"Max Verstappen\"], \"legendgroup\": \"Max Verstappen\", \"marker\": {\"color\": \"rgb(147,120,96)\", \"size\": [88.816, 94.46700000000001, 78.892, 67.44200000000001, 79.186, 70.862, 89.465], \"sizemode\": \"area\", \"sizeref\": 0.03596189349112426, \"symbol\": \"circle\"}, \"mode\": \"markers\", \"name\": \"Max Verstappen\", \"orientation\": \"h\", \"showlegend\": true, \"x\": [88.816, 94.46700000000001, 78.892, 67.44200000000001, 79.186, 70.862, 89.465], \"xaxis\": \"x\", \"y\": [\"1\", \"1\", \"1\", \"1\", \"1\", \"1\", \"1\"], \"yaxis\": \"y\", \"type\": \"scatter\"}, {\"hovertemplate\": \"<b>%{hovertext}</b><br><br>Full Name=Pierre Gasly<br>Points=25.0<br>Fastest Lap Time=%{marker.size}<br>Position=%{y}<extra></extra>\", \"hovertext\": [\"Pierre Gasly\"], \"ids\": [\"Pierre Gasly\"], \"legendgroup\": \"Pierre Gasly\", \"marker\": {\"color\": \"rgb(218,139,195)\", \"size\": [84.037], \"sizemode\": \"area\", \"sizeref\": 0.03596189349112426, \"symbol\": \"circle\"}, \"mode\": \"markers\", \"name\": \"Pierre Gasly\", \"orientation\": \"h\", \"showlegend\": true, \"x\": [84.037], \"xaxis\": \"x\", \"y\": [\"1\"], \"yaxis\": \"y\", \"type\": \"scatter\"}, {\"hovertemplate\": \"<b>%{hovertext}</b><br><br>Full Name=Charles Leclerc<br>Points=25.0<br>Fastest Lap Time=%{marker.size}<br>Position=%{y}<extra></extra>\", \"hovertext\": [\"Charles Leclerc\", \"Charles Leclerc\"], \"ids\": [\"Charles Leclerc\", \"Charles Leclerc\"], \"legendgroup\": \"Charles Leclerc\", \"marker\": {\"color\": \"rgb(140,140,140)\", \"size\": [106.664, 83.009], \"sizemode\": \"area\", \"sizeref\": 0.03596189349112426, \"symbol\": \"circle\"}, \"mode\": \"markers\", \"name\": \"Charles Leclerc\", \"orientation\": \"h\", \"showlegend\": true, \"x\": [106.664, 83.009], \"xaxis\": \"x\", \"y\": [\"1\", \"1\"], \"yaxis\": \"y\", \"type\": \"scatter\"}], \"name\": \"25.0\"}, {\"data\": [{\"hovertemplate\": \"<b>%{hovertext}</b><br><br>Full Name=Lewis Hamilton<br>Points=12.0<br>Fastest Lap Time=%{marker.size}<br>Position=%{y}<extra></extra>\", \"hovertext\": [\"Lewis Hamilton\", \"Lewis Hamilton\", \"Lewis Hamilton\", \"Lewis Hamilton\", \"Lewis Hamilton\", \"Lewis Hamilton\", \"Lewis Hamilton\", \"Lewis Hamilton\", \"Lewis Hamilton\", \"Lewis Hamilton\", \"Lewis Hamilton\", \"Lewis Hamilton\", \"Lewis Hamilton\", \"Lewis Hamilton\", \"Lewis Hamilton\", \"Lewis Hamilton\", \"Lewis Hamilton\", \"Lewis Hamilton\", \"Lewis Hamilton\"], \"ids\": [\"Lewis Hamilton\", \"Lewis Hamilton\", \"Lewis Hamilton\", \"Lewis Hamilton\", \"Lewis Hamilton\", \"Lewis Hamilton\", \"Lewis Hamilton\", \"Lewis Hamilton\", \"Lewis Hamilton\", \"Lewis Hamilton\", \"Lewis Hamilton\", \"Lewis Hamilton\", \"Lewis Hamilton\", \"Lewis Hamilton\", \"Lewis Hamilton\", \"Lewis Hamilton\", \"Lewis Hamilton\", \"Lewis Hamilton\", \"Lewis Hamilton\"], \"legendgroup\": \"Lewis Hamilton\", \"marker\": {\"color\": \"rgb(76,114,176)\", \"size\": [76.503, 73.851, 90.10799999999999, 102.947, 96.18, 83.661, 86.18700000000001, 88.944, 78.133, 94.159, 100.818, 98.398, 67.411, 80.818, 71.845, 96.87799999999999, 80.72800000000002, 104.914, 67.712], \"sizemode\": \"area\", \"sizeref\": 0.03596189349112426, \"symbol\": \"circle\"}, \"mode\": \"markers\", \"name\": \"Lewis Hamilton\", \"orientation\": \"h\", \"showlegend\": true, \"x\": [76.503, 73.851, 90.10799999999999, 102.947, 96.18, 83.661, 86.18700000000001, 88.944, 78.133, 94.159, 100.818, 98.398, 67.411, 80.818, 71.845, 96.87799999999999, 80.72800000000002, 104.914, 67.712], \"xaxis\": \"x\", \"y\": [\"4\", \"4\", \"4\", \"4\", \"4\", \"4\", \"4\", \"4\", \"4\", \"4\", \"4\", \"4\", \"4\", \"4\", \"4\", \"4\", \"4\", \"4\", \"4\"], \"yaxis\": \"y\", \"type\": \"scatter\"}, {\"hovertemplate\": \"<b>%{hovertext}</b><br><br>Full Name=Sergio P\\u00e9rez<br>Points=12.0<br>Fastest Lap Time=%{marker.size}<br>Position=%{y}<extra></extra>\", \"hovertext\": [\"Sergio P\\u00e9rez\", \"Sergio P\\u00e9rez\", \"Sergio P\\u00e9rez\", \"Sergio P\\u00e9rez\", \"Sergio P\\u00e9rez\"], \"ids\": [\"Sergio P\\u00e9rez\", \"Sergio P\\u00e9rez\", \"Sergio P\\u00e9rez\", \"Sergio P\\u00e9rez\", \"Sergio P\\u00e9rez\"], \"legendgroup\": \"Sergio P\\u00e9rez\", \"marker\": {\"color\": \"rgb(221,132,82)\", \"size\": [105.808, 87.09299999999999, 85.755, 98.141, 89.7], \"sizemode\": \"area\", \"sizeref\": 0.03596189349112426, \"symbol\": \"circle\"}, \"mode\": \"markers\", \"name\": \"Sergio P\\u00e9rez\", \"orientation\": \"h\", \"showlegend\": true, \"x\": [105.808, 87.09299999999999, 85.755, 98.141, 89.7], \"xaxis\": \"x\", \"y\": [\"7\", \"4\", \"4\", \"4\", \"4\"], \"yaxis\": \"y\", \"type\": \"scatter\"}, {\"hovertemplate\": \"<b>%{hovertext}</b><br><br>Full Name=Daniel Ricciardo<br>Points=12.0<br>Fastest Lap Time=%{marker.size}<br>Position=%{y}<extra></extra>\", \"hovertext\": [\"Daniel Ricciardo\", \"Daniel Ricciardo\", \"Daniel Ricciardo\", \"Daniel Ricciardo\", \"Daniel Ricciardo\", \"Daniel Ricciardo\", \"Daniel Ricciardo\", \"Daniel Ricciardo\", \"Daniel Ricciardo\", \"Daniel Ricciardo\", \"Daniel Ricciardo\", \"Daniel Ricciardo\", \"Daniel Ricciardo\", \"Daniel Ricciardo\", \"Daniel Ricciardo\", \"Daniel Ricciardo\", \"Daniel Ricciardo\", \"Daniel Ricciardo\", \"Daniel Ricciardo\", \"Daniel Ricciardo\"], \"ids\": [\"Daniel Ricciardo\", \"Daniel Ricciardo\", \"Daniel Ricciardo\", \"Daniel Ricciardo\", \"Daniel Ricciardo\", \"Daniel Ricciardo\", \"Daniel Ricciardo\", \"Daniel Ricciardo\", \"Daniel Ricciardo\", \"Daniel Ricciardo\", \"Daniel Ricciardo\", \"Daniel Ricciardo\", \"Daniel Ricciardo\", \"Daniel Ricciardo\", \"Daniel Ricciardo\", \"Daniel Ricciardo\", \"Daniel Ricciardo\", \"Daniel Ricciardo\", \"Daniel Ricciardo\", \"Daniel Ricciardo\"], \"legendgroup\": \"Daniel Ricciardo\", \"marker\": {\"color\": \"rgb(85,168,104)\", \"size\": [99.26899999999999, 101.473, 112.23100000000001, 88.99700000000001, 96.064, 101.015, 88.209, 96.01299999999999, 96.791, 83.361, 85.945, 74.15899999999999, 95.382, 80.012, 93.18700000000001, 71.343, 101.249, 83.46600000000002, 89.48200000000001, 80.426], \"sizemode\": \"area\", \"sizeref\": 0.03596189349112426, \"symbol\": \"circle\"}, \"mode\": \"markers\", \"name\": \"Daniel Ricciardo\", \"orientation\": \"h\", \"showlegend\": true, \"x\": [99.26899999999999, 101.473, 112.23100000000001, 88.99700000000001, 96.064, 101.015, 88.209, 96.01299999999999, 96.791, 83.361, 85.945, 74.15899999999999, 95.382, 80.012, 93.18700000000001, 71.343, 101.249, 83.46600000000002, 89.48200000000001, 80.426], \"xaxis\": \"x\", \"y\": [\"4\", \"4\", \"4\", \"4\", \"4\", \"4\", \"4\", \"4\", \"4\", \"4\", \"4\", \"4\", \"4\", \"4\", \"4\", \"4\", \"4\", \"4\", \"4\", \"4\"], \"yaxis\": \"y\", \"type\": \"scatter\"}, {\"hovertemplate\": \"<b>%{hovertext}</b><br><br>Full Name=Valtteri Bottas<br>Points=12.0<br>Fastest Lap Time=%{marker.size}<br>Position=%{y}<extra></extra>\", \"hovertext\": [\"Valtteri Bottas\", \"Valtteri Bottas\", \"Valtteri Bottas\", \"Valtteri Bottas\", \"Valtteri Bottas\", \"Valtteri Bottas\", \"Valtteri Bottas\", \"Valtteri Bottas\", \"Valtteri Bottas\", \"Valtteri Bottas\", \"Valtteri Bottas\"], \"ids\": [\"Valtteri Bottas\", \"Valtteri Bottas\", \"Valtteri Bottas\", \"Valtteri Bottas\", \"Valtteri Bottas\", \"Valtteri Bottas\", \"Valtteri Bottas\", \"Valtteri Bottas\", \"Valtteri Bottas\", \"Valtteri Bottas\", \"Valtteri Bottas\"], \"legendgroup\": \"Valtteri Bottas\", \"marker\": {\"color\": \"rgb(196,78,82)\", \"size\": [88.559, 98.095, 90.711, 87.525, 101.159, 76.439, 93.14399999999999, 91.37700000000001, 106.286, 104.72, 99.715], \"sizemode\": \"area\", \"sizeref\": 0.03596189349112426, \"symbol\": \"circle\"}, \"mode\": \"markers\", \"name\": \"Valtteri Bottas\", \"orientation\": \"h\", \"showlegend\": true, \"x\": [88.559, 98.095, 90.711, 87.525, 101.159, 76.439, 93.14399999999999, 91.37700000000001, 106.286, 104.72, 99.715], \"xaxis\": \"x\", \"y\": [\"4\", \"4\", \"4\", \"4\", \"4\", \"4\", \"4\", \"4\", \"4\", \"4\", \"4\"], \"yaxis\": \"y\", \"type\": \"scatter\"}, {\"hovertemplate\": \"<b>%{hovertext}</b><br><br>Full Name=Carlos Sainz<br>Points=12.0<br>Fastest Lap Time=%{marker.size}<br>Position=%{y}<extra></extra>\", \"hovertext\": [\"Carlos Sainz\"], \"ids\": [\"Carlos Sainz\"], \"legendgroup\": \"Carlos Sainz\", \"marker\": {\"color\": \"rgb(129,114,179)\", \"size\": [106.537], \"sizemode\": \"area\", \"sizeref\": 0.03596189349112426, \"symbol\": \"circle\"}, \"mode\": \"markers\", \"name\": \"Carlos Sainz\", \"orientation\": \"h\", \"showlegend\": true, \"x\": [106.537], \"xaxis\": \"x\", \"y\": [\"4\"], \"yaxis\": \"y\", \"type\": \"scatter\"}, {\"hovertemplate\": \"<b>%{hovertext}</b><br><br>Full Name=Max Verstappen<br>Points=12.0<br>Fastest Lap Time=%{marker.size}<br>Position=%{y}<extra></extra>\", \"hovertext\": [\"Max Verstappen\", \"Max Verstappen\", \"Max Verstappen\", \"Max Verstappen\", \"Max Verstappen\", \"Max Verstappen\", \"Max Verstappen\", \"Max Verstappen\", \"Max Verstappen\", \"Max Verstappen\", \"Max Verstappen\", \"Max Verstappen\", \"Max Verstappen\", \"Max Verstappen\"], \"ids\": [\"Max Verstappen\", \"Max Verstappen\", \"Max Verstappen\", \"Max Verstappen\", \"Max Verstappen\", \"Max Verstappen\", \"Max Verstappen\", \"Max Verstappen\", \"Max Verstappen\", \"Max Verstappen\", \"Max Verstappen\", \"Max Verstappen\", \"Max Verstappen\", \"Max Verstappen\"], \"legendgroup\": \"Max Verstappen\", \"marker\": {\"color\": \"rgb(147,120,96)\", \"size\": [87.65, 103.17200000000001, 76.319, 82.887, 105.18700000000001, 90.678, 98.06, 75.852, 95.311, 96.14299999999999, 104.794, 76.229, 94.162, 96.93700000000001], \"sizemode\": \"area\", \"sizeref\": 0.03596189349112426, \"symbol\": \"circle\"}, \"mode\": \"markers\", \"name\": \"Max Verstappen\", \"orientation\": \"h\", \"showlegend\": true, \"x\": [87.65, 103.17200000000001, 76.319, 82.887, 105.18700000000001, 90.678, 98.06, 75.852, 95.311, 96.14299999999999, 104.794, 76.229, 94.162, 96.93700000000001], \"xaxis\": \"x\", \"y\": [\"4\", \"4\", \"4\", \"4\", \"4\", \"4\", \"4\", \"4\", \"4\", \"4\", \"4\", \"4\", \"4\", \"4\"], \"yaxis\": \"y\", \"type\": \"scatter\"}, {\"hovertemplate\": \"<b>%{hovertext}</b><br><br>Full Name=Pierre Gasly<br>Points=12.0<br>Fastest Lap Time=%{marker.size}<br>Position=%{y}<extra></extra>\", \"hovertext\": [\"Pierre Gasly\", \"Pierre Gasly\"], \"ids\": [\"Pierre Gasly\", \"Pierre Gasly\"], \"legendgroup\": \"Pierre Gasly\", \"marker\": {\"color\": \"rgb(218,139,195)\", \"size\": [94.863, 89.544], \"sizemode\": \"area\", \"sizeref\": 0.03596189349112426, \"symbol\": \"circle\"}, \"mode\": \"markers\", \"name\": \"Pierre Gasly\", \"orientation\": \"h\", \"showlegend\": true, \"x\": [94.863, 89.544], \"xaxis\": \"x\", \"y\": [\"4\", \"4\"], \"yaxis\": \"y\", \"type\": \"scatter\"}, {\"hovertemplate\": \"<b>%{hovertext}</b><br><br>Full Name=Charles Leclerc<br>Points=12.0<br>Fastest Lap Time=%{marker.size}<br>Position=%{y}<extra></extra>\", \"hovertext\": [\"Charles Leclerc\", \"Charles Leclerc\", \"Charles Leclerc\"], \"ids\": [\"Charles Leclerc\", \"Charles Leclerc\", \"Charles Leclerc\"], \"legendgroup\": \"Charles Leclerc\", \"marker\": {\"color\": \"rgb(140,140,140)\", \"size\": [80.493, 90.552, 80.408], \"sizemode\": \"area\", \"sizeref\": 0.03596189349112426, \"symbol\": \"circle\"}, \"mode\": \"markers\", \"name\": \"Charles Leclerc\", \"orientation\": \"h\", \"showlegend\": true, \"x\": [80.493, 90.552, 80.408], \"xaxis\": \"x\", \"y\": [\"4\", \"4\", \"4\"], \"yaxis\": \"y\", \"type\": \"scatter\"}, {\"hovertemplate\": \"<b>%{hovertext}</b><br><br>Full Name=Lando Norris<br>Points=12.0<br>Fastest Lap Time=%{marker.size}<br>Position=%{y}<extra></extra>\", \"hovertext\": [\"Lando Norris\"], \"ids\": [\"Lando Norris\"], \"legendgroup\": \"Lando Norris\", \"marker\": {\"color\": \"rgb(204,185,116)\", \"size\": [84.23200000000001], \"sizemode\": \"area\", \"sizeref\": 0.03596189349112426, \"symbol\": \"circle\"}, \"mode\": \"markers\", \"name\": \"Lando Norris\", \"orientation\": \"h\", \"showlegend\": true, \"x\": [84.23200000000001], \"xaxis\": \"x\", \"y\": [\"4\"], \"yaxis\": \"y\", \"type\": \"scatter\"}, {\"hovertemplate\": \"<b>%{hovertext}</b><br><br>Full Name=Alexander Albon<br>Points=12.0<br>Fastest Lap Time=%{marker.size}<br>Position=%{y}<extra></extra>\", \"hovertext\": [\"Alexander Albon\", \"Alexander Albon\"], \"ids\": [\"Alexander Albon\", \"Alexander Albon\"], \"legendgroup\": \"Alexander Albon\", \"marker\": {\"color\": \"rgb(100,181,205)\", \"size\": [92.775, 67.29899999999999], \"sizemode\": \"area\", \"sizeref\": 0.03596189349112426, \"symbol\": \"circle\"}, \"mode\": \"markers\", \"name\": \"Alexander Albon\", \"orientation\": \"h\", \"showlegend\": true, \"x\": [92.775, 67.29899999999999], \"xaxis\": \"x\", \"y\": [\"4\", \"4\"], \"yaxis\": \"y\", \"type\": \"scatter\"}], \"name\": \"12.0\"}, {\"data\": [{\"hovertemplate\": \"<b>%{hovertext}</b><br><br>Full Name=Lewis Hamilton<br>Points=50.0<br>Fastest Lap Time=%{marker.size}<br>Position=%{y}<extra></extra>\", \"hovertext\": [\"Lewis Hamilton\"], \"ids\": [\"Lewis Hamilton\"], \"legendgroup\": \"Lewis Hamilton\", \"marker\": {\"color\": \"rgb(76,114,176)\", \"size\": [105.599], \"sizemode\": \"area\", \"sizeref\": 0.03596189349112426, \"symbol\": \"circle\"}, \"mode\": \"markers\", \"name\": \"Lewis Hamilton\", \"orientation\": \"h\", \"showlegend\": true, \"x\": [105.599], \"xaxis\": \"x\", \"y\": [\"1\"], \"yaxis\": \"y\", \"type\": \"scatter\"}], \"name\": \"50.0\"}, {\"data\": [{\"hovertemplate\": \"<b>%{hovertext}</b><br><br>Full Name=Valtteri Bottas<br>Points=30.0<br>Fastest Lap Time=%{marker.size}<br>Position=%{y}<extra></extra>\", \"hovertext\": [\"Valtteri Bottas\"], \"ids\": [\"Valtteri Bottas\"], \"legendgroup\": \"Valtteri Bottas\", \"marker\": {\"color\": \"rgb(196,78,82)\", \"size\": [105.727], \"sizemode\": \"area\", \"sizeref\": 0.03596189349112426, \"symbol\": \"circle\"}, \"mode\": \"markers\", \"name\": \"Valtteri Bottas\", \"orientation\": \"h\", \"showlegend\": true, \"x\": [105.727], \"xaxis\": \"x\", \"y\": [\"3\"], \"yaxis\": \"y\", \"type\": \"scatter\"}], \"name\": \"30.0\"}, {\"data\": [{\"hovertemplate\": \"<b>%{hovertext}</b><br><br>Full Name=Daniel Ricciardo<br>Points=24.0<br>Fastest Lap Time=%{marker.size}<br>Position=%{y}<extra></extra>\", \"hovertext\": [\"Daniel Ricciardo\"], \"ids\": [\"Daniel Ricciardo\"], \"legendgroup\": \"Daniel Ricciardo\", \"marker\": {\"color\": \"rgb(85,168,104)\", \"size\": [104.496], \"sizemode\": \"area\", \"sizeref\": 0.03596189349112426, \"symbol\": \"circle\"}, \"mode\": \"markers\", \"name\": \"Daniel Ricciardo\", \"orientation\": \"h\", \"showlegend\": true, \"x\": [104.496], \"xaxis\": \"x\", \"y\": [\"4\"], \"yaxis\": \"y\", \"type\": \"scatter\"}], \"name\": \"24.0\"}, {\"data\": [{\"hovertemplate\": \"<b>%{hovertext}</b><br><br>Full Name=Lewis Hamilton<br>Points=26.0<br>Fastest Lap Time=%{marker.size}<br>Position=%{y}<extra></extra>\", \"hovertext\": [\"Lewis Hamilton\", \"Lewis Hamilton\", \"Lewis Hamilton\", \"Lewis Hamilton\", \"Lewis Hamilton\", \"Lewis Hamilton\", \"Lewis Hamilton\"], \"ids\": [\"Lewis Hamilton\", \"Lewis Hamilton\", \"Lewis Hamilton\", \"Lewis Hamilton\", \"Lewis Hamilton\", \"Lewis Hamilton\", \"Lewis Hamilton\"], \"legendgroup\": \"Lewis Hamilton\", \"marker\": {\"color\": \"rgb(76,114,176)\", \"size\": [78.492, 87.369, 95.76100000000001, 99.28299999999999, 76.627, 78.833, 78.75], \"sizemode\": \"area\", \"sizeref\": 0.03596189349112426, \"symbol\": \"circle\"}, \"mode\": \"markers\", \"name\": \"Lewis Hamilton\", \"orientation\": \"h\", \"showlegend\": true, \"x\": [78.492, 87.369, 95.76100000000001, 99.28299999999999, 76.627, 78.833, 78.75], \"xaxis\": \"x\", \"y\": [\"1\", \"1\", \"1\", \"1\", \"1\", \"1\", \"1\"], \"yaxis\": \"y\", \"type\": \"scatter\"}, {\"hovertemplate\": \"<b>%{hovertext}</b><br><br>Full Name=Valtteri Bottas<br>Points=26.0<br>Fastest Lap Time=%{marker.size}<br>Position=%{y}<extra></extra>\", \"hovertext\": [\"Valtteri Bottas\", \"Valtteri Bottas\"], \"ids\": [\"Valtteri Bottas\", \"Valtteri Bottas\"], \"legendgroup\": \"Valtteri Bottas\", \"marker\": {\"color\": \"rgb(196,78,82)\", \"size\": [85.58, 97.03], \"sizemode\": \"area\", \"sizeref\": 0.03596189349112426, \"symbol\": \"circle\"}, \"mode\": \"markers\", \"name\": \"Valtteri Bottas\", \"orientation\": \"h\", \"showlegend\": true, \"x\": [85.58, 97.03], \"xaxis\": \"x\", \"y\": [\"1\", \"1\"], \"yaxis\": \"y\", \"type\": \"scatter\"}, {\"hovertemplate\": \"<b>%{hovertext}</b><br><br>Full Name=Max Verstappen<br>Points=26.0<br>Fastest Lap Time=%{marker.size}<br>Position=%{y}<extra></extra>\", \"hovertext\": [\"Max Verstappen\", \"Max Verstappen\"], \"ids\": [\"Max Verstappen\", \"Max Verstappen\"], \"legendgroup\": \"Max Verstappen\", \"marker\": {\"color\": \"rgb(147,120,96)\", \"size\": [67.475, 76.645], \"sizemode\": \"area\", \"sizeref\": 0.03596189349112426, \"symbol\": \"circle\"}, \"mode\": \"markers\", \"name\": \"Max Verstappen\", \"orientation\": \"h\", \"showlegend\": true, \"x\": [67.475, 76.645], \"xaxis\": \"x\", \"y\": [\"1\", \"1\"], \"yaxis\": \"y\", \"type\": \"scatter\"}], \"name\": \"26.0\"}, {\"data\": [{\"hovertemplate\": \"<b>%{hovertext}</b><br><br>Full Name=Lewis Hamilton<br>Points=16.0<br>Fastest Lap Time=%{marker.size}<br>Position=%{y}<extra></extra>\", \"hovertext\": [\"Lewis Hamilton\", \"Lewis Hamilton\"], \"ids\": [\"Lewis Hamilton\", \"Lewis Hamilton\"], \"legendgroup\": \"Lewis Hamilton\", \"marker\": {\"color\": \"rgb(76,114,176)\", \"size\": [81.779, 90.98299999999999], \"sizemode\": \"area\", \"sizeref\": 0.03596189349112426, \"symbol\": \"circle\"}, \"mode\": \"markers\", \"name\": \"Lewis Hamilton\", \"orientation\": \"h\", \"showlegend\": true, \"x\": [81.779, 90.98299999999999], \"xaxis\": \"x\", \"y\": [\"3\", \"3\"], \"yaxis\": \"y\", \"type\": \"scatter\"}, {\"hovertemplate\": \"<b>%{hovertext}</b><br><br>Full Name=Valtteri Bottas<br>Points=16.0<br>Fastest Lap Time=%{marker.size}<br>Position=%{y}<extra></extra>\", \"hovertext\": [\"Valtteri Bottas\"], \"ids\": [\"Valtteri Bottas\"], \"legendgroup\": \"Valtteri Bottas\", \"marker\": {\"color\": \"rgb(196,78,82)\", \"size\": [78.18299999999998], \"sizemode\": \"area\", \"sizeref\": 0.03596189349112426, \"symbol\": \"circle\"}, \"mode\": \"markers\", \"name\": \"Valtteri Bottas\", \"orientation\": \"h\", \"showlegend\": true, \"x\": [78.18299999999998], \"xaxis\": \"x\", \"y\": [\"3\"], \"yaxis\": \"y\", \"type\": \"scatter\"}, {\"hovertemplate\": \"<b>%{hovertext}</b><br><br>Full Name=Charles Leclerc<br>Points=16.0<br>Fastest Lap Time=%{marker.size}<br>Position=%{y}<extra></extra>\", \"hovertext\": [\"Charles Leclerc\"], \"ids\": [\"Charles Leclerc\"], \"legendgroup\": \"Charles Leclerc\", \"marker\": {\"color\": \"rgb(140,140,140)\", \"size\": [93.411], \"sizemode\": \"area\", \"sizeref\": 0.03596189349112426, \"symbol\": \"circle\"}, \"mode\": \"markers\", \"name\": \"Charles Leclerc\", \"orientation\": \"h\", \"showlegend\": true, \"x\": [93.411], \"xaxis\": \"x\", \"y\": [\"3\"], \"yaxis\": \"y\", \"type\": \"scatter\"}, {\"hovertemplate\": \"<b>%{hovertext}</b><br><br>Full Name=Lando Norris<br>Points=16.0<br>Fastest Lap Time=%{marker.size}<br>Position=%{y}<extra></extra>\", \"hovertext\": [\"Lando Norris\"], \"ids\": [\"Lando Norris\"], \"legendgroup\": \"Lando Norris\", \"marker\": {\"color\": \"rgb(204,185,116)\", \"size\": [67.475], \"sizemode\": \"area\", \"sizeref\": 0.03596189349112426, \"symbol\": \"circle\"}, \"mode\": \"markers\", \"name\": \"Lando Norris\", \"orientation\": \"h\", \"showlegend\": true, \"x\": [67.475], \"xaxis\": \"x\", \"y\": [\"3\"], \"yaxis\": \"y\", \"type\": \"scatter\"}], \"name\": \"16.0\"}, {\"data\": [{\"hovertemplate\": \"<b>%{hovertext}</b><br><br>Full Name=Pierre Gasly<br>Points=9.0<br>Fastest Lap Time=%{marker.size}<br>Position=%{y}<extra></extra>\", \"hovertext\": [\"Pierre Gasly\"], \"ids\": [\"Pierre Gasly\"], \"legendgroup\": \"Pierre Gasly\", \"marker\": {\"color\": \"rgb(218,139,195)\", \"size\": [94.742], \"sizemode\": \"area\", \"sizeref\": 0.03596189349112426, \"symbol\": \"circle\"}, \"mode\": \"markers\", \"name\": \"Pierre Gasly\", \"orientation\": \"h\", \"showlegend\": true, \"x\": [94.742], \"xaxis\": \"x\", \"y\": [\"6\"], \"yaxis\": \"y\", \"type\": \"scatter\"}], \"name\": \"9.0\"}, {\"data\": [{\"hovertemplate\": \"<b>%{hovertext}</b><br><br>Full Name=Pierre Gasly<br>Points=11.0<br>Fastest Lap Time=%{marker.size}<br>Position=%{y}<extra></extra>\", \"hovertext\": [\"Pierre Gasly\"], \"ids\": [\"Pierre Gasly\"], \"legendgroup\": \"Pierre Gasly\", \"marker\": {\"color\": \"rgb(218,139,195)\", \"size\": [74.279], \"sizemode\": \"area\", \"sizeref\": 0.03596189349112426, \"symbol\": \"circle\"}, \"mode\": \"markers\", \"name\": \"Pierre Gasly\", \"orientation\": \"h\", \"showlegend\": true, \"x\": [74.279], \"xaxis\": \"x\", \"y\": [\"5\"], \"yaxis\": \"y\", \"type\": \"scatter\"}, {\"hovertemplate\": \"<b>%{hovertext}</b><br><br>Full Name=Charles Leclerc<br>Points=11.0<br>Fastest Lap Time=%{marker.size}<br>Position=%{y}<extra></extra>\", \"hovertext\": [\"Charles Leclerc\"], \"ids\": [\"Charles Leclerc\"], \"legendgroup\": \"Charles Leclerc\", \"marker\": {\"color\": \"rgb(140,140,140)\", \"size\": [103.009], \"sizemode\": \"area\", \"sizeref\": 0.03596189349112426, \"symbol\": \"circle\"}, \"mode\": \"markers\", \"name\": \"Charles Leclerc\", \"orientation\": \"h\", \"showlegend\": true, \"x\": [103.009], \"xaxis\": \"x\", \"y\": [\"5\"], \"yaxis\": \"y\", \"type\": \"scatter\"}], \"name\": \"11.0\"}, {\"data\": [{\"hovertemplate\": \"<b>%{hovertext}</b><br><br>Full Name=Daniel Ricciardo<br>Points=13.0<br>Fastest Lap Time=%{marker.size}<br>Position=%{y}<extra></extra>\", \"hovertext\": [\"Daniel Ricciardo\"], \"ids\": [\"Daniel Ricciardo\"], \"legendgroup\": \"Daniel Ricciardo\", \"marker\": {\"color\": \"rgb(85,168,104)\", \"size\": [107.48299999999999], \"sizemode\": \"area\", \"sizeref\": 0.03596189349112426, \"symbol\": \"circle\"}, \"mode\": \"markers\", \"name\": \"Daniel Ricciardo\", \"orientation\": \"h\", \"showlegend\": true, \"x\": [107.48299999999999], \"xaxis\": \"x\", \"y\": [\"4\"], \"yaxis\": \"y\", \"type\": \"scatter\"}, {\"hovertemplate\": \"<b>%{hovertext}</b><br><br>Full Name=Valtteri Bottas<br>Points=13.0<br>Fastest Lap Time=%{marker.size}<br>Position=%{y}<extra></extra>\", \"hovertext\": [\"Valtteri Bottas\"], \"ids\": [\"Valtteri Bottas\"], \"legendgroup\": \"Valtteri Bottas\", \"marker\": {\"color\": \"rgb(196,78,82)\", \"size\": [73.078], \"sizemode\": \"area\", \"sizeref\": 0.03596189349112426, \"symbol\": \"circle\"}, \"mode\": \"markers\", \"name\": \"Valtteri Bottas\", \"orientation\": \"h\", \"showlegend\": true, \"x\": [73.078], \"xaxis\": \"x\", \"y\": [\"4\"], \"yaxis\": \"y\", \"type\": \"scatter\"}, {\"hovertemplate\": \"<b>%{hovertext}</b><br><br>Full Name=Charles Leclerc<br>Points=13.0<br>Fastest Lap Time=%{marker.size}<br>Position=%{y}<extra></extra>\", \"hovertext\": [\"Charles Leclerc\", \"Charles Leclerc\"], \"ids\": [\"Charles Leclerc\", \"Charles Leclerc\"], \"legendgroup\": \"Charles Leclerc\", \"marker\": {\"color\": \"rgb(140,140,140)\", \"size\": [79.232, 96.169], \"sizemode\": \"area\", \"sizeref\": 0.03596189349112426, \"symbol\": \"circle\"}, \"mode\": \"markers\", \"name\": \"Charles Leclerc\", \"orientation\": \"h\", \"showlegend\": true, \"x\": [79.232, 96.169], \"xaxis\": \"x\", \"y\": [\"4\", \"4\"], \"yaxis\": \"y\", \"type\": \"scatter\"}], \"name\": \"13.0\"}, {\"data\": [{\"hovertemplate\": \"<b>%{hovertext}</b><br><br>Full Name=Lewis Hamilton<br>Points=19.0<br>Fastest Lap Time=%{marker.size}<br>Position=%{y}<extra></extra>\", \"hovertext\": [\"Lewis Hamilton\"], \"ids\": [\"Lewis Hamilton\"], \"legendgroup\": \"Lewis Hamilton\", \"marker\": {\"color\": \"rgb(76,114,176)\", \"size\": [88.45100000000001], \"sizemode\": \"area\", \"sizeref\": 0.03596189349112426, \"symbol\": \"circle\"}, \"mode\": \"markers\", \"name\": \"Lewis Hamilton\", \"orientation\": \"h\", \"showlegend\": true, \"x\": [88.45100000000001], \"xaxis\": \"x\", \"y\": [\"2\"], \"yaxis\": \"y\", \"type\": \"scatter\"}, {\"hovertemplate\": \"<b>%{hovertext}</b><br><br>Full Name=Max Verstappen<br>Points=19.0<br>Fastest Lap Time=%{marker.size}<br>Position=%{y}<extra></extra>\", \"hovertext\": [\"Max Verstappen\", \"Max Verstappen\", \"Max Verstappen\"], \"ids\": [\"Max Verstappen\", \"Max Verstappen\", \"Max Verstappen\"], \"legendgroup\": \"Max Verstappen\", \"marker\": {\"color\": \"rgb(147,120,96)\", \"size\": [77.10300000000002, 87.09700000000002, 88.139], \"sizemode\": \"area\", \"sizeref\": 0.03596189349112426, \"symbol\": \"circle\"}, \"mode\": \"markers\", \"name\": \"Max Verstappen\", \"orientation\": \"h\", \"showlegend\": true, \"x\": [77.10300000000002, 87.09700000000002, 88.139], \"xaxis\": \"x\", \"y\": [\"2\", \"2\", \"2\"], \"yaxis\": \"y\", \"type\": \"scatter\"}], \"name\": \"19.0\"}, {\"data\": [{\"hovertemplate\": \"<b>%{hovertext}</b><br><br>Full Name=Lewis Hamilton<br>Points=7.0<br>Fastest Lap Time=%{marker.size}<br>Position=%{y}<extra></extra>\", \"hovertext\": [\"Lewis Hamilton\"], \"ids\": [\"Lewis Hamilton\"], \"legendgroup\": \"Lewis Hamilton\", \"marker\": {\"color\": \"rgb(76,114,176)\", \"size\": [82.74600000000001], \"sizemode\": \"area\", \"sizeref\": 0.03596189349112426, \"symbol\": \"circle\"}, \"mode\": \"markers\", \"name\": \"Lewis Hamilton\", \"orientation\": \"h\", \"showlegend\": true, \"x\": [82.74600000000001], \"xaxis\": \"x\", \"y\": [\"7\"], \"yaxis\": \"y\", \"type\": \"scatter\"}], \"name\": \"7.0\"}]);\n",
       "                        }).then(function(){\n",
       "                            \n",
       "var gd = document.getElementById('a35e3cd4-47e1-4bca-9770-ea8f1a7d5dc3');\n",
       "var x = new MutationObserver(function (mutations, observer) {{\n",
       "        var display = window.getComputedStyle(gd).display;\n",
       "        if (!display || display === 'none') {{\n",
       "            console.log([gd, 'removed!']);\n",
       "            Plotly.purge(gd);\n",
       "            observer.disconnect();\n",
       "        }}\n",
       "}});\n",
       "\n",
       "// Listen for the removal of the full notebook cells\n",
       "var notebookContainer = gd.closest('#notebook-container');\n",
       "if (notebookContainer) {{\n",
       "    x.observe(notebookContainer, {childList: true});\n",
       "}}\n",
       "\n",
       "// Listen for the clearing of the current output cell\n",
       "var outputEl = gd.closest('.output');\n",
       "if (outputEl) {{\n",
       "    x.observe(outputEl, {childList: true});\n",
       "}}\n",
       "\n",
       "                        })                };                });            </script>        </div>"
      ]
     },
     "metadata": {},
     "output_type": "display_data"
    }
   ],
   "source": [
    "fig.show()"
   ]
  },
  {
   "cell_type": "code",
   "execution_count": 102,
   "metadata": {},
   "outputs": [
    {
     "name": "stderr",
     "output_type": "stream",
     "text": [
      "C:\\Users\\Donley\\anaconda3\\lib\\site-packages\\pandas\\core\\indexing.py:1745: SettingWithCopyWarning:\n",
      "\n",
      "\n",
      "A value is trying to be set on a copy of a slice from a DataFrame.\n",
      "Try using .loc[row_indexer,col_indexer] = value instead\n",
      "\n",
      "See the caveats in the documentation: https://pandas.pydata.org/pandas-docs/stable/user_guide/indexing.html#returning-a-view-versus-a-copy\n",
      "\n"
     ]
    }
   ],
   "source": [
    "master_df.loc[:,('Position')] = pd.to_numeric(master_df['Position'])"
   ]
  },
  {
   "cell_type": "code",
   "execution_count": 104,
   "metadata": {},
   "outputs": [
    {
     "data": {
      "text/plain": [
       "0     168\n",
       "1     120\n",
       "3      96\n",
       "2      95\n",
       "5      94\n",
       "4      84\n",
       "8      69\n",
       "6      67\n",
       "7      67\n",
       "9      61\n",
       "10     54\n",
       "11     54\n",
       "12     37\n",
       "13     35\n",
       "14     26\n",
       "15     22\n",
       "16     16\n",
       "17      9\n",
       "18      8\n",
       "19      7\n",
       "20      2\n",
       "22      1\n",
       "Name: Position, dtype: int64"
      ]
     },
     "execution_count": 104,
     "metadata": {},
     "output_type": "execute_result"
    }
   ],
   "source": [
    "master_df['Position'].value_counts()"
   ]
  },
  {
   "cell_type": "code",
   "execution_count": 105,
   "metadata": {},
   "outputs": [
    {
     "data": {
      "text/html": [
       "<div>\n",
       "<style scoped>\n",
       "    .dataframe tbody tr th:only-of-type {\n",
       "        vertical-align: middle;\n",
       "    }\n",
       "\n",
       "    .dataframe tbody tr th {\n",
       "        vertical-align: top;\n",
       "    }\n",
       "\n",
       "    .dataframe thead th {\n",
       "        text-align: right;\n",
       "    }\n",
       "</style>\n",
       "<table border=\"1\" class=\"dataframe\">\n",
       "  <thead>\n",
       "    <tr style=\"text-align: right;\">\n",
       "      <th></th>\n",
       "      <th>Full Name</th>\n",
       "      <th>Fastest Lap Time</th>\n",
       "      <th>Fastest Lap Speed</th>\n",
       "      <th>Fastest Lap</th>\n",
       "      <th>Milliseconds</th>\n",
       "      <th>Points</th>\n",
       "      <th>Position</th>\n",
       "      <th>Rank</th>\n",
       "      <th>Grid</th>\n",
       "    </tr>\n",
       "  </thead>\n",
       "  <tbody>\n",
       "    <tr>\n",
       "      <th>0</th>\n",
       "      <td>Lewis Hamilton</td>\n",
       "      <td>87.452</td>\n",
       "      <td>218.300</td>\n",
       "      <td>39</td>\n",
       "      <td>5690.616</td>\n",
       "      <td>10.0</td>\n",
       "      <td>1</td>\n",
       "      <td>2</td>\n",
       "      <td>1</td>\n",
       "    </tr>\n",
       "    <tr>\n",
       "      <th>26</th>\n",
       "      <td>Lewis Hamilton</td>\n",
       "      <td>95.462</td>\n",
       "      <td>209.033</td>\n",
       "      <td>53</td>\n",
       "      <td>5525.103</td>\n",
       "      <td>4.0</td>\n",
       "      <td>5</td>\n",
       "      <td>3</td>\n",
       "      <td>9</td>\n",
       "    </tr>\n",
       "    <tr>\n",
       "      <th>68</th>\n",
       "      <td>Lewis Hamilton</td>\n",
       "      <td>82.017</td>\n",
       "      <td>204.323</td>\n",
       "      <td>20</td>\n",
       "      <td>5903.238</td>\n",
       "      <td>6.0</td>\n",
       "      <td>3</td>\n",
       "      <td>3</td>\n",
       "      <td>5</td>\n",
       "    </tr>\n",
       "    <tr>\n",
       "      <th>89</th>\n",
       "      <td>Lewis Hamilton</td>\n",
       "      <td>86.529</td>\n",
       "      <td>222.085</td>\n",
       "      <td>31</td>\n",
       "      <td>5213.230</td>\n",
       "      <td>8.0</td>\n",
       "      <td>2</td>\n",
       "      <td>2</td>\n",
       "      <td>3</td>\n",
       "    </tr>\n",
       "    <tr>\n",
       "      <th>108</th>\n",
       "      <td>Lewis Hamilton</td>\n",
       "      <td>78.510</td>\n",
       "      <td>153.152</td>\n",
       "      <td>71</td>\n",
       "      <td>7242.742</td>\n",
       "      <td>10.0</td>\n",
       "      <td>1</td>\n",
       "      <td>6</td>\n",
       "      <td>3</td>\n",
       "    </tr>\n",
       "    <tr>\n",
       "      <th>...</th>\n",
       "      <td>...</td>\n",
       "      <td>...</td>\n",
       "      <td>...</td>\n",
       "      <td>...</td>\n",
       "      <td>...</td>\n",
       "      <td>...</td>\n",
       "      <td>...</td>\n",
       "      <td>...</td>\n",
       "      <td>...</td>\n",
       "    </tr>\n",
       "    <tr>\n",
       "      <th>24843</th>\n",
       "      <td>Charles Leclerc</td>\n",
       "      <td>80.408</td>\n",
       "      <td>208.322</td>\n",
       "      <td>66</td>\n",
       "      <td>5462.140</td>\n",
       "      <td>12.0</td>\n",
       "      <td>4</td>\n",
       "      <td>7</td>\n",
       "      <td>4</td>\n",
       "    </tr>\n",
       "    <tr>\n",
       "      <th>24844</th>\n",
       "      <td>Pierre Gasly</td>\n",
       "      <td>80.551</td>\n",
       "      <td>207.952</td>\n",
       "      <td>65</td>\n",
       "      <td>0.000</td>\n",
       "      <td>10.0</td>\n",
       "      <td>5</td>\n",
       "      <td>9</td>\n",
       "      <td>9</td>\n",
       "    </tr>\n",
       "    <tr>\n",
       "      <th>24845</th>\n",
       "      <td>Carlos Sainz</td>\n",
       "      <td>80.268</td>\n",
       "      <td>208.685</td>\n",
       "      <td>65</td>\n",
       "      <td>0.000</td>\n",
       "      <td>8.0</td>\n",
       "      <td>6</td>\n",
       "      <td>6</td>\n",
       "      <td>7</td>\n",
       "    </tr>\n",
       "    <tr>\n",
       "      <th>24846</th>\n",
       "      <td>Sergio Pérez</td>\n",
       "      <td>80.802</td>\n",
       "      <td>207.306</td>\n",
       "      <td>49</td>\n",
       "      <td>0.000</td>\n",
       "      <td>6.0</td>\n",
       "      <td>7</td>\n",
       "      <td>11</td>\n",
       "      <td>5</td>\n",
       "    </tr>\n",
       "    <tr>\n",
       "      <th>24848</th>\n",
       "      <td>Daniel Ricciardo</td>\n",
       "      <td>80.906</td>\n",
       "      <td>207.040</td>\n",
       "      <td>61</td>\n",
       "      <td>0.000</td>\n",
       "      <td>2.0</td>\n",
       "      <td>9</td>\n",
       "      <td>14</td>\n",
       "      <td>10</td>\n",
       "    </tr>\n",
       "  </tbody>\n",
       "</table>\n",
       "<p>921 rows × 9 columns</p>\n",
       "</div>"
      ],
      "text/plain": [
       "              Full Name  Fastest Lap Time  Fastest Lap Speed  Fastest Lap  \\\n",
       "0        Lewis Hamilton            87.452            218.300           39   \n",
       "26       Lewis Hamilton            95.462            209.033           53   \n",
       "68       Lewis Hamilton            82.017            204.323           20   \n",
       "89       Lewis Hamilton            86.529            222.085           31   \n",
       "108      Lewis Hamilton            78.510            153.152           71   \n",
       "...                 ...               ...                ...          ...   \n",
       "24843   Charles Leclerc            80.408            208.322           66   \n",
       "24844      Pierre Gasly            80.551            207.952           65   \n",
       "24845      Carlos Sainz            80.268            208.685           65   \n",
       "24846      Sergio Pérez            80.802            207.306           49   \n",
       "24848  Daniel Ricciardo            80.906            207.040           61   \n",
       "\n",
       "       Milliseconds  Points  Position Rank  Grid  \n",
       "0          5690.616    10.0         1    2     1  \n",
       "26         5525.103     4.0         5    3     9  \n",
       "68         5903.238     6.0         3    3     5  \n",
       "89         5213.230     8.0         2    2     3  \n",
       "108        7242.742    10.0         1    6     3  \n",
       "...             ...     ...       ...  ...   ...  \n",
       "24843      5462.140    12.0         4    7     4  \n",
       "24844         0.000    10.0         5    9     9  \n",
       "24845         0.000     8.0         6    6     7  \n",
       "24846         0.000     6.0         7   11     5  \n",
       "24848         0.000     2.0         9   14    10  \n",
       "\n",
       "[921 rows x 9 columns]"
      ]
     },
     "execution_count": 105,
     "metadata": {},
     "output_type": "execute_result"
    }
   ],
   "source": [
    "position_df = master_df[~(master_df['Position'] >= 10)]  \n",
    "position_df"
   ]
  },
  {
   "cell_type": "code",
   "execution_count": 106,
   "metadata": {},
   "outputs": [
    {
     "data": {
      "text/html": [
       "<div>\n",
       "<style scoped>\n",
       "    .dataframe tbody tr th:only-of-type {\n",
       "        vertical-align: middle;\n",
       "    }\n",
       "\n",
       "    .dataframe tbody tr th {\n",
       "        vertical-align: top;\n",
       "    }\n",
       "\n",
       "    .dataframe thead th {\n",
       "        text-align: right;\n",
       "    }\n",
       "</style>\n",
       "<table border=\"1\" class=\"dataframe\">\n",
       "  <thead>\n",
       "    <tr style=\"text-align: right;\">\n",
       "      <th></th>\n",
       "      <th>Full Name</th>\n",
       "      <th>Fastest Lap Time</th>\n",
       "      <th>Fastest Lap Speed</th>\n",
       "      <th>Fastest Lap</th>\n",
       "      <th>Milliseconds</th>\n",
       "      <th>Points</th>\n",
       "      <th>Position</th>\n",
       "      <th>Rank</th>\n",
       "      <th>Grid</th>\n",
       "    </tr>\n",
       "  </thead>\n",
       "  <tbody>\n",
       "    <tr>\n",
       "      <th>22257</th>\n",
       "      <td>Sergio Pérez</td>\n",
       "      <td>0.000</td>\n",
       "      <td>0.000</td>\n",
       "      <td>0</td>\n",
       "      <td>0.000</td>\n",
       "      <td>0.0</td>\n",
       "      <td>0</td>\n",
       "      <td>0</td>\n",
       "      <td>10</td>\n",
       "    </tr>\n",
       "    <tr>\n",
       "      <th>23472</th>\n",
       "      <td>Max Verstappen</td>\n",
       "      <td>0.000</td>\n",
       "      <td>0.000</td>\n",
       "      <td>0</td>\n",
       "      <td>0.000</td>\n",
       "      <td>0.0</td>\n",
       "      <td>0</td>\n",
       "      <td>0</td>\n",
       "      <td>5</td>\n",
       "    </tr>\n",
       "    <tr>\n",
       "      <th>22890</th>\n",
       "      <td>Carlos Sainz</td>\n",
       "      <td>0.000</td>\n",
       "      <td>0.000</td>\n",
       "      <td>0</td>\n",
       "      <td>0.000</td>\n",
       "      <td>0.0</td>\n",
       "      <td>0</td>\n",
       "      <td>0</td>\n",
       "      <td>10</td>\n",
       "    </tr>\n",
       "    <tr>\n",
       "      <th>22148</th>\n",
       "      <td>Daniel Ricciardo</td>\n",
       "      <td>0.000</td>\n",
       "      <td>0.000</td>\n",
       "      <td>0</td>\n",
       "      <td>5603.235</td>\n",
       "      <td>0.0</td>\n",
       "      <td>0</td>\n",
       "      <td>0</td>\n",
       "      <td>2</td>\n",
       "    </tr>\n",
       "    <tr>\n",
       "      <th>22494</th>\n",
       "      <td>Sergio Pérez</td>\n",
       "      <td>0.000</td>\n",
       "      <td>0.000</td>\n",
       "      <td>0</td>\n",
       "      <td>0.000</td>\n",
       "      <td>0.0</td>\n",
       "      <td>0</td>\n",
       "      <td>0</td>\n",
       "      <td>11</td>\n",
       "    </tr>\n",
       "    <tr>\n",
       "      <th>...</th>\n",
       "      <td>...</td>\n",
       "      <td>...</td>\n",
       "      <td>...</td>\n",
       "      <td>...</td>\n",
       "      <td>...</td>\n",
       "      <td>...</td>\n",
       "      <td>...</td>\n",
       "      <td>...</td>\n",
       "      <td>...</td>\n",
       "    </tr>\n",
       "    <tr>\n",
       "      <th>20322</th>\n",
       "      <td>Lewis Hamilton</td>\n",
       "      <td>119.560</td>\n",
       "      <td>189.665</td>\n",
       "      <td>42</td>\n",
       "      <td>5983.578</td>\n",
       "      <td>15.0</td>\n",
       "      <td>3</td>\n",
       "      <td>4</td>\n",
       "      <td>4</td>\n",
       "    </tr>\n",
       "    <tr>\n",
       "      <th>21057</th>\n",
       "      <td>Daniel Ricciardo</td>\n",
       "      <td>119.831</td>\n",
       "      <td>210.416</td>\n",
       "      <td>10</td>\n",
       "      <td>0.000</td>\n",
       "      <td>0.0</td>\n",
       "      <td>0</td>\n",
       "      <td>23</td>\n",
       "      <td>23</td>\n",
       "    </tr>\n",
       "    <tr>\n",
       "      <th>24797</th>\n",
       "      <td>Carlos Sainz</td>\n",
       "      <td>134.103</td>\n",
       "      <td>140.802</td>\n",
       "      <td>5</td>\n",
       "      <td>0.000</td>\n",
       "      <td>0.0</td>\n",
       "      <td>0</td>\n",
       "      <td>18</td>\n",
       "      <td>9</td>\n",
       "    </tr>\n",
       "    <tr>\n",
       "      <th>22707</th>\n",
       "      <td>Max Verstappen</td>\n",
       "      <td>140.776</td>\n",
       "      <td>150.647</td>\n",
       "      <td>3</td>\n",
       "      <td>0.000</td>\n",
       "      <td>0.0</td>\n",
       "      <td>0</td>\n",
       "      <td>16</td>\n",
       "      <td>13</td>\n",
       "    </tr>\n",
       "    <tr>\n",
       "      <th>22850</th>\n",
       "      <td>Valtteri Bottas</td>\n",
       "      <td>151.939</td>\n",
       "      <td>130.623</td>\n",
       "      <td>3</td>\n",
       "      <td>0.000</td>\n",
       "      <td>0.0</td>\n",
       "      <td>0</td>\n",
       "      <td>19</td>\n",
       "      <td>16</td>\n",
       "    </tr>\n",
       "  </tbody>\n",
       "</table>\n",
       "<p>921 rows × 9 columns</p>\n",
       "</div>"
      ],
      "text/plain": [
       "              Full Name  Fastest Lap Time  Fastest Lap Speed  Fastest Lap  \\\n",
       "22257      Sergio Pérez             0.000              0.000            0   \n",
       "23472    Max Verstappen             0.000              0.000            0   \n",
       "22890      Carlos Sainz             0.000              0.000            0   \n",
       "22148  Daniel Ricciardo             0.000              0.000            0   \n",
       "22494      Sergio Pérez             0.000              0.000            0   \n",
       "...                 ...               ...                ...          ...   \n",
       "20322    Lewis Hamilton           119.560            189.665           42   \n",
       "21057  Daniel Ricciardo           119.831            210.416           10   \n",
       "24797      Carlos Sainz           134.103            140.802            5   \n",
       "22707    Max Verstappen           140.776            150.647            3   \n",
       "22850   Valtteri Bottas           151.939            130.623            3   \n",
       "\n",
       "       Milliseconds  Points  Position Rank  Grid  \n",
       "22257         0.000     0.0         0    0    10  \n",
       "23472         0.000     0.0         0    0     5  \n",
       "22890         0.000     0.0         0    0    10  \n",
       "22148      5603.235     0.0         0    0     2  \n",
       "22494         0.000     0.0         0    0    11  \n",
       "...             ...     ...       ...  ...   ...  \n",
       "20322      5983.578    15.0         3    4     4  \n",
       "21057         0.000     0.0         0   23    23  \n",
       "24797         0.000     0.0         0   18     9  \n",
       "22707         0.000     0.0         0   16    13  \n",
       "22850         0.000     0.0         0   19    16  \n",
       "\n",
       "[921 rows x 9 columns]"
      ]
     },
     "execution_count": 106,
     "metadata": {},
     "output_type": "execute_result"
    }
   ],
   "source": [
    "names = ['Lewis Hamilton', 'Valtteri Bottas', 'Max Verstappen', 'Sergio Pérez', 'Charles Leclerc', 'Daniel Ricciardo', 'Carlos Sainz', 'Alexander Albon', 'Lando Norris', 'Pierre Gasly']\n",
    "for names in position_df['Full Name']:\n",
    "     sort_df= position_df.sort_values(by=['Fastest Lap Time'], ascending=True)\n",
    "sort_df"
   ]
  },
  {
   "cell_type": "code",
   "execution_count": 107,
   "metadata": {},
   "outputs": [],
   "source": [
    "sort_df.to_csv('../data/processed/sorted_laptimes.csv')"
   ]
  },
  {
   "cell_type": "markdown",
   "metadata": {},
   "source": [
    "<div class=\"alert alert-block alert-success\">\n",
    "    <b>Bonus Points Awarded:</b> if a driver in the top ten scores the fastest lap then they score an additional point. Previously, points have been awarded to just the top five and the setter of the fastest lap; then to the top six finishers; then the top eight finishers before the current system was introduced in 2010. In 2014, double points were awarded at the final race of the season.\n",
    "    </div>"
   ]
  },
  {
   "cell_type": "code",
   "execution_count": 108,
   "metadata": {},
   "outputs": [
    {
     "data": {
      "application/vnd.plotly.v1+json": {
       "config": {
        "plotlyServerURL": "https://plotly.com"
       },
       "data": [
        {
         "hovertemplate": "Fastest Lap Time=%{marker.color}<br>Full Name=%{theta}<extra></extra>",
         "legendgroup": "",
         "marker": {
          "color": [
           87.66230303030302,
           84.7401666666667,
           85.46701851851851,
           90.96501092896177,
           88.38799999999999,
           89.57177099236644,
           85.78374561403508,
           84.60235593220338,
           89.16878191489363,
           90.82882236842103
          ],
          "coloraxis": "coloraxis"
         },
         "name": "",
         "r": [
          87.66230303030302,
          84.7401666666667,
          85.46701851851851,
          90.96501092896177,
          88.38799999999999,
          89.57177099236644,
          85.78374561403508,
          84.60235593220338,
          89.16878191489363,
          90.82882236842103
         ],
         "showlegend": false,
         "subplot": "polar",
         "theta": [
          "Alexander Albon",
          "Carlos Sainz",
          "Charles Leclerc",
          "Daniel Ricciardo",
          "Lando Norris",
          "Lewis Hamilton",
          "Max Verstappen",
          "Pierre Gasly",
          "Sergio Pérez",
          "Valtteri Bottas"
         ],
         "type": "barpolar"
        }
       ],
       "layout": {
        "autosize": true,
        "barmode": "relative",
        "coloraxis": {
         "colorbar": {
          "title": {
           "text": "Fastest Lap Time"
          }
         },
         "colorscale": [
          [
           0,
           "rgb(2,4,25)"
          ],
          [
           0.0625,
           "rgb(24,15,41)"
          ],
          [
           0.125,
           "rgb(47,23,57)"
          ],
          [
           0.1875,
           "rgb(71,28,72)"
          ],
          [
           0.25,
           "rgb(97,30,82)"
          ],
          [
           0.3125,
           "rgb(123,30,89)"
          ],
          [
           0.375,
           "rgb(150,27,91)"
          ],
          [
           0.4375,
           "rgb(177,22,88)"
          ],
          [
           0.5,
           "rgb(203,26,79)"
          ],
          [
           0.5625,
           "rgb(223,47,67)"
          ],
          [
           0.625,
           "rgb(236,76,61)"
          ],
          [
           0.6875,
           "rgb(242,107,73)"
          ],
          [
           0.75,
           "rgb(244,135,95)"
          ],
          [
           0.8125,
           "rgb(245,162,122)"
          ],
          [
           0.875,
           "rgb(246,188,153)"
          ],
          [
           0.9375,
           "rgb(247,212,187)"
          ],
          [
           1,
           "rgb(250,234,220)"
          ]
         ]
        },
        "legend": {
         "tracegroupgap": 0
        },
        "margin": {
         "t": 60
        },
        "polar": {
         "angularaxis": {
          "direction": "clockwise",
          "rotation": 90,
          "type": "category"
         },
         "domain": {
          "x": [
           0,
           1
          ],
          "y": [
           0,
           1
          ]
         },
         "radialaxis": {
          "autorange": false,
          "range": [
           75,
           100
          ],
          "type": "linear"
         }
        },
        "template": {
         "data": {
          "bar": [
           {
            "error_x": {
             "color": "rgb(36,36,36)"
            },
            "error_y": {
             "color": "rgb(36,36,36)"
            },
            "marker": {
             "line": {
              "color": "rgb(234,234,242)",
              "width": 0.5
             }
            },
            "type": "bar"
           }
          ],
          "barpolar": [
           {
            "marker": {
             "line": {
              "color": "rgb(234,234,242)",
              "width": 0.5
             }
            },
            "type": "barpolar"
           }
          ],
          "carpet": [
           {
            "aaxis": {
             "endlinecolor": "rgb(36,36,36)",
             "gridcolor": "white",
             "linecolor": "white",
             "minorgridcolor": "white",
             "startlinecolor": "rgb(36,36,36)"
            },
            "baxis": {
             "endlinecolor": "rgb(36,36,36)",
             "gridcolor": "white",
             "linecolor": "white",
             "minorgridcolor": "white",
             "startlinecolor": "rgb(36,36,36)"
            },
            "type": "carpet"
           }
          ],
          "choropleth": [
           {
            "colorbar": {
             "outlinewidth": 0,
             "tickcolor": "rgb(36,36,36)",
             "ticklen": 8,
             "ticks": "outside",
             "tickwidth": 2
            },
            "type": "choropleth"
           }
          ],
          "contour": [
           {
            "colorbar": {
             "outlinewidth": 0,
             "tickcolor": "rgb(36,36,36)",
             "ticklen": 8,
             "ticks": "outside",
             "tickwidth": 2
            },
            "colorscale": [
             [
              0,
              "rgb(2,4,25)"
             ],
             [
              0.06274509803921569,
              "rgb(24,15,41)"
             ],
             [
              0.12549019607843137,
              "rgb(47,23,57)"
             ],
             [
              0.18823529411764706,
              "rgb(71,28,72)"
             ],
             [
              0.25098039215686274,
              "rgb(97,30,82)"
             ],
             [
              0.3137254901960784,
              "rgb(123,30,89)"
             ],
             [
              0.3764705882352941,
              "rgb(150,27,91)"
             ],
             [
              0.4392156862745098,
              "rgb(177,22,88)"
             ],
             [
              0.5019607843137255,
              "rgb(203,26,79)"
             ],
             [
              0.5647058823529412,
              "rgb(223,47,67)"
             ],
             [
              0.6274509803921569,
              "rgb(236,76,61)"
             ],
             [
              0.6901960784313725,
              "rgb(242,107,73)"
             ],
             [
              0.7529411764705882,
              "rgb(244,135,95)"
             ],
             [
              0.8156862745098039,
              "rgb(245,162,122)"
             ],
             [
              0.8784313725490196,
              "rgb(246,188,153)"
             ],
             [
              0.9411764705882353,
              "rgb(247,212,187)"
             ],
             [
              1,
              "rgb(250,234,220)"
             ]
            ],
            "type": "contour"
           }
          ],
          "contourcarpet": [
           {
            "colorbar": {
             "outlinewidth": 0,
             "tickcolor": "rgb(36,36,36)",
             "ticklen": 8,
             "ticks": "outside",
             "tickwidth": 2
            },
            "type": "contourcarpet"
           }
          ],
          "heatmap": [
           {
            "colorbar": {
             "outlinewidth": 0,
             "tickcolor": "rgb(36,36,36)",
             "ticklen": 8,
             "ticks": "outside",
             "tickwidth": 2
            },
            "colorscale": [
             [
              0,
              "rgb(2,4,25)"
             ],
             [
              0.06274509803921569,
              "rgb(24,15,41)"
             ],
             [
              0.12549019607843137,
              "rgb(47,23,57)"
             ],
             [
              0.18823529411764706,
              "rgb(71,28,72)"
             ],
             [
              0.25098039215686274,
              "rgb(97,30,82)"
             ],
             [
              0.3137254901960784,
              "rgb(123,30,89)"
             ],
             [
              0.3764705882352941,
              "rgb(150,27,91)"
             ],
             [
              0.4392156862745098,
              "rgb(177,22,88)"
             ],
             [
              0.5019607843137255,
              "rgb(203,26,79)"
             ],
             [
              0.5647058823529412,
              "rgb(223,47,67)"
             ],
             [
              0.6274509803921569,
              "rgb(236,76,61)"
             ],
             [
              0.6901960784313725,
              "rgb(242,107,73)"
             ],
             [
              0.7529411764705882,
              "rgb(244,135,95)"
             ],
             [
              0.8156862745098039,
              "rgb(245,162,122)"
             ],
             [
              0.8784313725490196,
              "rgb(246,188,153)"
             ],
             [
              0.9411764705882353,
              "rgb(247,212,187)"
             ],
             [
              1,
              "rgb(250,234,220)"
             ]
            ],
            "type": "heatmap"
           }
          ],
          "heatmapgl": [
           {
            "colorbar": {
             "outlinewidth": 0,
             "tickcolor": "rgb(36,36,36)",
             "ticklen": 8,
             "ticks": "outside",
             "tickwidth": 2
            },
            "colorscale": [
             [
              0,
              "rgb(2,4,25)"
             ],
             [
              0.06274509803921569,
              "rgb(24,15,41)"
             ],
             [
              0.12549019607843137,
              "rgb(47,23,57)"
             ],
             [
              0.18823529411764706,
              "rgb(71,28,72)"
             ],
             [
              0.25098039215686274,
              "rgb(97,30,82)"
             ],
             [
              0.3137254901960784,
              "rgb(123,30,89)"
             ],
             [
              0.3764705882352941,
              "rgb(150,27,91)"
             ],
             [
              0.4392156862745098,
              "rgb(177,22,88)"
             ],
             [
              0.5019607843137255,
              "rgb(203,26,79)"
             ],
             [
              0.5647058823529412,
              "rgb(223,47,67)"
             ],
             [
              0.6274509803921569,
              "rgb(236,76,61)"
             ],
             [
              0.6901960784313725,
              "rgb(242,107,73)"
             ],
             [
              0.7529411764705882,
              "rgb(244,135,95)"
             ],
             [
              0.8156862745098039,
              "rgb(245,162,122)"
             ],
             [
              0.8784313725490196,
              "rgb(246,188,153)"
             ],
             [
              0.9411764705882353,
              "rgb(247,212,187)"
             ],
             [
              1,
              "rgb(250,234,220)"
             ]
            ],
            "type": "heatmapgl"
           }
          ],
          "histogram": [
           {
            "marker": {
             "colorbar": {
              "outlinewidth": 0,
              "tickcolor": "rgb(36,36,36)",
              "ticklen": 8,
              "ticks": "outside",
              "tickwidth": 2
             }
            },
            "type": "histogram"
           }
          ],
          "histogram2d": [
           {
            "colorbar": {
             "outlinewidth": 0,
             "tickcolor": "rgb(36,36,36)",
             "ticklen": 8,
             "ticks": "outside",
             "tickwidth": 2
            },
            "colorscale": [
             [
              0,
              "rgb(2,4,25)"
             ],
             [
              0.06274509803921569,
              "rgb(24,15,41)"
             ],
             [
              0.12549019607843137,
              "rgb(47,23,57)"
             ],
             [
              0.18823529411764706,
              "rgb(71,28,72)"
             ],
             [
              0.25098039215686274,
              "rgb(97,30,82)"
             ],
             [
              0.3137254901960784,
              "rgb(123,30,89)"
             ],
             [
              0.3764705882352941,
              "rgb(150,27,91)"
             ],
             [
              0.4392156862745098,
              "rgb(177,22,88)"
             ],
             [
              0.5019607843137255,
              "rgb(203,26,79)"
             ],
             [
              0.5647058823529412,
              "rgb(223,47,67)"
             ],
             [
              0.6274509803921569,
              "rgb(236,76,61)"
             ],
             [
              0.6901960784313725,
              "rgb(242,107,73)"
             ],
             [
              0.7529411764705882,
              "rgb(244,135,95)"
             ],
             [
              0.8156862745098039,
              "rgb(245,162,122)"
             ],
             [
              0.8784313725490196,
              "rgb(246,188,153)"
             ],
             [
              0.9411764705882353,
              "rgb(247,212,187)"
             ],
             [
              1,
              "rgb(250,234,220)"
             ]
            ],
            "type": "histogram2d"
           }
          ],
          "histogram2dcontour": [
           {
            "colorbar": {
             "outlinewidth": 0,
             "tickcolor": "rgb(36,36,36)",
             "ticklen": 8,
             "ticks": "outside",
             "tickwidth": 2
            },
            "colorscale": [
             [
              0,
              "rgb(2,4,25)"
             ],
             [
              0.06274509803921569,
              "rgb(24,15,41)"
             ],
             [
              0.12549019607843137,
              "rgb(47,23,57)"
             ],
             [
              0.18823529411764706,
              "rgb(71,28,72)"
             ],
             [
              0.25098039215686274,
              "rgb(97,30,82)"
             ],
             [
              0.3137254901960784,
              "rgb(123,30,89)"
             ],
             [
              0.3764705882352941,
              "rgb(150,27,91)"
             ],
             [
              0.4392156862745098,
              "rgb(177,22,88)"
             ],
             [
              0.5019607843137255,
              "rgb(203,26,79)"
             ],
             [
              0.5647058823529412,
              "rgb(223,47,67)"
             ],
             [
              0.6274509803921569,
              "rgb(236,76,61)"
             ],
             [
              0.6901960784313725,
              "rgb(242,107,73)"
             ],
             [
              0.7529411764705882,
              "rgb(244,135,95)"
             ],
             [
              0.8156862745098039,
              "rgb(245,162,122)"
             ],
             [
              0.8784313725490196,
              "rgb(246,188,153)"
             ],
             [
              0.9411764705882353,
              "rgb(247,212,187)"
             ],
             [
              1,
              "rgb(250,234,220)"
             ]
            ],
            "type": "histogram2dcontour"
           }
          ],
          "mesh3d": [
           {
            "colorbar": {
             "outlinewidth": 0,
             "tickcolor": "rgb(36,36,36)",
             "ticklen": 8,
             "ticks": "outside",
             "tickwidth": 2
            },
            "type": "mesh3d"
           }
          ],
          "parcoords": [
           {
            "line": {
             "colorbar": {
              "outlinewidth": 0,
              "tickcolor": "rgb(36,36,36)",
              "ticklen": 8,
              "ticks": "outside",
              "tickwidth": 2
             }
            },
            "type": "parcoords"
           }
          ],
          "pie": [
           {
            "automargin": true,
            "type": "pie"
           }
          ],
          "scatter": [
           {
            "marker": {
             "colorbar": {
              "outlinewidth": 0,
              "tickcolor": "rgb(36,36,36)",
              "ticklen": 8,
              "ticks": "outside",
              "tickwidth": 2
             }
            },
            "type": "scatter"
           }
          ],
          "scatter3d": [
           {
            "line": {
             "colorbar": {
              "outlinewidth": 0,
              "tickcolor": "rgb(36,36,36)",
              "ticklen": 8,
              "ticks": "outside",
              "tickwidth": 2
             }
            },
            "marker": {
             "colorbar": {
              "outlinewidth": 0,
              "tickcolor": "rgb(36,36,36)",
              "ticklen": 8,
              "ticks": "outside",
              "tickwidth": 2
             }
            },
            "type": "scatter3d"
           }
          ],
          "scattercarpet": [
           {
            "marker": {
             "colorbar": {
              "outlinewidth": 0,
              "tickcolor": "rgb(36,36,36)",
              "ticklen": 8,
              "ticks": "outside",
              "tickwidth": 2
             }
            },
            "type": "scattercarpet"
           }
          ],
          "scattergeo": [
           {
            "marker": {
             "colorbar": {
              "outlinewidth": 0,
              "tickcolor": "rgb(36,36,36)",
              "ticklen": 8,
              "ticks": "outside",
              "tickwidth": 2
             }
            },
            "type": "scattergeo"
           }
          ],
          "scattergl": [
           {
            "marker": {
             "colorbar": {
              "outlinewidth": 0,
              "tickcolor": "rgb(36,36,36)",
              "ticklen": 8,
              "ticks": "outside",
              "tickwidth": 2
             }
            },
            "type": "scattergl"
           }
          ],
          "scattermapbox": [
           {
            "marker": {
             "colorbar": {
              "outlinewidth": 0,
              "tickcolor": "rgb(36,36,36)",
              "ticklen": 8,
              "ticks": "outside",
              "tickwidth": 2
             }
            },
            "type": "scattermapbox"
           }
          ],
          "scatterpolar": [
           {
            "marker": {
             "colorbar": {
              "outlinewidth": 0,
              "tickcolor": "rgb(36,36,36)",
              "ticklen": 8,
              "ticks": "outside",
              "tickwidth": 2
             }
            },
            "type": "scatterpolar"
           }
          ],
          "scatterpolargl": [
           {
            "marker": {
             "colorbar": {
              "outlinewidth": 0,
              "tickcolor": "rgb(36,36,36)",
              "ticklen": 8,
              "ticks": "outside",
              "tickwidth": 2
             }
            },
            "type": "scatterpolargl"
           }
          ],
          "scatterternary": [
           {
            "marker": {
             "colorbar": {
              "outlinewidth": 0,
              "tickcolor": "rgb(36,36,36)",
              "ticklen": 8,
              "ticks": "outside",
              "tickwidth": 2
             }
            },
            "type": "scatterternary"
           }
          ],
          "surface": [
           {
            "colorbar": {
             "outlinewidth": 0,
             "tickcolor": "rgb(36,36,36)",
             "ticklen": 8,
             "ticks": "outside",
             "tickwidth": 2
            },
            "colorscale": [
             [
              0,
              "rgb(2,4,25)"
             ],
             [
              0.06274509803921569,
              "rgb(24,15,41)"
             ],
             [
              0.12549019607843137,
              "rgb(47,23,57)"
             ],
             [
              0.18823529411764706,
              "rgb(71,28,72)"
             ],
             [
              0.25098039215686274,
              "rgb(97,30,82)"
             ],
             [
              0.3137254901960784,
              "rgb(123,30,89)"
             ],
             [
              0.3764705882352941,
              "rgb(150,27,91)"
             ],
             [
              0.4392156862745098,
              "rgb(177,22,88)"
             ],
             [
              0.5019607843137255,
              "rgb(203,26,79)"
             ],
             [
              0.5647058823529412,
              "rgb(223,47,67)"
             ],
             [
              0.6274509803921569,
              "rgb(236,76,61)"
             ],
             [
              0.6901960784313725,
              "rgb(242,107,73)"
             ],
             [
              0.7529411764705882,
              "rgb(244,135,95)"
             ],
             [
              0.8156862745098039,
              "rgb(245,162,122)"
             ],
             [
              0.8784313725490196,
              "rgb(246,188,153)"
             ],
             [
              0.9411764705882353,
              "rgb(247,212,187)"
             ],
             [
              1,
              "rgb(250,234,220)"
             ]
            ],
            "type": "surface"
           }
          ],
          "table": [
           {
            "cells": {
             "fill": {
              "color": "rgb(231,231,240)"
             },
             "line": {
              "color": "white"
             }
            },
            "header": {
             "fill": {
              "color": "rgb(183,183,191)"
             },
             "line": {
              "color": "white"
             }
            },
            "type": "table"
           }
          ]
         },
         "layout": {
          "annotationdefaults": {
           "arrowcolor": "rgb(67,103,167)"
          },
          "coloraxis": {
           "colorbar": {
            "outlinewidth": 0,
            "tickcolor": "rgb(36,36,36)",
            "ticklen": 8,
            "ticks": "outside",
            "tickwidth": 2
           }
          },
          "colorscale": {
           "sequential": [
            [
             0,
             "rgb(2,4,25)"
            ],
            [
             0.06274509803921569,
             "rgb(24,15,41)"
            ],
            [
             0.12549019607843137,
             "rgb(47,23,57)"
            ],
            [
             0.18823529411764706,
             "rgb(71,28,72)"
            ],
            [
             0.25098039215686274,
             "rgb(97,30,82)"
            ],
            [
             0.3137254901960784,
             "rgb(123,30,89)"
            ],
            [
             0.3764705882352941,
             "rgb(150,27,91)"
            ],
            [
             0.4392156862745098,
             "rgb(177,22,88)"
            ],
            [
             0.5019607843137255,
             "rgb(203,26,79)"
            ],
            [
             0.5647058823529412,
             "rgb(223,47,67)"
            ],
            [
             0.6274509803921569,
             "rgb(236,76,61)"
            ],
            [
             0.6901960784313725,
             "rgb(242,107,73)"
            ],
            [
             0.7529411764705882,
             "rgb(244,135,95)"
            ],
            [
             0.8156862745098039,
             "rgb(245,162,122)"
            ],
            [
             0.8784313725490196,
             "rgb(246,188,153)"
            ],
            [
             0.9411764705882353,
             "rgb(247,212,187)"
            ],
            [
             1,
             "rgb(250,234,220)"
            ]
           ],
           "sequentialminus": [
            [
             0,
             "rgb(2,4,25)"
            ],
            [
             0.06274509803921569,
             "rgb(24,15,41)"
            ],
            [
             0.12549019607843137,
             "rgb(47,23,57)"
            ],
            [
             0.18823529411764706,
             "rgb(71,28,72)"
            ],
            [
             0.25098039215686274,
             "rgb(97,30,82)"
            ],
            [
             0.3137254901960784,
             "rgb(123,30,89)"
            ],
            [
             0.3764705882352941,
             "rgb(150,27,91)"
            ],
            [
             0.4392156862745098,
             "rgb(177,22,88)"
            ],
            [
             0.5019607843137255,
             "rgb(203,26,79)"
            ],
            [
             0.5647058823529412,
             "rgb(223,47,67)"
            ],
            [
             0.6274509803921569,
             "rgb(236,76,61)"
            ],
            [
             0.6901960784313725,
             "rgb(242,107,73)"
            ],
            [
             0.7529411764705882,
             "rgb(244,135,95)"
            ],
            [
             0.8156862745098039,
             "rgb(245,162,122)"
            ],
            [
             0.8784313725490196,
             "rgb(246,188,153)"
            ],
            [
             0.9411764705882353,
             "rgb(247,212,187)"
            ],
            [
             1,
             "rgb(250,234,220)"
            ]
           ]
          },
          "colorway": [
           "rgb(76,114,176)",
           "rgb(221,132,82)",
           "rgb(85,168,104)",
           "rgb(196,78,82)",
           "rgb(129,114,179)",
           "rgb(147,120,96)",
           "rgb(218,139,195)",
           "rgb(140,140,140)",
           "rgb(204,185,116)",
           "rgb(100,181,205)"
          ],
          "font": {
           "color": "rgb(36,36,36)"
          },
          "geo": {
           "bgcolor": "white",
           "lakecolor": "white",
           "landcolor": "rgb(234,234,242)",
           "showlakes": true,
           "showland": true,
           "subunitcolor": "white"
          },
          "hoverlabel": {
           "align": "left"
          },
          "hovermode": "closest",
          "paper_bgcolor": "white",
          "plot_bgcolor": "rgb(234,234,242)",
          "polar": {
           "angularaxis": {
            "gridcolor": "white",
            "linecolor": "white",
            "showgrid": true,
            "ticks": ""
           },
           "bgcolor": "rgb(234,234,242)",
           "radialaxis": {
            "gridcolor": "white",
            "linecolor": "white",
            "showgrid": true,
            "ticks": ""
           }
          },
          "scene": {
           "xaxis": {
            "backgroundcolor": "rgb(234,234,242)",
            "gridcolor": "white",
            "gridwidth": 2,
            "linecolor": "white",
            "showbackground": true,
            "showgrid": true,
            "ticks": "",
            "zerolinecolor": "white"
           },
           "yaxis": {
            "backgroundcolor": "rgb(234,234,242)",
            "gridcolor": "white",
            "gridwidth": 2,
            "linecolor": "white",
            "showbackground": true,
            "showgrid": true,
            "ticks": "",
            "zerolinecolor": "white"
           },
           "zaxis": {
            "backgroundcolor": "rgb(234,234,242)",
            "gridcolor": "white",
            "gridwidth": 2,
            "linecolor": "white",
            "showbackground": true,
            "showgrid": true,
            "ticks": "",
            "zerolinecolor": "white"
           }
          },
          "shapedefaults": {
           "fillcolor": "rgb(67,103,167)",
           "line": {
            "width": 0
           },
           "opacity": 0.5
          },
          "ternary": {
           "aaxis": {
            "gridcolor": "white",
            "linecolor": "white",
            "showgrid": true,
            "ticks": ""
           },
           "baxis": {
            "gridcolor": "white",
            "linecolor": "white",
            "showgrid": true,
            "ticks": ""
           },
           "bgcolor": "rgb(234,234,242)",
           "caxis": {
            "gridcolor": "white",
            "linecolor": "white",
            "showgrid": true,
            "ticks": ""
           }
          },
          "xaxis": {
           "automargin": true,
           "gridcolor": "white",
           "linecolor": "white",
           "showgrid": true,
           "ticks": "",
           "title": {
            "standoff": 15
           },
           "zerolinecolor": "white"
          },
          "yaxis": {
           "automargin": true,
           "gridcolor": "white",
           "linecolor": "white",
           "showgrid": true,
           "ticks": "",
           "title": {
            "standoff": 15
           },
           "zerolinecolor": "white"
          }
         }
        }
       }
      },
      "image/png": "[encoded data removed]",
      "text/html": [
       "<div>                            <div id=\"5ddd2eba-dfc7-4daf-bc2a-1e1a6ff8ad8e\" class=\"plotly-graph-div\" style=\"height:525px; width:100%;\"></div>            <script type=\"text/javascript\">                require([\"plotly\"], function(Plotly) {                    window.PLOTLYENV=window.PLOTLYENV || {};                                    if (document.getElementById(\"5ddd2eba-dfc7-4daf-bc2a-1e1a6ff8ad8e\")) {                    Plotly.newPlot(                        \"5ddd2eba-dfc7-4daf-bc2a-1e1a6ff8ad8e\",                        [{\"hovertemplate\": \"Fastest Lap Time=%{marker.color}<br>Full Name=%{theta}<extra></extra>\", \"legendgroup\": \"\", \"marker\": {\"color\": [87.66230303030302, 84.7401666666667, 85.46701851851851, 90.96501092896177, 88.38799999999999, 89.57177099236644, 85.78374561403508, 84.60235593220338, 89.16878191489363, 90.82882236842103], \"coloraxis\": \"coloraxis\"}, \"name\": \"\", \"r\": [87.66230303030302, 84.7401666666667, 85.46701851851851, 90.96501092896177, 88.38799999999999, 89.57177099236644, 85.78374561403508, 84.60235593220338, 89.16878191489363, 90.82882236842103], \"showlegend\": false, \"subplot\": \"polar\", \"theta\": [\"Alexander Albon\", \"Carlos Sainz\", \"Charles Leclerc\", \"Daniel Ricciardo\", \"Lando Norris\", \"Lewis Hamilton\", \"Max Verstappen\", \"Pierre Gasly\", \"Sergio P\\u00e9rez\", \"Valtteri Bottas\"], \"type\": \"barpolar\"}],                        {\"barmode\": \"relative\", \"coloraxis\": {\"colorbar\": {\"title\": {\"text\": \"Fastest Lap Time\"}}, \"colorscale\": [[0.0, \"rgb(2,4,25)\"], [0.0625, \"rgb(24,15,41)\"], [0.125, \"rgb(47,23,57)\"], [0.1875, \"rgb(71,28,72)\"], [0.25, \"rgb(97,30,82)\"], [0.3125, \"rgb(123,30,89)\"], [0.375, \"rgb(150,27,91)\"], [0.4375, \"rgb(177,22,88)\"], [0.5, \"rgb(203,26,79)\"], [0.5625, \"rgb(223,47,67)\"], [0.625, \"rgb(236,76,61)\"], [0.6875, \"rgb(242,107,73)\"], [0.75, \"rgb(244,135,95)\"], [0.8125, \"rgb(245,162,122)\"], [0.875, \"rgb(246,188,153)\"], [0.9375, \"rgb(247,212,187)\"], [1.0, \"rgb(250,234,220)\"]]}, \"legend\": {\"tracegroupgap\": 0}, \"margin\": {\"t\": 60}, \"polar\": {\"angularaxis\": {\"direction\": \"clockwise\", \"rotation\": 90}, \"domain\": {\"x\": [0.0, 1.0], \"y\": [0.0, 1.0]}, \"radialaxis\": {\"range\": [75, 100]}}, \"template\": {\"data\": {\"bar\": [{\"error_x\": {\"color\": \"rgb(36,36,36)\"}, \"error_y\": {\"color\": \"rgb(36,36,36)\"}, \"marker\": {\"line\": {\"color\": \"rgb(234,234,242)\", \"width\": 0.5}}, \"type\": \"bar\"}], \"barpolar\": [{\"marker\": {\"line\": {\"color\": \"rgb(234,234,242)\", \"width\": 0.5}}, \"type\": \"barpolar\"}], \"carpet\": [{\"aaxis\": {\"endlinecolor\": \"rgb(36,36,36)\", \"gridcolor\": \"white\", \"linecolor\": \"white\", \"minorgridcolor\": \"white\", \"startlinecolor\": \"rgb(36,36,36)\"}, \"baxis\": {\"endlinecolor\": \"rgb(36,36,36)\", \"gridcolor\": \"white\", \"linecolor\": \"white\", \"minorgridcolor\": \"white\", \"startlinecolor\": \"rgb(36,36,36)\"}, \"type\": \"carpet\"}], \"choropleth\": [{\"colorbar\": {\"outlinewidth\": 0, \"tickcolor\": \"rgb(36,36,36)\", \"ticklen\": 8, \"ticks\": \"outside\", \"tickwidth\": 2}, \"type\": \"choropleth\"}], \"contour\": [{\"colorbar\": {\"outlinewidth\": 0, \"tickcolor\": \"rgb(36,36,36)\", \"ticklen\": 8, \"ticks\": \"outside\", \"tickwidth\": 2}, \"colorscale\": [[0.0, \"rgb(2,4,25)\"], [0.06274509803921569, \"rgb(24,15,41)\"], [0.12549019607843137, \"rgb(47,23,57)\"], [0.18823529411764706, \"rgb(71,28,72)\"], [0.25098039215686274, \"rgb(97,30,82)\"], [0.3137254901960784, \"rgb(123,30,89)\"], [0.3764705882352941, \"rgb(150,27,91)\"], [0.4392156862745098, \"rgb(177,22,88)\"], [0.5019607843137255, \"rgb(203,26,79)\"], [0.5647058823529412, \"rgb(223,47,67)\"], [0.6274509803921569, \"rgb(236,76,61)\"], [0.6901960784313725, \"rgb(242,107,73)\"], [0.7529411764705882, \"rgb(244,135,95)\"], [0.8156862745098039, \"rgb(245,162,122)\"], [0.8784313725490196, \"rgb(246,188,153)\"], [0.9411764705882353, \"rgb(247,212,187)\"], [1.0, \"rgb(250,234,220)\"]], \"type\": \"contour\"}], \"contourcarpet\": [{\"colorbar\": {\"outlinewidth\": 0, \"tickcolor\": \"rgb(36,36,36)\", \"ticklen\": 8, \"ticks\": \"outside\", \"tickwidth\": 2}, \"type\": \"contourcarpet\"}], \"heatmap\": [{\"colorbar\": {\"outlinewidth\": 0, \"tickcolor\": \"rgb(36,36,36)\", \"ticklen\": 8, \"ticks\": \"outside\", \"tickwidth\": 2}, \"colorscale\": [[0.0, \"rgb(2,4,25)\"], [0.06274509803921569, \"rgb(24,15,41)\"], [0.12549019607843137, \"rgb(47,23,57)\"], [0.18823529411764706, \"rgb(71,28,72)\"], [0.25098039215686274, \"rgb(97,30,82)\"], [0.3137254901960784, \"rgb(123,30,89)\"], [0.3764705882352941, \"rgb(150,27,91)\"], [0.4392156862745098, \"rgb(177,22,88)\"], [0.5019607843137255, \"rgb(203,26,79)\"], [0.5647058823529412, \"rgb(223,47,67)\"], [0.6274509803921569, \"rgb(236,76,61)\"], [0.6901960784313725, \"rgb(242,107,73)\"], [0.7529411764705882, \"rgb(244,135,95)\"], [0.8156862745098039, \"rgb(245,162,122)\"], [0.8784313725490196, \"rgb(246,188,153)\"], [0.9411764705882353, \"rgb(247,212,187)\"], [1.0, \"rgb(250,234,220)\"]], \"type\": \"heatmap\"}], \"heatmapgl\": [{\"colorbar\": {\"outlinewidth\": 0, \"tickcolor\": \"rgb(36,36,36)\", \"ticklen\": 8, \"ticks\": \"outside\", \"tickwidth\": 2}, \"colorscale\": [[0.0, \"rgb(2,4,25)\"], [0.06274509803921569, \"rgb(24,15,41)\"], [0.12549019607843137, \"rgb(47,23,57)\"], [0.18823529411764706, \"rgb(71,28,72)\"], [0.25098039215686274, \"rgb(97,30,82)\"], [0.3137254901960784, \"rgb(123,30,89)\"], [0.3764705882352941, \"rgb(150,27,91)\"], [0.4392156862745098, \"rgb(177,22,88)\"], [0.5019607843137255, \"rgb(203,26,79)\"], [0.5647058823529412, \"rgb(223,47,67)\"], [0.6274509803921569, \"rgb(236,76,61)\"], [0.6901960784313725, \"rgb(242,107,73)\"], [0.7529411764705882, \"rgb(244,135,95)\"], [0.8156862745098039, \"rgb(245,162,122)\"], [0.8784313725490196, \"rgb(246,188,153)\"], [0.9411764705882353, \"rgb(247,212,187)\"], [1.0, \"rgb(250,234,220)\"]], \"type\": \"heatmapgl\"}], \"histogram\": [{\"marker\": {\"colorbar\": {\"outlinewidth\": 0, \"tickcolor\": \"rgb(36,36,36)\", \"ticklen\": 8, \"ticks\": \"outside\", \"tickwidth\": 2}}, \"type\": \"histogram\"}], \"histogram2d\": [{\"colorbar\": {\"outlinewidth\": 0, \"tickcolor\": \"rgb(36,36,36)\", \"ticklen\": 8, \"ticks\": \"outside\", \"tickwidth\": 2}, \"colorscale\": [[0.0, \"rgb(2,4,25)\"], [0.06274509803921569, \"rgb(24,15,41)\"], [0.12549019607843137, \"rgb(47,23,57)\"], [0.18823529411764706, \"rgb(71,28,72)\"], [0.25098039215686274, \"rgb(97,30,82)\"], [0.3137254901960784, \"rgb(123,30,89)\"], [0.3764705882352941, \"rgb(150,27,91)\"], [0.4392156862745098, \"rgb(177,22,88)\"], [0.5019607843137255, \"rgb(203,26,79)\"], [0.5647058823529412, \"rgb(223,47,67)\"], [0.6274509803921569, \"rgb(236,76,61)\"], [0.6901960784313725, \"rgb(242,107,73)\"], [0.7529411764705882, \"rgb(244,135,95)\"], [0.8156862745098039, \"rgb(245,162,122)\"], [0.8784313725490196, \"rgb(246,188,153)\"], [0.9411764705882353, \"rgb(247,212,187)\"], [1.0, \"rgb(250,234,220)\"]], \"type\": \"histogram2d\"}], \"histogram2dcontour\": [{\"colorbar\": {\"outlinewidth\": 0, \"tickcolor\": \"rgb(36,36,36)\", \"ticklen\": 8, \"ticks\": \"outside\", \"tickwidth\": 2}, \"colorscale\": [[0.0, \"rgb(2,4,25)\"], [0.06274509803921569, \"rgb(24,15,41)\"], [0.12549019607843137, \"rgb(47,23,57)\"], [0.18823529411764706, \"rgb(71,28,72)\"], [0.25098039215686274, \"rgb(97,30,82)\"], [0.3137254901960784, \"rgb(123,30,89)\"], [0.3764705882352941, \"rgb(150,27,91)\"], [0.4392156862745098, \"rgb(177,22,88)\"], [0.5019607843137255, \"rgb(203,26,79)\"], [0.5647058823529412, \"rgb(223,47,67)\"], [0.6274509803921569, \"rgb(236,76,61)\"], [0.6901960784313725, \"rgb(242,107,73)\"], [0.7529411764705882, \"rgb(244,135,95)\"], [0.8156862745098039, \"rgb(245,162,122)\"], [0.8784313725490196, \"rgb(246,188,153)\"], [0.9411764705882353, \"rgb(247,212,187)\"], [1.0, \"rgb(250,234,220)\"]], \"type\": \"histogram2dcontour\"}], \"mesh3d\": [{\"colorbar\": {\"outlinewidth\": 0, \"tickcolor\": \"rgb(36,36,36)\", \"ticklen\": 8, \"ticks\": \"outside\", \"tickwidth\": 2}, \"type\": \"mesh3d\"}], \"parcoords\": [{\"line\": {\"colorbar\": {\"outlinewidth\": 0, \"tickcolor\": \"rgb(36,36,36)\", \"ticklen\": 8, \"ticks\": \"outside\", \"tickwidth\": 2}}, \"type\": \"parcoords\"}], \"pie\": [{\"automargin\": true, \"type\": \"pie\"}], \"scatter\": [{\"marker\": {\"colorbar\": {\"outlinewidth\": 0, \"tickcolor\": \"rgb(36,36,36)\", \"ticklen\": 8, \"ticks\": \"outside\", \"tickwidth\": 2}}, \"type\": \"scatter\"}], \"scatter3d\": [{\"line\": {\"colorbar\": {\"outlinewidth\": 0, \"tickcolor\": \"rgb(36,36,36)\", \"ticklen\": 8, \"ticks\": \"outside\", \"tickwidth\": 2}}, \"marker\": {\"colorbar\": {\"outlinewidth\": 0, \"tickcolor\": \"rgb(36,36,36)\", \"ticklen\": 8, \"ticks\": \"outside\", \"tickwidth\": 2}}, \"type\": \"scatter3d\"}], \"scattercarpet\": [{\"marker\": {\"colorbar\": {\"outlinewidth\": 0, \"tickcolor\": \"rgb(36,36,36)\", \"ticklen\": 8, \"ticks\": \"outside\", \"tickwidth\": 2}}, \"type\": \"scattercarpet\"}], \"scattergeo\": [{\"marker\": {\"colorbar\": {\"outlinewidth\": 0, \"tickcolor\": \"rgb(36,36,36)\", \"ticklen\": 8, \"ticks\": \"outside\", \"tickwidth\": 2}}, \"type\": \"scattergeo\"}], \"scattergl\": [{\"marker\": {\"colorbar\": {\"outlinewidth\": 0, \"tickcolor\": \"rgb(36,36,36)\", \"ticklen\": 8, \"ticks\": \"outside\", \"tickwidth\": 2}}, \"type\": \"scattergl\"}], \"scattermapbox\": [{\"marker\": {\"colorbar\": {\"outlinewidth\": 0, \"tickcolor\": \"rgb(36,36,36)\", \"ticklen\": 8, \"ticks\": \"outside\", \"tickwidth\": 2}}, \"type\": \"scattermapbox\"}], \"scatterpolar\": [{\"marker\": {\"colorbar\": {\"outlinewidth\": 0, \"tickcolor\": \"rgb(36,36,36)\", \"ticklen\": 8, \"ticks\": \"outside\", \"tickwidth\": 2}}, \"type\": \"scatterpolar\"}], \"scatterpolargl\": [{\"marker\": {\"colorbar\": {\"outlinewidth\": 0, \"tickcolor\": \"rgb(36,36,36)\", \"ticklen\": 8, \"ticks\": \"outside\", \"tickwidth\": 2}}, \"type\": \"scatterpolargl\"}], \"scatterternary\": [{\"marker\": {\"colorbar\": {\"outlinewidth\": 0, \"tickcolor\": \"rgb(36,36,36)\", \"ticklen\": 8, \"ticks\": \"outside\", \"tickwidth\": 2}}, \"type\": \"scatterternary\"}], \"surface\": [{\"colorbar\": {\"outlinewidth\": 0, \"tickcolor\": \"rgb(36,36,36)\", \"ticklen\": 8, \"ticks\": \"outside\", \"tickwidth\": 2}, \"colorscale\": [[0.0, \"rgb(2,4,25)\"], [0.06274509803921569, \"rgb(24,15,41)\"], [0.12549019607843137, \"rgb(47,23,57)\"], [0.18823529411764706, \"rgb(71,28,72)\"], [0.25098039215686274, \"rgb(97,30,82)\"], [0.3137254901960784, \"rgb(123,30,89)\"], [0.3764705882352941, \"rgb(150,27,91)\"], [0.4392156862745098, \"rgb(177,22,88)\"], [0.5019607843137255, \"rgb(203,26,79)\"], [0.5647058823529412, \"rgb(223,47,67)\"], [0.6274509803921569, \"rgb(236,76,61)\"], [0.6901960784313725, \"rgb(242,107,73)\"], [0.7529411764705882, \"rgb(244,135,95)\"], [0.8156862745098039, \"rgb(245,162,122)\"], [0.8784313725490196, \"rgb(246,188,153)\"], [0.9411764705882353, \"rgb(247,212,187)\"], [1.0, \"rgb(250,234,220)\"]], \"type\": \"surface\"}], \"table\": [{\"cells\": {\"fill\": {\"color\": \"rgb(231,231,240)\"}, \"line\": {\"color\": \"white\"}}, \"header\": {\"fill\": {\"color\": \"rgb(183,183,191)\"}, \"line\": {\"color\": \"white\"}}, \"type\": \"table\"}]}, \"layout\": {\"annotationdefaults\": {\"arrowcolor\": \"rgb(67,103,167)\"}, \"coloraxis\": {\"colorbar\": {\"outlinewidth\": 0, \"tickcolor\": \"rgb(36,36,36)\", \"ticklen\": 8, \"ticks\": \"outside\", \"tickwidth\": 2}}, \"colorscale\": {\"sequential\": [[0.0, \"rgb(2,4,25)\"], [0.06274509803921569, \"rgb(24,15,41)\"], [0.12549019607843137, \"rgb(47,23,57)\"], [0.18823529411764706, \"rgb(71,28,72)\"], [0.25098039215686274, \"rgb(97,30,82)\"], [0.3137254901960784, \"rgb(123,30,89)\"], [0.3764705882352941, \"rgb(150,27,91)\"], [0.4392156862745098, \"rgb(177,22,88)\"], [0.5019607843137255, \"rgb(203,26,79)\"], [0.5647058823529412, \"rgb(223,47,67)\"], [0.6274509803921569, \"rgb(236,76,61)\"], [0.6901960784313725, \"rgb(242,107,73)\"], [0.7529411764705882, \"rgb(244,135,95)\"], [0.8156862745098039, \"rgb(245,162,122)\"], [0.8784313725490196, \"rgb(246,188,153)\"], [0.9411764705882353, \"rgb(247,212,187)\"], [1.0, \"rgb(250,234,220)\"]], \"sequentialminus\": [[0.0, \"rgb(2,4,25)\"], [0.06274509803921569, \"rgb(24,15,41)\"], [0.12549019607843137, \"rgb(47,23,57)\"], [0.18823529411764706, \"rgb(71,28,72)\"], [0.25098039215686274, \"rgb(97,30,82)\"], [0.3137254901960784, \"rgb(123,30,89)\"], [0.3764705882352941, \"rgb(150,27,91)\"], [0.4392156862745098, \"rgb(177,22,88)\"], [0.5019607843137255, \"rgb(203,26,79)\"], [0.5647058823529412, \"rgb(223,47,67)\"], [0.6274509803921569, \"rgb(236,76,61)\"], [0.6901960784313725, \"rgb(242,107,73)\"], [0.7529411764705882, \"rgb(244,135,95)\"], [0.8156862745098039, \"rgb(245,162,122)\"], [0.8784313725490196, \"rgb(246,188,153)\"], [0.9411764705882353, \"rgb(247,212,187)\"], [1.0, \"rgb(250,234,220)\"]]}, \"colorway\": [\"rgb(76,114,176)\", \"rgb(221,132,82)\", \"rgb(85,168,104)\", \"rgb(196,78,82)\", \"rgb(129,114,179)\", \"rgb(147,120,96)\", \"rgb(218,139,195)\", \"rgb(140,140,140)\", \"rgb(204,185,116)\", \"rgb(100,181,205)\"], \"font\": {\"color\": \"rgb(36,36,36)\"}, \"geo\": {\"bgcolor\": \"white\", \"lakecolor\": \"white\", \"landcolor\": \"rgb(234,234,242)\", \"showlakes\": true, \"showland\": true, \"subunitcolor\": \"white\"}, \"hoverlabel\": {\"align\": \"left\"}, \"hovermode\": \"closest\", \"paper_bgcolor\": \"white\", \"plot_bgcolor\": \"rgb(234,234,242)\", \"polar\": {\"angularaxis\": {\"gridcolor\": \"white\", \"linecolor\": \"white\", \"showgrid\": true, \"ticks\": \"\"}, \"bgcolor\": \"rgb(234,234,242)\", \"radialaxis\": {\"gridcolor\": \"white\", \"linecolor\": \"white\", \"showgrid\": true, \"ticks\": \"\"}}, \"scene\": {\"xaxis\": {\"backgroundcolor\": \"rgb(234,234,242)\", \"gridcolor\": \"white\", \"gridwidth\": 2, \"linecolor\": \"white\", \"showbackground\": true, \"showgrid\": true, \"ticks\": \"\", \"zerolinecolor\": \"white\"}, \"yaxis\": {\"backgroundcolor\": \"rgb(234,234,242)\", \"gridcolor\": \"white\", \"gridwidth\": 2, \"linecolor\": \"white\", \"showbackground\": true, \"showgrid\": true, \"ticks\": \"\", \"zerolinecolor\": \"white\"}, \"zaxis\": {\"backgroundcolor\": \"rgb(234,234,242)\", \"gridcolor\": \"white\", \"gridwidth\": 2, \"linecolor\": \"white\", \"showbackground\": true, \"showgrid\": true, \"ticks\": \"\", \"zerolinecolor\": \"white\"}}, \"shapedefaults\": {\"fillcolor\": \"rgb(67,103,167)\", \"line\": {\"width\": 0}, \"opacity\": 0.5}, \"ternary\": {\"aaxis\": {\"gridcolor\": \"white\", \"linecolor\": \"white\", \"showgrid\": true, \"ticks\": \"\"}, \"baxis\": {\"gridcolor\": \"white\", \"linecolor\": \"white\", \"showgrid\": true, \"ticks\": \"\"}, \"bgcolor\": \"rgb(234,234,242)\", \"caxis\": {\"gridcolor\": \"white\", \"linecolor\": \"white\", \"showgrid\": true, \"ticks\": \"\"}}, \"xaxis\": {\"automargin\": true, \"gridcolor\": \"white\", \"linecolor\": \"white\", \"showgrid\": true, \"ticks\": \"\", \"title\": {\"standoff\": 15}, \"zerolinecolor\": \"white\"}, \"yaxis\": {\"automargin\": true, \"gridcolor\": \"white\", \"linecolor\": \"white\", \"showgrid\": true, \"ticks\": \"\", \"title\": {\"standoff\": 15}, \"zerolinecolor\": \"white\"}}}},                        {\"responsive\": true}                    ).then(function(){\n",
       "                            \n",
       "var gd = document.getElementById('5ddd2eba-dfc7-4daf-bc2a-1e1a6ff8ad8e');\n",
       "var x = new MutationObserver(function (mutations, observer) {{\n",
       "        var display = window.getComputedStyle(gd).display;\n",
       "        if (!display || display === 'none') {{\n",
       "            console.log([gd, 'removed!']);\n",
       "            Plotly.purge(gd);\n",
       "            observer.disconnect();\n",
       "        }}\n",
       "}});\n",
       "\n",
       "// Listen for the removal of the full notebook cells\n",
       "var notebookContainer = gd.closest('#notebook-container');\n",
       "if (notebookContainer) {{\n",
       "    x.observe(notebookContainer, {childList: true});\n",
       "}}\n",
       "\n",
       "// Listen for the clearing of the current output cell\n",
       "var outputEl = gd.closest('.output');\n",
       "if (outputEl) {{\n",
       "    x.observe(outputEl, {childList: true});\n",
       "}}\n",
       "\n",
       "                        })                };                });            </script>        </div>"
      ]
     },
     "metadata": {},
     "output_type": "display_data"
    },
    {
     "data": {
      "text/plain": [
       "'https://plotly.com/~dgustave/4/'"
      ]
     },
     "execution_count": 108,
     "metadata": {},
     "output_type": "execute_result"
    }
   ],
   "source": [
    "fig1 = px.bar_polar(driver_avg_df, r=\"Fastest Lap Time\", range_r= [75, 100], theta=\"Full Name\", color=\"Fastest Lap Time\", template=\"seaborn\",\n",
    "            color_discrete_sequence= px.colors.sequential.Plasma_r)\n",
    "fig1.show()\n",
    "csp.plot(fig1, filename = 'Awarding Bonus Points', auto_open=True)"
   ]
  },
  {
   "cell_type": "markdown",
   "metadata": {},
   "source": [
    "<div class=\"alert alert-block alert-warning\">\n",
    "    <b>Most Likely To Recieve Bonus Points on Average:</b> Pierre Gasly on average is mostly likely to recieve bonus points being in the top 10. \n",
    "    </div>"
   ]
  },
  {
   "cell_type": "code",
   "execution_count": 109,
   "metadata": {},
   "outputs": [],
   "source": [
    "winners = rank_ratio.loc[rank_ratio['Win or Loss'] == \"win\"]"
   ]
  },
  {
   "cell_type": "code",
   "execution_count": 110,
   "metadata": {},
   "outputs": [
    {
     "data": {
      "text/html": [
       "<div>\n",
       "<style scoped>\n",
       "    .dataframe tbody tr th:only-of-type {\n",
       "        vertical-align: middle;\n",
       "    }\n",
       "\n",
       "    .dataframe tbody tr th {\n",
       "        vertical-align: top;\n",
       "    }\n",
       "\n",
       "    .dataframe thead th {\n",
       "        text-align: right;\n",
       "    }\n",
       "</style>\n",
       "<table border=\"1\" class=\"dataframe\">\n",
       "  <thead>\n",
       "    <tr style=\"text-align: right;\">\n",
       "      <th></th>\n",
       "      <th>Full Name</th>\n",
       "      <th>Win or Loss</th>\n",
       "      <th>Total Races</th>\n",
       "      <th>W/L Ratio</th>\n",
       "      <th>W/L Percent</th>\n",
       "    </tr>\n",
       "  </thead>\n",
       "  <tbody>\n",
       "    <tr>\n",
       "      <th>3</th>\n",
       "      <td>Charles Leclerc</td>\n",
       "      <td>win</td>\n",
       "      <td>2</td>\n",
       "      <td>0.037037</td>\n",
       "      <td>3.7</td>\n",
       "    </tr>\n",
       "    <tr>\n",
       "      <th>5</th>\n",
       "      <td>Daniel Ricciardo</td>\n",
       "      <td>win</td>\n",
       "      <td>7</td>\n",
       "      <td>0.038251</td>\n",
       "      <td>3.8</td>\n",
       "    </tr>\n",
       "    <tr>\n",
       "      <th>8</th>\n",
       "      <td>Lewis Hamilton</td>\n",
       "      <td>win</td>\n",
       "      <td>92</td>\n",
       "      <td>0.351145</td>\n",
       "      <td>35.1</td>\n",
       "    </tr>\n",
       "    <tr>\n",
       "      <th>10</th>\n",
       "      <td>Max Verstappen</td>\n",
       "      <td>win</td>\n",
       "      <td>9</td>\n",
       "      <td>0.078947</td>\n",
       "      <td>7.9</td>\n",
       "    </tr>\n",
       "    <tr>\n",
       "      <th>12</th>\n",
       "      <td>Pierre Gasly</td>\n",
       "      <td>win</td>\n",
       "      <td>1</td>\n",
       "      <td>0.016949</td>\n",
       "      <td>1.7</td>\n",
       "    </tr>\n",
       "    <tr>\n",
       "      <th>15</th>\n",
       "      <td>Valtteri Bottas</td>\n",
       "      <td>win</td>\n",
       "      <td>9</td>\n",
       "      <td>0.059211</td>\n",
       "      <td>5.9</td>\n",
       "    </tr>\n",
       "  </tbody>\n",
       "</table>\n",
       "</div>"
      ],
      "text/plain": [
       "           Full Name Win or Loss  Total Races  W/L Ratio  W/L Percent\n",
       "3    Charles Leclerc         win            2   0.037037          3.7\n",
       "5   Daniel Ricciardo         win            7   0.038251          3.8\n",
       "8     Lewis Hamilton         win           92   0.351145         35.1\n",
       "10    Max Verstappen         win            9   0.078947          7.9\n",
       "12      Pierre Gasly         win            1   0.016949          1.7\n",
       "15   Valtteri Bottas         win            9   0.059211          5.9"
      ]
     },
     "execution_count": 110,
     "metadata": {},
     "output_type": "execute_result"
    }
   ],
   "source": [
    "winners"
   ]
  },
  {
   "cell_type": "code",
   "execution_count": 111,
   "metadata": {},
   "outputs": [
    {
     "data": {
      "text/html": [
       "<div>\n",
       "<style scoped>\n",
       "    .dataframe tbody tr th:only-of-type {\n",
       "        vertical-align: middle;\n",
       "    }\n",
       "\n",
       "    .dataframe tbody tr th {\n",
       "        vertical-align: top;\n",
       "    }\n",
       "\n",
       "    .dataframe thead th {\n",
       "        text-align: right;\n",
       "    }\n",
       "</style>\n",
       "<table border=\"1\" class=\"dataframe\">\n",
       "  <thead>\n",
       "    <tr style=\"text-align: right;\">\n",
       "      <th></th>\n",
       "      <th>Full Name</th>\n",
       "      <th>Win or Loss</th>\n",
       "      <th>Total Races</th>\n",
       "      <th>W/L Ratio</th>\n",
       "      <th>W/L Percent</th>\n",
       "    </tr>\n",
       "  </thead>\n",
       "  <tbody>\n",
       "    <tr>\n",
       "      <th>0</th>\n",
       "      <td>Alexander Albon</td>\n",
       "      <td>lost</td>\n",
       "      <td>33</td>\n",
       "      <td>1.000000</td>\n",
       "      <td>100.0</td>\n",
       "    </tr>\n",
       "    <tr>\n",
       "      <th>1</th>\n",
       "      <td>Carlos Sainz</td>\n",
       "      <td>lost</td>\n",
       "      <td>114</td>\n",
       "      <td>1.000000</td>\n",
       "      <td>100.0</td>\n",
       "    </tr>\n",
       "    <tr>\n",
       "      <th>2</th>\n",
       "      <td>Charles Leclerc</td>\n",
       "      <td>lost</td>\n",
       "      <td>52</td>\n",
       "      <td>0.962963</td>\n",
       "      <td>96.3</td>\n",
       "    </tr>\n",
       "    <tr>\n",
       "      <th>3</th>\n",
       "      <td>Charles Leclerc</td>\n",
       "      <td>win</td>\n",
       "      <td>2</td>\n",
       "      <td>0.037037</td>\n",
       "      <td>3.7</td>\n",
       "    </tr>\n",
       "    <tr>\n",
       "      <th>4</th>\n",
       "      <td>Daniel Ricciardo</td>\n",
       "      <td>lost</td>\n",
       "      <td>176</td>\n",
       "      <td>0.961749</td>\n",
       "      <td>96.2</td>\n",
       "    </tr>\n",
       "    <tr>\n",
       "      <th>5</th>\n",
       "      <td>Daniel Ricciardo</td>\n",
       "      <td>win</td>\n",
       "      <td>7</td>\n",
       "      <td>0.038251</td>\n",
       "      <td>3.8</td>\n",
       "    </tr>\n",
       "    <tr>\n",
       "      <th>6</th>\n",
       "      <td>Lando Norris</td>\n",
       "      <td>lost</td>\n",
       "      <td>33</td>\n",
       "      <td>1.000000</td>\n",
       "      <td>100.0</td>\n",
       "    </tr>\n",
       "    <tr>\n",
       "      <th>7</th>\n",
       "      <td>Lewis Hamilton</td>\n",
       "      <td>lost</td>\n",
       "      <td>170</td>\n",
       "      <td>0.648855</td>\n",
       "      <td>64.9</td>\n",
       "    </tr>\n",
       "    <tr>\n",
       "      <th>8</th>\n",
       "      <td>Lewis Hamilton</td>\n",
       "      <td>win</td>\n",
       "      <td>92</td>\n",
       "      <td>0.351145</td>\n",
       "      <td>35.1</td>\n",
       "    </tr>\n",
       "    <tr>\n",
       "      <th>9</th>\n",
       "      <td>Max Verstappen</td>\n",
       "      <td>lost</td>\n",
       "      <td>105</td>\n",
       "      <td>0.921053</td>\n",
       "      <td>92.1</td>\n",
       "    </tr>\n",
       "    <tr>\n",
       "      <th>10</th>\n",
       "      <td>Max Verstappen</td>\n",
       "      <td>win</td>\n",
       "      <td>9</td>\n",
       "      <td>0.078947</td>\n",
       "      <td>7.9</td>\n",
       "    </tr>\n",
       "    <tr>\n",
       "      <th>11</th>\n",
       "      <td>Pierre Gasly</td>\n",
       "      <td>lost</td>\n",
       "      <td>58</td>\n",
       "      <td>0.983051</td>\n",
       "      <td>98.3</td>\n",
       "    </tr>\n",
       "    <tr>\n",
       "      <th>12</th>\n",
       "      <td>Pierre Gasly</td>\n",
       "      <td>win</td>\n",
       "      <td>1</td>\n",
       "      <td>0.016949</td>\n",
       "      <td>1.7</td>\n",
       "    </tr>\n",
       "    <tr>\n",
       "      <th>13</th>\n",
       "      <td>Sergio Pérez</td>\n",
       "      <td>lost</td>\n",
       "      <td>188</td>\n",
       "      <td>1.000000</td>\n",
       "      <td>100.0</td>\n",
       "    </tr>\n",
       "    <tr>\n",
       "      <th>14</th>\n",
       "      <td>Valtteri Bottas</td>\n",
       "      <td>lost</td>\n",
       "      <td>143</td>\n",
       "      <td>0.940789</td>\n",
       "      <td>94.1</td>\n",
       "    </tr>\n",
       "    <tr>\n",
       "      <th>15</th>\n",
       "      <td>Valtteri Bottas</td>\n",
       "      <td>win</td>\n",
       "      <td>9</td>\n",
       "      <td>0.059211</td>\n",
       "      <td>5.9</td>\n",
       "    </tr>\n",
       "  </tbody>\n",
       "</table>\n",
       "</div>"
      ],
      "text/plain": [
       "           Full Name Win or Loss  Total Races  W/L Ratio  W/L Percent\n",
       "0    Alexander Albon        lost           33   1.000000        100.0\n",
       "1       Carlos Sainz        lost          114   1.000000        100.0\n",
       "2    Charles Leclerc        lost           52   0.962963         96.3\n",
       "3    Charles Leclerc         win            2   0.037037          3.7\n",
       "4   Daniel Ricciardo        lost          176   0.961749         96.2\n",
       "5   Daniel Ricciardo         win            7   0.038251          3.8\n",
       "6       Lando Norris        lost           33   1.000000        100.0\n",
       "7     Lewis Hamilton        lost          170   0.648855         64.9\n",
       "8     Lewis Hamilton         win           92   0.351145         35.1\n",
       "9     Max Verstappen        lost          105   0.921053         92.1\n",
       "10    Max Verstappen         win            9   0.078947          7.9\n",
       "11      Pierre Gasly        lost           58   0.983051         98.3\n",
       "12      Pierre Gasly         win            1   0.016949          1.7\n",
       "13      Sergio Pérez        lost          188   1.000000        100.0\n",
       "14   Valtteri Bottas        lost          143   0.940789         94.1\n",
       "15   Valtteri Bottas         win            9   0.059211          5.9"
      ]
     },
     "execution_count": 111,
     "metadata": {},
     "output_type": "execute_result"
    }
   ],
   "source": [
    "rank_ratio"
   ]
  },
  {
   "cell_type": "markdown",
   "metadata": {},
   "source": [
    "<div class=\"alert alert-block alert-warning\">\n",
    "    <b>Most Likely To Win on Average:</b> Lewis on average is mostly likely to win being in the top 10 because over all he wins more races by lap time and also a longer career. \n",
    "    </div>"
   ]
  },
  {
   "cell_type": "code",
   "execution_count": 112,
   "metadata": {},
   "outputs": [
    {
     "data": {
      "application/vnd.plotly.v1+json": {
       "config": {
        "plotlyServerURL": "https://plotly.com"
       },
       "data": [
        {
         "hovertemplate": "<b>%{hovertext}</b><br><br>Full Name=Alexander Albon<br>Win or Loss=lost<br>Total Races=%{x}<br>W/L Percent=%{marker.size}<br>W/L Ratio=%{z}<extra></extra>",
         "hovertext": [
          "Alexander Albon"
         ],
         "legendgroup": "Alexander Albon, lost",
         "marker": {
          "color": "rgb(196,78,82)",
          "size": [
           100
          ],
          "sizemode": "area",
          "sizeref": 0.25,
          "symbol": "circle"
         },
         "mode": "markers",
         "name": "Alexander Albon, lost",
         "scene": "scene",
         "showlegend": true,
         "type": "scatter3d",
         "x": [
          33
         ],
         "y": [
          100
         ],
         "z": [
          1
         ]
        },
        {
         "hovertemplate": "<b>%{hovertext}</b><br><br>Full Name=Carlos Sainz<br>Win or Loss=lost<br>Total Races=%{x}<br>W/L Percent=%{marker.size}<br>W/L Ratio=%{z}<extra></extra>",
         "hovertext": [
          "Carlos Sainz"
         ],
         "legendgroup": "Carlos Sainz, lost",
         "marker": {
          "color": "rgb(129,114,179)",
          "size": [
           100
          ],
          "sizemode": "area",
          "sizeref": 0.25,
          "symbol": "circle"
         },
         "mode": "markers",
         "name": "Carlos Sainz, lost",
         "scene": "scene",
         "showlegend": true,
         "type": "scatter3d",
         "x": [
          114
         ],
         "y": [
          100
         ],
         "z": [
          1
         ]
        },
        {
         "hovertemplate": "<b>%{hovertext}</b><br><br>Full Name=Charles Leclerc<br>Win or Loss=lost<br>Total Races=%{x}<br>W/L Percent=%{marker.size}<br>W/L Ratio=%{z}<extra></extra>",
         "hovertext": [
          "Charles Leclerc"
         ],
         "legendgroup": "Charles Leclerc, lost",
         "marker": {
          "color": "rgb(147,120,96)",
          "size": [
           96.3
          ],
          "sizemode": "area",
          "sizeref": 0.25,
          "symbol": "circle"
         },
         "mode": "markers",
         "name": "Charles Leclerc, lost",
         "scene": "scene",
         "showlegend": true,
         "type": "scatter3d",
         "x": [
          52
         ],
         "y": [
          96.3
         ],
         "z": [
          0.9629629629629629
         ]
        },
        {
         "hovertemplate": "<b>%{hovertext}</b><br><br>Full Name=Charles Leclerc<br>Win or Loss=win<br>Total Races=%{x}<br>W/L Percent=%{marker.size}<br>W/L Ratio=%{z}<extra></extra>",
         "hovertext": [
          "Charles Leclerc"
         ],
         "legendgroup": "Charles Leclerc, win",
         "marker": {
          "color": "rgb(147,120,96)",
          "size": [
           3.7
          ],
          "sizemode": "area",
          "sizeref": 0.25,
          "symbol": "diamond"
         },
         "mode": "markers",
         "name": "Charles Leclerc, win",
         "scene": "scene",
         "showlegend": true,
         "type": "scatter3d",
         "x": [
          2
         ],
         "y": [
          3.7
         ],
         "z": [
          0.037037037037037035
         ]
        },
        {
         "hovertemplate": "<b>%{hovertext}</b><br><br>Full Name=Daniel Ricciardo<br>Win or Loss=lost<br>Total Races=%{x}<br>W/L Percent=%{marker.size}<br>W/L Ratio=%{z}<extra></extra>",
         "hovertext": [
          "Daniel Ricciardo"
         ],
         "legendgroup": "Daniel Ricciardo, lost",
         "marker": {
          "color": "rgb(218,139,195)",
          "size": [
           96.2
          ],
          "sizemode": "area",
          "sizeref": 0.25,
          "symbol": "circle"
         },
         "mode": "markers",
         "name": "Daniel Ricciardo, lost",
         "scene": "scene",
         "showlegend": true,
         "type": "scatter3d",
         "x": [
          176
         ],
         "y": [
          96.2
         ],
         "z": [
          0.9617486338797814
         ]
        },
        {
         "hovertemplate": "<b>%{hovertext}</b><br><br>Full Name=Daniel Ricciardo<br>Win or Loss=win<br>Total Races=%{x}<br>W/L Percent=%{marker.size}<br>W/L Ratio=%{z}<extra></extra>",
         "hovertext": [
          "Daniel Ricciardo"
         ],
         "legendgroup": "Daniel Ricciardo, win",
         "marker": {
          "color": "rgb(218,139,195)",
          "size": [
           3.8
          ],
          "sizemode": "area",
          "sizeref": 0.25,
          "symbol": "diamond"
         },
         "mode": "markers",
         "name": "Daniel Ricciardo, win",
         "scene": "scene",
         "showlegend": true,
         "type": "scatter3d",
         "x": [
          7
         ],
         "y": [
          3.8
         ],
         "z": [
          0.03825136612021858
         ]
        },
        {
         "hovertemplate": "<b>%{hovertext}</b><br><br>Full Name=Lando Norris<br>Win or Loss=lost<br>Total Races=%{x}<br>W/L Percent=%{marker.size}<br>W/L Ratio=%{z}<extra></extra>",
         "hovertext": [
          "Lando Norris"
         ],
         "legendgroup": "Lando Norris, lost",
         "marker": {
          "color": "rgb(140,140,140)",
          "size": [
           100
          ],
          "sizemode": "area",
          "sizeref": 0.25,
          "symbol": "circle"
         },
         "mode": "markers",
         "name": "Lando Norris, lost",
         "scene": "scene",
         "showlegend": true,
         "type": "scatter3d",
         "x": [
          33
         ],
         "y": [
          100
         ],
         "z": [
          1
         ]
        },
        {
         "hovertemplate": "<b>%{hovertext}</b><br><br>Full Name=Lewis Hamilton<br>Win or Loss=lost<br>Total Races=%{x}<br>W/L Percent=%{marker.size}<br>W/L Ratio=%{z}<extra></extra>",
         "hovertext": [
          "Lewis Hamilton"
         ],
         "legendgroup": "Lewis Hamilton, lost",
         "marker": {
          "color": "rgb(204,185,116)",
          "size": [
           64.9
          ],
          "sizemode": "area",
          "sizeref": 0.25,
          "symbol": "circle"
         },
         "mode": "markers",
         "name": "Lewis Hamilton, lost",
         "scene": "scene",
         "showlegend": true,
         "type": "scatter3d",
         "x": [
          170
         ],
         "y": [
          64.9
         ],
         "z": [
          0.648854961832061
         ]
        },
        {
         "hovertemplate": "<b>%{hovertext}</b><br><br>Full Name=Lewis Hamilton<br>Win or Loss=win<br>Total Races=%{x}<br>W/L Percent=%{marker.size}<br>W/L Ratio=%{z}<extra></extra>",
         "hovertext": [
          "Lewis Hamilton"
         ],
         "legendgroup": "Lewis Hamilton, win",
         "marker": {
          "color": "rgb(204,185,116)",
          "size": [
           35.1
          ],
          "sizemode": "area",
          "sizeref": 0.25,
          "symbol": "diamond"
         },
         "mode": "markers",
         "name": "Lewis Hamilton, win",
         "scene": "scene",
         "showlegend": true,
         "type": "scatter3d",
         "x": [
          92
         ],
         "y": [
          35.1
         ],
         "z": [
          0.3511450381679389
         ]
        },
        {
         "hovertemplate": "<b>%{hovertext}</b><br><br>Full Name=Max Verstappen<br>Win or Loss=lost<br>Total Races=%{x}<br>W/L Percent=%{marker.size}<br>W/L Ratio=%{z}<extra></extra>",
         "hovertext": [
          "Max Verstappen"
         ],
         "legendgroup": "Max Verstappen, lost",
         "marker": {
          "color": "rgb(100,181,205)",
          "size": [
           92.1
          ],
          "sizemode": "area",
          "sizeref": 0.25,
          "symbol": "circle"
         },
         "mode": "markers",
         "name": "Max Verstappen, lost",
         "scene": "scene",
         "showlegend": true,
         "type": "scatter3d",
         "x": [
          105
         ],
         "y": [
          92.1
         ],
         "z": [
          0.9210526315789473
         ]
        },
        {
         "hovertemplate": "<b>%{hovertext}</b><br><br>Full Name=Max Verstappen<br>Win or Loss=win<br>Total Races=%{x}<br>W/L Percent=%{marker.size}<br>W/L Ratio=%{z}<extra></extra>",
         "hovertext": [
          "Max Verstappen"
         ],
         "legendgroup": "Max Verstappen, win",
         "marker": {
          "color": "rgb(100,181,205)",
          "size": [
           7.9
          ],
          "sizemode": "area",
          "sizeref": 0.25,
          "symbol": "diamond"
         },
         "mode": "markers",
         "name": "Max Verstappen, win",
         "scene": "scene",
         "showlegend": true,
         "type": "scatter3d",
         "x": [
          9
         ],
         "y": [
          7.9
         ],
         "z": [
          0.07894736842105263
         ]
        },
        {
         "hovertemplate": "<b>%{hovertext}</b><br><br>Full Name=Pierre Gasly<br>Win or Loss=lost<br>Total Races=%{x}<br>W/L Percent=%{marker.size}<br>W/L Ratio=%{z}<extra></extra>",
         "hovertext": [
          "Pierre Gasly"
         ],
         "legendgroup": "Pierre Gasly, lost",
         "marker": {
          "color": "rgb(76,114,176)",
          "size": [
           98.3
          ],
          "sizemode": "area",
          "sizeref": 0.25,
          "symbol": "circle"
         },
         "mode": "markers",
         "name": "Pierre Gasly, lost",
         "scene": "scene",
         "showlegend": true,
         "type": "scatter3d",
         "x": [
          58
         ],
         "y": [
          98.3
         ],
         "z": [
          0.9830508474576272
         ]
        },
        {
         "hovertemplate": "<b>%{hovertext}</b><br><br>Full Name=Pierre Gasly<br>Win or Loss=win<br>Total Races=%{x}<br>W/L Percent=%{marker.size}<br>W/L Ratio=%{z}<extra></extra>",
         "hovertext": [
          "Pierre Gasly"
         ],
         "legendgroup": "Pierre Gasly, win",
         "marker": {
          "color": "rgb(76,114,176)",
          "size": [
           1.7
          ],
          "sizemode": "area",
          "sizeref": 0.25,
          "symbol": "diamond"
         },
         "mode": "markers",
         "name": "Pierre Gasly, win",
         "scene": "scene",
         "showlegend": true,
         "type": "scatter3d",
         "x": [
          1
         ],
         "y": [
          1.7
         ],
         "z": [
          0.01694915254237288
         ]
        },
        {
         "hovertemplate": "<b>%{hovertext}</b><br><br>Full Name=Sergio Pérez<br>Win or Loss=lost<br>Total Races=%{x}<br>W/L Percent=%{marker.size}<br>W/L Ratio=%{z}<extra></extra>",
         "hovertext": [
          "Sergio Pérez"
         ],
         "legendgroup": "Sergio Pérez, lost",
         "marker": {
          "color": "rgb(221,132,82)",
          "size": [
           100
          ],
          "sizemode": "area",
          "sizeref": 0.25,
          "symbol": "circle"
         },
         "mode": "markers",
         "name": "Sergio Pérez, lost",
         "scene": "scene",
         "showlegend": true,
         "type": "scatter3d",
         "x": [
          188
         ],
         "y": [
          100
         ],
         "z": [
          1
         ]
        },
        {
         "hovertemplate": "<b>%{hovertext}</b><br><br>Full Name=Valtteri Bottas<br>Win or Loss=lost<br>Total Races=%{x}<br>W/L Percent=%{marker.size}<br>W/L Ratio=%{z}<extra></extra>",
         "hovertext": [
          "Valtteri Bottas"
         ],
         "legendgroup": "Valtteri Bottas, lost",
         "marker": {
          "color": "rgb(85,168,104)",
          "size": [
           94.1
          ],
          "sizemode": "area",
          "sizeref": 0.25,
          "symbol": "circle"
         },
         "mode": "markers",
         "name": "Valtteri Bottas, lost",
         "scene": "scene",
         "showlegend": true,
         "type": "scatter3d",
         "x": [
          143
         ],
         "y": [
          94.1
         ],
         "z": [
          0.9407894736842105
         ]
        },
        {
         "hovertemplate": "<b>%{hovertext}</b><br><br>Full Name=Valtteri Bottas<br>Win or Loss=win<br>Total Races=%{x}<br>W/L Percent=%{marker.size}<br>W/L Ratio=%{z}<extra></extra>",
         "hovertext": [
          "Valtteri Bottas"
         ],
         "legendgroup": "Valtteri Bottas, win",
         "marker": {
          "color": "rgb(85,168,104)",
          "size": [
           5.9
          ],
          "sizemode": "area",
          "sizeref": 0.25,
          "symbol": "diamond"
         },
         "mode": "markers",
         "name": "Valtteri Bottas, win",
         "scene": "scene",
         "showlegend": true,
         "type": "scatter3d",
         "x": [
          9
         ],
         "y": [
          5.9
         ],
         "z": [
          0.05921052631578947
         ]
        }
       ],
       "layout": {
        "legend": {
         "itemsizing": "constant",
         "title": {
          "text": "Full Name, Win or Loss"
         },
         "tracegroupgap": 0
        },
        "margin": {
         "t": 60
        },
        "scene": {
         "aspectmode": "auto",
         "aspectratio": {
          "x": 1,
          "y": 1,
          "z": 1
         },
         "domain": {
          "x": [
           0,
           1
          ],
          "y": [
           0,
           1
          ]
         },
         "xaxis": {
          "title": {
           "text": "Total Races"
          },
          "type": "linear"
         },
         "yaxis": {
          "title": {
           "text": "W/L Percent"
          },
          "type": "linear"
         },
         "zaxis": {
          "title": {
           "text": "W/L Ratio"
          },
          "type": "linear"
         }
        },
        "template": {
         "data": {
          "bar": [
           {
            "error_x": {
             "color": "rgb(36,36,36)"
            },
            "error_y": {
             "color": "rgb(36,36,36)"
            },
            "marker": {
             "line": {
              "color": "rgb(234,234,242)",
              "width": 0.5
             }
            },
            "type": "bar"
           }
          ],
          "barpolar": [
           {
            "marker": {
             "line": {
              "color": "rgb(234,234,242)",
              "width": 0.5
             }
            },
            "type": "barpolar"
           }
          ],
          "carpet": [
           {
            "aaxis": {
             "endlinecolor": "rgb(36,36,36)",
             "gridcolor": "white",
             "linecolor": "white",
             "minorgridcolor": "white",
             "startlinecolor": "rgb(36,36,36)"
            },
            "baxis": {
             "endlinecolor": "rgb(36,36,36)",
             "gridcolor": "white",
             "linecolor": "white",
             "minorgridcolor": "white",
             "startlinecolor": "rgb(36,36,36)"
            },
            "type": "carpet"
           }
          ],
          "choropleth": [
           {
            "colorbar": {
             "outlinewidth": 0,
             "tickcolor": "rgb(36,36,36)",
             "ticklen": 8,
             "ticks": "outside",
             "tickwidth": 2
            },
            "type": "choropleth"
           }
          ],
          "contour": [
           {
            "colorbar": {
             "outlinewidth": 0,
             "tickcolor": "rgb(36,36,36)",
             "ticklen": 8,
             "ticks": "outside",
             "tickwidth": 2
            },
            "colorscale": [
             [
              0,
              "rgb(2,4,25)"
             ],
             [
              0.06274509803921569,
              "rgb(24,15,41)"
             ],
             [
              0.12549019607843137,
              "rgb(47,23,57)"
             ],
             [
              0.18823529411764706,
              "rgb(71,28,72)"
             ],
             [
              0.25098039215686274,
              "rgb(97,30,82)"
             ],
             [
              0.3137254901960784,
              "rgb(123,30,89)"
             ],
             [
              0.3764705882352941,
              "rgb(150,27,91)"
             ],
             [
              0.4392156862745098,
              "rgb(177,22,88)"
             ],
             [
              0.5019607843137255,
              "rgb(203,26,79)"
             ],
             [
              0.5647058823529412,
              "rgb(223,47,67)"
             ],
             [
              0.6274509803921569,
              "rgb(236,76,61)"
             ],
             [
              0.6901960784313725,
              "rgb(242,107,73)"
             ],
             [
              0.7529411764705882,
              "rgb(244,135,95)"
             ],
             [
              0.8156862745098039,
              "rgb(245,162,122)"
             ],
             [
              0.8784313725490196,
              "rgb(246,188,153)"
             ],
             [
              0.9411764705882353,
              "rgb(247,212,187)"
             ],
             [
              1,
              "rgb(250,234,220)"
             ]
            ],
            "type": "contour"
           }
          ],
          "contourcarpet": [
           {
            "colorbar": {
             "outlinewidth": 0,
             "tickcolor": "rgb(36,36,36)",
             "ticklen": 8,
             "ticks": "outside",
             "tickwidth": 2
            },
            "type": "contourcarpet"
           }
          ],
          "heatmap": [
           {
            "colorbar": {
             "outlinewidth": 0,
             "tickcolor": "rgb(36,36,36)",
             "ticklen": 8,
             "ticks": "outside",
             "tickwidth": 2
            },
            "colorscale": [
             [
              0,
              "rgb(2,4,25)"
             ],
             [
              0.06274509803921569,
              "rgb(24,15,41)"
             ],
             [
              0.12549019607843137,
              "rgb(47,23,57)"
             ],
             [
              0.18823529411764706,
              "rgb(71,28,72)"
             ],
             [
              0.25098039215686274,
              "rgb(97,30,82)"
             ],
             [
              0.3137254901960784,
              "rgb(123,30,89)"
             ],
             [
              0.3764705882352941,
              "rgb(150,27,91)"
             ],
             [
              0.4392156862745098,
              "rgb(177,22,88)"
             ],
             [
              0.5019607843137255,
              "rgb(203,26,79)"
             ],
             [
              0.5647058823529412,
              "rgb(223,47,67)"
             ],
             [
              0.6274509803921569,
              "rgb(236,76,61)"
             ],
             [
              0.6901960784313725,
              "rgb(242,107,73)"
             ],
             [
              0.7529411764705882,
              "rgb(244,135,95)"
             ],
             [
              0.8156862745098039,
              "rgb(245,162,122)"
             ],
             [
              0.8784313725490196,
              "rgb(246,188,153)"
             ],
             [
              0.9411764705882353,
              "rgb(247,212,187)"
             ],
             [
              1,
              "rgb(250,234,220)"
             ]
            ],
            "type": "heatmap"
           }
          ],
          "heatmapgl": [
           {
            "colorbar": {
             "outlinewidth": 0,
             "tickcolor": "rgb(36,36,36)",
             "ticklen": 8,
             "ticks": "outside",
             "tickwidth": 2
            },
            "colorscale": [
             [
              0,
              "rgb(2,4,25)"
             ],
             [
              0.06274509803921569,
              "rgb(24,15,41)"
             ],
             [
              0.12549019607843137,
              "rgb(47,23,57)"
             ],
             [
              0.18823529411764706,
              "rgb(71,28,72)"
             ],
             [
              0.25098039215686274,
              "rgb(97,30,82)"
             ],
             [
              0.3137254901960784,
              "rgb(123,30,89)"
             ],
             [
              0.3764705882352941,
              "rgb(150,27,91)"
             ],
             [
              0.4392156862745098,
              "rgb(177,22,88)"
             ],
             [
              0.5019607843137255,
              "rgb(203,26,79)"
             ],
             [
              0.5647058823529412,
              "rgb(223,47,67)"
             ],
             [
              0.6274509803921569,
              "rgb(236,76,61)"
             ],
             [
              0.6901960784313725,
              "rgb(242,107,73)"
             ],
             [
              0.7529411764705882,
              "rgb(244,135,95)"
             ],
             [
              0.8156862745098039,
              "rgb(245,162,122)"
             ],
             [
              0.8784313725490196,
              "rgb(246,188,153)"
             ],
             [
              0.9411764705882353,
              "rgb(247,212,187)"
             ],
             [
              1,
              "rgb(250,234,220)"
             ]
            ],
            "type": "heatmapgl"
           }
          ],
          "histogram": [
           {
            "marker": {
             "colorbar": {
              "outlinewidth": 0,
              "tickcolor": "rgb(36,36,36)",
              "ticklen": 8,
              "ticks": "outside",
              "tickwidth": 2
             }
            },
            "type": "histogram"
           }
          ],
          "histogram2d": [
           {
            "colorbar": {
             "outlinewidth": 0,
             "tickcolor": "rgb(36,36,36)",
             "ticklen": 8,
             "ticks": "outside",
             "tickwidth": 2
            },
            "colorscale": [
             [
              0,
              "rgb(2,4,25)"
             ],
             [
              0.06274509803921569,
              "rgb(24,15,41)"
             ],
             [
              0.12549019607843137,
              "rgb(47,23,57)"
             ],
             [
              0.18823529411764706,
              "rgb(71,28,72)"
             ],
             [
              0.25098039215686274,
              "rgb(97,30,82)"
             ],
             [
              0.3137254901960784,
              "rgb(123,30,89)"
             ],
             [
              0.3764705882352941,
              "rgb(150,27,91)"
             ],
             [
              0.4392156862745098,
              "rgb(177,22,88)"
             ],
             [
              0.5019607843137255,
              "rgb(203,26,79)"
             ],
             [
              0.5647058823529412,
              "rgb(223,47,67)"
             ],
             [
              0.6274509803921569,
              "rgb(236,76,61)"
             ],
             [
              0.6901960784313725,
              "rgb(242,107,73)"
             ],
             [
              0.7529411764705882,
              "rgb(244,135,95)"
             ],
             [
              0.8156862745098039,
              "rgb(245,162,122)"
             ],
             [
              0.8784313725490196,
              "rgb(246,188,153)"
             ],
             [
              0.9411764705882353,
              "rgb(247,212,187)"
             ],
             [
              1,
              "rgb(250,234,220)"
             ]
            ],
            "type": "histogram2d"
           }
          ],
          "histogram2dcontour": [
           {
            "colorbar": {
             "outlinewidth": 0,
             "tickcolor": "rgb(36,36,36)",
             "ticklen": 8,
             "ticks": "outside",
             "tickwidth": 2
            },
            "colorscale": [
             [
              0,
              "rgb(2,4,25)"
             ],
             [
              0.06274509803921569,
              "rgb(24,15,41)"
             ],
             [
              0.12549019607843137,
              "rgb(47,23,57)"
             ],
             [
              0.18823529411764706,
              "rgb(71,28,72)"
             ],
             [
              0.25098039215686274,
              "rgb(97,30,82)"
             ],
             [
              0.3137254901960784,
              "rgb(123,30,89)"
             ],
             [
              0.3764705882352941,
              "rgb(150,27,91)"
             ],
             [
              0.4392156862745098,
              "rgb(177,22,88)"
             ],
             [
              0.5019607843137255,
              "rgb(203,26,79)"
             ],
             [
              0.5647058823529412,
              "rgb(223,47,67)"
             ],
             [
              0.6274509803921569,
              "rgb(236,76,61)"
             ],
             [
              0.6901960784313725,
              "rgb(242,107,73)"
             ],
             [
              0.7529411764705882,
              "rgb(244,135,95)"
             ],
             [
              0.8156862745098039,
              "rgb(245,162,122)"
             ],
             [
              0.8784313725490196,
              "rgb(246,188,153)"
             ],
             [
              0.9411764705882353,
              "rgb(247,212,187)"
             ],
             [
              1,
              "rgb(250,234,220)"
             ]
            ],
            "type": "histogram2dcontour"
           }
          ],
          "mesh3d": [
           {
            "colorbar": {
             "outlinewidth": 0,
             "tickcolor": "rgb(36,36,36)",
             "ticklen": 8,
             "ticks": "outside",
             "tickwidth": 2
            },
            "type": "mesh3d"
           }
          ],
          "parcoords": [
           {
            "line": {
             "colorbar": {
              "outlinewidth": 0,
              "tickcolor": "rgb(36,36,36)",
              "ticklen": 8,
              "ticks": "outside",
              "tickwidth": 2
             }
            },
            "type": "parcoords"
           }
          ],
          "pie": [
           {
            "automargin": true,
            "type": "pie"
           }
          ],
          "scatter": [
           {
            "marker": {
             "colorbar": {
              "outlinewidth": 0,
              "tickcolor": "rgb(36,36,36)",
              "ticklen": 8,
              "ticks": "outside",
              "tickwidth": 2
             }
            },
            "type": "scatter"
           }
          ],
          "scatter3d": [
           {
            "line": {
             "colorbar": {
              "outlinewidth": 0,
              "tickcolor": "rgb(36,36,36)",
              "ticklen": 8,
              "ticks": "outside",
              "tickwidth": 2
             }
            },
            "marker": {
             "colorbar": {
              "outlinewidth": 0,
              "tickcolor": "rgb(36,36,36)",
              "ticklen": 8,
              "ticks": "outside",
              "tickwidth": 2
             }
            },
            "type": "scatter3d"
           }
          ],
          "scattercarpet": [
           {
            "marker": {
             "colorbar": {
              "outlinewidth": 0,
              "tickcolor": "rgb(36,36,36)",
              "ticklen": 8,
              "ticks": "outside",
              "tickwidth": 2
             }
            },
            "type": "scattercarpet"
           }
          ],
          "scattergeo": [
           {
            "marker": {
             "colorbar": {
              "outlinewidth": 0,
              "tickcolor": "rgb(36,36,36)",
              "ticklen": 8,
              "ticks": "outside",
              "tickwidth": 2
             }
            },
            "type": "scattergeo"
           }
          ],
          "scattergl": [
           {
            "marker": {
             "colorbar": {
              "outlinewidth": 0,
              "tickcolor": "rgb(36,36,36)",
              "ticklen": 8,
              "ticks": "outside",
              "tickwidth": 2
             }
            },
            "type": "scattergl"
           }
          ],
          "scattermapbox": [
           {
            "marker": {
             "colorbar": {
              "outlinewidth": 0,
              "tickcolor": "rgb(36,36,36)",
              "ticklen": 8,
              "ticks": "outside",
              "tickwidth": 2
             }
            },
            "type": "scattermapbox"
           }
          ],
          "scatterpolar": [
           {
            "marker": {
             "colorbar": {
              "outlinewidth": 0,
              "tickcolor": "rgb(36,36,36)",
              "ticklen": 8,
              "ticks": "outside",
              "tickwidth": 2
             }
            },
            "type": "scatterpolar"
           }
          ],
          "scatterpolargl": [
           {
            "marker": {
             "colorbar": {
              "outlinewidth": 0,
              "tickcolor": "rgb(36,36,36)",
              "ticklen": 8,
              "ticks": "outside",
              "tickwidth": 2
             }
            },
            "type": "scatterpolargl"
           }
          ],
          "scatterternary": [
           {
            "marker": {
             "colorbar": {
              "outlinewidth": 0,
              "tickcolor": "rgb(36,36,36)",
              "ticklen": 8,
              "ticks": "outside",
              "tickwidth": 2
             }
            },
            "type": "scatterternary"
           }
          ],
          "surface": [
           {
            "colorbar": {
             "outlinewidth": 0,
             "tickcolor": "rgb(36,36,36)",
             "ticklen": 8,
             "ticks": "outside",
             "tickwidth": 2
            },
            "colorscale": [
             [
              0,
              "rgb(2,4,25)"
             ],
             [
              0.06274509803921569,
              "rgb(24,15,41)"
             ],
             [
              0.12549019607843137,
              "rgb(47,23,57)"
             ],
             [
              0.18823529411764706,
              "rgb(71,28,72)"
             ],
             [
              0.25098039215686274,
              "rgb(97,30,82)"
             ],
             [
              0.3137254901960784,
              "rgb(123,30,89)"
             ],
             [
              0.3764705882352941,
              "rgb(150,27,91)"
             ],
             [
              0.4392156862745098,
              "rgb(177,22,88)"
             ],
             [
              0.5019607843137255,
              "rgb(203,26,79)"
             ],
             [
              0.5647058823529412,
              "rgb(223,47,67)"
             ],
             [
              0.6274509803921569,
              "rgb(236,76,61)"
             ],
             [
              0.6901960784313725,
              "rgb(242,107,73)"
             ],
             [
              0.7529411764705882,
              "rgb(244,135,95)"
             ],
             [
              0.8156862745098039,
              "rgb(245,162,122)"
             ],
             [
              0.8784313725490196,
              "rgb(246,188,153)"
             ],
             [
              0.9411764705882353,
              "rgb(247,212,187)"
             ],
             [
              1,
              "rgb(250,234,220)"
             ]
            ],
            "type": "surface"
           }
          ],
          "table": [
           {
            "cells": {
             "fill": {
              "color": "rgb(231,231,240)"
             },
             "line": {
              "color": "white"
             }
            },
            "header": {
             "fill": {
              "color": "rgb(183,183,191)"
             },
             "line": {
              "color": "white"
             }
            },
            "type": "table"
           }
          ]
         },
         "layout": {
          "annotationdefaults": {
           "arrowcolor": "rgb(67,103,167)"
          },
          "coloraxis": {
           "colorbar": {
            "outlinewidth": 0,
            "tickcolor": "rgb(36,36,36)",
            "ticklen": 8,
            "ticks": "outside",
            "tickwidth": 2
           }
          },
          "colorscale": {
           "sequential": [
            [
             0,
             "rgb(2,4,25)"
            ],
            [
             0.06274509803921569,
             "rgb(24,15,41)"
            ],
            [
             0.12549019607843137,
             "rgb(47,23,57)"
            ],
            [
             0.18823529411764706,
             "rgb(71,28,72)"
            ],
            [
             0.25098039215686274,
             "rgb(97,30,82)"
            ],
            [
             0.3137254901960784,
             "rgb(123,30,89)"
            ],
            [
             0.3764705882352941,
             "rgb(150,27,91)"
            ],
            [
             0.4392156862745098,
             "rgb(177,22,88)"
            ],
            [
             0.5019607843137255,
             "rgb(203,26,79)"
            ],
            [
             0.5647058823529412,
             "rgb(223,47,67)"
            ],
            [
             0.6274509803921569,
             "rgb(236,76,61)"
            ],
            [
             0.6901960784313725,
             "rgb(242,107,73)"
            ],
            [
             0.7529411764705882,
             "rgb(244,135,95)"
            ],
            [
             0.8156862745098039,
             "rgb(245,162,122)"
            ],
            [
             0.8784313725490196,
             "rgb(246,188,153)"
            ],
            [
             0.9411764705882353,
             "rgb(247,212,187)"
            ],
            [
             1,
             "rgb(250,234,220)"
            ]
           ],
           "sequentialminus": [
            [
             0,
             "rgb(2,4,25)"
            ],
            [
             0.06274509803921569,
             "rgb(24,15,41)"
            ],
            [
             0.12549019607843137,
             "rgb(47,23,57)"
            ],
            [
             0.18823529411764706,
             "rgb(71,28,72)"
            ],
            [
             0.25098039215686274,
             "rgb(97,30,82)"
            ],
            [
             0.3137254901960784,
             "rgb(123,30,89)"
            ],
            [
             0.3764705882352941,
             "rgb(150,27,91)"
            ],
            [
             0.4392156862745098,
             "rgb(177,22,88)"
            ],
            [
             0.5019607843137255,
             "rgb(203,26,79)"
            ],
            [
             0.5647058823529412,
             "rgb(223,47,67)"
            ],
            [
             0.6274509803921569,
             "rgb(236,76,61)"
            ],
            [
             0.6901960784313725,
             "rgb(242,107,73)"
            ],
            [
             0.7529411764705882,
             "rgb(244,135,95)"
            ],
            [
             0.8156862745098039,
             "rgb(245,162,122)"
            ],
            [
             0.8784313725490196,
             "rgb(246,188,153)"
            ],
            [
             0.9411764705882353,
             "rgb(247,212,187)"
            ],
            [
             1,
             "rgb(250,234,220)"
            ]
           ]
          },
          "colorway": [
           "rgb(76,114,176)",
           "rgb(221,132,82)",
           "rgb(85,168,104)",
           "rgb(196,78,82)",
           "rgb(129,114,179)",
           "rgb(147,120,96)",
           "rgb(218,139,195)",
           "rgb(140,140,140)",
           "rgb(204,185,116)",
           "rgb(100,181,205)"
          ],
          "font": {
           "color": "rgb(36,36,36)"
          },
          "geo": {
           "bgcolor": "white",
           "lakecolor": "white",
           "landcolor": "rgb(234,234,242)",
           "showlakes": true,
           "showland": true,
           "subunitcolor": "white"
          },
          "hoverlabel": {
           "align": "left"
          },
          "hovermode": "closest",
          "paper_bgcolor": "white",
          "plot_bgcolor": "rgb(234,234,242)",
          "polar": {
           "angularaxis": {
            "gridcolor": "white",
            "linecolor": "white",
            "showgrid": true,
            "ticks": ""
           },
           "bgcolor": "rgb(234,234,242)",
           "radialaxis": {
            "gridcolor": "white",
            "linecolor": "white",
            "showgrid": true,
            "ticks": ""
           }
          },
          "scene": {
           "xaxis": {
            "backgroundcolor": "rgb(234,234,242)",
            "gridcolor": "white",
            "gridwidth": 2,
            "linecolor": "white",
            "showbackground": true,
            "showgrid": true,
            "ticks": "",
            "zerolinecolor": "white"
           },
           "yaxis": {
            "backgroundcolor": "rgb(234,234,242)",
            "gridcolor": "white",
            "gridwidth": 2,
            "linecolor": "white",
            "showbackground": true,
            "showgrid": true,
            "ticks": "",
            "zerolinecolor": "white"
           },
           "zaxis": {
            "backgroundcolor": "rgb(234,234,242)",
            "gridcolor": "white",
            "gridwidth": 2,
            "linecolor": "white",
            "showbackground": true,
            "showgrid": true,
            "ticks": "",
            "zerolinecolor": "white"
           }
          },
          "shapedefaults": {
           "fillcolor": "rgb(67,103,167)",
           "line": {
            "width": 0
           },
           "opacity": 0.5
          },
          "ternary": {
           "aaxis": {
            "gridcolor": "white",
            "linecolor": "white",
            "showgrid": true,
            "ticks": ""
           },
           "baxis": {
            "gridcolor": "white",
            "linecolor": "white",
            "showgrid": true,
            "ticks": ""
           },
           "bgcolor": "rgb(234,234,242)",
           "caxis": {
            "gridcolor": "white",
            "linecolor": "white",
            "showgrid": true,
            "ticks": ""
           }
          },
          "xaxis": {
           "automargin": true,
           "gridcolor": "white",
           "linecolor": "white",
           "showgrid": true,
           "ticks": "",
           "title": {
            "standoff": 15
           },
           "zerolinecolor": "white"
          },
          "yaxis": {
           "automargin": true,
           "gridcolor": "white",
           "linecolor": "white",
           "showgrid": true,
           "ticks": "",
           "title": {
            "standoff": 15
           },
           "zerolinecolor": "white"
          }
         }
        }
       }
      },
      "text/html": [
       "<div>                            <div id=\"4cda161e-0770-4232-a420-3ac287dd9df5\" class=\"plotly-graph-div\" style=\"height:525px; width:100%;\"></div>            <script type=\"text/javascript\">                require([\"plotly\"], function(Plotly) {                    window.PLOTLYENV=window.PLOTLYENV || {};                                    if (document.getElementById(\"4cda161e-0770-4232-a420-3ac287dd9df5\")) {                    Plotly.newPlot(                        \"4cda161e-0770-4232-a420-3ac287dd9df5\",                        [{\"hovertemplate\": \"<b>%{hovertext}</b><br><br>Full Name=Alexander Albon<br>Win or Loss=lost<br>Total Races=%{x}<br>W/L Percent=%{marker.size}<br>W/L Ratio=%{z}<extra></extra>\", \"hovertext\": [\"Alexander Albon\"], \"legendgroup\": \"Alexander Albon, lost\", \"marker\": {\"color\": \"rgb(196,78,82)\", \"size\": [100.0], \"sizemode\": \"area\", \"sizeref\": 0.25, \"symbol\": \"circle\"}, \"mode\": \"markers\", \"name\": \"Alexander Albon, lost\", \"scene\": \"scene\", \"showlegend\": true, \"type\": \"scatter3d\", \"x\": [33], \"y\": [100.0], \"z\": [1.0]}, {\"hovertemplate\": \"<b>%{hovertext}</b><br><br>Full Name=Carlos Sainz<br>Win or Loss=lost<br>Total Races=%{x}<br>W/L Percent=%{marker.size}<br>W/L Ratio=%{z}<extra></extra>\", \"hovertext\": [\"Carlos Sainz\"], \"legendgroup\": \"Carlos Sainz, lost\", \"marker\": {\"color\": \"rgb(129,114,179)\", \"size\": [100.0], \"sizemode\": \"area\", \"sizeref\": 0.25, \"symbol\": \"circle\"}, \"mode\": \"markers\", \"name\": \"Carlos Sainz, lost\", \"scene\": \"scene\", \"showlegend\": true, \"type\": \"scatter3d\", \"x\": [114], \"y\": [100.0], \"z\": [1.0]}, {\"hovertemplate\": \"<b>%{hovertext}</b><br><br>Full Name=Charles Leclerc<br>Win or Loss=lost<br>Total Races=%{x}<br>W/L Percent=%{marker.size}<br>W/L Ratio=%{z}<extra></extra>\", \"hovertext\": [\"Charles Leclerc\"], \"legendgroup\": \"Charles Leclerc, lost\", \"marker\": {\"color\": \"rgb(147,120,96)\", \"size\": [96.3], \"sizemode\": \"area\", \"sizeref\": 0.25, \"symbol\": \"circle\"}, \"mode\": \"markers\", \"name\": \"Charles Leclerc, lost\", \"scene\": \"scene\", \"showlegend\": true, \"type\": \"scatter3d\", \"x\": [52], \"y\": [96.3], \"z\": [0.9629629629629629]}, {\"hovertemplate\": \"<b>%{hovertext}</b><br><br>Full Name=Charles Leclerc<br>Win or Loss=win<br>Total Races=%{x}<br>W/L Percent=%{marker.size}<br>W/L Ratio=%{z}<extra></extra>\", \"hovertext\": [\"Charles Leclerc\"], \"legendgroup\": \"Charles Leclerc, win\", \"marker\": {\"color\": \"rgb(147,120,96)\", \"size\": [3.7], \"sizemode\": \"area\", \"sizeref\": 0.25, \"symbol\": \"diamond\"}, \"mode\": \"markers\", \"name\": \"Charles Leclerc, win\", \"scene\": \"scene\", \"showlegend\": true, \"type\": \"scatter3d\", \"x\": [2], \"y\": [3.7], \"z\": [0.037037037037037035]}, {\"hovertemplate\": \"<b>%{hovertext}</b><br><br>Full Name=Daniel Ricciardo<br>Win or Loss=lost<br>Total Races=%{x}<br>W/L Percent=%{marker.size}<br>W/L Ratio=%{z}<extra></extra>\", \"hovertext\": [\"Daniel Ricciardo\"], \"legendgroup\": \"Daniel Ricciardo, lost\", \"marker\": {\"color\": \"rgb(218,139,195)\", \"size\": [96.2], \"sizemode\": \"area\", \"sizeref\": 0.25, \"symbol\": \"circle\"}, \"mode\": \"markers\", \"name\": \"Daniel Ricciardo, lost\", \"scene\": \"scene\", \"showlegend\": true, \"type\": \"scatter3d\", \"x\": [176], \"y\": [96.2], \"z\": [0.9617486338797814]}, {\"hovertemplate\": \"<b>%{hovertext}</b><br><br>Full Name=Daniel Ricciardo<br>Win or Loss=win<br>Total Races=%{x}<br>W/L Percent=%{marker.size}<br>W/L Ratio=%{z}<extra></extra>\", \"hovertext\": [\"Daniel Ricciardo\"], \"legendgroup\": \"Daniel Ricciardo, win\", \"marker\": {\"color\": \"rgb(218,139,195)\", \"size\": [3.8], \"sizemode\": \"area\", \"sizeref\": 0.25, \"symbol\": \"diamond\"}, \"mode\": \"markers\", \"name\": \"Daniel Ricciardo, win\", \"scene\": \"scene\", \"showlegend\": true, \"type\": \"scatter3d\", \"x\": [7], \"y\": [3.8], \"z\": [0.03825136612021858]}, {\"hovertemplate\": \"<b>%{hovertext}</b><br><br>Full Name=Lando Norris<br>Win or Loss=lost<br>Total Races=%{x}<br>W/L Percent=%{marker.size}<br>W/L Ratio=%{z}<extra></extra>\", \"hovertext\": [\"Lando Norris\"], \"legendgroup\": \"Lando Norris, lost\", \"marker\": {\"color\": \"rgb(140,140,140)\", \"size\": [100.0], \"sizemode\": \"area\", \"sizeref\": 0.25, \"symbol\": \"circle\"}, \"mode\": \"markers\", \"name\": \"Lando Norris, lost\", \"scene\": \"scene\", \"showlegend\": true, \"type\": \"scatter3d\", \"x\": [33], \"y\": [100.0], \"z\": [1.0]}, {\"hovertemplate\": \"<b>%{hovertext}</b><br><br>Full Name=Lewis Hamilton<br>Win or Loss=lost<br>Total Races=%{x}<br>W/L Percent=%{marker.size}<br>W/L Ratio=%{z}<extra></extra>\", \"hovertext\": [\"Lewis Hamilton\"], \"legendgroup\": \"Lewis Hamilton, lost\", \"marker\": {\"color\": \"rgb(204,185,116)\", \"size\": [64.9], \"sizemode\": \"area\", \"sizeref\": 0.25, \"symbol\": \"circle\"}, \"mode\": \"markers\", \"name\": \"Lewis Hamilton, lost\", \"scene\": \"scene\", \"showlegend\": true, \"type\": \"scatter3d\", \"x\": [170], \"y\": [64.9], \"z\": [0.648854961832061]}, {\"hovertemplate\": \"<b>%{hovertext}</b><br><br>Full Name=Lewis Hamilton<br>Win or Loss=win<br>Total Races=%{x}<br>W/L Percent=%{marker.size}<br>W/L Ratio=%{z}<extra></extra>\", \"hovertext\": [\"Lewis Hamilton\"], \"legendgroup\": \"Lewis Hamilton, win\", \"marker\": {\"color\": \"rgb(204,185,116)\", \"size\": [35.1], \"sizemode\": \"area\", \"sizeref\": 0.25, \"symbol\": \"diamond\"}, \"mode\": \"markers\", \"name\": \"Lewis Hamilton, win\", \"scene\": \"scene\", \"showlegend\": true, \"type\": \"scatter3d\", \"x\": [92], \"y\": [35.1], \"z\": [0.3511450381679389]}, {\"hovertemplate\": \"<b>%{hovertext}</b><br><br>Full Name=Max Verstappen<br>Win or Loss=lost<br>Total Races=%{x}<br>W/L Percent=%{marker.size}<br>W/L Ratio=%{z}<extra></extra>\", \"hovertext\": [\"Max Verstappen\"], \"legendgroup\": \"Max Verstappen, lost\", \"marker\": {\"color\": \"rgb(100,181,205)\", \"size\": [92.1], \"sizemode\": \"area\", \"sizeref\": 0.25, \"symbol\": \"circle\"}, \"mode\": \"markers\", \"name\": \"Max Verstappen, lost\", \"scene\": \"scene\", \"showlegend\": true, \"type\": \"scatter3d\", \"x\": [105], \"y\": [92.1], \"z\": [0.9210526315789473]}, {\"hovertemplate\": \"<b>%{hovertext}</b><br><br>Full Name=Max Verstappen<br>Win or Loss=win<br>Total Races=%{x}<br>W/L Percent=%{marker.size}<br>W/L Ratio=%{z}<extra></extra>\", \"hovertext\": [\"Max Verstappen\"], \"legendgroup\": \"Max Verstappen, win\", \"marker\": {\"color\": \"rgb(100,181,205)\", \"size\": [7.9], \"sizemode\": \"area\", \"sizeref\": 0.25, \"symbol\": \"diamond\"}, \"mode\": \"markers\", \"name\": \"Max Verstappen, win\", \"scene\": \"scene\", \"showlegend\": true, \"type\": \"scatter3d\", \"x\": [9], \"y\": [7.9], \"z\": [0.07894736842105263]}, {\"hovertemplate\": \"<b>%{hovertext}</b><br><br>Full Name=Pierre Gasly<br>Win or Loss=lost<br>Total Races=%{x}<br>W/L Percent=%{marker.size}<br>W/L Ratio=%{z}<extra></extra>\", \"hovertext\": [\"Pierre Gasly\"], \"legendgroup\": \"Pierre Gasly, lost\", \"marker\": {\"color\": \"rgb(76,114,176)\", \"size\": [98.3], \"sizemode\": \"area\", \"sizeref\": 0.25, \"symbol\": \"circle\"}, \"mode\": \"markers\", \"name\": \"Pierre Gasly, lost\", \"scene\": \"scene\", \"showlegend\": true, \"type\": \"scatter3d\", \"x\": [58], \"y\": [98.3], \"z\": [0.9830508474576272]}, {\"hovertemplate\": \"<b>%{hovertext}</b><br><br>Full Name=Pierre Gasly<br>Win or Loss=win<br>Total Races=%{x}<br>W/L Percent=%{marker.size}<br>W/L Ratio=%{z}<extra></extra>\", \"hovertext\": [\"Pierre Gasly\"], \"legendgroup\": \"Pierre Gasly, win\", \"marker\": {\"color\": \"rgb(76,114,176)\", \"size\": [1.7], \"sizemode\": \"area\", \"sizeref\": 0.25, \"symbol\": \"diamond\"}, \"mode\": \"markers\", \"name\": \"Pierre Gasly, win\", \"scene\": \"scene\", \"showlegend\": true, \"type\": \"scatter3d\", \"x\": [1], \"y\": [1.7], \"z\": [0.01694915254237288]}, {\"hovertemplate\": \"<b>%{hovertext}</b><br><br>Full Name=Sergio P\\u00e9rez<br>Win or Loss=lost<br>Total Races=%{x}<br>W/L Percent=%{marker.size}<br>W/L Ratio=%{z}<extra></extra>\", \"hovertext\": [\"Sergio P\\u00e9rez\"], \"legendgroup\": \"Sergio P\\u00e9rez, lost\", \"marker\": {\"color\": \"rgb(221,132,82)\", \"size\": [100.0], \"sizemode\": \"area\", \"sizeref\": 0.25, \"symbol\": \"circle\"}, \"mode\": \"markers\", \"name\": \"Sergio P\\u00e9rez, lost\", \"scene\": \"scene\", \"showlegend\": true, \"type\": \"scatter3d\", \"x\": [188], \"y\": [100.0], \"z\": [1.0]}, {\"hovertemplate\": \"<b>%{hovertext}</b><br><br>Full Name=Valtteri Bottas<br>Win or Loss=lost<br>Total Races=%{x}<br>W/L Percent=%{marker.size}<br>W/L Ratio=%{z}<extra></extra>\", \"hovertext\": [\"Valtteri Bottas\"], \"legendgroup\": \"Valtteri Bottas, lost\", \"marker\": {\"color\": \"rgb(85,168,104)\", \"size\": [94.1], \"sizemode\": \"area\", \"sizeref\": 0.25, \"symbol\": \"circle\"}, \"mode\": \"markers\", \"name\": \"Valtteri Bottas, lost\", \"scene\": \"scene\", \"showlegend\": true, \"type\": \"scatter3d\", \"x\": [143], \"y\": [94.1], \"z\": [0.9407894736842105]}, {\"hovertemplate\": \"<b>%{hovertext}</b><br><br>Full Name=Valtteri Bottas<br>Win or Loss=win<br>Total Races=%{x}<br>W/L Percent=%{marker.size}<br>W/L Ratio=%{z}<extra></extra>\", \"hovertext\": [\"Valtteri Bottas\"], \"legendgroup\": \"Valtteri Bottas, win\", \"marker\": {\"color\": \"rgb(85,168,104)\", \"size\": [5.9], \"sizemode\": \"area\", \"sizeref\": 0.25, \"symbol\": \"diamond\"}, \"mode\": \"markers\", \"name\": \"Valtteri Bottas, win\", \"scene\": \"scene\", \"showlegend\": true, \"type\": \"scatter3d\", \"x\": [9], \"y\": [5.9], \"z\": [0.05921052631578947]}],                        {\"legend\": {\"itemsizing\": \"constant\", \"title\": {\"text\": \"Full Name, Win or Loss\"}, \"tracegroupgap\": 0}, \"margin\": {\"t\": 60}, \"scene\": {\"domain\": {\"x\": [0.0, 1.0], \"y\": [0.0, 1.0]}, \"xaxis\": {\"title\": {\"text\": \"Total Races\"}}, \"yaxis\": {\"title\": {\"text\": \"W/L Percent\"}}, \"zaxis\": {\"title\": {\"text\": \"W/L Ratio\"}}}, \"template\": {\"data\": {\"bar\": [{\"error_x\": {\"color\": \"rgb(36,36,36)\"}, \"error_y\": {\"color\": \"rgb(36,36,36)\"}, \"marker\": {\"line\": {\"color\": \"rgb(234,234,242)\", \"width\": 0.5}}, \"type\": \"bar\"}], \"barpolar\": [{\"marker\": {\"line\": {\"color\": \"rgb(234,234,242)\", \"width\": 0.5}}, \"type\": \"barpolar\"}], \"carpet\": [{\"aaxis\": {\"endlinecolor\": \"rgb(36,36,36)\", \"gridcolor\": \"white\", \"linecolor\": \"white\", \"minorgridcolor\": \"white\", \"startlinecolor\": \"rgb(36,36,36)\"}, \"baxis\": {\"endlinecolor\": \"rgb(36,36,36)\", \"gridcolor\": \"white\", \"linecolor\": \"white\", \"minorgridcolor\": \"white\", \"startlinecolor\": \"rgb(36,36,36)\"}, \"type\": \"carpet\"}], \"choropleth\": [{\"colorbar\": {\"outlinewidth\": 0, \"tickcolor\": \"rgb(36,36,36)\", \"ticklen\": 8, \"ticks\": \"outside\", \"tickwidth\": 2}, \"type\": \"choropleth\"}], \"contour\": [{\"colorbar\": {\"outlinewidth\": 0, \"tickcolor\": \"rgb(36,36,36)\", \"ticklen\": 8, \"ticks\": \"outside\", \"tickwidth\": 2}, \"colorscale\": [[0.0, \"rgb(2,4,25)\"], [0.06274509803921569, \"rgb(24,15,41)\"], [0.12549019607843137, \"rgb(47,23,57)\"], [0.18823529411764706, \"rgb(71,28,72)\"], [0.25098039215686274, \"rgb(97,30,82)\"], [0.3137254901960784, \"rgb(123,30,89)\"], [0.3764705882352941, \"rgb(150,27,91)\"], [0.4392156862745098, \"rgb(177,22,88)\"], [0.5019607843137255, \"rgb(203,26,79)\"], [0.5647058823529412, \"rgb(223,47,67)\"], [0.6274509803921569, \"rgb(236,76,61)\"], [0.6901960784313725, \"rgb(242,107,73)\"], [0.7529411764705882, \"rgb(244,135,95)\"], [0.8156862745098039, \"rgb(245,162,122)\"], [0.8784313725490196, \"rgb(246,188,153)\"], [0.9411764705882353, \"rgb(247,212,187)\"], [1.0, \"rgb(250,234,220)\"]], \"type\": \"contour\"}], \"contourcarpet\": [{\"colorbar\": {\"outlinewidth\": 0, \"tickcolor\": \"rgb(36,36,36)\", \"ticklen\": 8, \"ticks\": \"outside\", \"tickwidth\": 2}, \"type\": \"contourcarpet\"}], \"heatmap\": [{\"colorbar\": {\"outlinewidth\": 0, \"tickcolor\": \"rgb(36,36,36)\", \"ticklen\": 8, \"ticks\": \"outside\", \"tickwidth\": 2}, \"colorscale\": [[0.0, \"rgb(2,4,25)\"], [0.06274509803921569, \"rgb(24,15,41)\"], [0.12549019607843137, \"rgb(47,23,57)\"], [0.18823529411764706, \"rgb(71,28,72)\"], [0.25098039215686274, \"rgb(97,30,82)\"], [0.3137254901960784, \"rgb(123,30,89)\"], [0.3764705882352941, \"rgb(150,27,91)\"], [0.4392156862745098, \"rgb(177,22,88)\"], [0.5019607843137255, \"rgb(203,26,79)\"], [0.5647058823529412, \"rgb(223,47,67)\"], [0.6274509803921569, \"rgb(236,76,61)\"], [0.6901960784313725, \"rgb(242,107,73)\"], [0.7529411764705882, \"rgb(244,135,95)\"], [0.8156862745098039, \"rgb(245,162,122)\"], [0.8784313725490196, \"rgb(246,188,153)\"], [0.9411764705882353, \"rgb(247,212,187)\"], [1.0, \"rgb(250,234,220)\"]], \"type\": \"heatmap\"}], \"heatmapgl\": [{\"colorbar\": {\"outlinewidth\": 0, \"tickcolor\": \"rgb(36,36,36)\", \"ticklen\": 8, \"ticks\": \"outside\", \"tickwidth\": 2}, \"colorscale\": [[0.0, \"rgb(2,4,25)\"], [0.06274509803921569, \"rgb(24,15,41)\"], [0.12549019607843137, \"rgb(47,23,57)\"], [0.18823529411764706, \"rgb(71,28,72)\"], [0.25098039215686274, \"rgb(97,30,82)\"], [0.3137254901960784, \"rgb(123,30,89)\"], [0.3764705882352941, \"rgb(150,27,91)\"], [0.4392156862745098, \"rgb(177,22,88)\"], [0.5019607843137255, \"rgb(203,26,79)\"], [0.5647058823529412, \"rgb(223,47,67)\"], [0.6274509803921569, \"rgb(236,76,61)\"], [0.6901960784313725, \"rgb(242,107,73)\"], [0.7529411764705882, \"rgb(244,135,95)\"], [0.8156862745098039, \"rgb(245,162,122)\"], [0.8784313725490196, \"rgb(246,188,153)\"], [0.9411764705882353, \"rgb(247,212,187)\"], [1.0, \"rgb(250,234,220)\"]], \"type\": \"heatmapgl\"}], \"histogram\": [{\"marker\": {\"colorbar\": {\"outlinewidth\": 0, \"tickcolor\": \"rgb(36,36,36)\", \"ticklen\": 8, \"ticks\": \"outside\", \"tickwidth\": 2}}, \"type\": \"histogram\"}], \"histogram2d\": [{\"colorbar\": {\"outlinewidth\": 0, \"tickcolor\": \"rgb(36,36,36)\", \"ticklen\": 8, \"ticks\": \"outside\", \"tickwidth\": 2}, \"colorscale\": [[0.0, \"rgb(2,4,25)\"], [0.06274509803921569, \"rgb(24,15,41)\"], [0.12549019607843137, \"rgb(47,23,57)\"], [0.18823529411764706, \"rgb(71,28,72)\"], [0.25098039215686274, \"rgb(97,30,82)\"], [0.3137254901960784, \"rgb(123,30,89)\"], [0.3764705882352941, \"rgb(150,27,91)\"], [0.4392156862745098, \"rgb(177,22,88)\"], [0.5019607843137255, \"rgb(203,26,79)\"], [0.5647058823529412, \"rgb(223,47,67)\"], [0.6274509803921569, \"rgb(236,76,61)\"], [0.6901960784313725, \"rgb(242,107,73)\"], [0.7529411764705882, \"rgb(244,135,95)\"], [0.8156862745098039, \"rgb(245,162,122)\"], [0.8784313725490196, \"rgb(246,188,153)\"], [0.9411764705882353, \"rgb(247,212,187)\"], [1.0, \"rgb(250,234,220)\"]], \"type\": \"histogram2d\"}], \"histogram2dcontour\": [{\"colorbar\": {\"outlinewidth\": 0, \"tickcolor\": \"rgb(36,36,36)\", \"ticklen\": 8, \"ticks\": \"outside\", \"tickwidth\": 2}, \"colorscale\": [[0.0, \"rgb(2,4,25)\"], [0.06274509803921569, \"rgb(24,15,41)\"], [0.12549019607843137, \"rgb(47,23,57)\"], [0.18823529411764706, \"rgb(71,28,72)\"], [0.25098039215686274, \"rgb(97,30,82)\"], [0.3137254901960784, \"rgb(123,30,89)\"], [0.3764705882352941, \"rgb(150,27,91)\"], [0.4392156862745098, \"rgb(177,22,88)\"], [0.5019607843137255, \"rgb(203,26,79)\"], [0.5647058823529412, \"rgb(223,47,67)\"], [0.6274509803921569, \"rgb(236,76,61)\"], [0.6901960784313725, \"rgb(242,107,73)\"], [0.7529411764705882, \"rgb(244,135,95)\"], [0.8156862745098039, \"rgb(245,162,122)\"], [0.8784313725490196, \"rgb(246,188,153)\"], [0.9411764705882353, \"rgb(247,212,187)\"], [1.0, \"rgb(250,234,220)\"]], \"type\": \"histogram2dcontour\"}], \"mesh3d\": [{\"colorbar\": {\"outlinewidth\": 0, \"tickcolor\": \"rgb(36,36,36)\", \"ticklen\": 8, \"ticks\": \"outside\", \"tickwidth\": 2}, \"type\": \"mesh3d\"}], \"parcoords\": [{\"line\": {\"colorbar\": {\"outlinewidth\": 0, \"tickcolor\": \"rgb(36,36,36)\", \"ticklen\": 8, \"ticks\": \"outside\", \"tickwidth\": 2}}, \"type\": \"parcoords\"}], \"pie\": [{\"automargin\": true, \"type\": \"pie\"}], \"scatter\": [{\"marker\": {\"colorbar\": {\"outlinewidth\": 0, \"tickcolor\": \"rgb(36,36,36)\", \"ticklen\": 8, \"ticks\": \"outside\", \"tickwidth\": 2}}, \"type\": \"scatter\"}], \"scatter3d\": [{\"line\": {\"colorbar\": {\"outlinewidth\": 0, \"tickcolor\": \"rgb(36,36,36)\", \"ticklen\": 8, \"ticks\": \"outside\", \"tickwidth\": 2}}, \"marker\": {\"colorbar\": {\"outlinewidth\": 0, \"tickcolor\": \"rgb(36,36,36)\", \"ticklen\": 8, \"ticks\": \"outside\", \"tickwidth\": 2}}, \"type\": \"scatter3d\"}], \"scattercarpet\": [{\"marker\": {\"colorbar\": {\"outlinewidth\": 0, \"tickcolor\": \"rgb(36,36,36)\", \"ticklen\": 8, \"ticks\": \"outside\", \"tickwidth\": 2}}, \"type\": \"scattercarpet\"}], \"scattergeo\": [{\"marker\": {\"colorbar\": {\"outlinewidth\": 0, \"tickcolor\": \"rgb(36,36,36)\", \"ticklen\": 8, \"ticks\": \"outside\", \"tickwidth\": 2}}, \"type\": \"scattergeo\"}], \"scattergl\": [{\"marker\": {\"colorbar\": {\"outlinewidth\": 0, \"tickcolor\": \"rgb(36,36,36)\", \"ticklen\": 8, \"ticks\": \"outside\", \"tickwidth\": 2}}, \"type\": \"scattergl\"}], \"scattermapbox\": [{\"marker\": {\"colorbar\": {\"outlinewidth\": 0, \"tickcolor\": \"rgb(36,36,36)\", \"ticklen\": 8, \"ticks\": \"outside\", \"tickwidth\": 2}}, \"type\": \"scattermapbox\"}], \"scatterpolar\": [{\"marker\": {\"colorbar\": {\"outlinewidth\": 0, \"tickcolor\": \"rgb(36,36,36)\", \"ticklen\": 8, \"ticks\": \"outside\", \"tickwidth\": 2}}, \"type\": \"scatterpolar\"}], \"scatterpolargl\": [{\"marker\": {\"colorbar\": {\"outlinewidth\": 0, \"tickcolor\": \"rgb(36,36,36)\", \"ticklen\": 8, \"ticks\": \"outside\", \"tickwidth\": 2}}, \"type\": \"scatterpolargl\"}], \"scatterternary\": [{\"marker\": {\"colorbar\": {\"outlinewidth\": 0, \"tickcolor\": \"rgb(36,36,36)\", \"ticklen\": 8, \"ticks\": \"outside\", \"tickwidth\": 2}}, \"type\": \"scatterternary\"}], \"surface\": [{\"colorbar\": {\"outlinewidth\": 0, \"tickcolor\": \"rgb(36,36,36)\", \"ticklen\": 8, \"ticks\": \"outside\", \"tickwidth\": 2}, \"colorscale\": [[0.0, \"rgb(2,4,25)\"], [0.06274509803921569, \"rgb(24,15,41)\"], [0.12549019607843137, \"rgb(47,23,57)\"], [0.18823529411764706, \"rgb(71,28,72)\"], [0.25098039215686274, \"rgb(97,30,82)\"], [0.3137254901960784, \"rgb(123,30,89)\"], [0.3764705882352941, \"rgb(150,27,91)\"], [0.4392156862745098, \"rgb(177,22,88)\"], [0.5019607843137255, \"rgb(203,26,79)\"], [0.5647058823529412, \"rgb(223,47,67)\"], [0.6274509803921569, \"rgb(236,76,61)\"], [0.6901960784313725, \"rgb(242,107,73)\"], [0.7529411764705882, \"rgb(244,135,95)\"], [0.8156862745098039, \"rgb(245,162,122)\"], [0.8784313725490196, \"rgb(246,188,153)\"], [0.9411764705882353, \"rgb(247,212,187)\"], [1.0, \"rgb(250,234,220)\"]], \"type\": \"surface\"}], \"table\": [{\"cells\": {\"fill\": {\"color\": \"rgb(231,231,240)\"}, \"line\": {\"color\": \"white\"}}, \"header\": {\"fill\": {\"color\": \"rgb(183,183,191)\"}, \"line\": {\"color\": \"white\"}}, \"type\": \"table\"}]}, \"layout\": {\"annotationdefaults\": {\"arrowcolor\": \"rgb(67,103,167)\"}, \"coloraxis\": {\"colorbar\": {\"outlinewidth\": 0, \"tickcolor\": \"rgb(36,36,36)\", \"ticklen\": 8, \"ticks\": \"outside\", \"tickwidth\": 2}}, \"colorscale\": {\"sequential\": [[0.0, \"rgb(2,4,25)\"], [0.06274509803921569, \"rgb(24,15,41)\"], [0.12549019607843137, \"rgb(47,23,57)\"], [0.18823529411764706, \"rgb(71,28,72)\"], [0.25098039215686274, \"rgb(97,30,82)\"], [0.3137254901960784, \"rgb(123,30,89)\"], [0.3764705882352941, \"rgb(150,27,91)\"], [0.4392156862745098, \"rgb(177,22,88)\"], [0.5019607843137255, \"rgb(203,26,79)\"], [0.5647058823529412, \"rgb(223,47,67)\"], [0.6274509803921569, \"rgb(236,76,61)\"], [0.6901960784313725, \"rgb(242,107,73)\"], [0.7529411764705882, \"rgb(244,135,95)\"], [0.8156862745098039, \"rgb(245,162,122)\"], [0.8784313725490196, \"rgb(246,188,153)\"], [0.9411764705882353, \"rgb(247,212,187)\"], [1.0, \"rgb(250,234,220)\"]], \"sequentialminus\": [[0.0, \"rgb(2,4,25)\"], [0.06274509803921569, \"rgb(24,15,41)\"], [0.12549019607843137, \"rgb(47,23,57)\"], [0.18823529411764706, \"rgb(71,28,72)\"], [0.25098039215686274, \"rgb(97,30,82)\"], [0.3137254901960784, \"rgb(123,30,89)\"], [0.3764705882352941, \"rgb(150,27,91)\"], [0.4392156862745098, \"rgb(177,22,88)\"], [0.5019607843137255, \"rgb(203,26,79)\"], [0.5647058823529412, \"rgb(223,47,67)\"], [0.6274509803921569, \"rgb(236,76,61)\"], [0.6901960784313725, \"rgb(242,107,73)\"], [0.7529411764705882, \"rgb(244,135,95)\"], [0.8156862745098039, \"rgb(245,162,122)\"], [0.8784313725490196, \"rgb(246,188,153)\"], [0.9411764705882353, \"rgb(247,212,187)\"], [1.0, \"rgb(250,234,220)\"]]}, \"colorway\": [\"rgb(76,114,176)\", \"rgb(221,132,82)\", \"rgb(85,168,104)\", \"rgb(196,78,82)\", \"rgb(129,114,179)\", \"rgb(147,120,96)\", \"rgb(218,139,195)\", \"rgb(140,140,140)\", \"rgb(204,185,116)\", \"rgb(100,181,205)\"], \"font\": {\"color\": \"rgb(36,36,36)\"}, \"geo\": {\"bgcolor\": \"white\", \"lakecolor\": \"white\", \"landcolor\": \"rgb(234,234,242)\", \"showlakes\": true, \"showland\": true, \"subunitcolor\": \"white\"}, \"hoverlabel\": {\"align\": \"left\"}, \"hovermode\": \"closest\", \"paper_bgcolor\": \"white\", \"plot_bgcolor\": \"rgb(234,234,242)\", \"polar\": {\"angularaxis\": {\"gridcolor\": \"white\", \"linecolor\": \"white\", \"showgrid\": true, \"ticks\": \"\"}, \"bgcolor\": \"rgb(234,234,242)\", \"radialaxis\": {\"gridcolor\": \"white\", \"linecolor\": \"white\", \"showgrid\": true, \"ticks\": \"\"}}, \"scene\": {\"xaxis\": {\"backgroundcolor\": \"rgb(234,234,242)\", \"gridcolor\": \"white\", \"gridwidth\": 2, \"linecolor\": \"white\", \"showbackground\": true, \"showgrid\": true, \"ticks\": \"\", \"zerolinecolor\": \"white\"}, \"yaxis\": {\"backgroundcolor\": \"rgb(234,234,242)\", \"gridcolor\": \"white\", \"gridwidth\": 2, \"linecolor\": \"white\", \"showbackground\": true, \"showgrid\": true, \"ticks\": \"\", \"zerolinecolor\": \"white\"}, \"zaxis\": {\"backgroundcolor\": \"rgb(234,234,242)\", \"gridcolor\": \"white\", \"gridwidth\": 2, \"linecolor\": \"white\", \"showbackground\": true, \"showgrid\": true, \"ticks\": \"\", \"zerolinecolor\": \"white\"}}, \"shapedefaults\": {\"fillcolor\": \"rgb(67,103,167)\", \"line\": {\"width\": 0}, \"opacity\": 0.5}, \"ternary\": {\"aaxis\": {\"gridcolor\": \"white\", \"linecolor\": \"white\", \"showgrid\": true, \"ticks\": \"\"}, \"baxis\": {\"gridcolor\": \"white\", \"linecolor\": \"white\", \"showgrid\": true, \"ticks\": \"\"}, \"bgcolor\": \"rgb(234,234,242)\", \"caxis\": {\"gridcolor\": \"white\", \"linecolor\": \"white\", \"showgrid\": true, \"ticks\": \"\"}}, \"xaxis\": {\"automargin\": true, \"gridcolor\": \"white\", \"linecolor\": \"white\", \"showgrid\": true, \"ticks\": \"\", \"title\": {\"standoff\": 15}, \"zerolinecolor\": \"white\"}, \"yaxis\": {\"automargin\": true, \"gridcolor\": \"white\", \"linecolor\": \"white\", \"showgrid\": true, \"ticks\": \"\", \"title\": {\"standoff\": 15}, \"zerolinecolor\": \"white\"}}}},                        {\"responsive\": true}                    ).then(function(){\n",
       "                            \n",
       "var gd = document.getElementById('4cda161e-0770-4232-a420-3ac287dd9df5');\n",
       "var x = new MutationObserver(function (mutations, observer) {{\n",
       "        var display = window.getComputedStyle(gd).display;\n",
       "        if (!display || display === 'none') {{\n",
       "            console.log([gd, 'removed!']);\n",
       "            Plotly.purge(gd);\n",
       "            observer.disconnect();\n",
       "        }}\n",
       "}});\n",
       "\n",
       "// Listen for the removal of the full notebook cells\n",
       "var notebookContainer = gd.closest('#notebook-container');\n",
       "if (notebookContainer) {{\n",
       "    x.observe(notebookContainer, {childList: true});\n",
       "}}\n",
       "\n",
       "// Listen for the clearing of the current output cell\n",
       "var outputEl = gd.closest('.output');\n",
       "if (outputEl) {{\n",
       "    x.observe(outputEl, {childList: true});\n",
       "}}\n",
       "\n",
       "                        })                };                });            </script>        </div>"
      ]
     },
     "metadata": {},
     "output_type": "display_data"
    },
    {
     "data": {
      "text/plain": [
       "'https://plotly.com/~dgustave/7/'"
      ]
     },
     "execution_count": 112,
     "metadata": {},
     "output_type": "execute_result"
    }
   ],
   "source": [
    "fig3 = px.scatter_3d(rank_ratio, x=\"Total Races\", y=\"W/L Percent\", z=\"W/L Ratio\", color=\"Full Name\", size=\"W/L Percent\", hover_name=\"Full Name\",\n",
    "                  symbol=\"Win or Loss\", template=\"seaborn\", color_discrete_map = {\"W/L Percent\": \"red\", \"W/L Ratio\": \"purple\", \"Total Races\":\"blue\"})\n",
    "fig3.show()\n",
    "csp.plot(fig3, filename = 'Win and Loss Percentages', auto_open=True)"
   ]
  },
  {
   "cell_type": "markdown",
   "metadata": {},
   "source": [
    "<div class=\"alert alert-block alert-danger\">\n",
    "    <b>Formula 1 Ranking Method:</b> An algorithm called the Massey’s method (a form of linear regression) is one of the core models behind the Insight. Fastest Driver uses Massey’s method to rank drivers by solving for a set of linear equations, where each driver’s rating is calculated as their average lap time difference against teammates. Additionally, when comparing ratings of teammates, the model uses features like driver strength of schedule normalized by the number of interactions with the driver. Overall, the model places high rankings to drivers who perform extraordinarily well against their teammates or perform well against strong opponents. https://aws.amazon.com/blogs/machine-learning/the-fastest-driver-in-formula-1/\n",
    "</div>\n"
   ]
  },
  {
   "cell_type": "code",
   "execution_count": null,
   "metadata": {},
   "outputs": [],
   "source": [
    "# delta_df = pd.read_csv('../data/processed/rank_results.csv')\n",
    "# delta_df"
   ]
  },
  {
   "cell_type": "code",
   "execution_count": null,
   "metadata": {},
   "outputs": [],
   "source": [
    "# delta_df['Driver 1'] = delta_df['number']\n",
    "# delta_df['Driver 1 Average Lap Time'] = delta_df['Average Lap Time']\n",
    "# delta_df.rename(columns = {'number':'Driver 2'}, inplace = True)\n",
    "# delta_df.rename(columns = {'Average Lap Time':'Driver 2 Average Lap Time'}, inplace = True)\n",
    "# delta_df"
   ]
  },
  {
   "cell_type": "code",
   "execution_count": null,
   "metadata": {},
   "outputs": [],
   "source": [
    "# matrix_df = delta_df.loc[:,['Driver 1', 'Driver 1 Average Lap Time', 'Driver 2', 'Driver 2 Average Lap Time']]\n",
    "# matrix_df"
   ]
  },
  {
   "cell_type": "code",
   "execution_count": 80,
   "metadata": {},
   "outputs": [],
   "source": [
    "# #example data comparing five drivers\n",
    "data = pd.DataFrame([[1, 0, 85, 90], \n",
    "                    [2, 1, 90, 85],\n",
    "                    [3, 2, 91, 90],\n",
    "                    [4, 6, 85, 91],                    \n",
    "                    [5, 4, 86, 91],\n",
    "                    [6, 5, 85, 86],\n",
    "                    [7, 3, 91, 85],\n",
    "                    [8, 7, 88, 85],\n",
    "                    [9, 8, 86, 88],\n",
    "                    [0, 9, 90, 88]], columns=['Driver1', 'Driver2', 'Driver1_laptime', 'Driver2_laptime'])\n",
    "                           "
   ]
  },
  {
   "cell_type": "code",
   "execution_count": null,
   "metadata": {},
   "outputs": [],
   "source": []
  },
  {
   "cell_type": "code",
   "execution_count": 81,
   "metadata": {},
   "outputs": [],
   "source": [
    "# master_df[master_df['driverId'] == 1]\n",
    "# iterate through every other race. \n",
    "# 1 for loop for driver and nest driver 2\n",
    "# unique list of driver and race id\n",
    "# outer loop race id\n",
    "# inner loop \n",
    "\n",
    "# when race id = that driver is\n",
    "\n",
    "# race_l = #unique race id for each race in df\n",
    "# driver_l = #unique driver id for each drier in df\n",
    "# driver_d = {'d1':0, 'd2':0}\n",
    "\n",
    "# for r in race_l:\n",
    "#     for d1 in driver_l:\n",
    "#         result = 0\n",
    "#         for d2 in driver_l:\n",
    "#             temp = df.loc[df[raceid]==r]&&df[driverid]=d1] - df.loc[df[raceid]==r]&&df[driverid]=d2]\n",
    "#             result = result + temp\n",
    "#         driver_d[d1] = driver_d[d1] + result\n",
    "            "
   ]
  },
  {
   "cell_type": "code",
   "execution_count": 82,
   "metadata": {},
   "outputs": [
    {
     "name": "stdout",
     "output_type": "stream",
     "text": [
      "   Driver  massey_new\n",
      "0       1    0.000000\n",
      "1       7    2.000000\n",
      "2       3    4.000000\n",
      "3       5    4.666667\n",
      "4       9    5.000000\n",
      "5       0    5.000000\n",
      "6       4    5.666667\n",
      "7       8    7.000000\n",
      "8       2    7.000000\n",
      "9       6    7.666667\n"
     ]
    }
   ],
   "source": [
    "def init_linear_regressor_matrix(data, num_of_drivers, col_to_rank):\n",
    "    \n",
    "    \"\"\"initialize linear system matrix for regression\"\"\"\n",
    "    wins = np.zeros((data.shape[0], num_of_drivers))\n",
    "    score_diff = np.zeros(data.shape[0])\n",
    "\n",
    "    for index, row in data.iterrows():\n",
    "        idx1 = row[\"Driver1\"]\n",
    "        idx2 = row[\"Driver2\"]\n",
    "        if row['Driver1_laptime'] - row['Driver2_laptime'] > 0:\n",
    "            wins[(index)][(idx1)] = -1\n",
    "            wins[(index)][(idx2)] = 1\n",
    "            score_diff[(index)] = row['Driver1_laptime'] - row['Driver2_laptime']\n",
    "        else:\n",
    "            wins[(index)][(idx1)] = 1\n",
    "        wins[(index)][(idx2)] = -1\n",
    "        score_diff[(index)] = row['Driver2_laptime'] - row['Driver1_laptime']\n",
    "    wins_df = pd.DataFrame(wins)\n",
    "    wins_df[col_to_rank] = score_diff\n",
    "    return wins_df \n",
    "\n",
    "def massey(data, num_of_drivers, col_to_rank='delta'):\n",
    "    \"\"\"Compute for each driver, adjacency matrix and aggregated scores, as input to the Massey Model\"\"\"\n",
    "\n",
    "    wins_df = init_linear_regressor_matrix(data, num_of_drivers, col_to_rank)\n",
    "    model = sm.OLS(\n",
    "           wins_df[col_to_rank], wins_df.drop(columns=[col_to_rank])\n",
    "       )\n",
    "    results = model.fit(cov_type='HC1')\n",
    "    rankings = pd.DataFrame(results.params)\n",
    "    rankings['std'] = np.sqrt(np.diag(results.cov_params()))\n",
    "    rankings['consistency'] = (norm.ppf(0.9)-norm.ppf(0.1))*rankings['std']\n",
    "    rankings = (\n",
    "         rankings\n",
    "         .sort_values(by=0, ascending=False)\n",
    "         .reset_index()\n",
    "         .rename(columns={\"index\": \"Driver\", 0: \"massey\"})\n",
    "     )\n",
    "    rankings = rankings.sort_values(by=[\"massey\"], ascending=False)\n",
    "    rankings[\"massey_new\"] = rankings[\"massey\"].max() - rankings[\"massey\"]\n",
    "    return rankings[['Driver', 'massey_new']]\n",
    "\n",
    "rankings = massey(data, 10)\n",
    "print(rankings)\n"
   ]
  },
  {
   "cell_type": "code",
   "execution_count": null,
   "metadata": {},
   "outputs": [],
   "source": [
    "# import plotly.express as px\n",
    "# fig = px.scatter(driver_avg_df, x=\"fastestLapTime\", y=\"fastestLap\", color=\"full name\", marginal_y=\"violin\",\n",
    "#            marginal_x=\"box\", trendline=\"ols\", template=\"simple_white\")\n",
    "# fig.show()\n",
    "# fig = px.scatter(master_df, x=\"fastestLapTime\", y=\"fastestLap\", color=\"full name\", trendline=\"ols\")\n",
    "# fig.show()\n",
    "\n",
    "# results = px.get_trendline_results(fig)\n",
    "# print(results)\n",
    "\n",
    "# # results.query(\"sex == 'Male' and smoker == 'Yes'\").px_fit_results.iloc[0].summary()"
   ]
  },
  {
   "cell_type": "code",
   "execution_count": null,
   "metadata": {},
   "outputs": [],
   "source": []
  }
 ],
 "metadata": {
  "kernelspec": {
   "display_name": "Python 3",
   "language": "python",
   "name": "python3"
  },
  "language_info": {
   "codemirror_mode": {
    "name": "ipython",
    "version": 3
   },
   "file_extension": ".py",
   "mimetype": "text/x-python",
   "name": "python",
   "nbconvert_exporter": "python",
   "pygments_lexer": "ipython3",
   "version": "3.8.5"
  }
 },
 "nbformat": 4,
 "nbformat_minor": 4
}
