{
 "cells": [
  {
   "cell_type": "code",
   "execution_count": null,
   "metadata": {},
   "outputs": [],
   "source": [
    "import python library OpenCV ::: import cv2"
   ]
  },
  {
   "cell_type": "code",
   "execution_count": null,
   "metadata": {},
   "outputs": [],
   "source": [
    "## STEP 2"
   ]
  },
  {
   "cell_type": "code",
   "execution_count": null,
   "metadata": {},
   "outputs": [],
   "source": [
    "Capture frames from a video\n",
    "Use the ## VideoCapture of cv2 and store the value in cap.\n",
    "\n",
    "cap = cv2.VideoCapture('cars.mp4')"
   ]
  },
  {
   "cell_type": "code",
   "execution_count": null,
   "metadata": {},
   "outputs": [],
   "source": [
    "## STEP 3"
   ]
  },
  {
   "cell_type": "code",
   "execution_count": null,
   "metadata": {},
   "outputs": [],
   "source": [
    "# Create our body classifier\n",
    "# Trained XML classifiers describes some features of some object we want to detect.\n",
    "car_cascade = cv2.CascadeClassifier('cars.xml')"
   ]
  },
  {
   "cell_type": "code",
   "execution_count": null,
   "metadata": {},
   "outputs": [],
   "source": [
    "# STEP 4"
   ]
  },
  {
   "cell_type": "code",
   "execution_count": null,
   "metadata": {},
   "outputs": [],
   "source": [
    "# These steps are very important for buiding the model\n",
    "# Running loop to detect McLearn\n",
    "while True:\n",
    "\n",
    "   ret,frames = cap.read()                   #reads frames from a video\n",
    "\n",
    "    gray = cv2.cvtColor(frames,cv2.COLOR_BGR2GRAY)`        # convert to gray scale of each frames\n",
    "\n",
    "    `cars = car_cascade.detectMultiScale(gray, 1.1, 1)`        #Detect cars of different sizes in the input image.\n",
    "\n",
    "       for (x,y,w,h) in cars:\n",
    "\n",
    "                  `cv2.rectangle(frames, (x,y), (x+w,y+h),(0,0,255),2)`        # To draw a rectangle\n",
    "\n",
    "                  `cv2.imshow('car detection' , frames)`               #display frames in a window\n",
    "\n",
    "\n",
    "        if cv2.waitKey(33)==13:          # Wait for the Enter Key to stop\n",
    "            break"
   ]
  }
 ],
 "metadata": {
  "kernelspec": {
   "display_name": "Python 3",
   "language": "python",
   "name": "python3"
  },
  "language_info": {
   "codemirror_mode": {
    "name": "ipython",
    "version": 3
   },
   "file_extension": ".py",
   "mimetype": "text/x-python",
   "name": "python",
   "nbconvert_exporter": "python",
   "pygments_lexer": "ipython3",
   "version": "3.7.6"
  }
 },
 "nbformat": 4,
 "nbformat_minor": 4
}
